{
  "nbformat": 4,
  "nbformat_minor": 0,
  "metadata": {
    "colab": {
      "name": "Projeto1_Preparacao_dos_dados.ipynb",
      "provenance": [],
      "toc_visible": true,
      "include_colab_link": true
    },
    "kernelspec": {
      "name": "python3",
      "display_name": "Python 3"
    }
  },
  "cells": [
    {
      "cell_type": "markdown",
      "metadata": {
        "id": "view-in-github",
        "colab_type": "text"
      },
      "source": [
        "<a href=\"https://colab.research.google.com/github/Brenoslivio/SME0828_DataScience/blob/master/Projects/1%20-%20Prepara%C3%A7%C3%A3o%20dos%20dados/Projeto1_Preparacao_dos_dados.ipynb\" target=\"_parent\"><img src=\"https://colab.research.google.com/assets/colab-badge.svg\" alt=\"Open In Colab\"/></a>"
      ]
    },
    {
      "cell_type": "markdown",
      "metadata": {
        "id": "LJ7wNY4Uefh6",
        "colab_type": "text"
      },
      "source": [
        "# SME0828 - Introdução à Ciência de Dados\n",
        "# Projeto 1: Preparação e transformação dos dados"
      ]
    },
    {
      "cell_type": "markdown",
      "metadata": {
        "id": "fscDWzEee1hv",
        "colab_type": "text"
      },
      "source": [
        "###Alunos\n",
        "\n",
        "Aline Fernanda da Conceição, Nº USP: 9437275\n",
        "\n",
        "Breno Lívio Silva de Almeida, Nº USP: 10276675\n",
        "\n",
        "Matheus Victal Cerqueira, Nº USP: 10276661\n",
        "\n",
        "***Universidade de São Paulo, São Carlos, Brasil.***"
      ]
    },
    {
      "cell_type": "markdown",
      "metadata": {
        "id": "CHl-yeiA89Ho",
        "colab_type": "text"
      },
      "source": [
        "## Desenvolvimento"
      ]
    },
    {
      "cell_type": "markdown",
      "metadata": {
        "id": "k2CbVpLG89Hp",
        "colab_type": "text"
      },
      "source": [
        "1 - Leia os dados com erro novamente, faça a limpeza e remova as duas últimas colunas."
      ]
    },
    {
      "cell_type": "code",
      "metadata": {
        "id": "rbOn_1sxgR-W",
        "colab_type": "code",
        "colab": {}
      },
      "source": [
        ""
      ],
      "execution_count": null,
      "outputs": []
    },
    {
      "cell_type": "markdown",
      "metadata": {
        "id": "B3bSsUwg89Hq",
        "colab_type": "text"
      },
      "source": [
        "2 - Leia os dados com erro novamente e insira a mediana de cada atributo onde for encontrada NaN."
      ]
    },
    {
      "cell_type": "code",
      "metadata": {
        "id": "fHEY5afngTbx",
        "colab_type": "code",
        "colab": {}
      },
      "source": [
        ""
      ],
      "execution_count": null,
      "outputs": []
    },
    {
      "cell_type": "markdown",
      "metadata": {
        "id": "IR759diV89Hq",
        "colab_type": "text"
      },
      "source": [
        "3 - Conside os dados da Iris e mostre a distribuição de probabilidades de cada uma das variáveis após a normalização e padronização."
      ]
    },
    {
      "cell_type": "code",
      "metadata": {
        "id": "1wjpefVmgUAi",
        "colab_type": "code",
        "colab": {}
      },
      "source": [
        ""
      ],
      "execution_count": null,
      "outputs": []
    },
    {
      "cell_type": "markdown",
      "metadata": {
        "id": "TQnWNm4289Hr",
        "colab_type": "text"
      },
      "source": [
        "4 - Reamostre os dados da Iris e selecione 10 elementos em cada classe."
      ]
    },
    {
      "cell_type": "code",
      "metadata": {
        "id": "TlXOIXG_gUdL",
        "colab_type": "code",
        "colab": {}
      },
      "source": [
        ""
      ],
      "execution_count": null,
      "outputs": []
    },
    {
      "cell_type": "markdown",
      "metadata": {
        "id": "YzDXCaeC89Hr",
        "colab_type": "text"
      },
      "source": [
        "5 - Monte um boxplot para cada variável dos dados da Iris."
      ]
    },
    {
      "cell_type": "code",
      "metadata": {
        "id": "YsDXki7ngU42",
        "colab_type": "code",
        "colab": {}
      },
      "source": [
        ""
      ],
      "execution_count": null,
      "outputs": []
    },
    {
      "cell_type": "markdown",
      "metadata": {
        "id": "KINSIY3B89Hs",
        "colab_type": "text"
      },
      "source": [
        "6 - Encontre os outliers nos dados das bases Iris e BostonHouse."
      ]
    },
    {
      "cell_type": "code",
      "metadata": {
        "id": "cDjymIoZgVRX",
        "colab_type": "code",
        "colab": {}
      },
      "source": [
        ""
      ],
      "execution_count": null,
      "outputs": []
    }
  ]
}
