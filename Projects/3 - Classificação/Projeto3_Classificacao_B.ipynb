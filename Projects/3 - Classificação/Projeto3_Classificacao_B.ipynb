{
  "nbformat": 4,
  "nbformat_minor": 0,
  "metadata": {
    "colab": {
      "name": "Projeto3_Classificacao.ipynb",
      "provenance": [],
      "toc_visible": true,
      "include_colab_link": true
    },
    "kernelspec": {
      "display_name": "Python 3",
      "language": "python",
      "name": "python3"
    },
    "language_info": {
      "codemirror_mode": {
        "name": "ipython",
        "version": 3
      },
      "file_extension": ".py",
      "mimetype": "text/x-python",
      "name": "python",
      "nbconvert_exporter": "python",
      "pygments_lexer": "ipython3",
      "version": "3.7.8"
    }
  },
  "cells": [
    {
      "cell_type": "markdown",
      "metadata": {
        "id": "view-in-github",
        "colab_type": "text"
      },
      "source": [
        "<a href=\"https://colab.research.google.com/github/brenoslivio/SME0828_DataScience/blob/master/Projects/3%20-%20Classifica%C3%A7%C3%A3o/Projeto3_Classificacao_B.ipynb\" target=\"_parent\"><img src=\"https://colab.research.google.com/assets/colab-badge.svg\" alt=\"Open In Colab\"/></a>"
      ]
    },
    {
      "cell_type": "markdown",
      "metadata": {
        "id": "LJ7wNY4Uefh6"
      },
      "source": [
        "# SME0828 - Introdução à Ciência de Dados\n",
        "# Projeto 3: Classificação "
      ]
    },
    {
      "cell_type": "markdown",
      "metadata": {
        "id": "fscDWzEee1hv"
      },
      "source": [
        "### Alunos"
      ]
    },
    {
      "cell_type": "markdown",
      "metadata": {
        "id": "kIEYP_R3H6YU"
      },
      "source": [
        "Aline Fernanda da Conceição, Nº USP: 9437275\n",
        "\n",
        "Breno Lívio Silva de Almeida, Nº USP: 10276675\n",
        "\n",
        "Matheus Victal Cerqueira, Nº USP: 10276661"
      ]
    },
    {
      "cell_type": "markdown",
      "metadata": {
        "id": "lB29Wn4fH0RJ"
      },
      "source": [
        "***Universidade de São Paulo, São Carlos, Brasil.***"
      ]
    },
    {
      "cell_type": "markdown",
      "metadata": {
        "id": "0Wm1OZv73iBq"
      },
      "source": [
        "## Exercícios sugeridos para a atividade avaliativa 3"
      ]
    },
    {
      "cell_type": "markdown",
      "metadata": {
        "id": "S8HH4554-1Rf"
      },
      "source": [
        "Os seguintes exercícios foram sugeridos para entrega em 03 de novembro de 2020 para a disciplina SME0828 - Ciência de Dados oferecida pelo Instituto de Ciências Matemáticas e de Computação (ICMC) da Universidade de São Paulo (USP), a qual foi ministrada pelo professor Francisco Aparecido Rodrigues. Vamos trabalhar com o conjunto de dados [*Star dataset to predict star types*](https://www.kaggle.com/deepu1109/star-dataset). O dataset tem várias informações sobre características de estrelas como temperatura absoluta, luminosidade relativa, tipos de estrelas, entre outros. Vamos classificar os dados considerando vários classificadores conhecidos."
      ]
    },
    {
      "cell_type": "markdown",
      "metadata": {
        "id": "1QPQ01XEbxl-"
      },
      "source": [
        "\n",
        "\n",
        "---\n",
        "\n"
      ]
    },
    {
      "cell_type": "markdown",
      "metadata": {
        "id": "2dAe3TCSabYr"
      },
      "source": [
        "## Sumário\n",
        "\n",
        "1. Desenvolvimento\n",
        "\n",
        "  1.1 [Exercício 1](#ex1)\n",
        "\n",
        "  1.2 [Exercício 2](#ex2)\n",
        "\n",
        "  1.3 [Exercício 3](#ex3)\n",
        "\n",
        "  1.4 [Exercício 4](#ex4)\n",
        "\n",
        "  1.5 [Exercício 5](#ex5)\n",
        "\n",
        "  1.6 [Exercício 6](#ex6)"
      ]
    },
    {
      "cell_type": "markdown",
      "metadata": {
        "id": "EQhNpDzib3no"
      },
      "source": [
        "\n",
        "\n",
        "---\n",
        "\n"
      ]
    },
    {
      "cell_type": "markdown",
      "metadata": {
        "id": "CHl-yeiA89Ho"
      },
      "source": [
        "## Desenvolvimento"
      ]
    },
    {
      "cell_type": "markdown",
      "metadata": {
        "id": "MKR-GJ8ofjEN"
      },
      "source": [
        "\n",
        "\n",
        "### <a name=\"ex1\"></a> 1 - Considere a base de dados sobre doenças cardíacas:https://www.kaggle.com/ronitf/heart-disease-uci \n",
        "### Faça o pré-processamento dos dados e classifique os pacientes de acordo com a variável “target”.  Considere os classificadores: Bayesiano paramétrico, Bayesiano não-paramétrico e Naive Bayes."
      ]
    },
    {
      "cell_type": "markdown",
      "metadata": {
        "id": "p6NGqQ4ZZ91N"
      },
      "source": [
        "#### Pré-processamento dos dados"
      ]
    },
    {
      "cell_type": "markdown",
      "metadata": {
        "id": "9Sys-kqHcVVS"
      },
      "source": [
        "Foi considerada a base de dados de estrelas [*Star dataset to predict star types*](https://www.kaggle.com/deepu1109/star-dataset) para o exercício análogo. Vamos carregar seus dados considerando informações que serão acrescentando como os tipos de estrelas que será explicado no código."
      ]
    },
    {
      "cell_type": "code",
      "metadata": {
        "id": "GwcABg0DzTh6",
        "outputId": "20916d7a-e2ec-4f58-be5b-69afd0296b07",
        "colab": {
          "base_uri": "https://localhost:8080/",
          "height": 206
        }
      },
      "source": [
        "import numpy as np\n",
        "import matplotlib.mlab as mlab\n",
        "import matplotlib.pyplot as plt\n",
        "import pandas as pd\n",
        "import statistics\n",
        "\n",
        "dataStar = pd.read_csv('https://raw.githubusercontent.com/brenoslivio/SME0828_DataScience/master/Projects/data/starsDataset.csv', \n",
        "        dtype={\n",
        "          \"Temperature (K)\": np.int64,\n",
        "          \"Luminosity(L/Lo)\": np.float64,\n",
        "          \"Radius(R/Ro)\": np.float64,\n",
        "          \"Absolute magnitude(Mv)\": np.float64,\n",
        "          \"Star type\": str,\n",
        "          \"Star color\": str,\n",
        "          \"Spectral Class\": str\n",
        "        },\n",
        "        na_values=\"\",)\n",
        "\n",
        "dataStar.replace(\"\", np.nan, inplace=True)\n",
        "\n",
        "dataStar.dropna(inplace=True)\n",
        "\n",
        "# Já vamos colocar os labels adequados para os tipos de estrelas que não tem de padrão no dataset\n",
        "\n",
        "# star class:  Star Type\n",
        "#     0     :  Brown Dwarf\n",
        "#     1     :  Red Dwarf\n",
        "#     2     :  White Dwarf\n",
        "#     3     :  Main-Sequence\n",
        "#     4     :  Supergiant\n",
        "#     5     :  Hypergiant\n",
        "\n",
        "dataStar[\"Star type\"] = dataStar[\"Star type\"].str.replace(\"0\", \"Brown Dwarf\")\n",
        "dataStar[\"Star type\"] = dataStar[\"Star type\"].str.replace(\"1\", \"Red Dwarf\")\n",
        "dataStar[\"Star type\"] = dataStar[\"Star type\"].str.replace(\"2\", \"White Dwarf\")\n",
        "dataStar[\"Star type\"] = dataStar[\"Star type\"].str.replace(\"3\", \"Main-Sequence\")\n",
        "dataStar[\"Star type\"] = dataStar[\"Star type\"].str.replace(\"4\", \"Supergiant\")\n",
        "dataStar[\"Star type\"] = dataStar[\"Star type\"].str.replace(\"5\", \"Hypergiant\")\n",
        "\n",
        "dataStar.sample(5)"
      ],
      "execution_count": 44,
      "outputs": [
        {
          "output_type": "execute_result",
          "data": {
            "text/html": [
              "<div>\n",
              "<style scoped>\n",
              "    .dataframe tbody tr th:only-of-type {\n",
              "        vertical-align: middle;\n",
              "    }\n",
              "\n",
              "    .dataframe tbody tr th {\n",
              "        vertical-align: top;\n",
              "    }\n",
              "\n",
              "    .dataframe thead th {\n",
              "        text-align: right;\n",
              "    }\n",
              "</style>\n",
              "<table border=\"1\" class=\"dataframe\">\n",
              "  <thead>\n",
              "    <tr style=\"text-align: right;\">\n",
              "      <th></th>\n",
              "      <th>Temperature (K)</th>\n",
              "      <th>Luminosity(L/Lo)</th>\n",
              "      <th>Radius(R/Ro)</th>\n",
              "      <th>Absolute magnitude(Mv)</th>\n",
              "      <th>Star type</th>\n",
              "      <th>Star color</th>\n",
              "      <th>Spectral Class</th>\n",
              "    </tr>\n",
              "  </thead>\n",
              "  <tbody>\n",
              "    <tr>\n",
              "      <th>208</th>\n",
              "      <td>17920</td>\n",
              "      <td>0.00111</td>\n",
              "      <td>0.01060</td>\n",
              "      <td>11.66</td>\n",
              "      <td>White Dwarf</td>\n",
              "      <td>Blue</td>\n",
              "      <td>B</td>\n",
              "    </tr>\n",
              "    <tr>\n",
              "      <th>230</th>\n",
              "      <td>24145</td>\n",
              "      <td>382993.00000</td>\n",
              "      <td>1494.00000</td>\n",
              "      <td>-8.84</td>\n",
              "      <td>Hypergiant</td>\n",
              "      <td>Blue-white</td>\n",
              "      <td>B</td>\n",
              "    </tr>\n",
              "    <tr>\n",
              "      <th>149</th>\n",
              "      <td>12984</td>\n",
              "      <td>0.00088</td>\n",
              "      <td>0.00996</td>\n",
              "      <td>11.23</td>\n",
              "      <td>White Dwarf</td>\n",
              "      <td>Blue White</td>\n",
              "      <td>B</td>\n",
              "    </tr>\n",
              "    <tr>\n",
              "      <th>76</th>\n",
              "      <td>2890</td>\n",
              "      <td>0.00340</td>\n",
              "      <td>0.24000</td>\n",
              "      <td>13.46</td>\n",
              "      <td>Red Dwarf</td>\n",
              "      <td>Red</td>\n",
              "      <td>M</td>\n",
              "    </tr>\n",
              "    <tr>\n",
              "      <th>102</th>\n",
              "      <td>23000</td>\n",
              "      <td>127000.00000</td>\n",
              "      <td>36.00000</td>\n",
              "      <td>-5.76</td>\n",
              "      <td>Supergiant</td>\n",
              "      <td>Blue</td>\n",
              "      <td>O</td>\n",
              "    </tr>\n",
              "  </tbody>\n",
              "</table>\n",
              "</div>"
            ],
            "text/plain": [
              "     Temperature (K)  Luminosity(L/Lo)  ...  Star color  Spectral Class\n",
              "208            17920           0.00111  ...        Blue               B\n",
              "230            24145      382993.00000  ...  Blue-white               B\n",
              "149            12984           0.00088  ...  Blue White               B\n",
              "76              2890           0.00340  ...         Red               M\n",
              "102            23000      127000.00000  ...        Blue               O\n",
              "\n",
              "[5 rows x 7 columns]"
            ]
          },
          "metadata": {
            "tags": []
          },
          "execution_count": 44
        }
      ]
    },
    {
      "cell_type": "markdown",
      "metadata": {
        "id": "chy8Mm1HbJk4"
      },
      "source": [
        "Temos três variáveis `Star type`, `Star color`, `Spectral Class` que podemos possivelmente indicar como labels para fazer a classificação, mas precisamos ter uma noção da frequência absoluta dos valores de cada variável."
      ]
    },
    {
      "cell_type": "code",
      "metadata": {
        "id": "hoVoDH0Xa2fX",
        "outputId": "8df42940-dca1-4de9-911b-483360cba35d",
        "colab": {
          "base_uri": "https://localhost:8080/"
        }
      },
      "source": [
        "dataStar['Star type'].value_counts()"
      ],
      "execution_count": 18,
      "outputs": [
        {
          "output_type": "execute_result",
          "data": {
            "text/plain": [
              "Brown Dwarf      40\n",
              "Red Dwarf        40\n",
              "Supergiant       40\n",
              "Hypergiant       40\n",
              "White Dwarf      40\n",
              "Main-Sequence    40\n",
              "Name: Star type, dtype: int64"
            ]
          },
          "metadata": {
            "tags": []
          },
          "execution_count": 18
        }
      ]
    },
    {
      "cell_type": "code",
      "metadata": {
        "id": "HoVXV9q_ePrO",
        "outputId": "c5cf58b5-d202-4344-b1e0-4206ab5e497c",
        "colab": {
          "base_uri": "https://localhost:8080/"
        }
      },
      "source": [
        "dataStar['Star color'].value_counts()"
      ],
      "execution_count": 19,
      "outputs": [
        {
          "output_type": "execute_result",
          "data": {
            "text/plain": [
              "Red                   112\n",
              "Blue                   55\n",
              "Blue-white             26\n",
              "Blue White             10\n",
              "yellow-white            8\n",
              "White                   7\n",
              "white                   3\n",
              "Blue white              3\n",
              "Yellowish White         3\n",
              "Whitish                 2\n",
              "Orange                  2\n",
              "yellowish               2\n",
              "Orange-Red              1\n",
              "Blue white              1\n",
              "Blue-White              1\n",
              "Blue                    1\n",
              "White-Yellow            1\n",
              "Pale yellow orange      1\n",
              "Yellowish               1\n",
              "Name: Star color, dtype: int64"
            ]
          },
          "metadata": {
            "tags": []
          },
          "execution_count": 19
        }
      ]
    },
    {
      "cell_type": "code",
      "metadata": {
        "id": "4dKAR9G9eQVN",
        "outputId": "9c5d1f84-c81f-433d-f098-bea5c256ba28",
        "colab": {
          "base_uri": "https://localhost:8080/"
        }
      },
      "source": [
        "dataStar['Spectral Class'].value_counts()"
      ],
      "execution_count": 20,
      "outputs": [
        {
          "output_type": "execute_result",
          "data": {
            "text/plain": [
              "M    111\n",
              "B     46\n",
              "O     40\n",
              "A     19\n",
              "F     17\n",
              "K      6\n",
              "G      1\n",
              "Name: Spectral Class, dtype: int64"
            ]
          },
          "metadata": {
            "tags": []
          },
          "execution_count": 20
        }
      ]
    },
    {
      "cell_type": "markdown",
      "metadata": {
        "id": "it_ihnUXefnU"
      },
      "source": [
        "Definitivamente o tipo de estrela seria a melhor opção de classificação considerando que alguns valores nas outras variáveis aparecem somente uma vez, o que não teria sentido para conseguir validar um possível aprendizado. Vamos pegar as classes nessa variável `Star type`."
      ]
    },
    {
      "cell_type": "code",
      "metadata": {
        "id": "FQTPEK08efFD",
        "outputId": "38b669ea-6cf7-4ce9-fe93-d2e50d0dd8dd",
        "colab": {
          "base_uri": "https://localhost:8080/"
        }
      },
      "source": [
        "# Nomes das classes\n",
        "classes = np.array(pd.unique(dataStar[dataStar.columns[-3]]), dtype=str)  \n",
        "\n",
        "# Atributos do dataset\n",
        "attributes = list(dataStar.columns)\n",
        "\n",
        "classes"
      ],
      "execution_count": 29,
      "outputs": [
        {
          "output_type": "execute_result",
          "data": {
            "text/plain": [
              "array(['Brown Dwarf', 'Red Dwarf', 'White Dwarf', 'Main-Sequence',\n",
              "       'Supergiant', 'Hypergiant'], dtype='<U13')"
            ]
          },
          "metadata": {
            "tags": []
          },
          "execution_count": 29
        }
      ]
    },
    {
      "cell_type": "markdown",
      "metadata": {
        "id": "lVVk-R8mfm8K"
      },
      "source": [
        "Dependendo da relação dessas variáveis que foram descartadas como possível label, podemos até usar usando a função do Pandas [get_dummies](https://pandas.pydata.org/pandas-docs/stable/reference/api/pandas.get_dummies.html) para transformar facilmente em valores binários por coluna. Entretanto, para o caso desse dataset, elas impactam negativamente na classificação, por isso iremos removê-las."
      ]
    },
    {
      "cell_type": "code",
      "metadata": {
        "id": "vgN1Tl18f4Xs",
        "outputId": "7684539a-f547-4d4d-bf59-d18f18733dec",
        "colab": {
          "base_uri": "https://localhost:8080/",
          "height": 206
        }
      },
      "source": [
        "dataConcat = dataStar.copy()\n",
        "\n",
        "#Spectral = pd.get_dummies(dataConcat['Spectral Class'], drop_first=True)\n",
        "dataConcat.drop('Spectral Class',axis=1,inplace=True)\n",
        "#dataConcat = pd.concat([dataConcat, Spectral],axis=1)\n",
        "\n",
        "#Color = pd.get_dummies(dataConcat['Star color'], drop_first=True)\n",
        "dataConcat.drop('Star color',axis=1,inplace=True)\n",
        "#dataConcat = pd.concat([dataConcat, Color],axis=1)\n",
        "\n",
        "dataConcat.sample(5)"
      ],
      "execution_count": 88,
      "outputs": [
        {
          "output_type": "execute_result",
          "data": {
            "text/html": [
              "<div>\n",
              "<style scoped>\n",
              "    .dataframe tbody tr th:only-of-type {\n",
              "        vertical-align: middle;\n",
              "    }\n",
              "\n",
              "    .dataframe tbody tr th {\n",
              "        vertical-align: top;\n",
              "    }\n",
              "\n",
              "    .dataframe thead th {\n",
              "        text-align: right;\n",
              "    }\n",
              "</style>\n",
              "<table border=\"1\" class=\"dataframe\">\n",
              "  <thead>\n",
              "    <tr style=\"text-align: right;\">\n",
              "      <th></th>\n",
              "      <th>Temperature (K)</th>\n",
              "      <th>Luminosity(L/Lo)</th>\n",
              "      <th>Radius(R/Ro)</th>\n",
              "      <th>Absolute magnitude(Mv)</th>\n",
              "      <th>Star type</th>\n",
              "    </tr>\n",
              "  </thead>\n",
              "  <tbody>\n",
              "    <tr>\n",
              "      <th>231</th>\n",
              "      <td>38234</td>\n",
              "      <td>272830.00000</td>\n",
              "      <td>1356.00000</td>\n",
              "      <td>-9.29</td>\n",
              "      <td>Hypergiant</td>\n",
              "    </tr>\n",
              "    <tr>\n",
              "      <th>149</th>\n",
              "      <td>12984</td>\n",
              "      <td>0.00088</td>\n",
              "      <td>0.00996</td>\n",
              "      <td>11.23</td>\n",
              "      <td>White Dwarf</td>\n",
              "    </tr>\n",
              "    <tr>\n",
              "      <th>20</th>\n",
              "      <td>25000</td>\n",
              "      <td>0.05600</td>\n",
              "      <td>0.00840</td>\n",
              "      <td>10.58</td>\n",
              "      <td>White Dwarf</td>\n",
              "    </tr>\n",
              "    <tr>\n",
              "      <th>101</th>\n",
              "      <td>40000</td>\n",
              "      <td>813000.00000</td>\n",
              "      <td>14.00000</td>\n",
              "      <td>-6.23</td>\n",
              "      <td>Supergiant</td>\n",
              "    </tr>\n",
              "    <tr>\n",
              "      <th>118</th>\n",
              "      <td>6850</td>\n",
              "      <td>229000.00000</td>\n",
              "      <td>1467.00000</td>\n",
              "      <td>-10.07</td>\n",
              "      <td>Hypergiant</td>\n",
              "    </tr>\n",
              "  </tbody>\n",
              "</table>\n",
              "</div>"
            ],
            "text/plain": [
              "     Temperature (K)  Luminosity(L/Lo)  ...  Absolute magnitude(Mv)    Star type\n",
              "231            38234      272830.00000  ...                   -9.29   Hypergiant\n",
              "149            12984           0.00088  ...                   11.23  White Dwarf\n",
              "20             25000           0.05600  ...                   10.58  White Dwarf\n",
              "101            40000      813000.00000  ...                   -6.23   Supergiant\n",
              "118             6850      229000.00000  ...                  -10.07   Hypergiant\n",
              "\n",
              "[5 rows x 5 columns]"
            ]
          },
          "metadata": {
            "tags": []
          },
          "execution_count": 88
        }
      ]
    },
    {
      "cell_type": "markdown",
      "metadata": {
        "id": "GA4ZYraTlmm3"
      },
      "source": [
        "Vamos converter o data frame para um array numpy com a intenção de manipular melhor com bibliotecas próprias para a classificação."
      ]
    },
    {
      "cell_type": "code",
      "metadata": {
        "id": "Yaq1FNv1lnYI",
        "outputId": "a037a995-e6c4-4194-a7f1-82ea80789c88",
        "colab": {
          "base_uri": "https://localhost:8080/"
        }
      },
      "source": [
        "data = dataConcat.to_numpy()\n",
        "data"
      ],
      "execution_count": 98,
      "outputs": [
        {
          "output_type": "execute_result",
          "data": {
            "text/plain": [
              "array([[3068, 0.0024, 0.17, 16.12, 'Brown Dwarf'],\n",
              "       [3042, 0.0005, 0.1542, 16.6, 'Brown Dwarf'],\n",
              "       [2600, 0.0003, 0.102, 18.7, 'Brown Dwarf'],\n",
              "       ...,\n",
              "       [8829, 537493.0, 1423.0, -10.73, 'Hypergiant'],\n",
              "       [9235, 404940.0, 1112.0, -11.23, 'Hypergiant'],\n",
              "       [37882, 294903.0, 1783.0, -7.8, 'Hypergiant']], dtype=object)"
            ]
          },
          "metadata": {
            "tags": []
          },
          "execution_count": 98
        }
      ]
    },
    {
      "cell_type": "code",
      "metadata": {
        "id": "Owzdy8XCd6Fq"
      },
      "source": [
        "dataTrain = data\n",
        "y = dataTrain[:, 4] # Pega o label que iremos classificar, o tipo de estrela\n",
        "dataTrain = np.delete(dataTrain, 4, 1)\n",
        "X = dataTrain[:,:] # Pega os 4 valores relevantes que sobraram para a classificação das estrelas"
      ],
      "execution_count": 100,
      "outputs": []
    },
    {
      "cell_type": "markdown",
      "metadata": {
        "id": "3iEkSdtXeYp0"
      },
      "source": [
        "Normalizando os dados."
      ]
    },
    {
      "cell_type": "code",
      "metadata": {
        "id": "RfpHGOGJeYJ-"
      },
      "source": [
        "from sklearn.preprocessing import StandardScaler\n",
        "scaler = StandardScaler().fit(X)\n",
        "X = scaler.transform(X)"
      ],
      "execution_count": 106,
      "outputs": []
    },
    {
      "cell_type": "code",
      "metadata": {
        "id": "7rP-pWpIeeHO"
      },
      "source": [
        "from sklearn.model_selection import train_test_split\n",
        "p = 0.8 # fracao de elementos no conjunto de treinamento\n",
        "x_train, x_test, y_train, y_test = train_test_split(X, y, train_size = p, random_state = 42)"
      ],
      "execution_count": 107,
      "outputs": []
    },
    {
      "cell_type": "markdown",
      "metadata": {
        "id": "RippZrD4etm6"
      },
      "source": [
        ""
      ]
    },
    {
      "cell_type": "code",
      "metadata": {
        "id": "ZVhTkF57etug"
      },
      "source": [
        "from scipy.stats import multivariate_normal\n",
        "\n",
        "# P irá guardar a probabilidade para as linhas e colunas\n",
        "P = pd.DataFrame(data = np.zeros((x_test.shape[0], len(classes))), columns = classes) \n",
        "\n",
        "Pc = np.zeros(len(classes)) #fraction of elements in each class\n",
        "for i in np.arange(0, len(classes)):\n",
        "    elements = tuple(np.where(y_train == classes[i]))\n",
        "    Pc[i] = len(elements)/len(y_train)\n",
        "    Z = x_train[elements,:][0]\n",
        "    m = np.mean(Z, axis = 0)\n",
        "    cv = np.cov(np.transpose(Z))\n",
        "    for j in np.arange(0,x_test.shape[0]):\n",
        "        x = x_test[j,:]\n",
        "        pj = multivariate_normal.pdf(x, mean=m, cov=cv, allow_singular=True)\n",
        "        P[classes[i]][j] = pj*Pc[i]"
      ],
      "execution_count": 108,
      "outputs": []
    },
    {
      "cell_type": "code",
      "metadata": {
        "id": "esJvGzdBsxa-",
        "outputId": "77fd1ffb-62e5-44c3-e7b3-ee1d2ff26e3a",
        "colab": {
          "base_uri": "https://localhost:8080/"
        }
      },
      "source": [
        "from sklearn.metrics import accuracy_score\n",
        "\n",
        "y_pred = []\n",
        "\n",
        "for i in np.arange(0, x_test.shape[0]):\n",
        "    c = np.argmax(np.array(P.iloc[[i]]))\n",
        "    y_pred.append(classes[c])\n",
        "\n",
        "y_pred = np.array(y_pred, dtype=str)\n",
        "\n",
        "score = accuracy_score(y_pred, y_test)\n",
        "print('Accuracy:', score)"
      ],
      "execution_count": 109,
      "outputs": [
        {
          "output_type": "stream",
          "text": [
            "Accuracy: 0.9791666666666666\n"
          ],
          "name": "stdout"
        }
      ]
    },
    {
      "cell_type": "markdown",
      "metadata": {
        "id": "e8ojsnyffsOA"
      },
      "source": [
        "### <a name=\"ex2\"></a> 2 - No classificar não-paramétrico, verifique o efeito do hiperparâmetro h na classificação dos dados de diabetes, encontrando seu melhor valor: https://www.kaggle.com/uciml/pima-indians-diabetes-database\n"
      ]
    },
    {
      "cell_type": "code",
      "metadata": {
        "id": "Asdjv98XzZMs"
      },
      "source": [
        ""
      ],
      "execution_count": null,
      "outputs": []
    }
  ]
}