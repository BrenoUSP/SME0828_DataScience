{
 "cells": [
  {
   "cell_type": "markdown",
   "metadata": {
    "colab_type": "text",
    "id": "view-in-github"
   },
   "source": [
    "<a href=\"https://colab.research.google.com/github/brenoslivio/SME0828_DataScience/blob/master/Projects/3%20-%20Classifica%C3%A7%C3%A3o/Projeto3_Classificacao_B.ipynb\" target=\"_parent\"><img src=\"https://colab.research.google.com/assets/colab-badge.svg\" alt=\"Open In Colab\"/></a>"
   ]
  },
  {
   "cell_type": "markdown",
   "metadata": {
    "id": "LJ7wNY4Uefh6"
   },
   "source": [
    "# SME0828 - Introdução à Ciência de Dados\n",
    "# Projeto 3: Classificação "
   ]
  },
  {
   "cell_type": "markdown",
   "metadata": {
    "id": "fscDWzEee1hv"
   },
   "source": [
    "### Alunos"
   ]
  },
  {
   "cell_type": "markdown",
   "metadata": {
    "id": "kIEYP_R3H6YU"
   },
   "source": [
    "Aline Fernanda da Conceição, Nº USP: 9437275\n",
    "\n",
    "Breno Lívio Silva de Almeida, Nº USP: 10276675\n",
    "\n",
    "Matheus Victal Cerqueira, Nº USP: 10276661"
   ]
  },
  {
   "cell_type": "markdown",
   "metadata": {
    "id": "lB29Wn4fH0RJ"
   },
   "source": [
    "***Universidade de São Paulo, São Carlos, Brasil.***"
   ]
  },
  {
   "cell_type": "markdown",
   "metadata": {
    "id": "0Wm1OZv73iBq"
   },
   "source": [
    "## Exercícios sugeridos para a atividade avaliativa 3"
   ]
  },
  {
   "cell_type": "markdown",
   "metadata": {
    "id": "S8HH4554-1Rf"
   },
   "source": [
    "Os seguintes exercícios foram sugeridos para entrega em 03 de novembro de 2020 para a disciplina SME0828 - Ciência de Dados oferecida pelo Instituto de Ciências Matemáticas e de Computação (ICMC) da Universidade de São Paulo (USP), a qual foi ministrada pelo professor Francisco Aparecido Rodrigues. Vamos trabalhar com o conjunto de dados [*Star dataset to predict star types*](https://www.kaggle.com/deepu1109/star-dataset). O dataset tem várias informações sobre características de estrelas como temperatura absoluta, luminosidade relativa, tipos de estrelas, entre outros. Vamos classificar os dados considerando vários classificadores conhecidos."
   ]
  },
  {
   "cell_type": "markdown",
   "metadata": {
    "id": "1QPQ01XEbxl-"
   },
   "source": [
    "\n",
    "\n",
    "---\n",
    "\n"
   ]
  },
  {
   "cell_type": "markdown",
   "metadata": {
    "id": "2dAe3TCSabYr"
   },
   "source": [
    "## Sumário\n",
    "\n",
    "1. Desenvolvimento\n",
    "\n",
    "  1.1 [Exercício 1](#ex1)\n",
    "\n",
    "  1.2 [Exercício 2](#ex2)\n",
    "\n",
    "  1.3 [Exercício 3](#ex3)\n",
    "\n",
    "  1.4 [Exercício 4](#ex4)\n",
    "\n",
    "  1.5 [Exercício 5](#ex5)\n",
    "\n",
    "  1.6 [Exercício 6](#ex6)"
   ]
  },
  {
   "cell_type": "markdown",
   "metadata": {
    "id": "EQhNpDzib3no"
   },
   "source": [
    "\n",
    "\n",
    "---\n",
    "\n"
   ]
  },
  {
   "cell_type": "markdown",
   "metadata": {
    "id": "CHl-yeiA89Ho"
   },
   "source": [
    "## Desenvolvimento"
   ]
  },
  {
   "cell_type": "markdown",
   "metadata": {
    "id": "MKR-GJ8ofjEN"
   },
   "source": [
    "\n",
    "\n",
    "### <a name=\"ex1\"></a> 1 - Considere a base de dados sobre doenças cardíacas:https://www.kaggle.com/ronitf/heart-disease-uci \n",
    "### Faça o pré-processamento dos dados e classifique os pacientes de acordo com a variável “target”.  Considere os classificadores: Bayesiano paramétrico, Bayesiano não-paramétrico e Naive Bayes."
   ]
  },
  {
   "cell_type": "markdown",
   "metadata": {
    "id": "p6NGqQ4ZZ91N"
   },
   "source": [
    "#### Pré-processamento dos dados"
   ]
  },
  {
   "cell_type": "markdown",
   "metadata": {
    "id": "9Sys-kqHcVVS"
   },
   "source": [
    "Foi considerada a base de dados de estrelas [*Star dataset to predict star types*](https://www.kaggle.com/deepu1109/star-dataset) para o exercício. Vamos carregar seus dados."
   ]
  },
  {
   "cell_type": "code",
   "execution_count": 2,
   "metadata": {
    "colab": {
     "base_uri": "https://localhost:8080/",
     "height": 206
    },
    "id": "GwcABg0DzTh6",
    "outputId": "7d8a78ec-42d5-412b-8b46-13a65d6e8337"
   },
   "outputs": [
    {
     "output_type": "execute_result",
     "data": {
      "text/plain": [
       "     Temperature (K)  Luminosity(L/Lo)  Radius(R/Ro)  Absolute magnitude(Mv)  \\\n",
       "66              2945           0.00032         0.093                  18.340   \n",
       "34              5800           0.81000         0.900                   5.050   \n",
       "42              3270      150000.00000        88.000                  -6.020   \n",
       "193             3212           0.00160         0.378                  12.854   \n",
       "95             11250         672.00000         6.980                  -2.300   \n",
       "\n",
       "     Star type    Star color Spectral Class  \n",
       "66           0           Red              M  \n",
       "34           3  yellow-white              F  \n",
       "42           4           Red              M  \n",
       "193          1           Red              M  \n",
       "95           3    Blue-white              A  "
      ],
      "text/html": "<div>\n<style scoped>\n    .dataframe tbody tr th:only-of-type {\n        vertical-align: middle;\n    }\n\n    .dataframe tbody tr th {\n        vertical-align: top;\n    }\n\n    .dataframe thead th {\n        text-align: right;\n    }\n</style>\n<table border=\"1\" class=\"dataframe\">\n  <thead>\n    <tr style=\"text-align: right;\">\n      <th></th>\n      <th>Temperature (K)</th>\n      <th>Luminosity(L/Lo)</th>\n      <th>Radius(R/Ro)</th>\n      <th>Absolute magnitude(Mv)</th>\n      <th>Star type</th>\n      <th>Star color</th>\n      <th>Spectral Class</th>\n    </tr>\n  </thead>\n  <tbody>\n    <tr>\n      <th>66</th>\n      <td>2945</td>\n      <td>0.00032</td>\n      <td>0.093</td>\n      <td>18.340</td>\n      <td>0</td>\n      <td>Red</td>\n      <td>M</td>\n    </tr>\n    <tr>\n      <th>34</th>\n      <td>5800</td>\n      <td>0.81000</td>\n      <td>0.900</td>\n      <td>5.050</td>\n      <td>3</td>\n      <td>yellow-white</td>\n      <td>F</td>\n    </tr>\n    <tr>\n      <th>42</th>\n      <td>3270</td>\n      <td>150000.00000</td>\n      <td>88.000</td>\n      <td>-6.020</td>\n      <td>4</td>\n      <td>Red</td>\n      <td>M</td>\n    </tr>\n    <tr>\n      <th>193</th>\n      <td>3212</td>\n      <td>0.00160</td>\n      <td>0.378</td>\n      <td>12.854</td>\n      <td>1</td>\n      <td>Red</td>\n      <td>M</td>\n    </tr>\n    <tr>\n      <th>95</th>\n      <td>11250</td>\n      <td>672.00000</td>\n      <td>6.980</td>\n      <td>-2.300</td>\n      <td>3</td>\n      <td>Blue-white</td>\n      <td>A</td>\n    </tr>\n  </tbody>\n</table>\n</div>"
     },
     "metadata": {},
     "execution_count": 2
    }
   ],
   "source": [
    "import numpy as np\n",
    "import matplotlib.mlab as mlab\n",
    "import matplotlib.pyplot as plt\n",
    "import seaborn as sns\n",
    "import pandas as pd\n",
    "import statistics\n",
    "\n",
    "dataStar = pd.read_csv('https://raw.githubusercontent.com/brenoslivio/SME0828_DataScience/master/Projects/data/starsDataset.csv', \n",
    "        dtype={\n",
    "          \"Temperature (K)\": np.int64,\n",
    "          \"Luminosity(L/Lo)\": np.float64,\n",
    "          \"Radius(R/Ro)\": np.float64,\n",
    "          \"Absolute magnitude(Mv)\": np.float64,\n",
    "          \"Star type\": np.int64,\n",
    "          \"Star color\": str,\n",
    "          \"Spectral Class\": str\n",
    "        },\n",
    "        na_values=\"\",)\n",
    "\n",
    "dataStar.replace(\"\", np.nan, inplace=True)\n",
    "\n",
    "dataStar.dropna(inplace=True)\n",
    "\n",
    "dataStar.sample(5)"
   ]
  },
  {
   "cell_type": "markdown",
   "metadata": {
    "id": "chy8Mm1HbJk4"
   },
   "source": [
    "Temos três variáveis `Star type`, `Star color`, `Spectral Class` que podemos possivelmente indicar como labels para fazer a classificação, mas precisamos ter uma noção da frequência absoluta dos valores de cada variável."
   ]
  },
  {
   "cell_type": "code",
   "execution_count": 3,
   "metadata": {
    "colab": {
     "base_uri": "https://localhost:8080/"
    },
    "id": "hoVoDH0Xa2fX",
    "outputId": "41ffb715-00d6-423b-8ac9-b70c16822a82"
   },
   "outputs": [
    {
     "output_type": "execute_result",
     "data": {
      "text/plain": [
       "5    40\n",
       "4    40\n",
       "3    40\n",
       "2    40\n",
       "1    40\n",
       "0    40\n",
       "Name: Star type, dtype: int64"
      ]
     },
     "metadata": {},
     "execution_count": 3
    }
   ],
   "source": [
    "dataStar['Star type'].value_counts()"
   ]
  },
  {
   "cell_type": "code",
   "execution_count": 4,
   "metadata": {
    "colab": {
     "base_uri": "https://localhost:8080/"
    },
    "id": "HoVXV9q_ePrO",
    "outputId": "9be6fbb6-8472-4776-f817-0360d23c2691"
   },
   "outputs": [
    {
     "output_type": "execute_result",
     "data": {
      "text/plain": [
       "Red                   112\n",
       "Blue                   55\n",
       "Blue-white             26\n",
       "Blue White             10\n",
       "yellow-white            8\n",
       "White                   7\n",
       "Yellowish White         3\n",
       "Blue white              3\n",
       "white                   3\n",
       "yellowish               2\n",
       "Orange                  2\n",
       "Whitish                 2\n",
       "Pale yellow orange      1\n",
       "Blue white              1\n",
       "Yellowish               1\n",
       "Blue-White              1\n",
       "White-Yellow            1\n",
       "Blue                    1\n",
       "Orange-Red              1\n",
       "Name: Star color, dtype: int64"
      ]
     },
     "metadata": {},
     "execution_count": 4
    }
   ],
   "source": [
    "dataStar['Star color'].value_counts()"
   ]
  },
  {
   "cell_type": "code",
   "execution_count": 5,
   "metadata": {
    "colab": {
     "base_uri": "https://localhost:8080/"
    },
    "id": "4dKAR9G9eQVN",
    "outputId": "aa925030-c102-4b8a-8cb3-af9fd6681710"
   },
   "outputs": [
    {
     "output_type": "execute_result",
     "data": {
      "text/plain": [
       "M    111\n",
       "B     46\n",
       "O     40\n",
       "A     19\n",
       "F     17\n",
       "K      6\n",
       "G      1\n",
       "Name: Spectral Class, dtype: int64"
      ]
     },
     "metadata": {},
     "execution_count": 5
    }
   ],
   "source": [
    "dataStar['Spectral Class'].value_counts()"
   ]
  },
  {
   "cell_type": "markdown",
   "metadata": {
    "id": "qctC3T6UNWau"
   },
   "source": [
    "Com certeza devemos usar `Star type` como nosso label para classificação, por conta da distribuição igual de dados que foi apresentada, diferentemente das outras variáveis que contam com valores que aparecem somente uma vez. O dataset foi feito justamente para a classificação considerando os tipos de estrelas, mas é interessante ter uma análise para entender o porquê disso."
   ]
  },
  {
   "cell_type": "markdown",
   "metadata": {
    "id": "lVVk-R8mfm8K"
   },
   "source": [
    "Dependendo da relação dessas variáveis que foram descartadas como possível label, podemos até usar usando a função do Pandas [get_dummies](https://pandas.pydata.org/pandas-docs/stable/reference/api/pandas.get_dummies.html) para transformar facilmente em valores binários por coluna. Porém, para fácil visualização na tabela, será usado apenas uma coluna com essa ideia de ter valores inteiro usando a [biblioteca do sklearn](https://scikit-learn.org/stable/modules/generated/sklearn.preprocessing.LabelEncoder.html) própria pra isso."
   ]
  },
  {
   "cell_type": "code",
   "execution_count": 6,
   "metadata": {
    "colab": {
     "base_uri": "https://localhost:8080/",
     "height": 206
    },
    "id": "ezcJIEN0HJcU",
    "outputId": "28fe2f8e-6dd0-4e3b-d0c3-93e2304621eb"
   },
   "outputs": [
    {
     "output_type": "execute_result",
     "data": {
      "text/plain": [
       "     Temperature (K)  Luminosity(L/Lo)  Radius(R/Ro)  Absolute magnitude(Mv)  \\\n",
       "239            37882     294903.000000     1783.0000                  -7.800   \n",
       "79              3158          0.001350        0.1610                  13.980   \n",
       "129             2731          0.000437        0.0856                  18.090   \n",
       "107            12893     184000.000000       36.0000                  -6.340   \n",
       "229            21738     748890.000000       92.0000                  -7.346   \n",
       "\n",
       "     Star type  Star color  Spectral Class  \n",
       "239          5           0               6  \n",
       "79           1          10               5  \n",
       "129          0          10               5  \n",
       "107          4           0               6  \n",
       "229          4           0               6  "
      ],
      "text/html": "<div>\n<style scoped>\n    .dataframe tbody tr th:only-of-type {\n        vertical-align: middle;\n    }\n\n    .dataframe tbody tr th {\n        vertical-align: top;\n    }\n\n    .dataframe thead th {\n        text-align: right;\n    }\n</style>\n<table border=\"1\" class=\"dataframe\">\n  <thead>\n    <tr style=\"text-align: right;\">\n      <th></th>\n      <th>Temperature (K)</th>\n      <th>Luminosity(L/Lo)</th>\n      <th>Radius(R/Ro)</th>\n      <th>Absolute magnitude(Mv)</th>\n      <th>Star type</th>\n      <th>Star color</th>\n      <th>Spectral Class</th>\n    </tr>\n  </thead>\n  <tbody>\n    <tr>\n      <th>239</th>\n      <td>37882</td>\n      <td>294903.000000</td>\n      <td>1783.0000</td>\n      <td>-7.800</td>\n      <td>5</td>\n      <td>0</td>\n      <td>6</td>\n    </tr>\n    <tr>\n      <th>79</th>\n      <td>3158</td>\n      <td>0.001350</td>\n      <td>0.1610</td>\n      <td>13.980</td>\n      <td>1</td>\n      <td>10</td>\n      <td>5</td>\n    </tr>\n    <tr>\n      <th>129</th>\n      <td>2731</td>\n      <td>0.000437</td>\n      <td>0.0856</td>\n      <td>18.090</td>\n      <td>0</td>\n      <td>10</td>\n      <td>5</td>\n    </tr>\n    <tr>\n      <th>107</th>\n      <td>12893</td>\n      <td>184000.000000</td>\n      <td>36.0000</td>\n      <td>-6.340</td>\n      <td>4</td>\n      <td>0</td>\n      <td>6</td>\n    </tr>\n    <tr>\n      <th>229</th>\n      <td>21738</td>\n      <td>748890.000000</td>\n      <td>92.0000</td>\n      <td>-7.346</td>\n      <td>4</td>\n      <td>0</td>\n      <td>6</td>\n    </tr>\n  </tbody>\n</table>\n</div>"
     },
     "metadata": {},
     "execution_count": 6
    }
   ],
   "source": [
    "dataConcat = dataStar.copy()\n",
    "\n",
    "# Método usando get_dummies para várias colunas\n",
    "\n",
    "#Spectral = pd.get_dummies(dataConcat['Spectral Class'], drop_first=True)\n",
    "#dataConcat.drop('Spectral Class',axis=1,inplace=True)\n",
    "#dataConcat = pd.concat([dataConcat, Spectral],axis=1)\n",
    "\n",
    "#Color = pd.get_dummies(dataConcat['Star color'], drop_first=True)\n",
    "#dataConcat.drop('Star color',axis=1,inplace=True)\n",
    "#dataConcat = pd.concat([dataConcat, Color],axis=1)\n",
    "\n",
    "# Metodo com LabelEncoder\n",
    "\n",
    "from sklearn.preprocessing import LabelEncoder\n",
    "\n",
    "le = LabelEncoder()\n",
    "\n",
    "for i in list(dataConcat.columns):\n",
    "    if dataConcat[i].dtype=='object':\n",
    "        dataConcat[i]=le.fit_transform(dataConcat[i])\n",
    "\n",
    "dataConcat.sample(5)"
   ]
  },
  {
   "cell_type": "markdown",
   "metadata": {
    "id": "it_ihnUXefnU"
   },
   "source": [
    "Vamos pegar as classes nessa variável `Star type`."
   ]
  },
  {
   "cell_type": "code",
   "execution_count": 7,
   "metadata": {
    "colab": {
     "base_uri": "https://localhost:8080/"
    },
    "id": "FQTPEK08efFD",
    "outputId": "2ebceef9-1269-4d05-ae32-707aff60b159"
   },
   "outputs": [
    {
     "output_type": "execute_result",
     "data": {
      "text/plain": [
       "array([0, 1, 2, 3, 4, 5])"
      ]
     },
     "metadata": {},
     "execution_count": 7
    }
   ],
   "source": [
    "# Nomes das classes\n",
    "classes = np.array(pd.unique(dataConcat[dataConcat.columns[-3]]), dtype = np.int64)  \n",
    "\n",
    "# Atributos do dataset\n",
    "attributes = list(dataConcat.columns)\n",
    "\n",
    "classes"
   ]
  },
  {
   "cell_type": "markdown",
   "metadata": {
    "id": "GA4ZYraTlmm3"
   },
   "source": [
    "Vamos converter o data frame para um array numpy com a intenção de manipular melhor com bibliotecas próprias para a classificação."
   ]
  },
  {
   "cell_type": "code",
   "execution_count": 8,
   "metadata": {
    "colab": {
     "base_uri": "https://localhost:8080/"
    },
    "id": "Yaq1FNv1lnYI",
    "outputId": "e2aec176-90f7-4fab-e5b0-9ffe9c0c9540"
   },
   "outputs": [
    {
     "output_type": "execute_result",
     "data": {
      "text/plain": [
       "array([[3.06800e+03, 2.40000e-03, 1.70000e-01, ..., 0.00000e+00,\n",
       "        1.00000e+01, 5.00000e+00],\n",
       "       [3.04200e+03, 5.00000e-04, 1.54200e-01, ..., 0.00000e+00,\n",
       "        1.00000e+01, 5.00000e+00],\n",
       "       [2.60000e+03, 3.00000e-04, 1.02000e-01, ..., 0.00000e+00,\n",
       "        1.00000e+01, 5.00000e+00],\n",
       "       ...,\n",
       "       [8.82900e+03, 5.37493e+05, 1.42300e+03, ..., 5.00000e+00,\n",
       "        1.10000e+01, 0.00000e+00],\n",
       "       [9.23500e+03, 4.04940e+05, 1.11200e+03, ..., 5.00000e+00,\n",
       "        1.10000e+01, 0.00000e+00],\n",
       "       [3.78820e+04, 2.94903e+05, 1.78300e+03, ..., 5.00000e+00,\n",
       "        0.00000e+00, 6.00000e+00]])"
      ]
     },
     "metadata": {},
     "execution_count": 8
    }
   ],
   "source": [
    "data = dataConcat.to_numpy()\n",
    "data"
   ]
  },
  {
   "cell_type": "markdown",
   "metadata": {
    "id": "FOEpAKEMPtUc"
   },
   "source": [
    "Separando a variável para label com as features"
   ]
  },
  {
   "cell_type": "code",
   "execution_count": 9,
   "metadata": {
    "id": "Owzdy8XCd6Fq"
   },
   "outputs": [],
   "source": [
    "dataTrain = data\n",
    "y = dataTrain[:, 4] # Pega o label que iremos classificar, o tipo de estrela\n",
    "dataTrain = np.delete(dataTrain, 4, 1)\n",
    "X = dataTrain # Pega os valores que sobraram para a classificação das estrelas"
   ]
  },
  {
   "cell_type": "markdown",
   "metadata": {
    "id": "3iEkSdtXeYp0"
   },
   "source": [
    "Vamos normalizar os dados para evitar o efeito da escala dos atributos envolvidos."
   ]
  },
  {
   "cell_type": "code",
   "execution_count": 10,
   "metadata": {
    "id": "RfpHGOGJeYJ-"
   },
   "outputs": [],
   "source": [
    "from sklearn.preprocessing import StandardScaler\n",
    "scaler = StandardScaler().fit(X)\n",
    "X = scaler.transform(X)"
   ]
  },
  {
   "cell_type": "markdown",
   "metadata": {
    "id": "3VuBpCAkuuPA"
   },
   "source": [
    "Por fim, separando os dados de forma que tenha o conjunto de dados para treino e o conjunto de dados para teste para poder testar se o treino foi efetivo. Ou seja, esses dados servem para ver se foi possível generalizar o suficiente considerando que eles não estavam no conjunto de dados para treino, sendo totalmente novos."
   ]
  },
  {
   "cell_type": "code",
   "execution_count": 11,
   "metadata": {
    "id": "7rP-pWpIeeHO"
   },
   "outputs": [],
   "source": [
    "from sklearn.model_selection import train_test_split\n",
    "p = 0.8 # Fração de elementos que iremos usar no treinamento\n",
    "x_train, x_test, y_train, y_test = train_test_split(X, y, train_size = p, random_state = 42)"
   ]
  },
  {
   "cell_type": "markdown",
   "metadata": {
    "id": "C20fXq2hfyID"
   },
   "source": [
    "Para alguns casos, é interessante usar a ideia de [Feature Selection](https://scikit-learn.org/stable/modules/feature_selection.html) para escolhermos as variáveis que realmente nos ajude a obter uma melhor classificação. Se a nossa classificação não lidasse com uma variável categórica, poderíamos até trabalhar com a ideia de observar as variáveis com a melhor [correlação com a variável target](https://towardsdatascience.com/feature-selection-with-pandas-e3690ad8504b) para a filtragem. Vamos analisar a [informação mútua](https://en.wikipedia.org/wiki/Mutual_information) entre as variáveis."
   ]
  },
  {
   "cell_type": "code",
   "execution_count": 12,
   "metadata": {
    "colab": {
     "base_uri": "https://localhost:8080/"
    },
    "id": "ThKE_zv_LtX5",
    "outputId": "7297e08b-021c-4c75-990c-379eaee54063"
   },
   "outputs": [
    {
     "output_type": "stream",
     "name": "stdout",
     "text": [
      " Temperature (K): 0.645270\n Luminosity(L/Lo): 1.056192\n Radius(R/Ro): 1.720290\n Absolute magnitude(Mv): 1.562487\n Star color: 0.803087\n Spectral Class: 0.632945\n"
     ]
    }
   ],
   "source": [
    "from sklearn.feature_selection import SelectKBest, chi2\n",
    "from sklearn import feature_selection\n",
    "\n",
    "sf = SelectKBest(score_func = feature_selection.mutual_info_classif, k='all')\n",
    "\n",
    "features = np.delete(attributes, 4)\n",
    "\n",
    "x_t = x_train.copy()\n",
    "y_t = y_train.copy()\n",
    "\n",
    "sf_fit = sf.fit(x_train, y_train)\n",
    "\n",
    "for i in range(len(sf_fit.scores_)):\n",
    "    print(' %s: %f' % (features[i], sf_fit.scores_[i]))"
   ]
  },
  {
   "cell_type": "markdown",
   "metadata": {
    "id": "xI13jrserHFe"
   },
   "source": [
    "Vamos colocar as features em ordem descendente dos scores obtidos."
   ]
  },
  {
   "cell_type": "code",
   "execution_count": 13,
   "metadata": {
    "colab": {
     "base_uri": "https://localhost:8080/",
     "height": 238
    },
    "id": "2ZQLi9GxPaUr",
    "outputId": "2a283427-ac52-4b2c-d3e8-34c3b5c8a4c8"
   },
   "outputs": [
    {
     "output_type": "execute_result",
     "data": {
      "text/plain": [
       "                  feature    scores\n",
       "2            Radius(R/Ro)  1.720290\n",
       "3  Absolute magnitude(Mv)  1.562487\n",
       "1        Luminosity(L/Lo)  1.056192\n",
       "4              Star color  0.803087\n",
       "0         Temperature (K)  0.645270\n",
       "5          Spectral Class  0.632945"
      ],
      "text/html": "<div>\n<style scoped>\n    .dataframe tbody tr th:only-of-type {\n        vertical-align: middle;\n    }\n\n    .dataframe tbody tr th {\n        vertical-align: top;\n    }\n\n    .dataframe thead th {\n        text-align: right;\n    }\n</style>\n<table border=\"1\" class=\"dataframe\">\n  <thead>\n    <tr style=\"text-align: right;\">\n      <th></th>\n      <th>feature</th>\n      <th>scores</th>\n    </tr>\n  </thead>\n  <tbody>\n    <tr>\n      <th>2</th>\n      <td>Radius(R/Ro)</td>\n      <td>1.720290</td>\n    </tr>\n    <tr>\n      <th>3</th>\n      <td>Absolute magnitude(Mv)</td>\n      <td>1.562487</td>\n    </tr>\n    <tr>\n      <th>1</th>\n      <td>Luminosity(L/Lo)</td>\n      <td>1.056192</td>\n    </tr>\n    <tr>\n      <th>4</th>\n      <td>Star color</td>\n      <td>0.803087</td>\n    </tr>\n    <tr>\n      <th>0</th>\n      <td>Temperature (K)</td>\n      <td>0.645270</td>\n    </tr>\n    <tr>\n      <th>5</th>\n      <td>Spectral Class</td>\n      <td>0.632945</td>\n    </tr>\n  </tbody>\n</table>\n</div>"
     },
     "metadata": {},
     "execution_count": 13
    }
   ],
   "source": [
    "bestFeatures = pd.DataFrame()\n",
    "bestFeatures['feature'] = features[range(len(sf_fit.scores_))]\n",
    "bestFeatures['scores'] = sf_fit.scores_\n",
    "bestFeatures = bestFeatures.sort_values(by='scores', ascending = False)\n",
    "bestFeatures"
   ]
  },
  {
   "cell_type": "markdown",
   "metadata": {
    "id": "i4RE4SjMQR0H"
   },
   "source": [
    "Após alguns testes com as features de melhores scores, foi visto que todas são adequadas ao nosso problema de classificação, tendo bons valores de acurácia para os três classificadores que vamos usar. Vamos usar todas as variáveis."
   ]
  },
  {
   "cell_type": "code",
   "execution_count": 14,
   "metadata": {
    "id": "YQQJf9X1QoYW"
   },
   "outputs": [],
   "source": [
    "dataTrain = data\n",
    "y = dataTrain[:, 4] # Pega o label que iremos classificar, o tipo de estrela\n",
    "dataTrain = np.delete(dataTrain, 4, 1) # Apaga coluna com a label\n",
    "\n",
    "X = dataTrain # Pega os valores que sobraram para a classificação das estrelas\n",
    "\n",
    "scaler = StandardScaler().fit(X)\n",
    "X = scaler.transform(X)\n",
    "\n",
    "p = 0.8 # Fração de elementos que iremos usar no treinamento\n",
    "x_train, x_test, y_train, y_test = train_test_split(X, y, train_size = p, random_state = 42)"
   ]
  },
  {
   "cell_type": "markdown",
   "metadata": {
    "id": "RippZrD4etm6"
   },
   "source": [
    "#### Classificador Bayesiano paramétrico"
   ]
  },
  {
   "cell_type": "markdown",
   "metadata": {
    "id": "JnwraB0vjPZU"
   },
   "source": [
    "Vamos realizar propriamente a classificação que utiliza propriamente da ideia de encontrar a função densidade de probabilidade da [distribuição normal multivariada](https://docs.scipy.org/doc/scipy-0.14.0/reference/generated/scipy.stats.multivariate_normal.html) do conjunto X, os dados escolhidos para o treino."
   ]
  },
  {
   "cell_type": "code",
   "execution_count": 15,
   "metadata": {
    "id": "ZVhTkF57etug"
   },
   "outputs": [],
   "source": [
    "from scipy.stats import multivariate_normal\n",
    "\n",
    "# P irá guardar a probabilidade para as linhas e colunas\n",
    "P = pd.DataFrame(data = np.zeros((x_test.shape[0], len(classes))), columns = classes) \n",
    "\n",
    "Pc = np.zeros(len(classes)) # A fração de elementos em cada classe\n",
    "for i in np.arange(0, len(classes)):\n",
    "    elements = tuple(np.where(y_train == classes[i]))\n",
    "    Pc[i] = len(elements)/len(y_train)\n",
    "    Z = x_train[elements,:][0]\n",
    "    m = np.mean(Z, axis = 0)\n",
    "    cv = np.cov(np.transpose(Z)) # Matriz de covariância da distribuição\n",
    "    for j in np.arange(0,x_test.shape[0]):\n",
    "        x = x_test[j,:]\n",
    "        pj = multivariate_normal.pdf(x, mean=m, cov=cv, allow_singular=True)\n",
    "        P[classes[i]][j] = pj*Pc[i]"
   ]
  },
  {
   "cell_type": "markdown",
   "metadata": {
    "id": "y9LF3nC-k-0y"
   },
   "source": [
    "Gerado o modelo podemos testar com a distribuição guardada para testes com o intuito de validar o modelo e verificar sua acurácia."
   ]
  },
  {
   "cell_type": "code",
   "execution_count": 16,
   "metadata": {
    "colab": {
     "base_uri": "https://localhost:8080/"
    },
    "id": "esJvGzdBsxa-",
    "outputId": "b98a8dd6-68cd-41ff-e500-6cdaa90b8fbe"
   },
   "outputs": [
    {
     "output_type": "stream",
     "name": "stdout",
     "text": [
      "Acurácia da classificação Bayesiana paramétrica: 0.9583333333333334\n"
     ]
    }
   ],
   "source": [
    "from sklearn.metrics import accuracy_score\n",
    "\n",
    "y_pred = []\n",
    "\n",
    "for i in np.arange(0, x_test.shape[0]):\n",
    "    c = np.argmax(np.array(P.iloc[[i]])) # Pega a classe/coluna com maior chance de ser\n",
    "    y_pred.append(classes[c])\n",
    "\n",
    "y_pred = np.array(y_pred, dtype = np.int64)\n",
    "\n",
    "score = accuracy_score(y_pred, y_test)\n",
    "print('Acurácia da classificação Bayesiana paramétrica:', score)"
   ]
  },
  {
   "cell_type": "markdown",
   "metadata": {
    "id": "H26SDNWEvkTG"
   },
   "source": [
    "#### Classificador Bayesiano não-paramétrico"
   ]
  },
  {
   "cell_type": "markdown",
   "metadata": {
    "id": "4njqMca7mRi4"
   },
   "source": [
    "Com um estimador não-paramétrico, consideramos que não conhecemos a função de distribuição dos nossos dados, não conhecendo os parâmetros envolvidos. Praticamente vai envolver a criação e convolução de distribuições normais acerca de um conjunto dos nossos dados com a intenção de achar curvas que irão ajudar na classificação. Vamos usar do kernel de gaussiana da [biblioteca do sklearn](https://scikit-learn.org/stable/modules/generated/sklearn.neighbors.KernelDensity.html)."
   ]
  },
  {
   "cell_type": "code",
   "execution_count": 17,
   "metadata": {
    "id": "n62lCI21vqum"
   },
   "outputs": [],
   "source": [
    "from sklearn.neighbors import KernelDensity\n",
    "\n",
    "P = pd.DataFrame(data=np.zeros((x_test.shape[0], len(classes))), columns = classes) \n",
    "Pc = np.zeros(len(classes)) \n",
    "\n",
    "h = 1 # Esse valor será melhor discutido no próximo exercício\n",
    "\n",
    "for i in np.arange(0, len(classes)): \n",
    "    elements = tuple(np.where(y_train == classes[i])) \n",
    "    Pc[i] = len(elements)/len(y_train) \n",
    "    Z = x_train[elements,:][0] \n",
    "    kde = KernelDensity(kernel='gaussian', bandwidth=h).fit(Z)\n",
    "    for j in np.arange(0,x_test.shape[0]): \n",
    "        x = x_test[j,:]\n",
    "        x = x.reshape((1,len(x)))\n",
    "        pj = np.exp(kde.score_samples(x)) \n",
    "        P[classes[i]][j] = pj*Pc[i]"
   ]
  },
  {
   "cell_type": "markdown",
   "metadata": {
    "id": "Hu6XcqYvqNQV"
   },
   "source": [
    "A variável `h` usada no código tem uma relevância importante com a possibilidade de formarmos curvas suscetíveis a ruídos, menos suave (overfitting), sendo valores mais baixos, e também curvas que podemos perder mais dados, mais suave (underfitting), sendo valores mais altos. Por isso devemos sempre focar em achar um valor razoável. Isso será melhor discutido no próximo exercício usando desse mesmo conjunto de dados."
   ]
  },
  {
   "cell_type": "markdown",
   "metadata": {
    "id": "IT3p-b12rzEp"
   },
   "source": [
    "Vamos, por fim, calcular a acurácia da forma que fizemos anteriormente."
   ]
  },
  {
   "cell_type": "code",
   "execution_count": 18,
   "metadata": {
    "colab": {
     "base_uri": "https://localhost:8080/"
    },
    "id": "hzW_FELyvwI2",
    "outputId": "48f46ee9-52e5-4971-f685-4683047255a5"
   },
   "outputs": [
    {
     "output_type": "stream",
     "name": "stdout",
     "text": [
      "Acurácia da classificação Bayesiana não-paramétrica: 0.9375\n"
     ]
    }
   ],
   "source": [
    "from sklearn.metrics import accuracy_score\n",
    "\n",
    "y_pred = [] \n",
    "\n",
    "for i in np.arange(0, x_test.shape[0]):\n",
    "    c = np.argmax(np.array(P.iloc[[i]]))\n",
    "    y_pred.append(classes[c])\n",
    "\n",
    "y_pred = np.array(y_pred, dtype = np.int64)\n",
    "\n",
    "score = accuracy_score(y_pred, y_test)\n",
    "\n",
    "print('Acurácia da classificação Bayesiana não-paramétrica:', score)"
   ]
  },
  {
   "cell_type": "markdown",
   "metadata": {
    "id": "pTGKu51Gs8u3"
   },
   "source": [
    "#### Classificador Naive Bayes"
   ]
  },
  {
   "cell_type": "markdown",
   "metadata": {
    "id": "cHQ6U043yhLB"
   },
   "source": [
    "Esse tipo de classificador usa da teoria Bayesiana mas considerando a hipótese \"naive\" que os atributos trabalhados são independentes. Vamos usar da [implementação do próprio sklearn](https://scikit-learn.org/stable/modules/generated/sklearn.naive_bayes.GaussianNB.html) que considera os dados já em uma distribuição normal (existem funções da biblioteca de Naive Bayes que lida com outras distribuições)."
   ]
  },
  {
   "cell_type": "code",
   "execution_count": 19,
   "metadata": {
    "colab": {
     "base_uri": "https://localhost:8080/"
    },
    "id": "NNvVx-FW_31k",
    "outputId": "65f81030-4f56-47da-fafb-3447bc463535"
   },
   "outputs": [
    {
     "output_type": "stream",
     "name": "stdout",
     "text": [
      "Acurácia da classificação Naive Bayes: 0.9583333333333334\n"
     ]
    }
   ],
   "source": [
    "from sklearn.naive_bayes import GaussianNB\n",
    "from sklearn import metrics\n",
    "\n",
    "model = GaussianNB()\n",
    "model.fit(x_train, y_train)\n",
    "\n",
    "y_pred = model.predict(x_test)\n",
    "score = accuracy_score(y_pred, y_test)\n",
    "\n",
    "print('Acurácia da classificação Naive Bayes:', score)"
   ]
  },
  {
   "cell_type": "markdown",
   "metadata": {
    "id": "_cM-wM8dCIL8"
   },
   "source": [
    "É interessante notar que o classificador Naive Bayes funciona muito bem para aplicações do mundo real, mas parece [não funcionar tão bem como estimador](https://scikit-learn.org/stable/modules/naive_bayes.html), então sempre é interessante comparar com outros classificadores para escolhermos nossa opção dependendo do nosso conjunto de dados."
   ]
  },
  {
   "cell_type": "markdown",
   "metadata": {
    "id": "e8ojsnyffsOA"
   },
   "source": [
    "### <a name=\"ex2\"></a> 2 - No classificar não-paramétrico, verifique o efeito do hiperparâmetro h na classificação dos dados de diabetes, encontrando seu melhor valor: https://www.kaggle.com/uciml/pima-indians-diabetes-database\n"
   ]
  },
  {
   "cell_type": "markdown",
   "metadata": {
    "id": "X41GGhBAJJYW"
   },
   "source": [
    "Vamos trabalhar com o mesmo conjunto de dados do exercício anterior, [*Star dataset to predict star types*](https://www.kaggle.com/deepu1109/star-dataset). Vamos primeiro carregar os dados novamente."
   ]
  },
  {
   "cell_type": "code",
   "execution_count": 20,
   "metadata": {
    "id": "bB7fDStO0iiN"
   },
   "outputs": [],
   "source": [
    "import numpy as np\n",
    "import matplotlib.mlab as mlab\n",
    "import matplotlib.pyplot as plt\n",
    "import seaborn as sns\n",
    "import pandas as pd\n",
    "\n",
    "dataStar = pd.read_csv('https://raw.githubusercontent.com/brenoslivio/SME0828_DataScience/master/Projects/data/starsDataset.csv', \n",
    "        dtype={\n",
    "          \"Temperature (K)\": np.int64,\n",
    "          \"Luminosity(L/Lo)\": np.float64,\n",
    "          \"Radius(R/Ro)\": np.float64,\n",
    "          \"Absolute magnitude(Mv)\": np.float64,\n",
    "          \"Star type\": np.int64,\n",
    "          \"Star color\": str,\n",
    "          \"Spectral Class\": str\n",
    "        },\n",
    "        na_values=\"\",)\n",
    "\n",
    "dataStar.replace(\"\", np.nan, inplace=True)\n",
    "\n",
    "dataStar.dropna(inplace=True)\n",
    "\n",
    "dataConcat = dataStar.copy()\n",
    "\n",
    "from sklearn.preprocessing import LabelEncoder\n",
    "le = LabelEncoder()\n",
    "\n",
    "for i in list(dataConcat.columns):\n",
    "    if dataConcat[i].dtype=='object':\n",
    "        dataConcat[i]=le.fit_transform(dataConcat[i])\n",
    "\n",
    "classes = np.array(pd.unique(dataConcat[dataConcat.columns[-3]]), dtype=str) \n",
    "\n",
    "data = dataConcat.to_numpy()\n",
    "\n",
    "dataTrain = data\n",
    "y = dataTrain[:, 4] # Pega o label que iremos classificar, o tipo de estrela\n",
    "dataTrain = np.delete(dataTrain, 4, 1)\n",
    "X = dataTrain # Pega os valores que sobraram para a classificação das estrelas"
   ]
  },
  {
   "cell_type": "markdown",
   "metadata": {
    "id": "7AJh2Hl2JcJ-"
   },
   "source": [
    "Para definir o melhor valor para o hiperparâmetro `h` na classificação Bayesiana não-paramétrica precisamos entender como é a disposição das distribuições gaussianas realizadas com o intuito de encontrar as probabilidades para a classificação. O hiperparâmetro acaba controlando a abertura da função, e como já falado anteriomente, quanto menor for, por mais que a acurácia geralmente aumente, a classificação fica suscetível a ruídos. E se o valor for muito alto, podemos perder até dados relevantes. Vamos então explorar como algumas variáveis usadas na classificação se comportam com a mudança desse valor."
   ]
  },
  {
   "cell_type": "code",
   "execution_count": 21,
   "metadata": {
    "colab": {
     "base_uri": "https://localhost:8080/",
     "height": 268
    },
    "id": "7uvj-Xeovxe_",
    "outputId": "fa805fbb-fc0a-4a2d-f2d2-a881fbbc1507"
   },
   "outputs": [
    {
     "output_type": "display_data",
     "data": {
      "text/plain": "<Figure size 864x288 with 1 Axes>",
      "image/svg+xml": "<?xml version=\"1.0\" encoding=\"utf-8\" standalone=\"no\"?>\n<!DOCTYPE svg PUBLIC \"-//W3C//DTD SVG 1.1//EN\"\n  \"http://www.w3.org/Graphics/SVG/1.1/DTD/svg11.dtd\">\n<!-- Created with matplotlib (https://matplotlib.org/) -->\n<svg height=\"250.45375pt\" version=\"1.1\" viewBox=\"0 0 756.345 250.45375\" width=\"756.345pt\" xmlns=\"http://www.w3.org/2000/svg\" xmlns:xlink=\"http://www.w3.org/1999/xlink\">\n <defs>\n  <style type=\"text/css\">\n*{stroke-linecap:butt;stroke-linejoin:round;}\n  </style>\n </defs>\n <g id=\"figure_1\">\n  <g id=\"patch_1\">\n   <path d=\"M 0 250.45375 \nL 756.345 250.45375 \nL 756.345 0 \nL 0 0 \nz\n\" style=\"fill:none;\"/>\n  </g>\n  <g id=\"axes_1\">\n   <g id=\"patch_2\">\n    <path d=\"M 64.275 224.64 \nL 733.875 224.64 \nL 733.875 7.2 \nL 64.275 7.2 \nz\n\" style=\"fill:#ffffff;\"/>\n   </g>\n   <g id=\"matplotlib.axis_1\">\n    <g id=\"xtick_1\">\n     <g id=\"line2d_1\">\n      <defs>\n       <path d=\"M 0 0 \nL 0 3.5 \n\" id=\"mfc02bb077f\" style=\"stroke:#000000;stroke-width:0.8;\"/>\n      </defs>\n      <g>\n       <use style=\"stroke:#000000;stroke-width:0.8;\" x=\"64.275\" xlink:href=\"#mfc02bb077f\" y=\"224.64\"/>\n      </g>\n     </g>\n     <g id=\"text_1\">\n      <!-- 3580 -->\n      <defs>\n       <path d=\"M 40.578125 39.3125 \nQ 47.65625 37.796875 51.625 33 \nQ 55.609375 28.21875 55.609375 21.1875 \nQ 55.609375 10.40625 48.1875 4.484375 \nQ 40.765625 -1.421875 27.09375 -1.421875 \nQ 22.515625 -1.421875 17.65625 -0.515625 \nQ 12.796875 0.390625 7.625 2.203125 \nL 7.625 11.71875 \nQ 11.71875 9.328125 16.59375 8.109375 \nQ 21.484375 6.890625 26.8125 6.890625 \nQ 36.078125 6.890625 40.9375 10.546875 \nQ 45.796875 14.203125 45.796875 21.1875 \nQ 45.796875 27.640625 41.28125 31.265625 \nQ 36.765625 34.90625 28.71875 34.90625 \nL 20.21875 34.90625 \nL 20.21875 43.015625 \nL 29.109375 43.015625 \nQ 36.375 43.015625 40.234375 45.921875 \nQ 44.09375 48.828125 44.09375 54.296875 \nQ 44.09375 59.90625 40.109375 62.90625 \nQ 36.140625 65.921875 28.71875 65.921875 \nQ 24.65625 65.921875 20.015625 65.03125 \nQ 15.375 64.15625 9.8125 62.3125 \nL 9.8125 71.09375 \nQ 15.4375 72.65625 20.34375 73.4375 \nQ 25.25 74.21875 29.59375 74.21875 \nQ 40.828125 74.21875 47.359375 69.109375 \nQ 53.90625 64.015625 53.90625 55.328125 \nQ 53.90625 49.265625 50.4375 45.09375 \nQ 46.96875 40.921875 40.578125 39.3125 \nz\n\" id=\"DejaVuSans-51\"/>\n       <path d=\"M 10.796875 72.90625 \nL 49.515625 72.90625 \nL 49.515625 64.59375 \nL 19.828125 64.59375 \nL 19.828125 46.734375 \nQ 21.96875 47.46875 24.109375 47.828125 \nQ 26.265625 48.1875 28.421875 48.1875 \nQ 40.625 48.1875 47.75 41.5 \nQ 54.890625 34.8125 54.890625 23.390625 \nQ 54.890625 11.625 47.5625 5.09375 \nQ 40.234375 -1.421875 26.90625 -1.421875 \nQ 22.3125 -1.421875 17.546875 -0.640625 \nQ 12.796875 0.140625 7.71875 1.703125 \nL 7.71875 11.625 \nQ 12.109375 9.234375 16.796875 8.0625 \nQ 21.484375 6.890625 26.703125 6.890625 \nQ 35.15625 6.890625 40.078125 11.328125 \nQ 45.015625 15.765625 45.015625 23.390625 \nQ 45.015625 31 40.078125 35.4375 \nQ 35.15625 39.890625 26.703125 39.890625 \nQ 22.75 39.890625 18.8125 39.015625 \nQ 14.890625 38.140625 10.796875 36.28125 \nz\n\" id=\"DejaVuSans-53\"/>\n       <path d=\"M 31.78125 34.625 \nQ 24.75 34.625 20.71875 30.859375 \nQ 16.703125 27.09375 16.703125 20.515625 \nQ 16.703125 13.921875 20.71875 10.15625 \nQ 24.75 6.390625 31.78125 6.390625 \nQ 38.8125 6.390625 42.859375 10.171875 \nQ 46.921875 13.96875 46.921875 20.515625 \nQ 46.921875 27.09375 42.890625 30.859375 \nQ 38.875 34.625 31.78125 34.625 \nz\nM 21.921875 38.8125 \nQ 15.578125 40.375 12.03125 44.71875 \nQ 8.5 49.078125 8.5 55.328125 \nQ 8.5 64.0625 14.71875 69.140625 \nQ 20.953125 74.21875 31.78125 74.21875 \nQ 42.671875 74.21875 48.875 69.140625 \nQ 55.078125 64.0625 55.078125 55.328125 \nQ 55.078125 49.078125 51.53125 44.71875 \nQ 48 40.375 41.703125 38.8125 \nQ 48.828125 37.15625 52.796875 32.3125 \nQ 56.78125 27.484375 56.78125 20.515625 \nQ 56.78125 9.90625 50.3125 4.234375 \nQ 43.84375 -1.421875 31.78125 -1.421875 \nQ 19.734375 -1.421875 13.25 4.234375 \nQ 6.78125 9.90625 6.78125 20.515625 \nQ 6.78125 27.484375 10.78125 32.3125 \nQ 14.796875 37.15625 21.921875 38.8125 \nz\nM 18.3125 54.390625 \nQ 18.3125 48.734375 21.84375 45.5625 \nQ 25.390625 42.390625 31.78125 42.390625 \nQ 38.140625 42.390625 41.71875 45.5625 \nQ 45.3125 48.734375 45.3125 54.390625 \nQ 45.3125 60.0625 41.71875 63.234375 \nQ 38.140625 66.40625 31.78125 66.40625 \nQ 25.390625 66.40625 21.84375 63.234375 \nQ 18.3125 60.0625 18.3125 54.390625 \nz\n\" id=\"DejaVuSans-56\"/>\n       <path d=\"M 31.78125 66.40625 \nQ 24.171875 66.40625 20.328125 58.90625 \nQ 16.5 51.421875 16.5 36.375 \nQ 16.5 21.390625 20.328125 13.890625 \nQ 24.171875 6.390625 31.78125 6.390625 \nQ 39.453125 6.390625 43.28125 13.890625 \nQ 47.125 21.390625 47.125 36.375 \nQ 47.125 51.421875 43.28125 58.90625 \nQ 39.453125 66.40625 31.78125 66.40625 \nz\nM 31.78125 74.21875 \nQ 44.046875 74.21875 50.515625 64.515625 \nQ 56.984375 54.828125 56.984375 36.375 \nQ 56.984375 17.96875 50.515625 8.265625 \nQ 44.046875 -1.421875 31.78125 -1.421875 \nQ 19.53125 -1.421875 13.0625 8.265625 \nQ 6.59375 17.96875 6.59375 36.375 \nQ 6.59375 54.828125 13.0625 64.515625 \nQ 19.53125 74.21875 31.78125 74.21875 \nz\n\" id=\"DejaVuSans-48\"/>\n      </defs>\n      <g transform=\"translate(49.005 240.758125)scale(0.12 -0.12)\">\n       <use xlink:href=\"#DejaVuSans-51\"/>\n       <use x=\"63.623047\" xlink:href=\"#DejaVuSans-53\"/>\n       <use x=\"127.246094\" xlink:href=\"#DejaVuSans-56\"/>\n       <use x=\"190.869141\" xlink:href=\"#DejaVuSans-48\"/>\n      </g>\n     </g>\n    </g>\n    <g id=\"xtick_2\">\n     <g id=\"line2d_2\">\n      <g>\n       <use style=\"stroke:#000000;stroke-width:0.8;\" x=\"159.932143\" xlink:href=\"#mfc02bb077f\" y=\"224.64\"/>\n      </g>\n     </g>\n     <g id=\"text_2\">\n      <!-- 3590 -->\n      <defs>\n       <path d=\"M 10.984375 1.515625 \nL 10.984375 10.5 \nQ 14.703125 8.734375 18.5 7.8125 \nQ 22.3125 6.890625 25.984375 6.890625 \nQ 35.75 6.890625 40.890625 13.453125 \nQ 46.046875 20.015625 46.78125 33.40625 \nQ 43.953125 29.203125 39.59375 26.953125 \nQ 35.25 24.703125 29.984375 24.703125 \nQ 19.046875 24.703125 12.671875 31.3125 \nQ 6.296875 37.9375 6.296875 49.421875 \nQ 6.296875 60.640625 12.9375 67.421875 \nQ 19.578125 74.21875 30.609375 74.21875 \nQ 43.265625 74.21875 49.921875 64.515625 \nQ 56.59375 54.828125 56.59375 36.375 \nQ 56.59375 19.140625 48.40625 8.859375 \nQ 40.234375 -1.421875 26.421875 -1.421875 \nQ 22.703125 -1.421875 18.890625 -0.6875 \nQ 15.09375 0.046875 10.984375 1.515625 \nz\nM 30.609375 32.421875 \nQ 37.25 32.421875 41.125 36.953125 \nQ 45.015625 41.5 45.015625 49.421875 \nQ 45.015625 57.28125 41.125 61.84375 \nQ 37.25 66.40625 30.609375 66.40625 \nQ 23.96875 66.40625 20.09375 61.84375 \nQ 16.21875 57.28125 16.21875 49.421875 \nQ 16.21875 41.5 20.09375 36.953125 \nQ 23.96875 32.421875 30.609375 32.421875 \nz\n\" id=\"DejaVuSans-57\"/>\n      </defs>\n      <g transform=\"translate(144.662143 240.758125)scale(0.12 -0.12)\">\n       <use xlink:href=\"#DejaVuSans-51\"/>\n       <use x=\"63.623047\" xlink:href=\"#DejaVuSans-53\"/>\n       <use x=\"127.246094\" xlink:href=\"#DejaVuSans-57\"/>\n       <use x=\"190.869141\" xlink:href=\"#DejaVuSans-48\"/>\n      </g>\n     </g>\n    </g>\n    <g id=\"xtick_3\">\n     <g id=\"line2d_3\">\n      <g>\n       <use style=\"stroke:#000000;stroke-width:0.8;\" x=\"255.589286\" xlink:href=\"#mfc02bb077f\" y=\"224.64\"/>\n      </g>\n     </g>\n     <g id=\"text_3\">\n      <!-- 3600 -->\n      <defs>\n       <path d=\"M 33.015625 40.375 \nQ 26.375 40.375 22.484375 35.828125 \nQ 18.609375 31.296875 18.609375 23.390625 \nQ 18.609375 15.53125 22.484375 10.953125 \nQ 26.375 6.390625 33.015625 6.390625 \nQ 39.65625 6.390625 43.53125 10.953125 \nQ 47.40625 15.53125 47.40625 23.390625 \nQ 47.40625 31.296875 43.53125 35.828125 \nQ 39.65625 40.375 33.015625 40.375 \nz\nM 52.59375 71.296875 \nL 52.59375 62.3125 \nQ 48.875 64.0625 45.09375 64.984375 \nQ 41.3125 65.921875 37.59375 65.921875 \nQ 27.828125 65.921875 22.671875 59.328125 \nQ 17.53125 52.734375 16.796875 39.40625 \nQ 19.671875 43.65625 24.015625 45.921875 \nQ 28.375 48.1875 33.59375 48.1875 \nQ 44.578125 48.1875 50.953125 41.515625 \nQ 57.328125 34.859375 57.328125 23.390625 \nQ 57.328125 12.15625 50.6875 5.359375 \nQ 44.046875 -1.421875 33.015625 -1.421875 \nQ 20.359375 -1.421875 13.671875 8.265625 \nQ 6.984375 17.96875 6.984375 36.375 \nQ 6.984375 53.65625 15.1875 63.9375 \nQ 23.390625 74.21875 37.203125 74.21875 \nQ 40.921875 74.21875 44.703125 73.484375 \nQ 48.484375 72.75 52.59375 71.296875 \nz\n\" id=\"DejaVuSans-54\"/>\n      </defs>\n      <g transform=\"translate(240.319286 240.758125)scale(0.12 -0.12)\">\n       <use xlink:href=\"#DejaVuSans-51\"/>\n       <use x=\"63.623047\" xlink:href=\"#DejaVuSans-54\"/>\n       <use x=\"127.246094\" xlink:href=\"#DejaVuSans-48\"/>\n       <use x=\"190.869141\" xlink:href=\"#DejaVuSans-48\"/>\n      </g>\n     </g>\n    </g>\n    <g id=\"xtick_4\">\n     <g id=\"line2d_4\">\n      <g>\n       <use style=\"stroke:#000000;stroke-width:0.8;\" x=\"351.246429\" xlink:href=\"#mfc02bb077f\" y=\"224.64\"/>\n      </g>\n     </g>\n     <g id=\"text_4\">\n      <!-- 3610 -->\n      <defs>\n       <path d=\"M 12.40625 8.296875 \nL 28.515625 8.296875 \nL 28.515625 63.921875 \nL 10.984375 60.40625 \nL 10.984375 69.390625 \nL 28.421875 72.90625 \nL 38.28125 72.90625 \nL 38.28125 8.296875 \nL 54.390625 8.296875 \nL 54.390625 0 \nL 12.40625 0 \nz\n\" id=\"DejaVuSans-49\"/>\n      </defs>\n      <g transform=\"translate(335.976429 240.758125)scale(0.12 -0.12)\">\n       <use xlink:href=\"#DejaVuSans-51\"/>\n       <use x=\"63.623047\" xlink:href=\"#DejaVuSans-54\"/>\n       <use x=\"127.246094\" xlink:href=\"#DejaVuSans-49\"/>\n       <use x=\"190.869141\" xlink:href=\"#DejaVuSans-48\"/>\n      </g>\n     </g>\n    </g>\n    <g id=\"xtick_5\">\n     <g id=\"line2d_5\">\n      <g>\n       <use style=\"stroke:#000000;stroke-width:0.8;\" x=\"446.903571\" xlink:href=\"#mfc02bb077f\" y=\"224.64\"/>\n      </g>\n     </g>\n     <g id=\"text_5\">\n      <!-- 3620 -->\n      <defs>\n       <path d=\"M 19.1875 8.296875 \nL 53.609375 8.296875 \nL 53.609375 0 \nL 7.328125 0 \nL 7.328125 8.296875 \nQ 12.9375 14.109375 22.625 23.890625 \nQ 32.328125 33.6875 34.8125 36.53125 \nQ 39.546875 41.84375 41.421875 45.53125 \nQ 43.3125 49.21875 43.3125 52.78125 \nQ 43.3125 58.59375 39.234375 62.25 \nQ 35.15625 65.921875 28.609375 65.921875 \nQ 23.96875 65.921875 18.8125 64.3125 \nQ 13.671875 62.703125 7.8125 59.421875 \nL 7.8125 69.390625 \nQ 13.765625 71.78125 18.9375 73 \nQ 24.125 74.21875 28.421875 74.21875 \nQ 39.75 74.21875 46.484375 68.546875 \nQ 53.21875 62.890625 53.21875 53.421875 \nQ 53.21875 48.921875 51.53125 44.890625 \nQ 49.859375 40.875 45.40625 35.40625 \nQ 44.1875 33.984375 37.640625 27.21875 \nQ 31.109375 20.453125 19.1875 8.296875 \nz\n\" id=\"DejaVuSans-50\"/>\n      </defs>\n      <g transform=\"translate(431.633571 240.758125)scale(0.12 -0.12)\">\n       <use xlink:href=\"#DejaVuSans-51\"/>\n       <use x=\"63.623047\" xlink:href=\"#DejaVuSans-54\"/>\n       <use x=\"127.246094\" xlink:href=\"#DejaVuSans-50\"/>\n       <use x=\"190.869141\" xlink:href=\"#DejaVuSans-48\"/>\n      </g>\n     </g>\n    </g>\n    <g id=\"xtick_6\">\n     <g id=\"line2d_6\">\n      <g>\n       <use style=\"stroke:#000000;stroke-width:0.8;\" x=\"542.560714\" xlink:href=\"#mfc02bb077f\" y=\"224.64\"/>\n      </g>\n     </g>\n     <g id=\"text_6\">\n      <!-- 3630 -->\n      <g transform=\"translate(527.290714 240.758125)scale(0.12 -0.12)\">\n       <use xlink:href=\"#DejaVuSans-51\"/>\n       <use x=\"63.623047\" xlink:href=\"#DejaVuSans-54\"/>\n       <use x=\"127.246094\" xlink:href=\"#DejaVuSans-51\"/>\n       <use x=\"190.869141\" xlink:href=\"#DejaVuSans-48\"/>\n      </g>\n     </g>\n    </g>\n    <g id=\"xtick_7\">\n     <g id=\"line2d_7\">\n      <g>\n       <use style=\"stroke:#000000;stroke-width:0.8;\" x=\"638.217857\" xlink:href=\"#mfc02bb077f\" y=\"224.64\"/>\n      </g>\n     </g>\n     <g id=\"text_7\">\n      <!-- 3640 -->\n      <defs>\n       <path d=\"M 37.796875 64.3125 \nL 12.890625 25.390625 \nL 37.796875 25.390625 \nz\nM 35.203125 72.90625 \nL 47.609375 72.90625 \nL 47.609375 25.390625 \nL 58.015625 25.390625 \nL 58.015625 17.1875 \nL 47.609375 17.1875 \nL 47.609375 0 \nL 37.796875 0 \nL 37.796875 17.1875 \nL 4.890625 17.1875 \nL 4.890625 26.703125 \nz\n\" id=\"DejaVuSans-52\"/>\n      </defs>\n      <g transform=\"translate(622.947857 240.758125)scale(0.12 -0.12)\">\n       <use xlink:href=\"#DejaVuSans-51\"/>\n       <use x=\"63.623047\" xlink:href=\"#DejaVuSans-54\"/>\n       <use x=\"127.246094\" xlink:href=\"#DejaVuSans-52\"/>\n       <use x=\"190.869141\" xlink:href=\"#DejaVuSans-48\"/>\n      </g>\n     </g>\n    </g>\n    <g id=\"xtick_8\">\n     <g id=\"line2d_8\">\n      <g>\n       <use style=\"stroke:#000000;stroke-width:0.8;\" x=\"733.875\" xlink:href=\"#mfc02bb077f\" y=\"224.64\"/>\n      </g>\n     </g>\n     <g id=\"text_8\">\n      <!-- 3650 -->\n      <g transform=\"translate(718.605 240.758125)scale(0.12 -0.12)\">\n       <use xlink:href=\"#DejaVuSans-51\"/>\n       <use x=\"63.623047\" xlink:href=\"#DejaVuSans-54\"/>\n       <use x=\"127.246094\" xlink:href=\"#DejaVuSans-53\"/>\n       <use x=\"190.869141\" xlink:href=\"#DejaVuSans-48\"/>\n      </g>\n     </g>\n    </g>\n   </g>\n   <g id=\"matplotlib.axis_2\">\n    <g id=\"ytick_1\">\n     <g id=\"line2d_9\">\n      <defs>\n       <path d=\"M 0 0 \nL -3.5 0 \n\" id=\"md40d939cf3\" style=\"stroke:#000000;stroke-width:0.8;\"/>\n      </defs>\n      <g>\n       <use style=\"stroke:#000000;stroke-width:0.8;\" x=\"64.275\" xlink:href=\"#md40d939cf3\" y=\"214.756364\"/>\n      </g>\n     </g>\n     <g id=\"text_9\">\n      <!-- 0.00 -->\n      <defs>\n       <path d=\"M 10.6875 12.40625 \nL 21 12.40625 \nL 21 0 \nL 10.6875 0 \nz\n\" id=\"DejaVuSans-46\"/>\n      </defs>\n      <g transform=\"translate(30.55625 219.315426)scale(0.12 -0.12)\">\n       <use xlink:href=\"#DejaVuSans-48\"/>\n       <use x=\"63.623047\" xlink:href=\"#DejaVuSans-46\"/>\n       <use x=\"95.410156\" xlink:href=\"#DejaVuSans-48\"/>\n       <use x=\"159.033203\" xlink:href=\"#DejaVuSans-48\"/>\n      </g>\n     </g>\n    </g>\n    <g id=\"ytick_2\">\n     <g id=\"line2d_10\">\n      <g>\n       <use style=\"stroke:#000000;stroke-width:0.8;\" x=\"64.275\" xlink:href=\"#md40d939cf3\" y=\"175.113387\"/>\n      </g>\n     </g>\n     <g id=\"text_10\">\n      <!-- 0.01 -->\n      <g transform=\"translate(30.55625 179.67245)scale(0.12 -0.12)\">\n       <use xlink:href=\"#DejaVuSans-48\"/>\n       <use x=\"63.623047\" xlink:href=\"#DejaVuSans-46\"/>\n       <use x=\"95.410156\" xlink:href=\"#DejaVuSans-48\"/>\n       <use x=\"159.033203\" xlink:href=\"#DejaVuSans-49\"/>\n      </g>\n     </g>\n    </g>\n    <g id=\"ytick_3\">\n     <g id=\"line2d_11\">\n      <g>\n       <use style=\"stroke:#000000;stroke-width:0.8;\" x=\"64.275\" xlink:href=\"#md40d939cf3\" y=\"135.470411\"/>\n      </g>\n     </g>\n     <g id=\"text_11\">\n      <!-- 0.02 -->\n      <g transform=\"translate(30.55625 140.029474)scale(0.12 -0.12)\">\n       <use xlink:href=\"#DejaVuSans-48\"/>\n       <use x=\"63.623047\" xlink:href=\"#DejaVuSans-46\"/>\n       <use x=\"95.410156\" xlink:href=\"#DejaVuSans-48\"/>\n       <use x=\"159.033203\" xlink:href=\"#DejaVuSans-50\"/>\n      </g>\n     </g>\n    </g>\n    <g id=\"ytick_4\">\n     <g id=\"line2d_12\">\n      <g>\n       <use style=\"stroke:#000000;stroke-width:0.8;\" x=\"64.275\" xlink:href=\"#md40d939cf3\" y=\"95.827435\"/>\n      </g>\n     </g>\n     <g id=\"text_12\">\n      <!-- 0.03 -->\n      <g transform=\"translate(30.55625 100.386498)scale(0.12 -0.12)\">\n       <use xlink:href=\"#DejaVuSans-48\"/>\n       <use x=\"63.623047\" xlink:href=\"#DejaVuSans-46\"/>\n       <use x=\"95.410156\" xlink:href=\"#DejaVuSans-48\"/>\n       <use x=\"159.033203\" xlink:href=\"#DejaVuSans-51\"/>\n      </g>\n     </g>\n    </g>\n    <g id=\"ytick_5\">\n     <g id=\"line2d_13\">\n      <g>\n       <use style=\"stroke:#000000;stroke-width:0.8;\" x=\"64.275\" xlink:href=\"#md40d939cf3\" y=\"56.184459\"/>\n      </g>\n     </g>\n     <g id=\"text_13\">\n      <!-- 0.04 -->\n      <g transform=\"translate(30.55625 60.743522)scale(0.12 -0.12)\">\n       <use xlink:href=\"#DejaVuSans-48\"/>\n       <use x=\"63.623047\" xlink:href=\"#DejaVuSans-46\"/>\n       <use x=\"95.410156\" xlink:href=\"#DejaVuSans-48\"/>\n       <use x=\"159.033203\" xlink:href=\"#DejaVuSans-52\"/>\n      </g>\n     </g>\n    </g>\n    <g id=\"ytick_6\">\n     <g id=\"line2d_14\">\n      <g>\n       <use style=\"stroke:#000000;stroke-width:0.8;\" x=\"64.275\" xlink:href=\"#md40d939cf3\" y=\"16.541483\"/>\n      </g>\n     </g>\n     <g id=\"text_14\">\n      <!-- 0.05 -->\n      <g transform=\"translate(30.55625 21.100545)scale(0.12 -0.12)\">\n       <use xlink:href=\"#DejaVuSans-48\"/>\n       <use x=\"63.623047\" xlink:href=\"#DejaVuSans-46\"/>\n       <use x=\"95.410156\" xlink:href=\"#DejaVuSans-48\"/>\n       <use x=\"159.033203\" xlink:href=\"#DejaVuSans-53\"/>\n      </g>\n     </g>\n    </g>\n    <g id=\"text_15\">\n     <!-- P(x) -->\n     <defs>\n      <path d=\"M 19.671875 64.796875 \nL 19.671875 37.40625 \nL 32.078125 37.40625 \nQ 38.96875 37.40625 42.71875 40.96875 \nQ 46.484375 44.53125 46.484375 51.125 \nQ 46.484375 57.671875 42.71875 61.234375 \nQ 38.96875 64.796875 32.078125 64.796875 \nz\nM 9.8125 72.90625 \nL 32.078125 72.90625 \nQ 44.34375 72.90625 50.609375 67.359375 \nQ 56.890625 61.8125 56.890625 51.125 \nQ 56.890625 40.328125 50.609375 34.8125 \nQ 44.34375 29.296875 32.078125 29.296875 \nL 19.671875 29.296875 \nL 19.671875 0 \nL 9.8125 0 \nz\n\" id=\"DejaVuSans-80\"/>\n      <path d=\"M 31 75.875 \nQ 24.46875 64.65625 21.28125 53.65625 \nQ 18.109375 42.671875 18.109375 31.390625 \nQ 18.109375 20.125 21.3125 9.0625 \nQ 24.515625 -2 31 -13.1875 \nL 23.1875 -13.1875 \nQ 15.875 -1.703125 12.234375 9.375 \nQ 8.59375 20.453125 8.59375 31.390625 \nQ 8.59375 42.28125 12.203125 53.3125 \nQ 15.828125 64.359375 23.1875 75.875 \nz\n\" id=\"DejaVuSans-40\"/>\n      <path d=\"M 54.890625 54.6875 \nL 35.109375 28.078125 \nL 55.90625 0 \nL 45.3125 0 \nL 29.390625 21.484375 \nL 13.484375 0 \nL 2.875 0 \nL 24.125 28.609375 \nL 4.6875 54.6875 \nL 15.28125 54.6875 \nL 29.78125 35.203125 \nL 44.28125 54.6875 \nz\n\" id=\"DejaVuSans-120\"/>\n      <path d=\"M 8.015625 75.875 \nL 15.828125 75.875 \nQ 23.140625 64.359375 26.78125 53.3125 \nQ 30.421875 42.28125 30.421875 31.390625 \nQ 30.421875 20.453125 26.78125 9.375 \nQ 23.140625 -1.703125 15.828125 -13.1875 \nL 8.015625 -13.1875 \nQ 14.5 -2 17.703125 9.0625 \nQ 20.90625 20.125 20.90625 31.390625 \nQ 20.90625 42.671875 17.703125 53.65625 \nQ 14.5 64.65625 8.015625 75.875 \nz\n\" id=\"DejaVuSans-41\"/>\n     </defs>\n     <g transform=\"translate(22.396875 135.671562)rotate(-90)scale(0.2 -0.2)\">\n      <use xlink:href=\"#DejaVuSans-80\"/>\n      <use x=\"60.302734\" xlink:href=\"#DejaVuSans-40\"/>\n      <use x=\"99.316406\" xlink:href=\"#DejaVuSans-120\"/>\n      <use x=\"158.496094\" xlink:href=\"#DejaVuSans-41\"/>\n     </g>\n    </g>\n   </g>\n   <g id=\"line2d_15\">\n    <defs>\n     <path d=\"M 0 3 \nC 0.795609 3 1.55874 2.683901 2.12132 2.12132 \nC 2.683901 1.55874 3 0.795609 3 0 \nC 3 -0.795609 2.683901 -1.55874 2.12132 -2.12132 \nC 1.55874 -2.683901 0.795609 -3 0 -3 \nC -0.795609 -3 -1.55874 -2.683901 -2.12132 -2.12132 \nC -2.683901 -1.55874 -3 -0.795609 -3 0 \nC -3 0.795609 -2.683901 1.55874 -2.12132 2.12132 \nC -1.55874 2.683901 -0.795609 3 0 3 \nz\n\" id=\"m29ceee92db\" style=\"stroke:#000000;\"/>\n    </defs>\n    <g clip-path=\"url(#p76a2b49425)\">\n     <use style=\"stroke:#000000;\" x=\"-1\" xlink:href=\"#m29ceee92db\" y=\"210.792066\"/>\n     <use style=\"stroke:#000000;\" x=\"255.589286\" xlink:href=\"#m29ceee92db\" y=\"210.792066\"/>\n     <use style=\"stroke:#000000;\" x=\"-1\" xlink:href=\"#m29ceee92db\" y=\"210.792066\"/>\n     <use style=\"stroke:#000000;\" x=\"-1\" xlink:href=\"#m29ceee92db\" y=\"210.792066\"/>\n     <use style=\"stroke:#000000;\" x=\"523.429286\" xlink:href=\"#m29ceee92db\" y=\"210.792066\"/>\n     <use style=\"stroke:#000000;\" x=\"-1\" xlink:href=\"#m29ceee92db\" y=\"210.792066\"/>\n     <use style=\"stroke:#000000;\" x=\"-1\" xlink:href=\"#m29ceee92db\" y=\"210.792066\"/>\n     <use style=\"stroke:#000000;\" x=\"1135.635\" xlink:href=\"#m29ceee92db\" y=\"210.792066\"/>\n     <use style=\"stroke:#000000;\" x=\"-1\" xlink:href=\"#m29ceee92db\" y=\"210.792066\"/>\n     <use style=\"stroke:#000000;\" x=\"-1\" xlink:href=\"#m29ceee92db\" y=\"210.792066\"/>\n     <use style=\"stroke:#000000;\" x=\"54457.84\" xlink:href=\"#m29ceee92db\" y=\"210.792066\"/>\n     <use style=\"stroke:#000000;\" x=\"54457.84\" xlink:href=\"#m29ceee92db\" y=\"210.792066\"/>\n     <use style=\"stroke:#000000;\" x=\"39857.646429\" xlink:href=\"#m29ceee92db\" y=\"210.792066\"/>\n     <use style=\"stroke:#000000;\" x=\"34883.475\" xlink:href=\"#m29ceee92db\" y=\"210.792066\"/>\n     <use style=\"stroke:#000000;\" x=\"47127.589286\" xlink:href=\"#m29ceee92db\" y=\"210.792066\"/>\n     <use style=\"stroke:#000000;\" x=\"54457.84\" xlink:href=\"#m29ceee92db\" y=\"210.792066\"/>\n     <use style=\"stroke:#000000;\" x=\"54457.84\" xlink:href=\"#m29ceee92db\" y=\"210.792066\"/>\n     <use style=\"stroke:#000000;\" x=\"47797.189286\" xlink:href=\"#m29ceee92db\" y=\"210.792066\"/>\n     <use style=\"stroke:#000000;\" x=\"39475.017857\" xlink:href=\"#m29ceee92db\" y=\"210.792066\"/>\n     <use style=\"stroke:#000000;\" x=\"54457.84\" xlink:href=\"#m29ceee92db\" y=\"210.792066\"/>\n     <use style=\"stroke:#000000;\" x=\"54457.84\" xlink:href=\"#m29ceee92db\" y=\"210.792066\"/>\n     <use style=\"stroke:#000000;\" x=\"34979.132143\" xlink:href=\"#m29ceee92db\" y=\"210.792066\"/>\n     <use style=\"stroke:#000000;\" x=\"54457.84\" xlink:href=\"#m29ceee92db\" y=\"210.792066\"/>\n     <use style=\"stroke:#000000;\" x=\"54457.84\" xlink:href=\"#m29ceee92db\" y=\"210.792066\"/>\n     <use style=\"stroke:#000000;\" x=\"21300.160714\" xlink:href=\"#m29ceee92db\" y=\"210.792066\"/>\n     <use style=\"stroke:#000000;\" x=\"42842.149286\" xlink:href=\"#m29ceee92db\" y=\"210.792066\"/>\n     <use style=\"stroke:#000000;\" x=\"30454.549286\" xlink:href=\"#m29ceee92db\" y=\"210.792066\"/>\n     <use style=\"stroke:#000000;\" x=\"26848.275\" xlink:href=\"#m29ceee92db\" y=\"210.792066\"/>\n     <use style=\"stroke:#000000;\" x=\"22601.097857\" xlink:href=\"#m29ceee92db\" y=\"210.792066\"/>\n     <use style=\"stroke:#000000;\" x=\"19262.663571\" xlink:href=\"#m29ceee92db\" y=\"210.792066\"/>\n     <use style=\"stroke:#000000;\" x=\"2417.440714\" xlink:href=\"#m29ceee92db\" y=\"210.792066\"/>\n     <use style=\"stroke:#000000;\" x=\"-1\" xlink:href=\"#m29ceee92db\" y=\"210.792066\"/>\n     <use style=\"stroke:#000000;\" x=\"-1\" xlink:href=\"#m29ceee92db\" y=\"210.792066\"/>\n     <use style=\"stroke:#000000;\" x=\"255.589286\" xlink:href=\"#m29ceee92db\" y=\"210.792066\"/>\n     <use style=\"stroke:#000000;\" x=\"16.446429\" xlink:href=\"#m29ceee92db\" y=\"210.792066\"/>\n     <use style=\"stroke:#000000;\" x=\"6.880714\" xlink:href=\"#m29ceee92db\" y=\"210.792066\"/>\n     <use style=\"stroke:#000000;\" x=\"494.732143\" xlink:href=\"#m29ceee92db\" y=\"210.792066\"/>\n     <use style=\"stroke:#000000;\" x=\"54457.84\" xlink:href=\"#m29ceee92db\" y=\"210.792066\"/>\n     <use style=\"stroke:#000000;\" x=\"54457.84\" xlink:href=\"#m29ceee92db\" y=\"210.792066\"/>\n     <use style=\"stroke:#000000;\" x=\"-1\" xlink:href=\"#m29ceee92db\" y=\"210.792066\"/>\n     <use style=\"stroke:#000000;\" x=\"-1\" xlink:href=\"#m29ceee92db\" y=\"210.792066\"/>\n     <use style=\"stroke:#000000;\" x=\"1690.446429\" xlink:href=\"#m29ceee92db\" y=\"210.792066\"/>\n     <use style=\"stroke:#000000;\" x=\"2493.966429\" xlink:href=\"#m29ceee92db\" y=\"210.792066\"/>\n     <use style=\"stroke:#000000;\" x=\"1680.880714\" xlink:href=\"#m29ceee92db\" y=\"210.792066\"/>\n     <use style=\"stroke:#000000;\" x=\"733.875\" xlink:href=\"#m29ceee92db\" y=\"210.792066\"/>\n     <use style=\"stroke:#000000;\" x=\"-1\" xlink:href=\"#m29ceee92db\" y=\"210.792066\"/>\n     <use style=\"stroke:#000000;\" x=\"-1\" xlink:href=\"#m29ceee92db\" y=\"210.792066\"/>\n     <use style=\"stroke:#000000;\" x=\"829.532143\" xlink:href=\"#m29ceee92db\" y=\"210.792066\"/>\n     <use style=\"stroke:#000000;\" x=\"-1\" xlink:href=\"#m29ceee92db\" y=\"210.792066\"/>\n     <use style=\"stroke:#000000;\" x=\"-1\" xlink:href=\"#m29ceee92db\" y=\"210.792066\"/>\n     <use style=\"stroke:#000000;\" x=\"1709.577857\" xlink:href=\"#m29ceee92db\" y=\"210.792066\"/>\n     <use style=\"stroke:#000000;\" x=\"-1\" xlink:href=\"#m29ceee92db\" y=\"210.792066\"/>\n     <use style=\"stroke:#000000;\" x=\"-1\" xlink:href=\"#m29ceee92db\" y=\"210.792066\"/>\n     <use style=\"stroke:#000000;\" x=\"322.549286\" xlink:href=\"#m29ceee92db\" y=\"210.792066\"/>\n     <use style=\"stroke:#000000;\" x=\"-1\" xlink:href=\"#m29ceee92db\" y=\"210.792066\"/>\n     <use style=\"stroke:#000000;\" x=\"-1\" xlink:href=\"#m29ceee92db\" y=\"210.792066\"/>\n     <use style=\"stroke:#000000;\" x=\"33735.589286\" xlink:href=\"#m29ceee92db\" y=\"210.792066\"/>\n     <use style=\"stroke:#000000;\" x=\"54457.84\" xlink:href=\"#m29ceee92db\" y=\"210.792066\"/>\n     <use style=\"stroke:#000000;\" x=\"54457.84\" xlink:href=\"#m29ceee92db\" y=\"210.792066\"/>\n     <use style=\"stroke:#000000;\" x=\"51240.846429\" xlink:href=\"#m29ceee92db\" y=\"210.792066\"/>\n     <use style=\"stroke:#000000;\" x=\"54457.84\" xlink:href=\"#m29ceee92db\" y=\"210.792066\"/>\n     <use style=\"stroke:#000000;\" x=\"54457.84\" xlink:href=\"#m29ceee92db\" y=\"210.792066\"/>\n     <use style=\"stroke:#000000;\" x=\"16517.303571\" xlink:href=\"#m29ceee92db\" y=\"210.792066\"/>\n     <use style=\"stroke:#000000;\" x=\"9113.440714\" xlink:href=\"#m29ceee92db\" y=\"210.792066\"/>\n     <use style=\"stroke:#000000;\" x=\"4818.435\" xlink:href=\"#m29ceee92db\" y=\"210.792066\"/>\n     <use style=\"stroke:#000000;\" x=\"13456.275\" xlink:href=\"#m29ceee92db\" y=\"210.792066\"/>\n     <use style=\"stroke:#000000;\" x=\"52197.417857\" xlink:href=\"#m29ceee92db\" y=\"210.792066\"/>\n     <use style=\"stroke:#000000;\" x=\"54457.84\" xlink:href=\"#m29ceee92db\" y=\"210.792066\"/>\n     <use style=\"stroke:#000000;\" x=\"54457.84\" xlink:href=\"#m29ceee92db\" y=\"210.792066\"/>\n     <use style=\"stroke:#000000;\" x=\"14718.949286\" xlink:href=\"#m29ceee92db\" y=\"210.792066\"/>\n     <use style=\"stroke:#000000;\" x=\"39666.332143\" xlink:href=\"#m29ceee92db\" y=\"210.792066\"/>\n     <use style=\"stroke:#000000;\" x=\"54457.84\" xlink:href=\"#m29ceee92db\" y=\"210.792066\"/>\n     <use style=\"stroke:#000000;\" x=\"54457.84\" xlink:href=\"#m29ceee92db\" y=\"210.792066\"/>\n     <use style=\"stroke:#000000;\" x=\"-1\" xlink:href=\"#m29ceee92db\" y=\"210.792066\"/>\n     <use style=\"stroke:#000000;\" x=\"-1\" xlink:href=\"#m29ceee92db\" y=\"210.792066\"/>\n     <use style=\"stroke:#000000;\" x=\"303.417857\" xlink:href=\"#m29ceee92db\" y=\"210.792066\"/>\n     <use style=\"stroke:#000000;\" x=\"399.075\" xlink:href=\"#m29ceee92db\" y=\"210.792066\"/>\n     <use style=\"stroke:#000000;\" x=\"-1\" xlink:href=\"#m29ceee92db\" y=\"210.792066\"/>\n     <use style=\"stroke:#000000;\" x=\"-1\" xlink:href=\"#m29ceee92db\" y=\"210.792066\"/>\n     <use style=\"stroke:#000000;\" x=\"351.246429\" xlink:href=\"#m29ceee92db\" y=\"210.792066\"/>\n     <use style=\"stroke:#000000;\" x=\"-1\" xlink:href=\"#m29ceee92db\" y=\"210.792066\"/>\n     <use style=\"stroke:#000000;\" x=\"-1\" xlink:href=\"#m29ceee92db\" y=\"210.792066\"/>\n     <use style=\"stroke:#000000;\" x=\"4225.360714\" xlink:href=\"#m29ceee92db\" y=\"210.792066\"/>\n     <use style=\"stroke:#000000;\" x=\"494.732143\" xlink:href=\"#m29ceee92db\" y=\"210.792066\"/>\n     <use style=\"stroke:#000000;\" x=\"31344.160714\" xlink:href=\"#m29ceee92db\" y=\"210.792066\"/>\n     <use style=\"stroke:#000000;\" x=\"1977.417857\" xlink:href=\"#m29ceee92db\" y=\"210.792066\"/>\n     <use style=\"stroke:#000000;\" x=\"-1\" xlink:href=\"#m29ceee92db\" y=\"210.792066\"/>\n     <use style=\"stroke:#000000;\" x=\"-1\" xlink:href=\"#m29ceee92db\" y=\"210.792066\"/>\n     <use style=\"stroke:#000000;\" x=\"322.549286\" xlink:href=\"#m29ceee92db\" y=\"210.792066\"/>\n     <use style=\"stroke:#000000;\" x=\"-1\" xlink:href=\"#m29ceee92db\" y=\"210.792066\"/>\n     <use style=\"stroke:#000000;\" x=\"-1\" xlink:href=\"#m29ceee92db\" y=\"210.792066\"/>\n     <use style=\"stroke:#000000;\" x=\"236.457857\" xlink:href=\"#m29ceee92db\" y=\"210.792066\"/>\n     <use style=\"stroke:#000000;\" x=\"-1\" xlink:href=\"#m29ceee92db\" y=\"210.792066\"/>\n     <use style=\"stroke:#000000;\" x=\"-1\" xlink:href=\"#m29ceee92db\" y=\"210.792066\"/>\n     <use style=\"stroke:#000000;\" x=\"54457.84\" xlink:href=\"#m29ceee92db\" y=\"210.792066\"/>\n     <use style=\"stroke:#000000;\" x=\"54457.84\" xlink:href=\"#m29ceee92db\" y=\"210.792066\"/>\n     <use style=\"stroke:#000000;\" x=\"51183.452143\" xlink:href=\"#m29ceee92db\" y=\"210.792066\"/>\n     <use style=\"stroke:#000000;\" x=\"54457.84\" xlink:href=\"#m29ceee92db\" y=\"210.792066\"/>\n     <use style=\"stroke:#000000;\" x=\"54457.84\" xlink:href=\"#m29ceee92db\" y=\"210.792066\"/>\n     <use style=\"stroke:#000000;\" x=\"39695.029286\" xlink:href=\"#m29ceee92db\" y=\"210.792066\"/>\n     <use style=\"stroke:#000000;\" x=\"54457.84\" xlink:href=\"#m29ceee92db\" y=\"210.792066\"/>\n     <use style=\"stroke:#000000;\" x=\"54457.84\" xlink:href=\"#m29ceee92db\" y=\"210.792066\"/>\n     <use style=\"stroke:#000000;\" x=\"51384.332143\" xlink:href=\"#m29ceee92db\" y=\"210.792066\"/>\n     <use style=\"stroke:#000000;\" x=\"54457.84\" xlink:href=\"#m29ceee92db\" y=\"210.792066\"/>\n     <use style=\"stroke:#000000;\" x=\"54457.84\" xlink:href=\"#m29ceee92db\" y=\"210.792066\"/>\n     <use style=\"stroke:#000000;\" x=\"20841.006429\" xlink:href=\"#m29ceee92db\" y=\"210.792066\"/>\n     <use style=\"stroke:#000000;\" x=\"51212.149286\" xlink:href=\"#m29ceee92db\" y=\"210.792066\"/>\n     <use style=\"stroke:#000000;\" x=\"35476.549286\" xlink:href=\"#m29ceee92db\" y=\"210.792066\"/>\n     <use style=\"stroke:#000000;\" x=\"54457.84\" xlink:href=\"#m29ceee92db\" y=\"210.792066\"/>\n     <use style=\"stroke:#000000;\" x=\"54457.84\" xlink:href=\"#m29ceee92db\" y=\"210.792066\"/>\n     <use style=\"stroke:#000000;\" x=\"-1\" xlink:href=\"#m29ceee92db\" y=\"210.792066\"/>\n     <use style=\"stroke:#000000;\" x=\"-1\" xlink:href=\"#m29ceee92db\" y=\"210.792066\"/>\n     <use style=\"stroke:#000000;\" x=\"6827.235\" xlink:href=\"#m29ceee92db\" y=\"210.792066\"/>\n     <use style=\"stroke:#000000;\" x=\"54457.84\" xlink:href=\"#m29ceee92db\" y=\"210.792066\"/>\n     <use style=\"stroke:#000000;\" x=\"54457.84\" xlink:href=\"#m29ceee92db\" y=\"210.792066\"/>\n     <use style=\"stroke:#000000;\" x=\"255.589286\" xlink:href=\"#m29ceee92db\" y=\"210.792066\"/>\n     <use style=\"stroke:#000000;\" x=\"389.509286\" xlink:href=\"#m29ceee92db\" y=\"210.792066\"/>\n     <use style=\"stroke:#000000;\" x=\"54457.84\" xlink:href=\"#m29ceee92db\" y=\"210.792066\"/>\n     <use style=\"stroke:#000000;\" x=\"54457.84\" xlink:href=\"#m29ceee92db\" y=\"210.792066\"/>\n     <use style=\"stroke:#000000;\" x=\"-1\" xlink:href=\"#m29ceee92db\" y=\"210.792066\"/>\n     <use style=\"stroke:#000000;\" x=\"-1\" xlink:href=\"#m29ceee92db\" y=\"210.792066\"/>\n     <use style=\"stroke:#000000;\" x=\"236.457857\" xlink:href=\"#m29ceee92db\" y=\"210.792066\"/>\n     <use style=\"stroke:#000000;\" x=\"-1\" xlink:href=\"#m29ceee92db\" y=\"210.792066\"/>\n     <use style=\"stroke:#000000;\" x=\"-1\" xlink:href=\"#m29ceee92db\" y=\"210.792066\"/>\n     <use style=\"stroke:#000000;\" x=\"54457.84\" xlink:href=\"#m29ceee92db\" y=\"210.792066\"/>\n     <use style=\"stroke:#000000;\" x=\"54457.84\" xlink:href=\"#m29ceee92db\" y=\"210.792066\"/>\n     <use style=\"stroke:#000000;\" x=\"44736.160714\" xlink:href=\"#m29ceee92db\" y=\"210.792066\"/>\n     <use style=\"stroke:#000000;\" x=\"54457.84\" xlink:href=\"#m29ceee92db\" y=\"210.792066\"/>\n     <use style=\"stroke:#000000;\" x=\"54457.84\" xlink:href=\"#m29ceee92db\" y=\"210.792066\"/>\n     <use style=\"stroke:#000000;\" x=\"50274.709286\" xlink:href=\"#m29ceee92db\" y=\"210.792066\"/>\n     <use style=\"stroke:#000000;\" x=\"54158.389286\" xlink:href=\"#m29ceee92db\" y=\"210.792066\"/>\n     <use style=\"stroke:#000000;\" x=\"54457.84\" xlink:href=\"#m29ceee92db\" y=\"210.792066\"/>\n    </g>\n   </g>\n   <g id=\"line2d_16\">\n    <path clip-path=\"url(#p76a2b49425)\" d=\"M 62.611697 214.756364 \nL 230.090471 214.756364 \nL 233.731314 212.488014 \nL 237.372157 131.289239 \nL 241.013 214.754794 \nL 248.294686 214.756364 \nL 251.935529 214.622122 \nL 255.576372 17.083636 \nL 259.217215 214.607593 \nL 262.858058 214.756364 \nL 299.266487 214.751005 \nL 302.90733 157.606848 \nL 306.548173 214.444851 \nL 310.189016 214.756364 \nL 317.470702 214.756264 \nL 321.111544 172.162436 \nL 324.752387 205.465319 \nL 328.39323 214.756363 \nL 346.597445 214.755874 \nL 350.238288 176.94053 \nL 353.879131 213.263474 \nL 357.519974 214.756364 \nL 383.005874 214.756364 \nL 386.646717 214.007745 \nL 390.28756 167.42787 \nL 393.928403 214.7548 \nL 397.569246 195.666234 \nL 401.210089 209.298105 \nL 404.850932 214.756363 \nL 488.590319 214.756363 \nL 492.231162 210.435889 \nL 495.872005 149.958715 \nL 499.512848 214.755867 \nL 517.717062 214.756362 \nL 521.357905 208.437331 \nL 524.998748 197.604335 \nL 528.639591 214.75634 \nL 728.885952 214.756282 \nL 732.526795 190.349423 \nL 736.167638 211.028077 \nL 736.167638 211.028077 \n\" style=\"fill:none;stroke:#ff0000;stroke-linecap:square;stroke-width:2;\"/>\n   </g>\n   <g id=\"line2d_17\">\n    <path clip-path=\"url(#p76a2b49425)\" d=\"M 62.611697 214.756364 \nL 219.167943 214.718061 \nL 222.808786 214.307097 \nL 226.449628 211.804375 \nL 230.090471 203.890432 \nL 233.731314 192.349555 \nL 237.372157 188.84686 \nL 241.013 197.628042 \nL 244.653843 205.788677 \nL 248.294686 201.166533 \nL 251.935529 185.084141 \nL 255.576372 175.209421 \nL 259.217215 185.102433 \nL 262.858058 202.297422 \nL 266.498901 211.823953 \nL 270.139744 214.369722 \nL 273.780586 214.727805 \nL 284.703115 214.750123 \nL 288.343958 214.664532 \nL 291.984801 213.999377 \nL 295.625644 211.260731 \nL 299.266487 205.713375 \nL 302.90733 201.646111 \nL 306.548173 204.020047 \nL 310.189016 208.983464 \nL 313.829859 208.520813 \nL 317.470702 199.580323 \nL 321.111544 189.547949 \nL 324.752387 191.050082 \nL 328.39323 202.261066 \nL 332.034073 211.062706 \nL 335.674916 214.080266 \nL 339.315759 214.11269 \nL 342.956602 211.81875 \nL 346.597445 206.538891 \nL 350.238288 201.866526 \nL 353.879131 203.429711 \nL 357.519974 209.180705 \nL 361.160817 213.218806 \nL 364.80166 214.518819 \nL 368.442502 214.735001 \nL 372.083345 214.738092 \nL 375.724188 214.549211 \nL 379.365031 213.363503 \nL 383.005874 209.480743 \nL 386.646717 203.287687 \nL 390.28756 199.313096 \nL 393.928403 198.769009 \nL 397.569246 199.028263 \nL 401.210089 202.165716 \nL 404.850932 208.323081 \nL 408.491775 212.854025 \nL 412.132618 214.438921 \nL 415.77346 214.726641 \nL 433.977675 214.756364 \nL 477.66779 214.710991 \nL 481.308633 214.242947 \nL 484.949476 211.501823 \nL 488.590319 203.199237 \nL 492.231162 191.765752 \nL 495.872005 189.135625 \nL 499.512848 198.761721 \nL 503.153691 209.161064 \nL 506.794534 213.629366 \nL 510.435376 214.307113 \nL 514.076219 212.801392 \nL 517.717062 208.297182 \nL 521.357905 202.756766 \nL 524.998748 202.267783 \nL 528.639591 207.475211 \nL 532.280434 212.378277 \nL 535.921277 214.321257 \nL 539.56212 214.711767 \nL 550.484649 214.756362 \nL 717.963423 214.704291 \nL 721.604266 214.265903 \nL 725.245109 212.168492 \nL 732.526795 202.090319 \nL 736.167638 203.007365 \nL 736.167638 203.007365 \n\" style=\"fill:none;stroke:#0000ff;stroke-linecap:square;stroke-width:2;\"/>\n   </g>\n   <g id=\"line2d_18\">\n    <path clip-path=\"url(#p76a2b49425)\" d=\"M 62.611697 214.756306 \nL 204.604571 214.704821 \nL 208.245414 214.586041 \nL 211.886257 214.269273 \nL 215.5271 213.550365 \nL 219.167943 212.169111 \nL 222.808786 209.938651 \nL 226.449628 206.941243 \nL 230.090471 203.629714 \nL 233.731314 200.648913 \nL 237.372157 198.412755 \nL 241.013 196.798478 \nL 248.294686 193.846065 \nL 251.935529 192.818514 \nL 255.576372 193.198827 \nL 259.217215 195.58161 \nL 262.858058 199.651576 \nL 266.498901 204.340767 \nL 270.139744 208.497378 \nL 273.780586 211.454665 \nL 277.421429 213.129013 \nL 281.062272 213.755305 \nL 284.703115 213.586462 \nL 288.343958 212.774207 \nL 291.984801 211.436189 \nL 299.266487 208.076837 \nL 302.90733 206.57516 \nL 310.189016 203.907124 \nL 313.829859 202.410055 \nL 317.470702 201.056709 \nL 321.111544 200.487872 \nL 324.752387 201.231753 \nL 328.39323 203.22282 \nL 332.034073 205.743131 \nL 335.674916 207.841319 \nL 339.315759 208.886709 \nL 342.956602 208.874425 \nL 346.597445 208.341091 \nL 350.238288 208.001927 \nL 353.879131 208.343346 \nL 357.519974 209.400223 \nL 361.160817 210.817152 \nL 364.80166 212.095898 \nL 368.442502 212.824614 \nL 372.083345 212.76503 \nL 375.724188 211.839082 \nL 379.365031 210.12458 \nL 386.646717 205.614828 \nL 390.28756 203.86555 \nL 393.928403 203.131591 \nL 397.569246 203.627136 \nL 401.210089 205.210151 \nL 408.491775 209.777372 \nL 412.132618 211.758682 \nL 415.77346 213.168375 \nL 419.414303 214.019357 \nL 423.055146 214.457709 \nL 426.695989 214.650973 \nL 433.977675 214.747759 \nL 463.104418 214.700641 \nL 466.745261 214.573927 \nL 470.386104 214.239616 \nL 474.026947 213.490082 \nL 477.66779 212.071805 \nL 481.308633 209.832374 \nL 488.590319 204.023204 \nL 492.231162 201.987536 \nL 495.872005 201.566297 \nL 499.512848 202.834923 \nL 506.794534 207.352443 \nL 510.435376 208.71173 \nL 514.076219 208.965028 \nL 521.357905 208.04552 \nL 524.998748 208.166474 \nL 528.639591 209.050516 \nL 539.56212 213.166797 \nL 543.202963 213.978329 \nL 546.843806 214.42688 \nL 550.484649 214.635649 \nL 557.766334 214.745871 \nL 612.378978 214.756364 \nL 703.400051 214.715164 \nL 707.040894 214.627522 \nL 710.681737 214.407786 \nL 714.32258 213.940479 \nL 717.963423 213.104239 \nL 721.604266 211.862071 \nL 725.245109 210.369774 \nL 728.885952 209.004657 \nL 732.526795 208.231799 \nL 736.167638 208.353245 \nL 736.167638 208.353245 \n\" style=\"fill:none;stroke:#000000;stroke-linecap:square;stroke-width:2;\"/>\n   </g>\n   <g id=\"line2d_19\">\n    <path clip-path=\"url(#p76a2b49425)\" d=\"M 62.611697 214.529781 \nL 73.534226 214.710341 \nL 99.020126 214.756036 \nL 179.11867 214.67917 \nL 186.400356 214.527171 \nL 193.682042 214.162609 \nL 197.322885 213.84743 \nL 200.963728 213.409844 \nL 204.604571 212.824923 \nL 208.245414 212.072292 \nL 211.886257 211.140405 \nL 215.5271 210.030797 \nL 219.167943 208.761584 \nL 226.449628 205.909577 \nL 233.731314 203.082373 \nL 237.372157 201.883785 \nL 241.013 200.939559 \nL 244.653843 200.318566 \nL 248.294686 200.067649 \nL 251.935529 200.204508 \nL 255.576372 200.713367 \nL 259.217215 201.544482 \nL 262.858058 202.618028 \nL 273.780586 206.23486 \nL 277.421429 207.217481 \nL 281.062272 207.951327 \nL 284.703115 208.39606 \nL 288.343958 208.543985 \nL 291.984801 208.41792 \nL 295.625644 208.065886 \nL 302.90733 206.957058 \nL 310.189016 205.810728 \nL 313.829859 205.389359 \nL 317.470702 205.128753 \nL 321.111544 205.049223 \nL 324.752387 205.15101 \nL 328.39323 205.416694 \nL 335.674916 206.309468 \nL 350.238288 208.461539 \nL 357.519974 209.208249 \nL 361.160817 209.419594 \nL 364.80166 209.505542 \nL 368.442502 209.463999 \nL 375.724188 209.056053 \nL 386.646717 208.211043 \nL 390.28756 208.075928 \nL 393.928403 208.090649 \nL 397.569246 208.277907 \nL 401.210089 208.638864 \nL 404.850932 209.153647 \nL 412.132618 210.487085 \nL 419.414303 211.90423 \nL 426.695989 213.082922 \nL 433.977675 213.868437 \nL 441.259361 214.248702 \nL 448.541047 214.252843 \nL 455.822733 213.868315 \nL 459.463576 213.512563 \nL 463.104418 213.038974 \nL 470.386104 211.749881 \nL 488.590319 207.869901 \nL 492.231162 207.350983 \nL 495.872005 207.010743 \nL 499.512848 206.860954 \nL 503.153691 206.896116 \nL 506.794534 207.096821 \nL 514.076219 207.880222 \nL 521.357905 208.97887 \nL 543.202963 212.558928 \nL 550.484649 213.449856 \nL 557.766334 214.069247 \nL 565.04802 214.439507 \nL 575.970549 214.679699 \nL 594.174764 214.752819 \nL 677.914151 214.710664 \nL 688.83668 214.550112 \nL 696.118366 214.286386 \nL 703.400051 213.829869 \nL 714.32258 212.801907 \nL 725.245109 211.780242 \nL 732.526795 211.46968 \nL 736.167638 211.485069 \nL 736.167638 211.485069 \n\" style=\"fill:none;stroke:#808080;stroke-linecap:square;stroke-width:2;\"/>\n   </g>\n   <g id=\"line2d_20\">\n    <path clip-path=\"url(#p76a2b49425)\" d=\"M 62.611697 213.064943 \nL 84.456755 213.829447 \nL 102.660969 214.216577 \nL 117.224341 214.331543 \nL 131.787712 214.254766 \nL 146.351084 213.956034 \nL 160.914456 213.395418 \nL 175.477828 212.54496 \nL 190.041199 211.420913 \nL 211.886257 209.428137 \nL 230.090471 207.838924 \nL 241.013 207.070175 \nL 251.935529 206.502572 \nL 262.858058 206.153504 \nL 273.780586 206.011123 \nL 288.343958 206.084068 \nL 306.548173 206.458247 \nL 332.034073 207.251644 \nL 364.80166 208.520001 \nL 415.77346 210.578306 \nL 430.336832 210.924749 \nL 444.900204 211.063235 \nL 463.104418 210.97585 \nL 495.872005 210.705917 \nL 510.435376 210.840543 \nL 524.998748 211.214271 \nL 543.202963 211.946548 \nL 579.611392 213.540619 \nL 597.815607 214.081373 \nL 616.019821 214.384781 \nL 634.224036 214.478062 \nL 656.069093 214.366491 \nL 685.195837 213.952057 \nL 728.885952 213.301437 \nL 736.167638 213.24378 \nL 736.167638 213.24378 \n\" style=\"fill:none;stroke:#008000;stroke-linecap:square;stroke-width:2;\"/>\n   </g>\n   <g id=\"line2d_21\">\n    <path clip-path=\"url(#p76a2b49425)\" d=\"M 62.611697 212.598506 \nL 99.020126 212.446675 \nL 128.14687 212.090624 \nL 157.273613 211.494965 \nL 193.682042 210.501854 \nL 244.653843 209.113726 \nL 270.139744 208.638171 \nL 295.625644 208.394578 \nL 321.111544 208.394088 \nL 350.238288 208.651416 \nL 386.646717 209.232353 \nL 601.45645 213.109284 \nL 641.505722 213.472971 \nL 681.554994 213.608096 \nL 736.167638 213.57552 \nL 736.167638 213.57552 \n\" style=\"fill:none;stroke:#add8e6;stroke-linecap:square;stroke-width:2;\"/>\n   </g>\n   <g id=\"patch_3\">\n    <path d=\"M 64.275 224.64 \nL 64.275 7.2 \n\" style=\"fill:none;stroke:#000000;stroke-linecap:square;stroke-linejoin:miter;stroke-width:0.8;\"/>\n   </g>\n   <g id=\"patch_4\">\n    <path d=\"M 733.875 224.64 \nL 733.875 7.2 \n\" style=\"fill:none;stroke:#000000;stroke-linecap:square;stroke-linejoin:miter;stroke-width:0.8;\"/>\n   </g>\n   <g id=\"patch_5\">\n    <path d=\"M 64.275 224.64 \nL 733.875 224.64 \n\" style=\"fill:none;stroke:#000000;stroke-linecap:square;stroke-linejoin:miter;stroke-width:0.8;\"/>\n   </g>\n   <g id=\"patch_6\">\n    <path d=\"M 64.275 7.2 \nL 733.875 7.2 \n\" style=\"fill:none;stroke:#000000;stroke-linecap:square;stroke-linejoin:miter;stroke-width:0.8;\"/>\n   </g>\n   <g id=\"legend_1\">\n    <g id=\"patch_7\">\n     <path d=\"M 664.254688 103.26875 \nL 726.875 103.26875 \nQ 728.875 103.26875 728.875 101.26875 \nL 728.875 14.2 \nQ 728.875 12.2 726.875 12.2 \nL 664.254688 12.2 \nQ 662.254688 12.2 662.254688 14.2 \nL 662.254688 101.26875 \nQ 662.254688 103.26875 664.254688 103.26875 \nz\n\" style=\"fill:#ffffff;opacity:0.8;stroke:#cccccc;stroke-linejoin:miter;\"/>\n    </g>\n    <g id=\"line2d_22\">\n     <path d=\"M 666.254688 20.298438 \nL 686.254688 20.298438 \n\" style=\"fill:none;stroke:#ff0000;stroke-linecap:square;stroke-width:2;\"/>\n    </g>\n    <g id=\"line2d_23\"/>\n    <g id=\"text_16\">\n     <!-- h=0.1 -->\n     <defs>\n      <path d=\"M 54.890625 33.015625 \nL 54.890625 0 \nL 45.90625 0 \nL 45.90625 32.71875 \nQ 45.90625 40.484375 42.875 44.328125 \nQ 39.84375 48.1875 33.796875 48.1875 \nQ 26.515625 48.1875 22.3125 43.546875 \nQ 18.109375 38.921875 18.109375 30.90625 \nL 18.109375 0 \nL 9.078125 0 \nL 9.078125 75.984375 \nL 18.109375 75.984375 \nL 18.109375 46.1875 \nQ 21.34375 51.125 25.703125 53.5625 \nQ 30.078125 56 35.796875 56 \nQ 45.21875 56 50.046875 50.171875 \nQ 54.890625 44.34375 54.890625 33.015625 \nz\n\" id=\"DejaVuSans-104\"/>\n      <path d=\"M 10.59375 45.40625 \nL 73.1875 45.40625 \nL 73.1875 37.203125 \nL 10.59375 37.203125 \nz\nM 10.59375 25.484375 \nL 73.1875 25.484375 \nL 73.1875 17.1875 \nL 10.59375 17.1875 \nz\n\" id=\"DejaVuSans-61\"/>\n     </defs>\n     <g transform=\"translate(694.254688 23.798438)scale(0.1 -0.1)\">\n      <use xlink:href=\"#DejaVuSans-104\"/>\n      <use x=\"63.378906\" xlink:href=\"#DejaVuSans-61\"/>\n      <use x=\"147.167969\" xlink:href=\"#DejaVuSans-48\"/>\n      <use x=\"210.791016\" xlink:href=\"#DejaVuSans-46\"/>\n      <use x=\"242.578125\" xlink:href=\"#DejaVuSans-49\"/>\n     </g>\n    </g>\n    <g id=\"line2d_24\">\n     <path d=\"M 666.254688 34.976562 \nL 686.254688 34.976562 \n\" style=\"fill:none;stroke:#0000ff;stroke-linecap:square;stroke-width:2;\"/>\n    </g>\n    <g id=\"line2d_25\"/>\n    <g id=\"text_17\">\n     <!-- h=0.5 -->\n     <g transform=\"translate(694.254688 38.476562)scale(0.1 -0.1)\">\n      <use xlink:href=\"#DejaVuSans-104\"/>\n      <use x=\"63.378906\" xlink:href=\"#DejaVuSans-61\"/>\n      <use x=\"147.167969\" xlink:href=\"#DejaVuSans-48\"/>\n      <use x=\"210.791016\" xlink:href=\"#DejaVuSans-46\"/>\n      <use x=\"242.578125\" xlink:href=\"#DejaVuSans-53\"/>\n     </g>\n    </g>\n    <g id=\"line2d_26\">\n     <path d=\"M 666.254688 49.654687 \nL 686.254688 49.654687 \n\" style=\"fill:none;stroke:#000000;stroke-linecap:square;stroke-width:2;\"/>\n    </g>\n    <g id=\"line2d_27\"/>\n    <g id=\"text_18\">\n     <!-- h=1 -->\n     <g transform=\"translate(694.254688 53.154687)scale(0.1 -0.1)\">\n      <use xlink:href=\"#DejaVuSans-104\"/>\n      <use x=\"63.378906\" xlink:href=\"#DejaVuSans-61\"/>\n      <use x=\"147.167969\" xlink:href=\"#DejaVuSans-49\"/>\n     </g>\n    </g>\n    <g id=\"line2d_28\">\n     <path d=\"M 666.254688 64.332813 \nL 686.254688 64.332813 \n\" style=\"fill:none;stroke:#808080;stroke-linecap:square;stroke-width:2;\"/>\n    </g>\n    <g id=\"line2d_29\"/>\n    <g id=\"text_19\">\n     <!-- h=2 -->\n     <g transform=\"translate(694.254688 67.832813)scale(0.1 -0.1)\">\n      <use xlink:href=\"#DejaVuSans-104\"/>\n      <use x=\"63.378906\" xlink:href=\"#DejaVuSans-61\"/>\n      <use x=\"147.167969\" xlink:href=\"#DejaVuSans-50\"/>\n     </g>\n    </g>\n    <g id=\"line2d_30\">\n     <path d=\"M 666.254688 79.010938 \nL 686.254688 79.010938 \n\" style=\"fill:none;stroke:#008000;stroke-linecap:square;stroke-width:2;\"/>\n    </g>\n    <g id=\"line2d_31\"/>\n    <g id=\"text_20\">\n     <!-- h=5 -->\n     <g transform=\"translate(694.254688 82.510938)scale(0.1 -0.1)\">\n      <use xlink:href=\"#DejaVuSans-104\"/>\n      <use x=\"63.378906\" xlink:href=\"#DejaVuSans-61\"/>\n      <use x=\"147.167969\" xlink:href=\"#DejaVuSans-53\"/>\n     </g>\n    </g>\n    <g id=\"line2d_32\">\n     <path d=\"M 666.254688 93.689063 \nL 686.254688 93.689063 \n\" style=\"fill:none;stroke:#add8e6;stroke-linecap:square;stroke-width:2;\"/>\n    </g>\n    <g id=\"line2d_33\"/>\n    <g id=\"text_21\">\n     <!-- h=10 -->\n     <g transform=\"translate(694.254688 97.189063)scale(0.1 -0.1)\">\n      <use xlink:href=\"#DejaVuSans-104\"/>\n      <use x=\"63.378906\" xlink:href=\"#DejaVuSans-61\"/>\n      <use x=\"147.167969\" xlink:href=\"#DejaVuSans-49\"/>\n      <use x=\"210.791016\" xlink:href=\"#DejaVuSans-48\"/>\n     </g>\n    </g>\n   </g>\n  </g>\n </g>\n <defs>\n  <clipPath id=\"p76a2b49425\">\n   <rect height=\"217.44\" width=\"669.6\" x=\"64.275\" y=\"7.2\"/>\n  </clipPath>\n </defs>\n</svg>\n",
      "image/png": "[encoded data removed]"
     },
     "metadata": {
      "needs_background": "light"
     }
    }
   ],
   "source": [
    "import numpy as np\n",
    "from matplotlib.pyplot import cm\n",
    "from sklearn.neighbors import KernelDensity\n",
    "\n",
    "color=['red', 'blue', 'black', 'gray', 'green', 'lightblue']\n",
    "\n",
    "X_Feat = X[:, 0]\n",
    "X_Feat = X_Feat.reshape((len(X_Feat), 1))\n",
    "\n",
    "X_plot = np.linspace(np.min(X_Feat), np.max(X_Feat), 100000)[:, np.newaxis]\n",
    "\n",
    "plt.figure(figsize=(12,4))\n",
    "plt.plot(X_Feat, 0.001*np.ones(X_Feat.shape[0]), 'ok')\n",
    "plt.xlim((3580, 3650))\n",
    "\n",
    "c = 0 \n",
    "\n",
    "vh = [0.1, 0.5, 1, 2, 5, 10]\n",
    "\n",
    "for h in vh:\n",
    "    kde = KernelDensity(kernel='gaussian', bandwidth=h).fit(X_Feat)\n",
    "    log_dens = np.exp(kde.score_samples(X_plot)) # score_samples() returns the log density.\n",
    "    plt.plot(X_plot,log_dens, color = color[c], linewidth=2, label = 'h='+str(h))\n",
    "    c = c + 1\n",
    "\n",
    "plt.ylabel('P(x)', fontsize = 20)\n",
    "plt.xticks(fontsize=12)\n",
    "plt.yticks(fontsize=12)\n",
    "plt.legend(fontsize = 10)\n",
    "plt.show(True)"
   ]
  },
  {
   "cell_type": "markdown",
   "metadata": {
    "id": "C6KaUdQcK0NL"
   },
   "source": [
    "Note que com valor de `h = 0.1` temos uma curva pouco suave, considerando apenas um dado de forma individual para a distribuição gaussiana. Valores entre `h = 1` e `h = 2` parecem abranger de forma mais suave os dados."
   ]
  },
  {
   "cell_type": "code",
   "execution_count": 22,
   "metadata": {
    "colab": {
     "base_uri": "https://localhost:8080/",
     "height": 268
    },
    "id": "O3bRdBcaHLBX",
    "outputId": "8c567db2-d60a-40a1-ece8-6e673db80216"
   },
   "outputs": [
    {
     "output_type": "display_data",
     "data": {
      "text/plain": "<Figure size 864x288 with 1 Axes>",
      "image/svg+xml": "<?xml version=\"1.0\" encoding=\"utf-8\" standalone=\"no\"?>\n<!DOCTYPE svg PUBLIC \"-//W3C//DTD SVG 1.1//EN\"\n  \"http://www.w3.org/Graphics/SVG/1.1/DTD/svg11.dtd\">\n<!-- Created with matplotlib (https://matplotlib.org/) -->\n<svg height=\"250.45375pt\" version=\"1.1\" viewBox=\"0 0 737.2575 250.45375\" width=\"737.2575pt\" xmlns=\"http://www.w3.org/2000/svg\" xmlns:xlink=\"http://www.w3.org/1999/xlink\">\n <defs>\n  <style type=\"text/css\">\n*{stroke-linecap:butt;stroke-linejoin:round;}\n  </style>\n </defs>\n <g id=\"figure_1\">\n  <g id=\"patch_1\">\n   <path d=\"M 0 250.45375 \nL 737.2575 250.45375 \nL 737.2575 0 \nL 0 0 \nz\n\" style=\"fill:none;\"/>\n  </g>\n  <g id=\"axes_1\">\n   <g id=\"patch_2\">\n    <path d=\"M 56.64 224.64 \nL 726.24 224.64 \nL 726.24 7.2 \nL 56.64 7.2 \nz\n\" style=\"fill:#ffffff;\"/>\n   </g>\n   <g id=\"matplotlib.axis_1\">\n    <g id=\"xtick_1\">\n     <g id=\"line2d_1\">\n      <defs>\n       <path d=\"M 0 0 \nL 0 3.5 \n\" id=\"mce601be4b3\" style=\"stroke:#000000;stroke-width:0.8;\"/>\n      </defs>\n      <g>\n       <use style=\"stroke:#000000;stroke-width:0.8;\" x=\"56.64\" xlink:href=\"#mce601be4b3\" y=\"224.64\"/>\n      </g>\n     </g>\n     <g id=\"text_1\">\n      <!-- 0 -->\n      <defs>\n       <path d=\"M 31.78125 66.40625 \nQ 24.171875 66.40625 20.328125 58.90625 \nQ 16.5 51.421875 16.5 36.375 \nQ 16.5 21.390625 20.328125 13.890625 \nQ 24.171875 6.390625 31.78125 6.390625 \nQ 39.453125 6.390625 43.28125 13.890625 \nQ 47.125 21.390625 47.125 36.375 \nQ 47.125 51.421875 43.28125 58.90625 \nQ 39.453125 66.40625 31.78125 66.40625 \nz\nM 31.78125 74.21875 \nQ 44.046875 74.21875 50.515625 64.515625 \nQ 56.984375 54.828125 56.984375 36.375 \nQ 56.984375 17.96875 50.515625 8.265625 \nQ 44.046875 -1.421875 31.78125 -1.421875 \nQ 19.53125 -1.421875 13.0625 8.265625 \nQ 6.59375 17.96875 6.59375 36.375 \nQ 6.59375 54.828125 13.0625 64.515625 \nQ 19.53125 74.21875 31.78125 74.21875 \nz\n\" id=\"DejaVuSans-48\"/>\n      </defs>\n      <g transform=\"translate(52.8225 240.758125)scale(0.12 -0.12)\">\n       <use xlink:href=\"#DejaVuSans-48\"/>\n      </g>\n     </g>\n    </g>\n    <g id=\"xtick_2\">\n     <g id=\"line2d_2\">\n      <g>\n       <use style=\"stroke:#000000;stroke-width:0.8;\" x=\"190.56\" xlink:href=\"#mce601be4b3\" y=\"224.64\"/>\n      </g>\n     </g>\n     <g id=\"text_2\">\n      <!-- 1 -->\n      <defs>\n       <path d=\"M 12.40625 8.296875 \nL 28.515625 8.296875 \nL 28.515625 63.921875 \nL 10.984375 60.40625 \nL 10.984375 69.390625 \nL 28.421875 72.90625 \nL 38.28125 72.90625 \nL 38.28125 8.296875 \nL 54.390625 8.296875 \nL 54.390625 0 \nL 12.40625 0 \nz\n\" id=\"DejaVuSans-49\"/>\n      </defs>\n      <g transform=\"translate(186.7425 240.758125)scale(0.12 -0.12)\">\n       <use xlink:href=\"#DejaVuSans-49\"/>\n      </g>\n     </g>\n    </g>\n    <g id=\"xtick_3\">\n     <g id=\"line2d_3\">\n      <g>\n       <use style=\"stroke:#000000;stroke-width:0.8;\" x=\"324.48\" xlink:href=\"#mce601be4b3\" y=\"224.64\"/>\n      </g>\n     </g>\n     <g id=\"text_3\">\n      <!-- 2 -->\n      <defs>\n       <path d=\"M 19.1875 8.296875 \nL 53.609375 8.296875 \nL 53.609375 0 \nL 7.328125 0 \nL 7.328125 8.296875 \nQ 12.9375 14.109375 22.625 23.890625 \nQ 32.328125 33.6875 34.8125 36.53125 \nQ 39.546875 41.84375 41.421875 45.53125 \nQ 43.3125 49.21875 43.3125 52.78125 \nQ 43.3125 58.59375 39.234375 62.25 \nQ 35.15625 65.921875 28.609375 65.921875 \nQ 23.96875 65.921875 18.8125 64.3125 \nQ 13.671875 62.703125 7.8125 59.421875 \nL 7.8125 69.390625 \nQ 13.765625 71.78125 18.9375 73 \nQ 24.125 74.21875 28.421875 74.21875 \nQ 39.75 74.21875 46.484375 68.546875 \nQ 53.21875 62.890625 53.21875 53.421875 \nQ 53.21875 48.921875 51.53125 44.890625 \nQ 49.859375 40.875 45.40625 35.40625 \nQ 44.1875 33.984375 37.640625 27.21875 \nQ 31.109375 20.453125 19.1875 8.296875 \nz\n\" id=\"DejaVuSans-50\"/>\n      </defs>\n      <g transform=\"translate(320.6625 240.758125)scale(0.12 -0.12)\">\n       <use xlink:href=\"#DejaVuSans-50\"/>\n      </g>\n     </g>\n    </g>\n    <g id=\"xtick_4\">\n     <g id=\"line2d_4\">\n      <g>\n       <use style=\"stroke:#000000;stroke-width:0.8;\" x=\"458.4\" xlink:href=\"#mce601be4b3\" y=\"224.64\"/>\n      </g>\n     </g>\n     <g id=\"text_4\">\n      <!-- 3 -->\n      <defs>\n       <path d=\"M 40.578125 39.3125 \nQ 47.65625 37.796875 51.625 33 \nQ 55.609375 28.21875 55.609375 21.1875 \nQ 55.609375 10.40625 48.1875 4.484375 \nQ 40.765625 -1.421875 27.09375 -1.421875 \nQ 22.515625 -1.421875 17.65625 -0.515625 \nQ 12.796875 0.390625 7.625 2.203125 \nL 7.625 11.71875 \nQ 11.71875 9.328125 16.59375 8.109375 \nQ 21.484375 6.890625 26.8125 6.890625 \nQ 36.078125 6.890625 40.9375 10.546875 \nQ 45.796875 14.203125 45.796875 21.1875 \nQ 45.796875 27.640625 41.28125 31.265625 \nQ 36.765625 34.90625 28.71875 34.90625 \nL 20.21875 34.90625 \nL 20.21875 43.015625 \nL 29.109375 43.015625 \nQ 36.375 43.015625 40.234375 45.921875 \nQ 44.09375 48.828125 44.09375 54.296875 \nQ 44.09375 59.90625 40.109375 62.90625 \nQ 36.140625 65.921875 28.71875 65.921875 \nQ 24.65625 65.921875 20.015625 65.03125 \nQ 15.375 64.15625 9.8125 62.3125 \nL 9.8125 71.09375 \nQ 15.4375 72.65625 20.34375 73.4375 \nQ 25.25 74.21875 29.59375 74.21875 \nQ 40.828125 74.21875 47.359375 69.109375 \nQ 53.90625 64.015625 53.90625 55.328125 \nQ 53.90625 49.265625 50.4375 45.09375 \nQ 46.96875 40.921875 40.578125 39.3125 \nz\n\" id=\"DejaVuSans-51\"/>\n      </defs>\n      <g transform=\"translate(454.5825 240.758125)scale(0.12 -0.12)\">\n       <use xlink:href=\"#DejaVuSans-51\"/>\n      </g>\n     </g>\n    </g>\n    <g id=\"xtick_5\">\n     <g id=\"line2d_5\">\n      <g>\n       <use style=\"stroke:#000000;stroke-width:0.8;\" x=\"592.32\" xlink:href=\"#mce601be4b3\" y=\"224.64\"/>\n      </g>\n     </g>\n     <g id=\"text_5\">\n      <!-- 4 -->\n      <defs>\n       <path d=\"M 37.796875 64.3125 \nL 12.890625 25.390625 \nL 37.796875 25.390625 \nz\nM 35.203125 72.90625 \nL 47.609375 72.90625 \nL 47.609375 25.390625 \nL 58.015625 25.390625 \nL 58.015625 17.1875 \nL 47.609375 17.1875 \nL 47.609375 0 \nL 37.796875 0 \nL 37.796875 17.1875 \nL 4.890625 17.1875 \nL 4.890625 26.703125 \nz\n\" id=\"DejaVuSans-52\"/>\n      </defs>\n      <g transform=\"translate(588.5025 240.758125)scale(0.12 -0.12)\">\n       <use xlink:href=\"#DejaVuSans-52\"/>\n      </g>\n     </g>\n    </g>\n    <g id=\"xtick_6\">\n     <g id=\"line2d_6\">\n      <g>\n       <use style=\"stroke:#000000;stroke-width:0.8;\" x=\"726.24\" xlink:href=\"#mce601be4b3\" y=\"224.64\"/>\n      </g>\n     </g>\n     <g id=\"text_6\">\n      <!-- 5 -->\n      <defs>\n       <path d=\"M 10.796875 72.90625 \nL 49.515625 72.90625 \nL 49.515625 64.59375 \nL 19.828125 64.59375 \nL 19.828125 46.734375 \nQ 21.96875 47.46875 24.109375 47.828125 \nQ 26.265625 48.1875 28.421875 48.1875 \nQ 40.625 48.1875 47.75 41.5 \nQ 54.890625 34.8125 54.890625 23.390625 \nQ 54.890625 11.625 47.5625 5.09375 \nQ 40.234375 -1.421875 26.90625 -1.421875 \nQ 22.3125 -1.421875 17.546875 -0.640625 \nQ 12.796875 0.140625 7.71875 1.703125 \nL 7.71875 11.625 \nQ 12.109375 9.234375 16.796875 8.0625 \nQ 21.484375 6.890625 26.703125 6.890625 \nQ 35.15625 6.890625 40.078125 11.328125 \nQ 45.015625 15.765625 45.015625 23.390625 \nQ 45.015625 31 40.078125 35.4375 \nQ 35.15625 39.890625 26.703125 39.890625 \nQ 22.75 39.890625 18.8125 39.015625 \nQ 14.890625 38.140625 10.796875 36.28125 \nz\n\" id=\"DejaVuSans-53\"/>\n      </defs>\n      <g transform=\"translate(722.4225 240.758125)scale(0.12 -0.12)\">\n       <use xlink:href=\"#DejaVuSans-53\"/>\n      </g>\n     </g>\n    </g>\n   </g>\n   <g id=\"matplotlib.axis_2\">\n    <g id=\"ytick_1\">\n     <g id=\"line2d_7\">\n      <defs>\n       <path d=\"M 0 0 \nL -3.5 0 \n\" id=\"m007d351d1e\" style=\"stroke:#000000;stroke-width:0.8;\"/>\n      </defs>\n      <g>\n       <use style=\"stroke:#000000;stroke-width:0.8;\" x=\"56.64\" xlink:href=\"#m007d351d1e\" y=\"214.756364\"/>\n      </g>\n     </g>\n     <g id=\"text_7\">\n      <!-- 0.0 -->\n      <defs>\n       <path d=\"M 10.6875 12.40625 \nL 21 12.40625 \nL 21 0 \nL 10.6875 0 \nz\n\" id=\"DejaVuSans-46\"/>\n      </defs>\n      <g transform=\"translate(30.55625 219.315426)scale(0.12 -0.12)\">\n       <use xlink:href=\"#DejaVuSans-48\"/>\n       <use x=\"63.623047\" xlink:href=\"#DejaVuSans-46\"/>\n       <use x=\"95.410156\" xlink:href=\"#DejaVuSans-48\"/>\n      </g>\n     </g>\n    </g>\n    <g id=\"ytick_2\">\n     <g id=\"line2d_8\">\n      <g>\n       <use style=\"stroke:#000000;stroke-width:0.8;\" x=\"56.64\" xlink:href=\"#m007d351d1e\" y=\"183.686307\"/>\n      </g>\n     </g>\n     <g id=\"text_8\">\n      <!-- 0.2 -->\n      <g transform=\"translate(30.55625 188.24537)scale(0.12 -0.12)\">\n       <use xlink:href=\"#DejaVuSans-48\"/>\n       <use x=\"63.623047\" xlink:href=\"#DejaVuSans-46\"/>\n       <use x=\"95.410156\" xlink:href=\"#DejaVuSans-50\"/>\n      </g>\n     </g>\n    </g>\n    <g id=\"ytick_3\">\n     <g id=\"line2d_9\">\n      <g>\n       <use style=\"stroke:#000000;stroke-width:0.8;\" x=\"56.64\" xlink:href=\"#m007d351d1e\" y=\"152.616251\"/>\n      </g>\n     </g>\n     <g id=\"text_9\">\n      <!-- 0.4 -->\n      <g transform=\"translate(30.55625 157.175314)scale(0.12 -0.12)\">\n       <use xlink:href=\"#DejaVuSans-48\"/>\n       <use x=\"63.623047\" xlink:href=\"#DejaVuSans-46\"/>\n       <use x=\"95.410156\" xlink:href=\"#DejaVuSans-52\"/>\n      </g>\n     </g>\n    </g>\n    <g id=\"ytick_4\">\n     <g id=\"line2d_10\">\n      <g>\n       <use style=\"stroke:#000000;stroke-width:0.8;\" x=\"56.64\" xlink:href=\"#m007d351d1e\" y=\"121.546195\"/>\n      </g>\n     </g>\n     <g id=\"text_10\">\n      <!-- 0.6 -->\n      <defs>\n       <path d=\"M 33.015625 40.375 \nQ 26.375 40.375 22.484375 35.828125 \nQ 18.609375 31.296875 18.609375 23.390625 \nQ 18.609375 15.53125 22.484375 10.953125 \nQ 26.375 6.390625 33.015625 6.390625 \nQ 39.65625 6.390625 43.53125 10.953125 \nQ 47.40625 15.53125 47.40625 23.390625 \nQ 47.40625 31.296875 43.53125 35.828125 \nQ 39.65625 40.375 33.015625 40.375 \nz\nM 52.59375 71.296875 \nL 52.59375 62.3125 \nQ 48.875 64.0625 45.09375 64.984375 \nQ 41.3125 65.921875 37.59375 65.921875 \nQ 27.828125 65.921875 22.671875 59.328125 \nQ 17.53125 52.734375 16.796875 39.40625 \nQ 19.671875 43.65625 24.015625 45.921875 \nQ 28.375 48.1875 33.59375 48.1875 \nQ 44.578125 48.1875 50.953125 41.515625 \nQ 57.328125 34.859375 57.328125 23.390625 \nQ 57.328125 12.15625 50.6875 5.359375 \nQ 44.046875 -1.421875 33.015625 -1.421875 \nQ 20.359375 -1.421875 13.671875 8.265625 \nQ 6.984375 17.96875 6.984375 36.375 \nQ 6.984375 53.65625 15.1875 63.9375 \nQ 23.390625 74.21875 37.203125 74.21875 \nQ 40.921875 74.21875 44.703125 73.484375 \nQ 48.484375 72.75 52.59375 71.296875 \nz\n\" id=\"DejaVuSans-54\"/>\n      </defs>\n      <g transform=\"translate(30.55625 126.105257)scale(0.12 -0.12)\">\n       <use xlink:href=\"#DejaVuSans-48\"/>\n       <use x=\"63.623047\" xlink:href=\"#DejaVuSans-46\"/>\n       <use x=\"95.410156\" xlink:href=\"#DejaVuSans-54\"/>\n      </g>\n     </g>\n    </g>\n    <g id=\"ytick_5\">\n     <g id=\"line2d_11\">\n      <g>\n       <use style=\"stroke:#000000;stroke-width:0.8;\" x=\"56.64\" xlink:href=\"#m007d351d1e\" y=\"90.476138\"/>\n      </g>\n     </g>\n     <g id=\"text_11\">\n      <!-- 0.8 -->\n      <defs>\n       <path d=\"M 31.78125 34.625 \nQ 24.75 34.625 20.71875 30.859375 \nQ 16.703125 27.09375 16.703125 20.515625 \nQ 16.703125 13.921875 20.71875 10.15625 \nQ 24.75 6.390625 31.78125 6.390625 \nQ 38.8125 6.390625 42.859375 10.171875 \nQ 46.921875 13.96875 46.921875 20.515625 \nQ 46.921875 27.09375 42.890625 30.859375 \nQ 38.875 34.625 31.78125 34.625 \nz\nM 21.921875 38.8125 \nQ 15.578125 40.375 12.03125 44.71875 \nQ 8.5 49.078125 8.5 55.328125 \nQ 8.5 64.0625 14.71875 69.140625 \nQ 20.953125 74.21875 31.78125 74.21875 \nQ 42.671875 74.21875 48.875 69.140625 \nQ 55.078125 64.0625 55.078125 55.328125 \nQ 55.078125 49.078125 51.53125 44.71875 \nQ 48 40.375 41.703125 38.8125 \nQ 48.828125 37.15625 52.796875 32.3125 \nQ 56.78125 27.484375 56.78125 20.515625 \nQ 56.78125 9.90625 50.3125 4.234375 \nQ 43.84375 -1.421875 31.78125 -1.421875 \nQ 19.734375 -1.421875 13.25 4.234375 \nQ 6.78125 9.90625 6.78125 20.515625 \nQ 6.78125 27.484375 10.78125 32.3125 \nQ 14.796875 37.15625 21.921875 38.8125 \nz\nM 18.3125 54.390625 \nQ 18.3125 48.734375 21.84375 45.5625 \nQ 25.390625 42.390625 31.78125 42.390625 \nQ 38.140625 42.390625 41.71875 45.5625 \nQ 45.3125 48.734375 45.3125 54.390625 \nQ 45.3125 60.0625 41.71875 63.234375 \nQ 38.140625 66.40625 31.78125 66.40625 \nQ 25.390625 66.40625 21.84375 63.234375 \nQ 18.3125 60.0625 18.3125 54.390625 \nz\n\" id=\"DejaVuSans-56\"/>\n      </defs>\n      <g transform=\"translate(30.55625 95.035201)scale(0.12 -0.12)\">\n       <use xlink:href=\"#DejaVuSans-48\"/>\n       <use x=\"63.623047\" xlink:href=\"#DejaVuSans-46\"/>\n       <use x=\"95.410156\" xlink:href=\"#DejaVuSans-56\"/>\n      </g>\n     </g>\n    </g>\n    <g id=\"ytick_6\">\n     <g id=\"line2d_12\">\n      <g>\n       <use style=\"stroke:#000000;stroke-width:0.8;\" x=\"56.64\" xlink:href=\"#m007d351d1e\" y=\"59.406082\"/>\n      </g>\n     </g>\n     <g id=\"text_12\">\n      <!-- 1.0 -->\n      <g transform=\"translate(30.55625 63.965145)scale(0.12 -0.12)\">\n       <use xlink:href=\"#DejaVuSans-49\"/>\n       <use x=\"63.623047\" xlink:href=\"#DejaVuSans-46\"/>\n       <use x=\"95.410156\" xlink:href=\"#DejaVuSans-48\"/>\n      </g>\n     </g>\n    </g>\n    <g id=\"ytick_7\">\n     <g id=\"line2d_13\">\n      <g>\n       <use style=\"stroke:#000000;stroke-width:0.8;\" x=\"56.64\" xlink:href=\"#m007d351d1e\" y=\"28.336026\"/>\n      </g>\n     </g>\n     <g id=\"text_13\">\n      <!-- 1.2 -->\n      <g transform=\"translate(30.55625 32.895088)scale(0.12 -0.12)\">\n       <use xlink:href=\"#DejaVuSans-49\"/>\n       <use x=\"63.623047\" xlink:href=\"#DejaVuSans-46\"/>\n       <use x=\"95.410156\" xlink:href=\"#DejaVuSans-50\"/>\n      </g>\n     </g>\n    </g>\n    <g id=\"text_14\">\n     <!-- P(x) -->\n     <defs>\n      <path d=\"M 19.671875 64.796875 \nL 19.671875 37.40625 \nL 32.078125 37.40625 \nQ 38.96875 37.40625 42.71875 40.96875 \nQ 46.484375 44.53125 46.484375 51.125 \nQ 46.484375 57.671875 42.71875 61.234375 \nQ 38.96875 64.796875 32.078125 64.796875 \nz\nM 9.8125 72.90625 \nL 32.078125 72.90625 \nQ 44.34375 72.90625 50.609375 67.359375 \nQ 56.890625 61.8125 56.890625 51.125 \nQ 56.890625 40.328125 50.609375 34.8125 \nQ 44.34375 29.296875 32.078125 29.296875 \nL 19.671875 29.296875 \nL 19.671875 0 \nL 9.8125 0 \nz\n\" id=\"DejaVuSans-80\"/>\n      <path d=\"M 31 75.875 \nQ 24.46875 64.65625 21.28125 53.65625 \nQ 18.109375 42.671875 18.109375 31.390625 \nQ 18.109375 20.125 21.3125 9.0625 \nQ 24.515625 -2 31 -13.1875 \nL 23.1875 -13.1875 \nQ 15.875 -1.703125 12.234375 9.375 \nQ 8.59375 20.453125 8.59375 31.390625 \nQ 8.59375 42.28125 12.203125 53.3125 \nQ 15.828125 64.359375 23.1875 75.875 \nz\n\" id=\"DejaVuSans-40\"/>\n      <path d=\"M 54.890625 54.6875 \nL 35.109375 28.078125 \nL 55.90625 0 \nL 45.3125 0 \nL 29.390625 21.484375 \nL 13.484375 0 \nL 2.875 0 \nL 24.125 28.609375 \nL 4.6875 54.6875 \nL 15.28125 54.6875 \nL 29.78125 35.203125 \nL 44.28125 54.6875 \nz\n\" id=\"DejaVuSans-120\"/>\n      <path d=\"M 8.015625 75.875 \nL 15.828125 75.875 \nQ 23.140625 64.359375 26.78125 53.3125 \nQ 30.421875 42.28125 30.421875 31.390625 \nQ 30.421875 20.453125 26.78125 9.375 \nQ 23.140625 -1.703125 15.828125 -13.1875 \nL 8.015625 -13.1875 \nQ 14.5 -2 17.703125 9.0625 \nQ 20.90625 20.125 20.90625 31.390625 \nQ 20.90625 42.671875 17.703125 53.65625 \nQ 14.5 64.65625 8.015625 75.875 \nz\n\" id=\"DejaVuSans-41\"/>\n     </defs>\n     <g transform=\"translate(22.396875 135.671562)rotate(-90)scale(0.2 -0.2)\">\n      <use xlink:href=\"#DejaVuSans-80\"/>\n      <use x=\"60.302734\" xlink:href=\"#DejaVuSans-40\"/>\n      <use x=\"99.316406\" xlink:href=\"#DejaVuSans-120\"/>\n      <use x=\"158.496094\" xlink:href=\"#DejaVuSans-41\"/>\n     </g>\n    </g>\n   </g>\n   <g id=\"line2d_14\">\n    <defs>\n     <path d=\"M 0 3 \nC 0.795609 3 1.55874 2.683901 2.12132 2.12132 \nC 2.683901 1.55874 3 0.795609 3 0 \nC 3 -0.795609 2.683901 -1.55874 2.12132 -2.12132 \nC 1.55874 -2.683901 0.795609 -3 0 -3 \nC -0.795609 -3 -1.55874 -2.683901 -2.12132 -2.12132 \nC -2.683901 -1.55874 -3 -0.795609 -3 0 \nC -3 0.795609 -2.683901 1.55874 -2.12132 2.12132 \nC -1.55874 2.683901 -0.795609 3 0 3 \nz\n\" id=\"m20c2da124c\" style=\"stroke:#000000;\"/>\n    </defs>\n    <g clip-path=\"url(#pf898d5f346)\">\n     <use style=\"stroke:#000000;\" x=\"79.4064\" xlink:href=\"#m20c2da124c\" y=\"214.601013\"/>\n     <use style=\"stroke:#000000;\" x=\"77.290464\" xlink:href=\"#m20c2da124c\" y=\"214.601013\"/>\n     <use style=\"stroke:#000000;\" x=\"70.29984\" xlink:href=\"#m20c2da124c\" y=\"214.601013\"/>\n     <use style=\"stroke:#000000;\" x=\"78.0672\" xlink:href=\"#m20c2da124c\" y=\"214.601013\"/>\n     <use style=\"stroke:#000000;\" x=\"70.43376\" xlink:href=\"#m20c2da124c\" y=\"214.601013\"/>\n     <use style=\"stroke:#000000;\" x=\"71.3712\" xlink:href=\"#m20c2da124c\" y=\"214.601013\"/>\n     <use style=\"stroke:#000000;\" x=\"73.64784\" xlink:href=\"#m20c2da124c\" y=\"214.601013\"/>\n     <use style=\"stroke:#000000;\" x=\"69.49632\" xlink:href=\"#m20c2da124c\" y=\"214.601013\"/>\n     <use style=\"stroke:#000000;\" x=\"71.3712\" xlink:href=\"#m20c2da124c\" y=\"214.601013\"/>\n     <use style=\"stroke:#000000;\" x=\"74.0496\" xlink:href=\"#m20c2da124c\" y=\"214.601013\"/>\n     <use style=\"stroke:#000000;\" x=\"124.9392\" xlink:href=\"#m20c2da124c\" y=\"214.601013\"/>\n     <use style=\"stroke:#000000;\" x=\"107.007312\" xlink:href=\"#m20c2da124c\" y=\"214.601013\"/>\n     <use style=\"stroke:#000000;\" x=\"82.88832\" xlink:href=\"#m20c2da124c\" y=\"214.601013\"/>\n     <use style=\"stroke:#000000;\" x=\"109.27056\" xlink:href=\"#m20c2da124c\" y=\"214.601013\"/>\n     <use style=\"stroke:#000000;\" x=\"75.3888\" xlink:href=\"#m20c2da124c\" y=\"214.601013\"/>\n     <use style=\"stroke:#000000;\" x=\"88.7808\" xlink:href=\"#m20c2da124c\" y=\"214.601013\"/>\n     <use style=\"stroke:#000000;\" x=\"78.0672\" xlink:href=\"#m20c2da124c\" y=\"214.601013\"/>\n     <use style=\"stroke:#000000;\" x=\"119.5824\" xlink:href=\"#m20c2da124c\" y=\"214.601013\"/>\n     <use style=\"stroke:#000000;\" x=\"82.982064\" xlink:href=\"#m20c2da124c\" y=\"214.601013\"/>\n     <use style=\"stroke:#000000;\" x=\"103.64592\" xlink:href=\"#m20c2da124c\" y=\"214.601013\"/>\n     <use style=\"stroke:#000000;\" x=\"57.764928\" xlink:href=\"#m20c2da124c\" y=\"214.601013\"/>\n     <use style=\"stroke:#000000;\" x=\"58.292573\" xlink:href=\"#m20c2da124c\" y=\"214.601013\"/>\n     <use style=\"stroke:#000000;\" x=\"58.11312\" xlink:href=\"#m20c2da124c\" y=\"214.601013\"/>\n     <use style=\"stroke:#000000;\" x=\"57.9792\" xlink:href=\"#m20c2da124c\" y=\"214.601013\"/>\n     <use style=\"stroke:#000000;\" x=\"58.51488\" xlink:href=\"#m20c2da124c\" y=\"214.601013\"/>\n     <use style=\"stroke:#000000;\" x=\"57.957773\" xlink:href=\"#m20c2da124c\" y=\"214.601013\"/>\n     <use style=\"stroke:#000000;\" x=\"57.939024\" xlink:href=\"#m20c2da124c\" y=\"214.601013\"/>\n     <use style=\"stroke:#000000;\" x=\"58.354176\" xlink:href=\"#m20c2da124c\" y=\"214.601013\"/>\n     <use style=\"stroke:#000000;\" x=\"58.11312\" xlink:href=\"#m20c2da124c\" y=\"214.601013\"/>\n     <use style=\"stroke:#000000;\" x=\"58.38096\" xlink:href=\"#m20c2da124c\" y=\"214.601013\"/>\n     <use style=\"stroke:#000000;\" x=\"1476.192\" xlink:href=\"#m20c2da124c\" y=\"214.601013\"/>\n     <use style=\"stroke:#000000;\" x=\"900.336\" xlink:href=\"#m20c2da124c\" y=\"214.601013\"/>\n     <use style=\"stroke:#000000;\" x=\"1020.864\" xlink:href=\"#m20c2da124c\" y=\"214.601013\"/>\n     <use style=\"stroke:#000000;\" x=\"443.6688\" xlink:href=\"#m20c2da124c\" y=\"214.601013\"/>\n     <use style=\"stroke:#000000;\" x=\"177.168\" xlink:href=\"#m20c2da124c\" y=\"214.601013\"/>\n     <use style=\"stroke:#000000;\" x=\"297.696\" xlink:href=\"#m20c2da124c\" y=\"214.601013\"/>\n     <use style=\"stroke:#000000;\" x=\"206.6304\" xlink:href=\"#m20c2da124c\" y=\"214.601013\"/>\n     <use style=\"stroke:#000000;\" x=\"187.8816\" xlink:href=\"#m20c2da124c\" y=\"214.601013\"/>\n     <use style=\"stroke:#000000;\" x=\"204.75552\" xlink:href=\"#m20c2da124c\" y=\"214.601013\"/>\n     <use style=\"stroke:#000000;\" x=\"189.2208\" xlink:href=\"#m20c2da124c\" y=\"214.601013\"/>\n     <use style=\"stroke:#000000;\" x=\"2601.12\" xlink:href=\"#m20c2da124c\" y=\"214.601013\"/>\n     <use style=\"stroke:#000000;\" x=\"3136.8\" xlink:href=\"#m20c2da124c\" y=\"214.601013\"/>\n     <use style=\"stroke:#000000;\" x=\"11841.6\" xlink:href=\"#m20c2da124c\" y=\"214.601013\"/>\n     <use style=\"stroke:#000000;\" x=\"2333.28\" xlink:href=\"#m20c2da124c\" y=\"214.601013\"/>\n     <use style=\"stroke:#000000;\" x=\"3404.64\" xlink:href=\"#m20c2da124c\" y=\"214.601013\"/>\n     <use style=\"stroke:#000000;\" x=\"3940.32\" xlink:href=\"#m20c2da124c\" y=\"214.601013\"/>\n     <use style=\"stroke:#000000;\" x=\"6083.04\" xlink:href=\"#m20c2da124c\" y=\"214.601013\"/>\n     <use style=\"stroke:#000000;\" x=\"11975.52\" xlink:href=\"#m20c2da124c\" y=\"214.601013\"/>\n     <use style=\"stroke:#000000;\" x=\"11305.92\" xlink:href=\"#m20c2da124c\" y=\"214.601013\"/>\n     <use style=\"stroke:#000000;\" x=\"3538.56\" xlink:href=\"#m20c2da124c\" y=\"214.601013\"/>\n     <use style=\"stroke:#000000;\" x=\"53083.54\" xlink:href=\"#m20c2da124c\" y=\"214.601013\"/>\n     <use style=\"stroke:#000000;\" x=\"53083.54\" xlink:href=\"#m20c2da124c\" y=\"214.601013\"/>\n     <use style=\"stroke:#000000;\" x=\"64.27344\" xlink:href=\"#m20c2da124c\" y=\"214.601013\"/>\n     <use style=\"stroke:#000000;\" x=\"82.0848\" xlink:href=\"#m20c2da124c\" y=\"214.601013\"/>\n     <use style=\"stroke:#000000;\" x=\"69.22848\" xlink:href=\"#m20c2da124c\" y=\"214.601013\"/>\n     <use style=\"stroke:#000000;\" x=\"68.933856\" xlink:href=\"#m20c2da124c\" y=\"214.601013\"/>\n     <use style=\"stroke:#000000;\" x=\"72.17472\" xlink:href=\"#m20c2da124c\" y=\"214.601013\"/>\n     <use style=\"stroke:#000000;\" x=\"74.31744\" xlink:href=\"#m20c2da124c\" y=\"214.601013\"/>\n     <use style=\"stroke:#000000;\" x=\"69.09456\" xlink:href=\"#m20c2da124c\" y=\"214.601013\"/>\n     <use style=\"stroke:#000000;\" x=\"68.840112\" xlink:href=\"#m20c2da124c\" y=\"214.601013\"/>\n     <use style=\"stroke:#000000;\" x=\"72.44256\" xlink:href=\"#m20c2da124c\" y=\"214.601013\"/>\n     <use style=\"stroke:#000000;\" x=\"72.7104\" xlink:href=\"#m20c2da124c\" y=\"214.601013\"/>\n     <use style=\"stroke:#000000;\" x=\"93.20016\" xlink:href=\"#m20c2da124c\" y=\"214.601013\"/>\n     <use style=\"stroke:#000000;\" x=\"107.5296\" xlink:href=\"#m20c2da124c\" y=\"214.601013\"/>\n     <use style=\"stroke:#000000;\" x=\"80.7456\" xlink:href=\"#m20c2da124c\" y=\"214.601013\"/>\n     <use style=\"stroke:#000000;\" x=\"103.512\" xlink:href=\"#m20c2da124c\" y=\"214.601013\"/>\n     <use style=\"stroke:#000000;\" x=\"95.61072\" xlink:href=\"#m20c2da124c\" y=\"214.601013\"/>\n     <use style=\"stroke:#000000;\" x=\"103.512\" xlink:href=\"#m20c2da124c\" y=\"214.601013\"/>\n     <use style=\"stroke:#000000;\" x=\"88.7808\" xlink:href=\"#m20c2da124c\" y=\"214.601013\"/>\n     <use style=\"stroke:#000000;\" x=\"97.75344\" xlink:href=\"#m20c2da124c\" y=\"214.601013\"/>\n     <use style=\"stroke:#000000;\" x=\"69.76416\" xlink:href=\"#m20c2da124c\" y=\"214.601013\"/>\n     <use style=\"stroke:#000000;\" x=\"78.20112\" xlink:href=\"#m20c2da124c\" y=\"214.601013\"/>\n     <use style=\"stroke:#000000;\" x=\"58.24704\" xlink:href=\"#m20c2da124c\" y=\"214.601013\"/>\n     <use style=\"stroke:#000000;\" x=\"57.872064\" xlink:href=\"#m20c2da124c\" y=\"214.601013\"/>\n     <use style=\"stroke:#000000;\" x=\"57.91224\" xlink:href=\"#m20c2da124c\" y=\"214.601013\"/>\n     <use style=\"stroke:#000000;\" x=\"58.6488\" xlink:href=\"#m20c2da124c\" y=\"214.601013\"/>\n     <use style=\"stroke:#000000;\" x=\"57.831888\" xlink:href=\"#m20c2da124c\" y=\"214.601013\"/>\n     <use style=\"stroke:#000000;\" x=\"58.099728\" xlink:href=\"#m20c2da124c\" y=\"214.601013\"/>\n     <use style=\"stroke:#000000;\" x=\"57.872064\" xlink:href=\"#m20c2da124c\" y=\"214.601013\"/>\n     <use style=\"stroke:#000000;\" x=\"57.805104\" xlink:href=\"#m20c2da124c\" y=\"214.601013\"/>\n     <use style=\"stroke:#000000;\" x=\"57.834566\" xlink:href=\"#m20c2da124c\" y=\"214.601013\"/>\n     <use style=\"stroke:#000000;\" x=\"58.394352\" xlink:href=\"#m20c2da124c\" y=\"214.601013\"/>\n     <use style=\"stroke:#000000;\" x=\"178.5072\" xlink:href=\"#m20c2da124c\" y=\"214.601013\"/>\n     <use style=\"stroke:#000000;\" x=\"172.4808\" xlink:href=\"#m20c2da124c\" y=\"214.601013\"/>\n     <use style=\"stroke:#000000;\" x=\"163.1064\" xlink:href=\"#m20c2da124c\" y=\"214.601013\"/>\n     <use style=\"stroke:#000000;\" x=\"207.9696\" xlink:href=\"#m20c2da124c\" y=\"214.601013\"/>\n     <use style=\"stroke:#000000;\" x=\"408.8496\" xlink:href=\"#m20c2da124c\" y=\"214.601013\"/>\n     <use style=\"stroke:#000000;\" x=\"991.4016\" xlink:href=\"#m20c2da124c\" y=\"214.601013\"/>\n     <use style=\"stroke:#000000;\" x=\"173.95392\" xlink:href=\"#m20c2da124c\" y=\"214.601013\"/>\n     <use style=\"stroke:#000000;\" x=\"236.0928\" xlink:href=\"#m20c2da124c\" y=\"214.601013\"/>\n     <use style=\"stroke:#000000;\" x=\"995.4192\" xlink:href=\"#m20c2da124c\" y=\"214.601013\"/>\n     <use style=\"stroke:#000000;\" x=\"1422.624\" xlink:href=\"#m20c2da124c\" y=\"214.601013\"/>\n     <use style=\"stroke:#000000;\" x=\"1663.68\" xlink:href=\"#m20c2da124c\" y=\"214.601013\"/>\n     <use style=\"stroke:#000000;\" x=\"1931.52\" xlink:href=\"#m20c2da124c\" y=\"214.601013\"/>\n     <use style=\"stroke:#000000;\" x=\"4877.76\" xlink:href=\"#m20c2da124c\" y=\"214.601013\"/>\n     <use style=\"stroke:#000000;\" x=\"11172\" xlink:href=\"#m20c2da124c\" y=\"214.601013\"/>\n     <use style=\"stroke:#000000;\" x=\"1663.68\" xlink:href=\"#m20c2da124c\" y=\"214.601013\"/>\n     <use style=\"stroke:#000000;\" x=\"5681.28\" xlink:href=\"#m20c2da124c\" y=\"214.601013\"/>\n     <use style=\"stroke:#000000;\" x=\"8493.6\" xlink:href=\"#m20c2da124c\" y=\"214.601013\"/>\n     <use style=\"stroke:#000000;\" x=\"4877.76\" xlink:href=\"#m20c2da124c\" y=\"214.601013\"/>\n     <use style=\"stroke:#000000;\" x=\"7690.08\" xlink:href=\"#m20c2da124c\" y=\"214.601013\"/>\n     <use style=\"stroke:#000000;\" x=\"9029.28\" xlink:href=\"#m20c2da124c\" y=\"214.601013\"/>\n     <use style=\"stroke:#000000;\" x=\"53083.54\" xlink:href=\"#m20c2da124c\" y=\"214.601013\"/>\n     <use style=\"stroke:#000000;\" x=\"53083.54\" xlink:href=\"#m20c2da124c\" y=\"214.601013\"/>\n     <use style=\"stroke:#000000;\" x=\"68.853504\" xlink:href=\"#m20c2da124c\" y=\"214.601013\"/>\n     <use style=\"stroke:#000000;\" x=\"69.710592\" xlink:href=\"#m20c2da124c\" y=\"214.601013\"/>\n     <use style=\"stroke:#000000;\" x=\"71.3712\" xlink:href=\"#m20c2da124c\" y=\"214.601013\"/>\n     <use style=\"stroke:#000000;\" x=\"69.121344\" xlink:href=\"#m20c2da124c\" y=\"214.601013\"/>\n     <use style=\"stroke:#000000;\" x=\"71.23728\" xlink:href=\"#m20c2da124c\" y=\"214.601013\"/>\n     <use style=\"stroke:#000000;\" x=\"72.84432\" xlink:href=\"#m20c2da124c\" y=\"214.601013\"/>\n     <use style=\"stroke:#000000;\" x=\"69.121344\" xlink:href=\"#m20c2da124c\" y=\"214.601013\"/>\n     <use style=\"stroke:#000000;\" x=\"68.679408\" xlink:href=\"#m20c2da124c\" y=\"214.601013\"/>\n     <use style=\"stroke:#000000;\" x=\"67.112544\" xlink:href=\"#m20c2da124c\" y=\"214.601013\"/>\n     <use style=\"stroke:#000000;\" x=\"68.103552\" xlink:href=\"#m20c2da124c\" y=\"214.601013\"/>\n     <use style=\"stroke:#000000;\" x=\"122.52864\" xlink:href=\"#m20c2da124c\" y=\"214.601013\"/>\n     <use style=\"stroke:#000000;\" x=\"107.5296\" xlink:href=\"#m20c2da124c\" y=\"214.601013\"/>\n     <use style=\"stroke:#000000;\" x=\"98.1552\" xlink:href=\"#m20c2da124c\" y=\"214.601013\"/>\n     <use style=\"stroke:#000000;\" x=\"102.1728\" xlink:href=\"#m20c2da124c\" y=\"214.601013\"/>\n     <use style=\"stroke:#000000;\" x=\"139.6704\" xlink:href=\"#m20c2da124c\" y=\"214.601013\"/>\n     <use style=\"stroke:#000000;\" x=\"154.4016\" xlink:href=\"#m20c2da124c\" y=\"214.601013\"/>\n     <use style=\"stroke:#000000;\" x=\"88.7808\" xlink:href=\"#m20c2da124c\" y=\"214.601013\"/>\n     <use style=\"stroke:#000000;\" x=\"131.6352\" xlink:href=\"#m20c2da124c\" y=\"214.601013\"/>\n     <use style=\"stroke:#000000;\" x=\"102.1728\" xlink:href=\"#m20c2da124c\" y=\"214.601013\"/>\n     <use style=\"stroke:#000000;\" x=\"90.92352\" xlink:href=\"#m20c2da124c\" y=\"214.601013\"/>\n     <use style=\"stroke:#000000;\" x=\"57.953755\" xlink:href=\"#m20c2da124c\" y=\"214.601013\"/>\n     <use style=\"stroke:#000000;\" x=\"58.139904\" xlink:href=\"#m20c2da124c\" y=\"214.601013\"/>\n     <use style=\"stroke:#000000;\" x=\"57.890813\" xlink:href=\"#m20c2da124c\" y=\"214.601013\"/>\n     <use style=\"stroke:#000000;\" x=\"57.941702\" xlink:href=\"#m20c2da124c\" y=\"214.601013\"/>\n     <use style=\"stroke:#000000;\" x=\"57.842602\" xlink:href=\"#m20c2da124c\" y=\"214.601013\"/>\n     <use style=\"stroke:#000000;\" x=\"57.817157\" xlink:href=\"#m20c2da124c\" y=\"214.601013\"/>\n     <use style=\"stroke:#000000;\" x=\"57.905544\" xlink:href=\"#m20c2da124c\" y=\"214.601013\"/>\n     <use style=\"stroke:#000000;\" x=\"57.834566\" xlink:href=\"#m20c2da124c\" y=\"214.601013\"/>\n     <use style=\"stroke:#000000;\" x=\"57.815818\" xlink:href=\"#m20c2da124c\" y=\"214.601013\"/>\n     <use style=\"stroke:#000000;\" x=\"57.973843\" xlink:href=\"#m20c2da124c\" y=\"214.601013\"/>\n     <use style=\"stroke:#000000;\" x=\"862.8384\" xlink:href=\"#m20c2da124c\" y=\"214.601013\"/>\n     <use style=\"stroke:#000000;\" x=\"389.69904\" xlink:href=\"#m20c2da124c\" y=\"214.601013\"/>\n     <use style=\"stroke:#000000;\" x=\"826.0104\" xlink:href=\"#m20c2da124c\" y=\"214.601013\"/>\n     <use style=\"stroke:#000000;\" x=\"817.3056\" xlink:href=\"#m20c2da124c\" y=\"214.601013\"/>\n     <use style=\"stroke:#000000;\" x=\"849.4464\" xlink:href=\"#m20c2da124c\" y=\"214.601013\"/>\n     <use style=\"stroke:#000000;\" x=\"913.728\" xlink:href=\"#m20c2da124c\" y=\"214.601013\"/>\n     <use style=\"stroke:#000000;\" x=\"791.8608\" xlink:href=\"#m20c2da124c\" y=\"214.601013\"/>\n     <use style=\"stroke:#000000;\" x=\"964.6176\" xlink:href=\"#m20c2da124c\" y=\"214.601013\"/>\n     <use style=\"stroke:#000000;\" x=\"888.2832\" xlink:href=\"#m20c2da124c\" y=\"214.601013\"/>\n     <use style=\"stroke:#000000;\" x=\"975.3312\" xlink:href=\"#m20c2da124c\" y=\"214.601013\"/>\n     <use style=\"stroke:#000000;\" x=\"7690.08\" xlink:href=\"#m20c2da124c\" y=\"214.601013\"/>\n     <use style=\"stroke:#000000;\" x=\"4877.76\" xlink:href=\"#m20c2da124c\" y=\"214.601013\"/>\n     <use style=\"stroke:#000000;\" x=\"11172\" xlink:href=\"#m20c2da124c\" y=\"214.601013\"/>\n     <use style=\"stroke:#000000;\" x=\"13046.88\" xlink:href=\"#m20c2da124c\" y=\"214.601013\"/>\n     <use style=\"stroke:#000000;\" x=\"4743.84\" xlink:href=\"#m20c2da124c\" y=\"214.601013\"/>\n     <use style=\"stroke:#000000;\" x=\"3270.72\" xlink:href=\"#m20c2da124c\" y=\"214.601013\"/>\n     <use style=\"stroke:#000000;\" x=\"9832.8\" xlink:href=\"#m20c2da124c\" y=\"214.601013\"/>\n     <use style=\"stroke:#000000;\" x=\"5279.52\" xlink:href=\"#m20c2da124c\" y=\"214.601013\"/>\n     <use style=\"stroke:#000000;\" x=\"4074.24\" xlink:href=\"#m20c2da124c\" y=\"214.601013\"/>\n     <use style=\"stroke:#000000;\" x=\"3270.72\" xlink:href=\"#m20c2da124c\" y=\"214.601013\"/>\n     <use style=\"stroke:#000000;\" x=\"53083.54\" xlink:href=\"#m20c2da124c\" y=\"214.601013\"/>\n     <use style=\"stroke:#000000;\" x=\"53083.54\" xlink:href=\"#m20c2da124c\" y=\"214.601013\"/>\n     <use style=\"stroke:#000000;\" x=\"68.89368\" xlink:href=\"#m20c2da124c\" y=\"214.601013\"/>\n     <use style=\"stroke:#000000;\" x=\"72.17472\" xlink:href=\"#m20c2da124c\" y=\"214.601013\"/>\n     <use style=\"stroke:#000000;\" x=\"73.51392\" xlink:href=\"#m20c2da124c\" y=\"214.601013\"/>\n     <use style=\"stroke:#000000;\" x=\"69.857904\" xlink:href=\"#m20c2da124c\" y=\"214.601013\"/>\n     <use style=\"stroke:#000000;\" x=\"66.992016\" xlink:href=\"#m20c2da124c\" y=\"214.601013\"/>\n     <use style=\"stroke:#000000;\" x=\"69.670416\" xlink:href=\"#m20c2da124c\" y=\"214.601013\"/>\n     <use style=\"stroke:#000000;\" x=\"72.57648\" xlink:href=\"#m20c2da124c\" y=\"214.601013\"/>\n     <use style=\"stroke:#000000;\" x=\"70.005216\" xlink:href=\"#m20c2da124c\" y=\"214.601013\"/>\n     <use style=\"stroke:#000000;\" x=\"71.63904\" xlink:href=\"#m20c2da124c\" y=\"214.601013\"/>\n     <use style=\"stroke:#000000;\" x=\"73.91568\" xlink:href=\"#m20c2da124c\" y=\"214.601013\"/>\n     <use style=\"stroke:#000000;\" x=\"76.46016\" xlink:href=\"#m20c2da124c\" y=\"214.601013\"/>\n     <use style=\"stroke:#000000;\" x=\"118.2432\" xlink:href=\"#m20c2da124c\" y=\"214.601013\"/>\n     <use style=\"stroke:#000000;\" x=\"94.1376\" xlink:href=\"#m20c2da124c\" y=\"214.601013\"/>\n     <use style=\"stroke:#000000;\" x=\"107.26176\" xlink:href=\"#m20c2da124c\" y=\"214.601013\"/>\n     <use style=\"stroke:#000000;\" x=\"99.36048\" xlink:href=\"#m20c2da124c\" y=\"214.601013\"/>\n     <use style=\"stroke:#000000;\" x=\"146.3664\" xlink:href=\"#m20c2da124c\" y=\"214.601013\"/>\n     <use style=\"stroke:#000000;\" x=\"91.19136\" xlink:href=\"#m20c2da124c\" y=\"214.601013\"/>\n     <use style=\"stroke:#000000;\" x=\"101.63712\" xlink:href=\"#m20c2da124c\" y=\"214.601013\"/>\n     <use style=\"stroke:#000000;\" x=\"119.71632\" xlink:href=\"#m20c2da124c\" y=\"214.601013\"/>\n     <use style=\"stroke:#000000;\" x=\"147.036\" xlink:href=\"#m20c2da124c\" y=\"214.601013\"/>\n     <use style=\"stroke:#000000;\" x=\"58.260432\" xlink:href=\"#m20c2da124c\" y=\"214.601013\"/>\n     <use style=\"stroke:#000000;\" x=\"58.166688\" xlink:href=\"#m20c2da124c\" y=\"214.601013\"/>\n     <use style=\"stroke:#000000;\" x=\"58.153296\" xlink:href=\"#m20c2da124c\" y=\"214.601013\"/>\n     <use style=\"stroke:#000000;\" x=\"58.193472\" xlink:href=\"#m20c2da124c\" y=\"214.601013\"/>\n     <use style=\"stroke:#000000;\" x=\"58.300608\" xlink:href=\"#m20c2da124c\" y=\"214.601013\"/>\n     <use style=\"stroke:#000000;\" x=\"58.541664\" xlink:href=\"#m20c2da124c\" y=\"214.601013\"/>\n     <use style=\"stroke:#000000;\" x=\"58.340784\" xlink:href=\"#m20c2da124c\" y=\"214.601013\"/>\n     <use style=\"stroke:#000000;\" x=\"58.032768\" xlink:href=\"#m20c2da124c\" y=\"214.601013\"/>\n     <use style=\"stroke:#000000;\" x=\"58.059552\" xlink:href=\"#m20c2da124c\" y=\"214.601013\"/>\n     <use style=\"stroke:#000000;\" x=\"57.976522\" xlink:href=\"#m20c2da124c\" y=\"214.601013\"/>\n     <use style=\"stroke:#000000;\" x=\"908.3712\" xlink:href=\"#m20c2da124c\" y=\"214.601013\"/>\n     <use style=\"stroke:#000000;\" x=\"840.87552\" xlink:href=\"#m20c2da124c\" y=\"214.601013\"/>\n     <use style=\"stroke:#000000;\" x=\"859.08864\" xlink:href=\"#m20c2da124c\" y=\"214.601013\"/>\n     <use style=\"stroke:#000000;\" x=\"945.8688\" xlink:href=\"#m20c2da124c\" y=\"214.601013\"/>\n     <use style=\"stroke:#000000;\" x=\"912.3888\" xlink:href=\"#m20c2da124c\" y=\"214.601013\"/>\n     <use style=\"stroke:#000000;\" x=\"891.89904\" xlink:href=\"#m20c2da124c\" y=\"214.601013\"/>\n     <use style=\"stroke:#000000;\" x=\"312.4272\" xlink:href=\"#m20c2da124c\" y=\"214.601013\"/>\n     <use style=\"stroke:#000000;\" x=\"864.1776\" xlink:href=\"#m20c2da124c\" y=\"214.601013\"/>\n     <use style=\"stroke:#000000;\" x=\"813.68976\" xlink:href=\"#m20c2da124c\" y=\"214.601013\"/>\n     <use style=\"stroke:#000000;\" x=\"315.1056\" xlink:href=\"#m20c2da124c\" y=\"214.601013\"/>\n     <use style=\"stroke:#000000;\" x=\"4743.84\" xlink:href=\"#m20c2da124c\" y=\"214.601013\"/>\n     <use style=\"stroke:#000000;\" x=\"10234.56\" xlink:href=\"#m20c2da124c\" y=\"214.601013\"/>\n     <use style=\"stroke:#000000;\" x=\"13180.8\" xlink:href=\"#m20c2da124c\" y=\"214.601013\"/>\n     <use style=\"stroke:#000000;\" x=\"10904.16\" xlink:href=\"#m20c2da124c\" y=\"214.601013\"/>\n     <use style=\"stroke:#000000;\" x=\"8359.68\" xlink:href=\"#m20c2da124c\" y=\"214.601013\"/>\n     <use style=\"stroke:#000000;\" x=\"6216.96\" xlink:href=\"#m20c2da124c\" y=\"214.601013\"/>\n     <use style=\"stroke:#000000;\" x=\"10770.24\" xlink:href=\"#m20c2da124c\" y=\"214.601013\"/>\n     <use style=\"stroke:#000000;\" x=\"3404.64\" xlink:href=\"#m20c2da124c\" y=\"214.601013\"/>\n     <use style=\"stroke:#000000;\" x=\"11573.76\" xlink:href=\"#m20c2da124c\" y=\"214.601013\"/>\n     <use style=\"stroke:#000000;\" x=\"12377.28\" xlink:href=\"#m20c2da124c\" y=\"214.601013\"/>\n     <use style=\"stroke:#000000;\" x=\"53083.54\" xlink:href=\"#m20c2da124c\" y=\"214.601013\"/>\n    </g>\n   </g>\n   <g id=\"line2d_15\">\n    <path clip-path=\"url(#pf898d5f346)\" d=\"M 57.764928 41.581862 \nL 60.374374 29.075534 \nL 62.98382 20.783959 \nL 65.593266 17.083636 \nL 68.202712 17.974844 \nL 70.812158 23.097546 \nL 73.421604 31.789045 \nL 76.03105 43.173109 \nL 78.640496 56.267548 \nL 83.859388 83.789625 \nL 86.468834 96.666168 \nL 89.078281 108.276357 \nL 91.687727 118.41356 \nL 94.297173 127.08816 \nL 96.906619 134.474567 \nL 99.516065 140.84323 \nL 102.125511 146.491614 \nL 104.734957 151.686606 \nL 109.953849 161.425957 \nL 115.172741 170.680434 \nL 117.782187 175.04495 \nL 120.391633 179.135688 \nL 123.001079 182.88064 \nL 125.610525 186.225169 \nL 128.219971 189.13777 \nL 130.829417 191.611099 \nL 133.438863 193.659912 \nL 136.048309 195.317029 \nL 138.657755 196.627902 \nL 141.267201 197.644133 \nL 143.876647 198.416543 \nL 146.486094 198.98882 \nL 149.09554 199.393088 \nL 151.704986 199.648631 \nL 154.314432 199.764313 \nL 156.923878 199.744257 \nL 159.533324 199.595289 \nL 164.752216 198.991166 \nL 169.971108 198.252147 \nL 172.580554 197.968916 \nL 175.19 197.812301 \nL 177.799446 197.815718 \nL 180.408892 197.990448 \nL 183.018338 198.324838 \nL 188.23723 199.341459 \nL 198.675014 201.818601 \nL 203.893907 203.174907 \nL 209.112799 204.773662 \nL 219.550583 208.340503 \nL 224.769475 209.74838 \nL 229.988367 210.711811 \nL 237.816705 211.679241 \nL 258.692273 214.092143 \nL 263.911166 214.344417 \nL 269.130058 214.346585 \nL 274.34895 214.077205 \nL 279.567842 213.506415 \nL 284.786734 212.624224 \nL 290.005626 211.484112 \nL 300.44341 209.079315 \nL 303.052856 208.629011 \nL 305.662302 208.305867 \nL 308.271748 208.137776 \nL 310.881194 208.143752 \nL 313.49064 208.330426 \nL 316.100086 208.689734 \nL 318.709533 209.198612 \nL 323.928425 210.512751 \nL 331.756763 212.551115 \nL 336.975655 213.558408 \nL 342.194547 214.189048 \nL 347.413439 214.510224 \nL 352.632331 214.619943 \nL 360.460669 214.501847 \nL 365.679561 214.222054 \nL 370.898453 213.745226 \nL 378.726792 212.704475 \nL 386.55513 211.597978 \nL 391.774022 211.057977 \nL 396.992914 210.779037 \nL 402.211806 210.782161 \nL 407.430698 211.047311 \nL 415.259036 211.763528 \nL 420.477928 212.224439 \nL 425.69682 212.466833 \nL 430.915712 212.428325 \nL 441.353497 212.07505 \nL 446.572389 212.184841 \nL 451.791281 212.59272 \nL 467.447957 214.222382 \nL 472.666849 214.508656 \nL 480.495187 214.697481 \nL 496.151864 214.75517 \nL 728.392562 214.756329 \nL 728.392562 214.756329 \n\" style=\"fill:none;stroke:#ff0000;stroke-linecap:square;stroke-width:2;\"/>\n   </g>\n   <g id=\"line2d_16\">\n    <path clip-path=\"url(#pf898d5f346)\" d=\"M 57.764928 156.911681 \nL 62.98382 155.827617 \nL 68.202712 155.040307 \nL 73.421604 154.559043 \nL 78.640496 154.388032 \nL 83.859388 154.526338 \nL 89.078281 154.967971 \nL 94.297173 155.70211 \nL 99.516065 156.713472 \nL 104.734957 157.982777 \nL 109.953849 159.487325 \nL 115.172741 161.201633 \nL 120.391633 163.098128 \nL 128.219971 166.220927 \nL 136.048309 169.588497 \nL 149.09554 175.480863 \nL 164.752216 182.520112 \nL 175.19 186.937443 \nL 183.018338 190.023103 \nL 190.846676 192.879438 \nL 198.675014 195.488798 \nL 206.503353 197.844178 \nL 214.331691 199.947347 \nL 222.160029 201.806909 \nL 229.988367 203.436444 \nL 237.816705 204.852842 \nL 245.645043 206.074891 \nL 256.082827 207.435776 \nL 266.520612 208.531738 \nL 276.958396 209.405992 \nL 290.005626 210.24636 \nL 303.052856 210.86777 \nL 318.709533 211.401363 \nL 339.585101 211.872969 \nL 370.898453 212.31288 \nL 459.619619 213.439518 \nL 522.246324 214.290693 \nL 561.388015 214.584468 \nL 608.358044 214.695766 \nL 652.718626 214.58779 \nL 681.422533 214.324718 \nL 704.907547 213.909392 \nL 725.783116 213.336221 \nL 728.392562 213.249609 \nL 728.392562 213.249609 \n\" style=\"fill:none;stroke:#0000ff;stroke-linecap:square;stroke-width:2;\"/>\n   </g>\n   <g id=\"line2d_17\">\n    <path clip-path=\"url(#pf898d5f346)\" d=\"M 57.764928 182.603327 \nL 70.812158 182.130367 \nL 81.249942 181.953334 \nL 91.687727 181.957493 \nL 102.125511 182.141591 \nL 115.172741 182.61791 \nL 128.219971 183.353679 \nL 141.267201 184.327742 \nL 154.314432 185.513522 \nL 169.971108 187.172286 \nL 188.23723 189.358108 \nL 211.722245 192.415019 \nL 263.911166 199.286741 \nL 284.786734 201.777631 \nL 303.052856 203.752761 \nL 321.318979 205.513865 \nL 339.585101 207.053648 \nL 357.851223 208.376506 \nL 376.117346 209.495522 \nL 396.992914 210.548997 \nL 420.477928 211.485643 \nL 446.572389 212.272308 \nL 475.276295 212.894042 \nL 506.589648 213.347358 \nL 543.121892 213.642178 \nL 579.654137 213.72098 \nL 618.795828 213.580076 \nL 657.937518 213.214313 \nL 702.298101 212.561367 \nL 728.392562 212.091854 \nL 728.392562 212.091854 \n\" style=\"fill:none;stroke:#000000;stroke-linecap:square;stroke-width:2;\"/>\n   </g>\n   <g id=\"line2d_18\">\n    <path clip-path=\"url(#pf898d5f346)\" d=\"M 57.764928 197.669247 \nL 89.078281 197.514126 \nL 120.391633 197.579164 \nL 151.704986 197.859501 \nL 185.627784 198.390329 \nL 222.160029 199.195151 \nL 263.911166 200.353635 \nL 316.100086 202.041869 \nL 459.619619 206.817787 \nL 509.199094 208.166994 \nL 556.169123 209.213695 \nL 603.139151 210.027615 \nL 652.718626 210.652733 \nL 707.516993 211.111794 \nL 728.392562 211.236439 \nL 728.392562 211.236439 \n\" style=\"fill:none;stroke:#808080;stroke-linecap:square;stroke-width:2;\"/>\n   </g>\n   <g id=\"line2d_19\">\n    <path clip-path=\"url(#pf898d5f346)\" d=\"M 57.764928 207.21435 \nL 180.408892 207.128729 \nL 303.052856 207.264086 \nL 436.134605 207.639273 \nL 587.482475 208.29748 \nL 728.392562 209.057111 \nL 728.392562 209.057111 \n\" style=\"fill:none;stroke:#008000;stroke-linecap:square;stroke-width:2;\"/>\n   </g>\n   <g id=\"line2d_20\">\n    <path clip-path=\"url(#pf898d5f346)\" d=\"M 57.764928 210.695355 \nL 383.945684 210.683824 \nL 723.17367 210.897424 \nL 728.392562 210.902327 \nL 728.392562 210.902327 \n\" style=\"fill:none;stroke:#add8e6;stroke-linecap:square;stroke-width:2;\"/>\n   </g>\n   <g id=\"patch_3\">\n    <path d=\"M 56.64 224.64 \nL 56.64 7.2 \n\" style=\"fill:none;stroke:#000000;stroke-linecap:square;stroke-linejoin:miter;stroke-width:0.8;\"/>\n   </g>\n   <g id=\"patch_4\">\n    <path d=\"M 726.24 224.64 \nL 726.24 7.2 \n\" style=\"fill:none;stroke:#000000;stroke-linecap:square;stroke-linejoin:miter;stroke-width:0.8;\"/>\n   </g>\n   <g id=\"patch_5\">\n    <path d=\"M 56.64 224.64 \nL 726.24 224.64 \n\" style=\"fill:none;stroke:#000000;stroke-linecap:square;stroke-linejoin:miter;stroke-width:0.8;\"/>\n   </g>\n   <g id=\"patch_6\">\n    <path d=\"M 56.64 7.2 \nL 726.24 7.2 \n\" style=\"fill:none;stroke:#000000;stroke-linecap:square;stroke-linejoin:miter;stroke-width:0.8;\"/>\n   </g>\n   <g id=\"legend_1\">\n    <g id=\"patch_7\">\n     <path d=\"M 656.619688 103.26875 \nL 719.24 103.26875 \nQ 721.24 103.26875 721.24 101.26875 \nL 721.24 14.2 \nQ 721.24 12.2 719.24 12.2 \nL 656.619688 12.2 \nQ 654.619688 12.2 654.619688 14.2 \nL 654.619688 101.26875 \nQ 654.619688 103.26875 656.619688 103.26875 \nz\n\" style=\"fill:#ffffff;opacity:0.8;stroke:#cccccc;stroke-linejoin:miter;\"/>\n    </g>\n    <g id=\"line2d_21\">\n     <path d=\"M 658.619688 20.298438 \nL 678.619688 20.298438 \n\" style=\"fill:none;stroke:#ff0000;stroke-linecap:square;stroke-width:2;\"/>\n    </g>\n    <g id=\"line2d_22\"/>\n    <g id=\"text_15\">\n     <!-- h=0.1 -->\n     <defs>\n      <path d=\"M 54.890625 33.015625 \nL 54.890625 0 \nL 45.90625 0 \nL 45.90625 32.71875 \nQ 45.90625 40.484375 42.875 44.328125 \nQ 39.84375 48.1875 33.796875 48.1875 \nQ 26.515625 48.1875 22.3125 43.546875 \nQ 18.109375 38.921875 18.109375 30.90625 \nL 18.109375 0 \nL 9.078125 0 \nL 9.078125 75.984375 \nL 18.109375 75.984375 \nL 18.109375 46.1875 \nQ 21.34375 51.125 25.703125 53.5625 \nQ 30.078125 56 35.796875 56 \nQ 45.21875 56 50.046875 50.171875 \nQ 54.890625 44.34375 54.890625 33.015625 \nz\n\" id=\"DejaVuSans-104\"/>\n      <path d=\"M 10.59375 45.40625 \nL 73.1875 45.40625 \nL 73.1875 37.203125 \nL 10.59375 37.203125 \nz\nM 10.59375 25.484375 \nL 73.1875 25.484375 \nL 73.1875 17.1875 \nL 10.59375 17.1875 \nz\n\" id=\"DejaVuSans-61\"/>\n     </defs>\n     <g transform=\"translate(686.619688 23.798438)scale(0.1 -0.1)\">\n      <use xlink:href=\"#DejaVuSans-104\"/>\n      <use x=\"63.378906\" xlink:href=\"#DejaVuSans-61\"/>\n      <use x=\"147.167969\" xlink:href=\"#DejaVuSans-48\"/>\n      <use x=\"210.791016\" xlink:href=\"#DejaVuSans-46\"/>\n      <use x=\"242.578125\" xlink:href=\"#DejaVuSans-49\"/>\n     </g>\n    </g>\n    <g id=\"line2d_23\">\n     <path d=\"M 658.619688 34.976562 \nL 678.619688 34.976562 \n\" style=\"fill:none;stroke:#0000ff;stroke-linecap:square;stroke-width:2;\"/>\n    </g>\n    <g id=\"line2d_24\"/>\n    <g id=\"text_16\">\n     <!-- h=0.5 -->\n     <g transform=\"translate(686.619688 38.476562)scale(0.1 -0.1)\">\n      <use xlink:href=\"#DejaVuSans-104\"/>\n      <use x=\"63.378906\" xlink:href=\"#DejaVuSans-61\"/>\n      <use x=\"147.167969\" xlink:href=\"#DejaVuSans-48\"/>\n      <use x=\"210.791016\" xlink:href=\"#DejaVuSans-46\"/>\n      <use x=\"242.578125\" xlink:href=\"#DejaVuSans-53\"/>\n     </g>\n    </g>\n    <g id=\"line2d_25\">\n     <path d=\"M 658.619688 49.654687 \nL 678.619688 49.654687 \n\" style=\"fill:none;stroke:#000000;stroke-linecap:square;stroke-width:2;\"/>\n    </g>\n    <g id=\"line2d_26\"/>\n    <g id=\"text_17\">\n     <!-- h=1 -->\n     <g transform=\"translate(686.619688 53.154687)scale(0.1 -0.1)\">\n      <use xlink:href=\"#DejaVuSans-104\"/>\n      <use x=\"63.378906\" xlink:href=\"#DejaVuSans-61\"/>\n      <use x=\"147.167969\" xlink:href=\"#DejaVuSans-49\"/>\n     </g>\n    </g>\n    <g id=\"line2d_27\">\n     <path d=\"M 658.619688 64.332813 \nL 678.619688 64.332813 \n\" style=\"fill:none;stroke:#808080;stroke-linecap:square;stroke-width:2;\"/>\n    </g>\n    <g id=\"line2d_28\"/>\n    <g id=\"text_18\">\n     <!-- h=2 -->\n     <g transform=\"translate(686.619688 67.832813)scale(0.1 -0.1)\">\n      <use xlink:href=\"#DejaVuSans-104\"/>\n      <use x=\"63.378906\" xlink:href=\"#DejaVuSans-61\"/>\n      <use x=\"147.167969\" xlink:href=\"#DejaVuSans-50\"/>\n     </g>\n    </g>\n    <g id=\"line2d_29\">\n     <path d=\"M 658.619688 79.010938 \nL 678.619688 79.010938 \n\" style=\"fill:none;stroke:#008000;stroke-linecap:square;stroke-width:2;\"/>\n    </g>\n    <g id=\"line2d_30\"/>\n    <g id=\"text_19\">\n     <!-- h=5 -->\n     <g transform=\"translate(686.619688 82.510938)scale(0.1 -0.1)\">\n      <use xlink:href=\"#DejaVuSans-104\"/>\n      <use x=\"63.378906\" xlink:href=\"#DejaVuSans-61\"/>\n      <use x=\"147.167969\" xlink:href=\"#DejaVuSans-53\"/>\n     </g>\n    </g>\n    <g id=\"line2d_31\">\n     <path d=\"M 658.619688 93.689063 \nL 678.619688 93.689063 \n\" style=\"fill:none;stroke:#add8e6;stroke-linecap:square;stroke-width:2;\"/>\n    </g>\n    <g id=\"line2d_32\"/>\n    <g id=\"text_20\">\n     <!-- h=10 -->\n     <g transform=\"translate(686.619688 97.189063)scale(0.1 -0.1)\">\n      <use xlink:href=\"#DejaVuSans-104\"/>\n      <use x=\"63.378906\" xlink:href=\"#DejaVuSans-61\"/>\n      <use x=\"147.167969\" xlink:href=\"#DejaVuSans-49\"/>\n      <use x=\"210.791016\" xlink:href=\"#DejaVuSans-48\"/>\n     </g>\n    </g>\n   </g>\n  </g>\n </g>\n <defs>\n  <clipPath id=\"pf898d5f346\">\n   <rect height=\"217.44\" width=\"669.6\" x=\"56.64\" y=\"7.2\"/>\n  </clipPath>\n </defs>\n</svg>\n",
      "image/png": "[encoded data removed]"
     },
     "metadata": {
      "needs_background": "light"
     }
    }
   ],
   "source": [
    "import numpy as np\n",
    "from matplotlib.pyplot import cm\n",
    "from sklearn.neighbors import KernelDensity\n",
    "\n",
    "color=['red', 'blue', 'black', 'gray', 'green', 'lightblue']\n",
    "\n",
    "X_Feat = X[:, 2]\n",
    "X_Feat = X_Feat.reshape((len(X_Feat), 1))\n",
    "\n",
    "X_plot = np.linspace(np.min(X_Feat), np.max(X_Feat), 100000)[:, np.newaxis]\n",
    "\n",
    "plt.figure(figsize=(12,4))\n",
    "plt.plot(X_Feat, 0.001*np.ones(X_Feat.shape[0]), 'ok')\n",
    "plt.xlim((0, 5))\n",
    "\n",
    "c = 0 \n",
    "\n",
    "vh = [0.1, 0.5, 1, 2, 5, 10]\n",
    "\n",
    "for h in vh:\n",
    "    kde = KernelDensity(kernel='gaussian', bandwidth=h).fit(X_Feat)\n",
    "    log_dens = np.exp(kde.score_samples(X_plot)) # score_samples() returns the log density.\n",
    "    plt.plot(X_plot,log_dens, color = color[c], linewidth=2, label = 'h='+str(h))\n",
    "    c = c + 1\n",
    "\n",
    "plt.ylabel('P(x)', fontsize = 20)\n",
    "plt.xticks(fontsize=12)\n",
    "plt.yticks(fontsize=12)\n",
    "plt.legend(fontsize = 10)\n",
    "plt.show(True)"
   ]
  },
  {
   "cell_type": "markdown",
   "metadata": {
    "id": "VUQvitjmLb7C"
   },
   "source": [
    "Para essa outra variável, note como o valor de `h = 0.1` deixa a curva tão alta que temos valores que passam de `P(X) = 1`."
   ]
  },
  {
   "cell_type": "code",
   "execution_count": 23,
   "metadata": {
    "colab": {
     "base_uri": "https://localhost:8080/",
     "height": 268
    },
    "id": "XBQVBdXkL86t",
    "outputId": "19b98fec-2226-4082-b18b-4d5643120e13"
   },
   "outputs": [
    {
     "output_type": "display_data",
     "data": {
      "text/plain": "<Figure size 864x288 with 1 Axes>",
      "image/svg+xml": "<?xml version=\"1.0\" encoding=\"utf-8\" standalone=\"no\"?>\n<!DOCTYPE svg PUBLIC \"-//W3C//DTD SVG 1.1//EN\"\n  \"http://www.w3.org/Graphics/SVG/1.1/DTD/svg11.dtd\">\n<!-- Created with matplotlib (https://matplotlib.org/) -->\n<svg height=\"250.45375pt\" version=\"1.1\" viewBox=\"0 0 741.075 250.45375\" width=\"741.075pt\" xmlns=\"http://www.w3.org/2000/svg\" xmlns:xlink=\"http://www.w3.org/1999/xlink\">\n <defs>\n  <style type=\"text/css\">\n*{stroke-linecap:butt;stroke-linejoin:round;}\n  </style>\n </defs>\n <g id=\"figure_1\">\n  <g id=\"patch_1\">\n   <path d=\"M 0 250.45375 \nL 741.075 250.45375 \nL 741.075 0 \nL 0 0 \nz\n\" style=\"fill:none;\"/>\n  </g>\n  <g id=\"axes_1\">\n   <g id=\"patch_2\">\n    <path d=\"M 64.275 224.64 \nL 733.875 224.64 \nL 733.875 7.2 \nL 64.275 7.2 \nz\n\" style=\"fill:#ffffff;\"/>\n   </g>\n   <g id=\"matplotlib.axis_1\">\n    <g id=\"xtick_1\">\n     <g id=\"line2d_1\">\n      <defs>\n       <path d=\"M 0 0 \nL 0 3.5 \n\" id=\"md18132ad44\" style=\"stroke:#000000;stroke-width:0.8;\"/>\n      </defs>\n      <g>\n       <use style=\"stroke:#000000;stroke-width:0.8;\" x=\"131.257842\" xlink:href=\"#md18132ad44\" y=\"224.64\"/>\n      </g>\n     </g>\n     <g id=\"text_1\">\n      <!-- −10 -->\n      <defs>\n       <path d=\"M 10.59375 35.5 \nL 73.1875 35.5 \nL 73.1875 27.203125 \nL 10.59375 27.203125 \nz\n\" id=\"DejaVuSans-8722\"/>\n       <path d=\"M 12.40625 8.296875 \nL 28.515625 8.296875 \nL 28.515625 63.921875 \nL 10.984375 60.40625 \nL 10.984375 69.390625 \nL 28.421875 72.90625 \nL 38.28125 72.90625 \nL 38.28125 8.296875 \nL 54.390625 8.296875 \nL 54.390625 0 \nL 12.40625 0 \nz\n\" id=\"DejaVuSans-49\"/>\n       <path d=\"M 31.78125 66.40625 \nQ 24.171875 66.40625 20.328125 58.90625 \nQ 16.5 51.421875 16.5 36.375 \nQ 16.5 21.390625 20.328125 13.890625 \nQ 24.171875 6.390625 31.78125 6.390625 \nQ 39.453125 6.390625 43.28125 13.890625 \nQ 47.125 21.390625 47.125 36.375 \nQ 47.125 51.421875 43.28125 58.90625 \nQ 39.453125 66.40625 31.78125 66.40625 \nz\nM 31.78125 74.21875 \nQ 44.046875 74.21875 50.515625 64.515625 \nQ 56.984375 54.828125 56.984375 36.375 \nQ 56.984375 17.96875 50.515625 8.265625 \nQ 44.046875 -1.421875 31.78125 -1.421875 \nQ 19.53125 -1.421875 13.0625 8.265625 \nQ 6.59375 17.96875 6.59375 36.375 \nQ 6.59375 54.828125 13.0625 64.515625 \nQ 19.53125 74.21875 31.78125 74.21875 \nz\n\" id=\"DejaVuSans-48\"/>\n      </defs>\n      <g transform=\"translate(118.595029 240.758125)scale(0.12 -0.12)\">\n       <use xlink:href=\"#DejaVuSans-8722\"/>\n       <use x=\"83.789062\" xlink:href=\"#DejaVuSans-49\"/>\n       <use x=\"147.412109\" xlink:href=\"#DejaVuSans-48\"/>\n      </g>\n     </g>\n    </g>\n    <g id=\"xtick_2\">\n     <g id=\"line2d_2\">\n      <g>\n       <use style=\"stroke:#000000;stroke-width:0.8;\" x=\"226.430961\" xlink:href=\"#md18132ad44\" y=\"224.64\"/>\n      </g>\n     </g>\n     <g id=\"text_2\">\n      <!-- −5 -->\n      <defs>\n       <path d=\"M 10.796875 72.90625 \nL 49.515625 72.90625 \nL 49.515625 64.59375 \nL 19.828125 64.59375 \nL 19.828125 46.734375 \nQ 21.96875 47.46875 24.109375 47.828125 \nQ 26.265625 48.1875 28.421875 48.1875 \nQ 40.625 48.1875 47.75 41.5 \nQ 54.890625 34.8125 54.890625 23.390625 \nQ 54.890625 11.625 47.5625 5.09375 \nQ 40.234375 -1.421875 26.90625 -1.421875 \nQ 22.3125 -1.421875 17.546875 -0.640625 \nQ 12.796875 0.140625 7.71875 1.703125 \nL 7.71875 11.625 \nQ 12.109375 9.234375 16.796875 8.0625 \nQ 21.484375 6.890625 26.703125 6.890625 \nQ 35.15625 6.890625 40.078125 11.328125 \nQ 45.015625 15.765625 45.015625 23.390625 \nQ 45.015625 31 40.078125 35.4375 \nQ 35.15625 39.890625 26.703125 39.890625 \nQ 22.75 39.890625 18.8125 39.015625 \nQ 14.890625 38.140625 10.796875 36.28125 \nz\n\" id=\"DejaVuSans-53\"/>\n      </defs>\n      <g transform=\"translate(217.585649 240.758125)scale(0.12 -0.12)\">\n       <use xlink:href=\"#DejaVuSans-8722\"/>\n       <use x=\"83.789062\" xlink:href=\"#DejaVuSans-53\"/>\n      </g>\n     </g>\n    </g>\n    <g id=\"xtick_3\">\n     <g id=\"line2d_3\">\n      <g>\n       <use style=\"stroke:#000000;stroke-width:0.8;\" x=\"321.604081\" xlink:href=\"#md18132ad44\" y=\"224.64\"/>\n      </g>\n     </g>\n     <g id=\"text_3\">\n      <!-- 0 -->\n      <g transform=\"translate(317.786581 240.758125)scale(0.12 -0.12)\">\n       <use xlink:href=\"#DejaVuSans-48\"/>\n      </g>\n     </g>\n    </g>\n    <g id=\"xtick_4\">\n     <g id=\"line2d_4\">\n      <g>\n       <use style=\"stroke:#000000;stroke-width:0.8;\" x=\"416.7772\" xlink:href=\"#md18132ad44\" y=\"224.64\"/>\n      </g>\n     </g>\n     <g id=\"text_4\">\n      <!-- 5 -->\n      <g transform=\"translate(412.9597 240.758125)scale(0.12 -0.12)\">\n       <use xlink:href=\"#DejaVuSans-53\"/>\n      </g>\n     </g>\n    </g>\n    <g id=\"xtick_5\">\n     <g id=\"line2d_5\">\n      <g>\n       <use style=\"stroke:#000000;stroke-width:0.8;\" x=\"511.95032\" xlink:href=\"#md18132ad44\" y=\"224.64\"/>\n      </g>\n     </g>\n     <g id=\"text_5\">\n      <!-- 10 -->\n      <g transform=\"translate(504.31532 240.758125)scale(0.12 -0.12)\">\n       <use xlink:href=\"#DejaVuSans-49\"/>\n       <use x=\"63.623047\" xlink:href=\"#DejaVuSans-48\"/>\n      </g>\n     </g>\n    </g>\n    <g id=\"xtick_6\">\n     <g id=\"line2d_6\">\n      <g>\n       <use style=\"stroke:#000000;stroke-width:0.8;\" x=\"607.123439\" xlink:href=\"#md18132ad44\" y=\"224.64\"/>\n      </g>\n     </g>\n     <g id=\"text_6\">\n      <!-- 15 -->\n      <g transform=\"translate(599.488439 240.758125)scale(0.12 -0.12)\">\n       <use xlink:href=\"#DejaVuSans-49\"/>\n       <use x=\"63.623047\" xlink:href=\"#DejaVuSans-53\"/>\n      </g>\n     </g>\n    </g>\n    <g id=\"xtick_7\">\n     <g id=\"line2d_7\">\n      <g>\n       <use style=\"stroke:#000000;stroke-width:0.8;\" x=\"702.296559\" xlink:href=\"#md18132ad44\" y=\"224.64\"/>\n      </g>\n     </g>\n     <g id=\"text_7\">\n      <!-- 20 -->\n      <defs>\n       <path d=\"M 19.1875 8.296875 \nL 53.609375 8.296875 \nL 53.609375 0 \nL 7.328125 0 \nL 7.328125 8.296875 \nQ 12.9375 14.109375 22.625 23.890625 \nQ 32.328125 33.6875 34.8125 36.53125 \nQ 39.546875 41.84375 41.421875 45.53125 \nQ 43.3125 49.21875 43.3125 52.78125 \nQ 43.3125 58.59375 39.234375 62.25 \nQ 35.15625 65.921875 28.609375 65.921875 \nQ 23.96875 65.921875 18.8125 64.3125 \nQ 13.671875 62.703125 7.8125 59.421875 \nL 7.8125 69.390625 \nQ 13.765625 71.78125 18.9375 73 \nQ 24.125 74.21875 28.421875 74.21875 \nQ 39.75 74.21875 46.484375 68.546875 \nQ 53.21875 62.890625 53.21875 53.421875 \nQ 53.21875 48.921875 51.53125 44.890625 \nQ 49.859375 40.875 45.40625 35.40625 \nQ 44.1875 33.984375 37.640625 27.21875 \nQ 31.109375 20.453125 19.1875 8.296875 \nz\n\" id=\"DejaVuSans-50\"/>\n      </defs>\n      <g transform=\"translate(694.661559 240.758125)scale(0.12 -0.12)\">\n       <use xlink:href=\"#DejaVuSans-50\"/>\n       <use x=\"63.623047\" xlink:href=\"#DejaVuSans-48\"/>\n      </g>\n     </g>\n    </g>\n   </g>\n   <g id=\"matplotlib.axis_2\">\n    <g id=\"ytick_1\">\n     <g id=\"line2d_8\">\n      <defs>\n       <path d=\"M 0 0 \nL -3.5 0 \n\" id=\"m2db373211f\" style=\"stroke:#000000;stroke-width:0.8;\"/>\n      </defs>\n      <g>\n       <use style=\"stroke:#000000;stroke-width:0.8;\" x=\"64.275\" xlink:href=\"#m2db373211f\" y=\"214.756364\"/>\n      </g>\n     </g>\n     <g id=\"text_8\">\n      <!-- 0.00 -->\n      <defs>\n       <path d=\"M 10.6875 12.40625 \nL 21 12.40625 \nL 21 0 \nL 10.6875 0 \nz\n\" id=\"DejaVuSans-46\"/>\n      </defs>\n      <g transform=\"translate(30.55625 219.315426)scale(0.12 -0.12)\">\n       <use xlink:href=\"#DejaVuSans-48\"/>\n       <use x=\"63.623047\" xlink:href=\"#DejaVuSans-46\"/>\n       <use x=\"95.410156\" xlink:href=\"#DejaVuSans-48\"/>\n       <use x=\"159.033203\" xlink:href=\"#DejaVuSans-48\"/>\n      </g>\n     </g>\n    </g>\n    <g id=\"ytick_2\">\n     <g id=\"line2d_9\">\n      <g>\n       <use style=\"stroke:#000000;stroke-width:0.8;\" x=\"64.275\" xlink:href=\"#m2db373211f\" y=\"187.954135\"/>\n      </g>\n     </g>\n     <g id=\"text_9\">\n      <!-- 0.02 -->\n      <g transform=\"translate(30.55625 192.513198)scale(0.12 -0.12)\">\n       <use xlink:href=\"#DejaVuSans-48\"/>\n       <use x=\"63.623047\" xlink:href=\"#DejaVuSans-46\"/>\n       <use x=\"95.410156\" xlink:href=\"#DejaVuSans-48\"/>\n       <use x=\"159.033203\" xlink:href=\"#DejaVuSans-50\"/>\n      </g>\n     </g>\n    </g>\n    <g id=\"ytick_3\">\n     <g id=\"line2d_10\">\n      <g>\n       <use style=\"stroke:#000000;stroke-width:0.8;\" x=\"64.275\" xlink:href=\"#m2db373211f\" y=\"161.151907\"/>\n      </g>\n     </g>\n     <g id=\"text_10\">\n      <!-- 0.04 -->\n      <defs>\n       <path d=\"M 37.796875 64.3125 \nL 12.890625 25.390625 \nL 37.796875 25.390625 \nz\nM 35.203125 72.90625 \nL 47.609375 72.90625 \nL 47.609375 25.390625 \nL 58.015625 25.390625 \nL 58.015625 17.1875 \nL 47.609375 17.1875 \nL 47.609375 0 \nL 37.796875 0 \nL 37.796875 17.1875 \nL 4.890625 17.1875 \nL 4.890625 26.703125 \nz\n\" id=\"DejaVuSans-52\"/>\n      </defs>\n      <g transform=\"translate(30.55625 165.71097)scale(0.12 -0.12)\">\n       <use xlink:href=\"#DejaVuSans-48\"/>\n       <use x=\"63.623047\" xlink:href=\"#DejaVuSans-46\"/>\n       <use x=\"95.410156\" xlink:href=\"#DejaVuSans-48\"/>\n       <use x=\"159.033203\" xlink:href=\"#DejaVuSans-52\"/>\n      </g>\n     </g>\n    </g>\n    <g id=\"ytick_4\">\n     <g id=\"line2d_11\">\n      <g>\n       <use style=\"stroke:#000000;stroke-width:0.8;\" x=\"64.275\" xlink:href=\"#m2db373211f\" y=\"134.349679\"/>\n      </g>\n     </g>\n     <g id=\"text_11\">\n      <!-- 0.06 -->\n      <defs>\n       <path d=\"M 33.015625 40.375 \nQ 26.375 40.375 22.484375 35.828125 \nQ 18.609375 31.296875 18.609375 23.390625 \nQ 18.609375 15.53125 22.484375 10.953125 \nQ 26.375 6.390625 33.015625 6.390625 \nQ 39.65625 6.390625 43.53125 10.953125 \nQ 47.40625 15.53125 47.40625 23.390625 \nQ 47.40625 31.296875 43.53125 35.828125 \nQ 39.65625 40.375 33.015625 40.375 \nz\nM 52.59375 71.296875 \nL 52.59375 62.3125 \nQ 48.875 64.0625 45.09375 64.984375 \nQ 41.3125 65.921875 37.59375 65.921875 \nQ 27.828125 65.921875 22.671875 59.328125 \nQ 17.53125 52.734375 16.796875 39.40625 \nQ 19.671875 43.65625 24.015625 45.921875 \nQ 28.375 48.1875 33.59375 48.1875 \nQ 44.578125 48.1875 50.953125 41.515625 \nQ 57.328125 34.859375 57.328125 23.390625 \nQ 57.328125 12.15625 50.6875 5.359375 \nQ 44.046875 -1.421875 33.015625 -1.421875 \nQ 20.359375 -1.421875 13.671875 8.265625 \nQ 6.984375 17.96875 6.984375 36.375 \nQ 6.984375 53.65625 15.1875 63.9375 \nQ 23.390625 74.21875 37.203125 74.21875 \nQ 40.921875 74.21875 44.703125 73.484375 \nQ 48.484375 72.75 52.59375 71.296875 \nz\n\" id=\"DejaVuSans-54\"/>\n      </defs>\n      <g transform=\"translate(30.55625 138.908741)scale(0.12 -0.12)\">\n       <use xlink:href=\"#DejaVuSans-48\"/>\n       <use x=\"63.623047\" xlink:href=\"#DejaVuSans-46\"/>\n       <use x=\"95.410156\" xlink:href=\"#DejaVuSans-48\"/>\n       <use x=\"159.033203\" xlink:href=\"#DejaVuSans-54\"/>\n      </g>\n     </g>\n    </g>\n    <g id=\"ytick_5\">\n     <g id=\"line2d_12\">\n      <g>\n       <use style=\"stroke:#000000;stroke-width:0.8;\" x=\"64.275\" xlink:href=\"#m2db373211f\" y=\"107.54745\"/>\n      </g>\n     </g>\n     <g id=\"text_12\">\n      <!-- 0.08 -->\n      <defs>\n       <path d=\"M 31.78125 34.625 \nQ 24.75 34.625 20.71875 30.859375 \nQ 16.703125 27.09375 16.703125 20.515625 \nQ 16.703125 13.921875 20.71875 10.15625 \nQ 24.75 6.390625 31.78125 6.390625 \nQ 38.8125 6.390625 42.859375 10.171875 \nQ 46.921875 13.96875 46.921875 20.515625 \nQ 46.921875 27.09375 42.890625 30.859375 \nQ 38.875 34.625 31.78125 34.625 \nz\nM 21.921875 38.8125 \nQ 15.578125 40.375 12.03125 44.71875 \nQ 8.5 49.078125 8.5 55.328125 \nQ 8.5 64.0625 14.71875 69.140625 \nQ 20.953125 74.21875 31.78125 74.21875 \nQ 42.671875 74.21875 48.875 69.140625 \nQ 55.078125 64.0625 55.078125 55.328125 \nQ 55.078125 49.078125 51.53125 44.71875 \nQ 48 40.375 41.703125 38.8125 \nQ 48.828125 37.15625 52.796875 32.3125 \nQ 56.78125 27.484375 56.78125 20.515625 \nQ 56.78125 9.90625 50.3125 4.234375 \nQ 43.84375 -1.421875 31.78125 -1.421875 \nQ 19.734375 -1.421875 13.25 4.234375 \nQ 6.78125 9.90625 6.78125 20.515625 \nQ 6.78125 27.484375 10.78125 32.3125 \nQ 14.796875 37.15625 21.921875 38.8125 \nz\nM 18.3125 54.390625 \nQ 18.3125 48.734375 21.84375 45.5625 \nQ 25.390625 42.390625 31.78125 42.390625 \nQ 38.140625 42.390625 41.71875 45.5625 \nQ 45.3125 48.734375 45.3125 54.390625 \nQ 45.3125 60.0625 41.71875 63.234375 \nQ 38.140625 66.40625 31.78125 66.40625 \nQ 25.390625 66.40625 21.84375 63.234375 \nQ 18.3125 60.0625 18.3125 54.390625 \nz\n\" id=\"DejaVuSans-56\"/>\n      </defs>\n      <g transform=\"translate(30.55625 112.106513)scale(0.12 -0.12)\">\n       <use xlink:href=\"#DejaVuSans-48\"/>\n       <use x=\"63.623047\" xlink:href=\"#DejaVuSans-46\"/>\n       <use x=\"95.410156\" xlink:href=\"#DejaVuSans-48\"/>\n       <use x=\"159.033203\" xlink:href=\"#DejaVuSans-56\"/>\n      </g>\n     </g>\n    </g>\n    <g id=\"ytick_6\">\n     <g id=\"line2d_13\">\n      <g>\n       <use style=\"stroke:#000000;stroke-width:0.8;\" x=\"64.275\" xlink:href=\"#m2db373211f\" y=\"80.745222\"/>\n      </g>\n     </g>\n     <g id=\"text_13\">\n      <!-- 0.10 -->\n      <g transform=\"translate(30.55625 85.304285)scale(0.12 -0.12)\">\n       <use xlink:href=\"#DejaVuSans-48\"/>\n       <use x=\"63.623047\" xlink:href=\"#DejaVuSans-46\"/>\n       <use x=\"95.410156\" xlink:href=\"#DejaVuSans-49\"/>\n       <use x=\"159.033203\" xlink:href=\"#DejaVuSans-48\"/>\n      </g>\n     </g>\n    </g>\n    <g id=\"ytick_7\">\n     <g id=\"line2d_14\">\n      <g>\n       <use style=\"stroke:#000000;stroke-width:0.8;\" x=\"64.275\" xlink:href=\"#m2db373211f\" y=\"53.942994\"/>\n      </g>\n     </g>\n     <g id=\"text_14\">\n      <!-- 0.12 -->\n      <g transform=\"translate(30.55625 58.502056)scale(0.12 -0.12)\">\n       <use xlink:href=\"#DejaVuSans-48\"/>\n       <use x=\"63.623047\" xlink:href=\"#DejaVuSans-46\"/>\n       <use x=\"95.410156\" xlink:href=\"#DejaVuSans-49\"/>\n       <use x=\"159.033203\" xlink:href=\"#DejaVuSans-50\"/>\n      </g>\n     </g>\n    </g>\n    <g id=\"ytick_8\">\n     <g id=\"line2d_15\">\n      <g>\n       <use style=\"stroke:#000000;stroke-width:0.8;\" x=\"64.275\" xlink:href=\"#m2db373211f\" y=\"27.140766\"/>\n      </g>\n     </g>\n     <g id=\"text_15\">\n      <!-- 0.14 -->\n      <g transform=\"translate(30.55625 31.699828)scale(0.12 -0.12)\">\n       <use xlink:href=\"#DejaVuSans-48\"/>\n       <use x=\"63.623047\" xlink:href=\"#DejaVuSans-46\"/>\n       <use x=\"95.410156\" xlink:href=\"#DejaVuSans-49\"/>\n       <use x=\"159.033203\" xlink:href=\"#DejaVuSans-52\"/>\n      </g>\n     </g>\n    </g>\n    <g id=\"text_16\">\n     <!-- P(x) -->\n     <defs>\n      <path d=\"M 19.671875 64.796875 \nL 19.671875 37.40625 \nL 32.078125 37.40625 \nQ 38.96875 37.40625 42.71875 40.96875 \nQ 46.484375 44.53125 46.484375 51.125 \nQ 46.484375 57.671875 42.71875 61.234375 \nQ 38.96875 64.796875 32.078125 64.796875 \nz\nM 9.8125 72.90625 \nL 32.078125 72.90625 \nQ 44.34375 72.90625 50.609375 67.359375 \nQ 56.890625 61.8125 56.890625 51.125 \nQ 56.890625 40.328125 50.609375 34.8125 \nQ 44.34375 29.296875 32.078125 29.296875 \nL 19.671875 29.296875 \nL 19.671875 0 \nL 9.8125 0 \nz\n\" id=\"DejaVuSans-80\"/>\n      <path d=\"M 31 75.875 \nQ 24.46875 64.65625 21.28125 53.65625 \nQ 18.109375 42.671875 18.109375 31.390625 \nQ 18.109375 20.125 21.3125 9.0625 \nQ 24.515625 -2 31 -13.1875 \nL 23.1875 -13.1875 \nQ 15.875 -1.703125 12.234375 9.375 \nQ 8.59375 20.453125 8.59375 31.390625 \nQ 8.59375 42.28125 12.203125 53.3125 \nQ 15.828125 64.359375 23.1875 75.875 \nz\n\" id=\"DejaVuSans-40\"/>\n      <path d=\"M 54.890625 54.6875 \nL 35.109375 28.078125 \nL 55.90625 0 \nL 45.3125 0 \nL 29.390625 21.484375 \nL 13.484375 0 \nL 2.875 0 \nL 24.125 28.609375 \nL 4.6875 54.6875 \nL 15.28125 54.6875 \nL 29.78125 35.203125 \nL 44.28125 54.6875 \nz\n\" id=\"DejaVuSans-120\"/>\n      <path d=\"M 8.015625 75.875 \nL 15.828125 75.875 \nQ 23.140625 64.359375 26.78125 53.3125 \nQ 30.421875 42.28125 30.421875 31.390625 \nQ 30.421875 20.453125 26.78125 9.375 \nQ 23.140625 -1.703125 15.828125 -13.1875 \nL 8.015625 -13.1875 \nQ 14.5 -2 17.703125 9.0625 \nQ 20.90625 20.125 20.90625 31.390625 \nQ 20.90625 42.671875 17.703125 53.65625 \nQ 14.5 64.65625 8.015625 75.875 \nz\n\" id=\"DejaVuSans-41\"/>\n     </defs>\n     <g transform=\"translate(22.396875 135.671562)rotate(-90)scale(0.2 -0.2)\">\n      <use xlink:href=\"#DejaVuSans-80\"/>\n      <use x=\"60.302734\" xlink:href=\"#DejaVuSans-40\"/>\n      <use x=\"99.316406\" xlink:href=\"#DejaVuSans-120\"/>\n      <use x=\"158.496094\" xlink:href=\"#DejaVuSans-41\"/>\n     </g>\n    </g>\n   </g>\n   <g id=\"line2d_16\">\n    <defs>\n     <path d=\"M 0 3 \nC 0.795609 3 1.55874 2.683901 2.12132 2.12132 \nC 2.683901 1.55874 3 0.795609 3 0 \nC 3 -0.795609 2.683901 -1.55874 2.12132 -2.12132 \nC 1.55874 -2.683901 0.795609 -3 0 -3 \nC -0.795609 -3 -1.55874 -2.683901 -2.12132 -2.12132 \nC -2.683901 -1.55874 -3 -0.795609 -3 0 \nC -3 0.795609 -2.683901 1.55874 -2.12132 2.12132 \nC -1.55874 2.683901 -0.795609 3 0 3 \nz\n\" id=\"mdacde4cfa4\" style=\"stroke:#000000;\"/>\n    </defs>\n    <g clip-path=\"url(#p6612aa725b)\">\n     <use style=\"stroke:#000000;\" x=\"628.442218\" xlink:href=\"#mdacde4cfa4\" y=\"213.416252\"/>\n     <use style=\"stroke:#000000;\" x=\"637.578838\" xlink:href=\"#mdacde4cfa4\" y=\"213.416252\"/>\n     <use style=\"stroke:#000000;\" x=\"677.551548\" xlink:href=\"#mdacde4cfa4\" y=\"213.416252\"/>\n     <use style=\"stroke:#000000;\" x=\"638.530569\" xlink:href=\"#mdacde4cfa4\" y=\"213.416252\"/>\n     <use style=\"stroke:#000000;\" x=\"703.438636\" xlink:href=\"#mdacde4cfa4\" y=\"213.416252\"/>\n     <use style=\"stroke:#000000;\" x=\"644.811995\" xlink:href=\"#mdacde4cfa4\" y=\"213.416252\"/>\n     <use style=\"stroke:#000000;\" x=\"649.380304\" xlink:href=\"#mdacde4cfa4\" y=\"213.416252\"/>\n     <use style=\"stroke:#000000;\" x=\"652.806537\" xlink:href=\"#mdacde4cfa4\" y=\"213.416252\"/>\n     <use style=\"stroke:#000000;\" x=\"653.758268\" xlink:href=\"#mdacde4cfa4\" y=\"213.416252\"/>\n     <use style=\"stroke:#000000;\" x=\"627.109794\" xlink:href=\"#mdacde4cfa4\" y=\"213.416252\"/>\n     <use style=\"stroke:#000000;\" x=\"525.08421\" xlink:href=\"#mdacde4cfa4\" y=\"213.416252\"/>\n     <use style=\"stroke:#000000;\" x=\"546.022297\" xlink:href=\"#mdacde4cfa4\" y=\"213.416252\"/>\n     <use style=\"stroke:#000000;\" x=\"573.051463\" xlink:href=\"#mdacde4cfa4\" y=\"213.416252\"/>\n     <use style=\"stroke:#000000;\" x=\"521.086939\" xlink:href=\"#mdacde4cfa4\" y=\"213.416252\"/>\n     <use style=\"stroke:#000000;\" x=\"545.87002\" xlink:href=\"#mdacde4cfa4\" y=\"213.416252\"/>\n     <use style=\"stroke:#000000;\" x=\"570.386615\" xlink:href=\"#mdacde4cfa4\" y=\"213.416252\"/>\n     <use style=\"stroke:#000000;\" x=\"603.126168\" xlink:href=\"#mdacde4cfa4\" y=\"213.416252\"/>\n     <use style=\"stroke:#000000;\" x=\"527.178019\" xlink:href=\"#mdacde4cfa4\" y=\"213.416252\"/>\n     <use style=\"stroke:#000000;\" x=\"579.142542\" xlink:href=\"#mdacde4cfa4\" y=\"213.416252\"/>\n     <use style=\"stroke:#000000;\" x=\"534.411176\" xlink:href=\"#mdacde4cfa4\" y=\"213.416252\"/>\n     <use style=\"stroke:#000000;\" x=\"522.990402\" xlink:href=\"#mdacde4cfa4\" y=\"213.416252\"/>\n     <use style=\"stroke:#000000;\" x=\"588.469508\" xlink:href=\"#mdacde4cfa4\" y=\"213.416252\"/>\n     <use style=\"stroke:#000000;\" x=\"592.466779\" xlink:href=\"#mdacde4cfa4\" y=\"213.416252\"/>\n     <use style=\"stroke:#000000;\" x=\"597.606127\" xlink:href=\"#mdacde4cfa4\" y=\"213.416252\"/>\n     <use style=\"stroke:#000000;\" x=\"547.925759\" xlink:href=\"#mdacde4cfa4\" y=\"213.416252\"/>\n     <use style=\"stroke:#000000;\" x=\"554.397531\" xlink:href=\"#mdacde4cfa4\" y=\"213.416252\"/>\n     <use style=\"stroke:#000000;\" x=\"591.89574\" xlink:href=\"#mdacde4cfa4\" y=\"213.416252\"/>\n     <use style=\"stroke:#000000;\" x=\"597.035089\" xlink:href=\"#mdacde4cfa4\" y=\"213.416252\"/>\n     <use style=\"stroke:#000000;\" x=\"561.249996\" xlink:href=\"#mdacde4cfa4\" y=\"213.416252\"/>\n     <use style=\"stroke:#000000;\" x=\"589.611585\" xlink:href=\"#mdacde4cfa4\" y=\"213.416252\"/>\n     <use style=\"stroke:#000000;\" x=\"232.141348\" xlink:href=\"#mdacde4cfa4\" y=\"213.416252\"/>\n     <use style=\"stroke:#000000;\" x=\"241.65866\" xlink:href=\"#mdacde4cfa4\" y=\"213.416252\"/>\n     <use style=\"stroke:#000000;\" x=\"284.105872\" xlink:href=\"#mdacde4cfa4\" y=\"213.416252\"/>\n     <use style=\"stroke:#000000;\" x=\"324.649621\" xlink:href=\"#mdacde4cfa4\" y=\"213.416252\"/>\n     <use style=\"stroke:#000000;\" x=\"417.728931\" xlink:href=\"#mdacde4cfa4\" y=\"213.416252\"/>\n     <use style=\"stroke:#000000;\" x=\"367.667871\" xlink:href=\"#mdacde4cfa4\" y=\"213.416252\"/>\n     <use style=\"stroke:#000000;\" x=\"367.477524\" xlink:href=\"#mdacde4cfa4\" y=\"213.416252\"/>\n     <use style=\"stroke:#000000;\" x=\"377.375529\" xlink:href=\"#mdacde4cfa4\" y=\"213.416252\"/>\n     <use style=\"stroke:#000000;\" x=\"406.498503\" xlink:href=\"#mdacde4cfa4\" y=\"213.416252\"/>\n     <use style=\"stroke:#000000;\" x=\"417.348239\" xlink:href=\"#mdacde4cfa4\" y=\"213.416252\"/>\n     <use style=\"stroke:#000000;\" x=\"189.694137\" xlink:href=\"#mdacde4cfa4\" y=\"213.416252\"/>\n     <use style=\"stroke:#000000;\" x=\"203.589412\" xlink:href=\"#mdacde4cfa4\" y=\"213.416252\"/>\n     <use style=\"stroke:#000000;\" x=\"207.015645\" xlink:href=\"#mdacde4cfa4\" y=\"213.416252\"/>\n     <use style=\"stroke:#000000;\" x=\"184.174096\" xlink:href=\"#mdacde4cfa4\" y=\"213.416252\"/>\n     <use style=\"stroke:#000000;\" x=\"207.396337\" xlink:href=\"#mdacde4cfa4\" y=\"213.416252\"/>\n     <use style=\"stroke:#000000;\" x=\"195.975563\" xlink:href=\"#mdacde4cfa4\" y=\"213.416252\"/>\n     <use style=\"stroke:#000000;\" x=\"192.549331\" xlink:href=\"#mdacde4cfa4\" y=\"213.416252\"/>\n     <use style=\"stroke:#000000;\" x=\"221.862651\" xlink:href=\"#mdacde4cfa4\" y=\"213.416252\"/>\n     <use style=\"stroke:#000000;\" x=\"193.310716\" xlink:href=\"#mdacde4cfa4\" y=\"213.416252\"/>\n     <use style=\"stroke:#000000;\" x=\"205.492875\" xlink:href=\"#mdacde4cfa4\" y=\"213.416252\"/>\n     <use style=\"stroke:#000000;\" x=\"142.678616\" xlink:href=\"#mdacde4cfa4\" y=\"213.416252\"/>\n     <use style=\"stroke:#000000;\" x=\"176.3699\" xlink:href=\"#mdacde4cfa4\" y=\"213.416252\"/>\n     <use style=\"stroke:#000000;\" x=\"146.485541\" xlink:href=\"#mdacde4cfa4\" y=\"213.416252\"/>\n     <use style=\"stroke:#000000;\" x=\"168.375358\" xlink:href=\"#mdacde4cfa4\" y=\"213.416252\"/>\n     <use style=\"stroke:#000000;\" x=\"173.32436\" xlink:href=\"#mdacde4cfa4\" y=\"213.416252\"/>\n     <use style=\"stroke:#000000;\" x=\"97.94725\" xlink:href=\"#mdacde4cfa4\" y=\"213.416252\"/>\n     <use style=\"stroke:#000000;\" x=\"94.711364\" xlink:href=\"#mdacde4cfa4\" y=\"213.416252\"/>\n     <use style=\"stroke:#000000;\" x=\"106.893523\" xlink:href=\"#mdacde4cfa4\" y=\"213.416252\"/>\n     <use style=\"stroke:#000000;\" x=\"107.654908\" xlink:href=\"#mdacde4cfa4\" y=\"213.416252\"/>\n     <use style=\"stroke:#000000;\" x=\"105.370753\" xlink:href=\"#mdacde4cfa4\" y=\"213.416252\"/>\n     <use style=\"stroke:#000000;\" x=\"630.536027\" xlink:href=\"#mdacde4cfa4\" y=\"213.416252\"/>\n     <use style=\"stroke:#000000;\" x=\"644.05061\" xlink:href=\"#mdacde4cfa4\" y=\"213.416252\"/>\n     <use style=\"stroke:#000000;\" x=\"627.871179\" xlink:href=\"#mdacde4cfa4\" y=\"213.416252\"/>\n     <use style=\"stroke:#000000;\" x=\"644.431302\" xlink:href=\"#mdacde4cfa4\" y=\"213.416252\"/>\n     <use style=\"stroke:#000000;\" x=\"681.168126\" xlink:href=\"#mdacde4cfa4\" y=\"213.416252\"/>\n     <use style=\"stroke:#000000;\" x=\"647.667188\" xlink:href=\"#mdacde4cfa4\" y=\"213.416252\"/>\n     <use style=\"stroke:#000000;\" x=\"670.699083\" xlink:href=\"#mdacde4cfa4\" y=\"213.416252\"/>\n     <use style=\"stroke:#000000;\" x=\"634.723644\" xlink:href=\"#mdacde4cfa4\" y=\"213.416252\"/>\n     <use style=\"stroke:#000000;\" x=\"652.616191\" xlink:href=\"#mdacde4cfa4\" y=\"213.416252\"/>\n     <use style=\"stroke:#000000;\" x=\"691.446823\" xlink:href=\"#mdacde4cfa4\" y=\"213.416252\"/>\n     <use style=\"stroke:#000000;\" x=\"555.729955\" xlink:href=\"#mdacde4cfa4\" y=\"213.416252\"/>\n     <use style=\"stroke:#000000;\" x=\"514.234475\" xlink:href=\"#mdacde4cfa4\" y=\"213.416252\"/>\n     <use style=\"stroke:#000000;\" x=\"572.861116\" xlink:href=\"#mdacde4cfa4\" y=\"213.416252\"/>\n     <use style=\"stroke:#000000;\" x=\"548.87749\" xlink:href=\"#mdacde4cfa4\" y=\"213.416252\"/>\n     <use style=\"stroke:#000000;\" x=\"528.891135\" xlink:href=\"#mdacde4cfa4\" y=\"213.416252\"/>\n     <use style=\"stroke:#000000;\" x=\"545.451258\" xlink:href=\"#mdacde4cfa4\" y=\"213.416252\"/>\n     <use style=\"stroke:#000000;\" x=\"577.810119\" xlink:href=\"#mdacde4cfa4\" y=\"213.416252\"/>\n     <use style=\"stroke:#000000;\" x=\"547.545067\" xlink:href=\"#mdacde4cfa4\" y=\"213.416252\"/>\n     <use style=\"stroke:#000000;\" x=\"565.437613\" xlink:href=\"#mdacde4cfa4\" y=\"213.416252\"/>\n     <use style=\"stroke:#000000;\" x=\"587.708123\" xlink:href=\"#mdacde4cfa4\" y=\"213.416252\"/>\n     <use style=\"stroke:#000000;\" x=\"589.801932\" xlink:href=\"#mdacde4cfa4\" y=\"213.416252\"/>\n     <use style=\"stroke:#000000;\" x=\"550.40026\" xlink:href=\"#mdacde4cfa4\" y=\"213.416252\"/>\n     <use style=\"stroke:#000000;\" x=\"583.901198\" xlink:href=\"#mdacde4cfa4\" y=\"213.416252\"/>\n     <use style=\"stroke:#000000;\" x=\"558.585148\" xlink:href=\"#mdacde4cfa4\" y=\"213.416252\"/>\n     <use style=\"stroke:#000000;\" x=\"553.255454\" xlink:href=\"#mdacde4cfa4\" y=\"213.416252\"/>\n     <use style=\"stroke:#000000;\" x=\"587.708123\" xlink:href=\"#mdacde4cfa4\" y=\"213.416252\"/>\n     <use style=\"stroke:#000000;\" x=\"552.494069\" xlink:href=\"#mdacde4cfa4\" y=\"213.416252\"/>\n     <use style=\"stroke:#000000;\" x=\"534.601522\" xlink:href=\"#mdacde4cfa4\" y=\"213.416252\"/>\n     <use style=\"stroke:#000000;\" x=\"568.483153\" xlink:href=\"#mdacde4cfa4\" y=\"213.416252\"/>\n     <use style=\"stroke:#000000;\" x=\"537.456716\" xlink:href=\"#mdacde4cfa4\" y=\"213.416252\"/>\n     <use style=\"stroke:#000000;\" x=\"426.104166\" xlink:href=\"#mdacde4cfa4\" y=\"213.416252\"/>\n     <use style=\"stroke:#000000;\" x=\"445.443344\" xlink:href=\"#mdacde4cfa4\" y=\"213.416252\"/>\n     <use style=\"stroke:#000000;\" x=\"440.151718\" xlink:href=\"#mdacde4cfa4\" y=\"213.416252\"/>\n     <use style=\"stroke:#000000;\" x=\"412.589583\" xlink:href=\"#mdacde4cfa4\" y=\"213.416252\"/>\n     <use style=\"stroke:#000000;\" x=\"349.204285\" xlink:href=\"#mdacde4cfa4\" y=\"213.416252\"/>\n     <use style=\"stroke:#000000;\" x=\"277.824446\" xlink:href=\"#mdacde4cfa4\" y=\"213.416252\"/>\n     <use style=\"stroke:#000000;\" x=\"410.686121\" xlink:href=\"#mdacde4cfa4\" y=\"213.416252\"/>\n     <use style=\"stroke:#000000;\" x=\"368.048563\" xlink:href=\"#mdacde4cfa4\" y=\"213.416252\"/>\n     <use style=\"stroke:#000000;\" x=\"321.984773\" xlink:href=\"#mdacde4cfa4\" y=\"213.416252\"/>\n     <use style=\"stroke:#000000;\" x=\"237.851735\" xlink:href=\"#mdacde4cfa4\" y=\"213.416252\"/>\n     <use style=\"stroke:#000000;\" x=\"197.879025\" xlink:href=\"#mdacde4cfa4\" y=\"213.416252\"/>\n     <use style=\"stroke:#000000;\" x=\"203.018374\" xlink:href=\"#mdacde4cfa4\" y=\"213.416252\"/>\n     <use style=\"stroke:#000000;\" x=\"211.964647\" xlink:href=\"#mdacde4cfa4\" y=\"213.416252\"/>\n     <use style=\"stroke:#000000;\" x=\"190.455522\" xlink:href=\"#mdacde4cfa4\" y=\"213.416252\"/>\n     <use style=\"stroke:#000000;\" x=\"209.109453\" xlink:href=\"#mdacde4cfa4\" y=\"213.416252\"/>\n     <use style=\"stroke:#000000;\" x=\"205.112182\" xlink:href=\"#mdacde4cfa4\" y=\"213.416252\"/>\n     <use style=\"stroke:#000000;\" x=\"210.632223\" xlink:href=\"#mdacde4cfa4\" y=\"213.416252\"/>\n     <use style=\"stroke:#000000;\" x=\"200.924565\" xlink:href=\"#mdacde4cfa4\" y=\"213.416252\"/>\n     <use style=\"stroke:#000000;\" x=\"202.828027\" xlink:href=\"#mdacde4cfa4\" y=\"213.416252\"/>\n     <use style=\"stroke:#000000;\" x=\"211.393608\" xlink:href=\"#mdacde4cfa4\" y=\"213.416252\"/>\n     <use style=\"stroke:#000000;\" x=\"117.933605\" xlink:href=\"#mdacde4cfa4\" y=\"213.416252\"/>\n     <use style=\"stroke:#000000;\" x=\"115.839796\" xlink:href=\"#mdacde4cfa4\" y=\"213.416252\"/>\n     <use style=\"stroke:#000000;\" x=\"105.941792\" xlink:href=\"#mdacde4cfa4\" y=\"213.416252\"/>\n     <use style=\"stroke:#000000;\" x=\"113.745988\" xlink:href=\"#mdacde4cfa4\" y=\"213.416252\"/>\n     <use style=\"stroke:#000000;\" x=\"114.888065\" xlink:href=\"#mdacde4cfa4\" y=\"213.416252\"/>\n     <use style=\"stroke:#000000;\" x=\"111.652179\" xlink:href=\"#mdacde4cfa4\" y=\"213.416252\"/>\n     <use style=\"stroke:#000000;\" x=\"104.799714\" xlink:href=\"#mdacde4cfa4\" y=\"213.416252\"/>\n     <use style=\"stroke:#000000;\" x=\"126.499186\" xlink:href=\"#mdacde4cfa4\" y=\"213.416252\"/>\n     <use style=\"stroke:#000000;\" x=\"129.925418\" xlink:href=\"#mdacde4cfa4\" y=\"213.416252\"/>\n     <use style=\"stroke:#000000;\" x=\"117.933605\" xlink:href=\"#mdacde4cfa4\" y=\"213.416252\"/>\n     <use style=\"stroke:#000000;\" x=\"648.238227\" xlink:href=\"#mdacde4cfa4\" y=\"213.416252\"/>\n     <use style=\"stroke:#000000;\" x=\"701.154481\" xlink:href=\"#mdacde4cfa4\" y=\"213.416252\"/>\n     <use style=\"stroke:#000000;\" x=\"702.677251\" xlink:href=\"#mdacde4cfa4\" y=\"213.416252\"/>\n     <use style=\"stroke:#000000;\" x=\"643.669917\" xlink:href=\"#mdacde4cfa4\" y=\"213.416252\"/>\n     <use style=\"stroke:#000000;\" x=\"647.476842\" xlink:href=\"#mdacde4cfa4\" y=\"213.416252\"/>\n     <use style=\"stroke:#000000;\" x=\"695.253748\" xlink:href=\"#mdacde4cfa4\" y=\"213.416252\"/>\n     <use style=\"stroke:#000000;\" x=\"642.908532\" xlink:href=\"#mdacde4cfa4\" y=\"213.416252\"/>\n     <use style=\"stroke:#000000;\" x=\"639.672646\" xlink:href=\"#mdacde4cfa4\" y=\"213.416252\"/>\n     <use style=\"stroke:#000000;\" x=\"693.921324\" xlink:href=\"#mdacde4cfa4\" y=\"213.416252\"/>\n     <use style=\"stroke:#000000;\" x=\"665.940427\" xlink:href=\"#mdacde4cfa4\" y=\"213.416252\"/>\n     <use style=\"stroke:#000000;\" x=\"528.510443\" xlink:href=\"#mdacde4cfa4\" y=\"213.416252\"/>\n     <use style=\"stroke:#000000;\" x=\"518.422092\" xlink:href=\"#mdacde4cfa4\" y=\"213.416252\"/>\n     <use style=\"stroke:#000000;\" x=\"534.22083\" xlink:href=\"#mdacde4cfa4\" y=\"213.416252\"/>\n     <use style=\"stroke:#000000;\" x=\"571.338346\" xlink:href=\"#mdacde4cfa4\" y=\"213.416252\"/>\n     <use style=\"stroke:#000000;\" x=\"592.466779\" xlink:href=\"#mdacde4cfa4\" y=\"213.416252\"/>\n     <use style=\"stroke:#000000;\" x=\"602.364783\" xlink:href=\"#mdacde4cfa4\" y=\"213.416252\"/>\n     <use style=\"stroke:#000000;\" x=\"539.169832\" xlink:href=\"#mdacde4cfa4\" y=\"213.416252\"/>\n     <use style=\"stroke:#000000;\" x=\"593.037818\" xlink:href=\"#mdacde4cfa4\" y=\"213.416252\"/>\n     <use style=\"stroke:#000000;\" x=\"554.397531\" xlink:href=\"#mdacde4cfa4\" y=\"213.416252\"/>\n     <use style=\"stroke:#000000;\" x=\"594.370241\" xlink:href=\"#mdacde4cfa4\" y=\"213.416252\"/>\n     <use style=\"stroke:#000000;\" x=\"581.80739\" xlink:href=\"#mdacde4cfa4\" y=\"213.416252\"/>\n     <use style=\"stroke:#000000;\" x=\"540.882948\" xlink:href=\"#mdacde4cfa4\" y=\"213.416252\"/>\n     <use style=\"stroke:#000000;\" x=\"564.866574\" xlink:href=\"#mdacde4cfa4\" y=\"213.416252\"/>\n     <use style=\"stroke:#000000;\" x=\"548.496798\" xlink:href=\"#mdacde4cfa4\" y=\"213.416252\"/>\n     <use style=\"stroke:#000000;\" x=\"538.218101\" xlink:href=\"#mdacde4cfa4\" y=\"213.416252\"/>\n     <use style=\"stroke:#000000;\" x=\"604.648938\" xlink:href=\"#mdacde4cfa4\" y=\"213.416252\"/>\n     <use style=\"stroke:#000000;\" x=\"565.818305\" xlink:href=\"#mdacde4cfa4\" y=\"213.416252\"/>\n     <use style=\"stroke:#000000;\" x=\"566.960383\" xlink:href=\"#mdacde4cfa4\" y=\"213.416252\"/>\n     <use style=\"stroke:#000000;\" x=\"603.506861\" xlink:href=\"#mdacde4cfa4\" y=\"213.416252\"/>\n     <use style=\"stroke:#000000;\" x=\"535.362907\" xlink:href=\"#mdacde4cfa4\" y=\"213.416252\"/>\n     <use style=\"stroke:#000000;\" x=\"245.275239\" xlink:href=\"#mdacde4cfa4\" y=\"213.416252\"/>\n     <use style=\"stroke:#000000;\" x=\"323.888236\" xlink:href=\"#mdacde4cfa4\" y=\"213.416252\"/>\n     <use style=\"stroke:#000000;\" x=\"282.773448\" xlink:href=\"#mdacde4cfa4\" y=\"213.416252\"/>\n     <use style=\"stroke:#000000;\" x=\"258.409129\" xlink:href=\"#mdacde4cfa4\" y=\"213.416252\"/>\n     <use style=\"stroke:#000000;\" x=\"245.846278\" xlink:href=\"#mdacde4cfa4\" y=\"213.416252\"/>\n     <use style=\"stroke:#000000;\" x=\"243.752469\" xlink:href=\"#mdacde4cfa4\" y=\"213.416252\"/>\n     <use style=\"stroke:#000000;\" x=\"249.27251\" xlink:href=\"#mdacde4cfa4\" y=\"213.416252\"/>\n     <use style=\"stroke:#000000;\" x=\"256.886359\" xlink:href=\"#mdacde4cfa4\" y=\"213.416252\"/>\n     <use style=\"stroke:#000000;\" x=\"295.3363\" xlink:href=\"#mdacde4cfa4\" y=\"213.416252\"/>\n     <use style=\"stroke:#000000;\" x=\"234.806196\" xlink:href=\"#mdacde4cfa4\" y=\"213.416252\"/>\n     <use style=\"stroke:#000000;\" x=\"208.919107\" xlink:href=\"#mdacde4cfa4\" y=\"213.416252\"/>\n     <use style=\"stroke:#000000;\" x=\"202.732854\" xlink:href=\"#mdacde4cfa4\" y=\"213.416252\"/>\n     <use style=\"stroke:#000000;\" x=\"214.629494\" xlink:href=\"#mdacde4cfa4\" y=\"213.416252\"/>\n     <use style=\"stroke:#000000;\" x=\"195.404524\" xlink:href=\"#mdacde4cfa4\" y=\"213.416252\"/>\n     <use style=\"stroke:#000000;\" x=\"181.889941\" xlink:href=\"#mdacde4cfa4\" y=\"213.416252\"/>\n     <use style=\"stroke:#000000;\" x=\"184.174096\" xlink:href=\"#mdacde4cfa4\" y=\"213.416252\"/>\n     <use style=\"stroke:#000000;\" x=\"213.297071\" xlink:href=\"#mdacde4cfa4\" y=\"213.416252\"/>\n     <use style=\"stroke:#000000;\" x=\"210.632223\" xlink:href=\"#mdacde4cfa4\" y=\"213.416252\"/>\n     <use style=\"stroke:#000000;\" x=\"205.683221\" xlink:href=\"#mdacde4cfa4\" y=\"213.416252\"/>\n     <use style=\"stroke:#000000;\" x=\"207.586683\" xlink:href=\"#mdacde4cfa4\" y=\"213.416252\"/>\n     <use style=\"stroke:#000000;\" x=\"177.321631\" xlink:href=\"#mdacde4cfa4\" y=\"213.416252\"/>\n     <use style=\"stroke:#000000;\" x=\"165.900857\" xlink:href=\"#mdacde4cfa4\" y=\"213.416252\"/>\n     <use style=\"stroke:#000000;\" x=\"146.485541\" xlink:href=\"#mdacde4cfa4\" y=\"213.416252\"/>\n     <use style=\"stroke:#000000;\" x=\"148.389003\" xlink:href=\"#mdacde4cfa4\" y=\"213.416252\"/>\n     <use style=\"stroke:#000000;\" x=\"171.420898\" xlink:href=\"#mdacde4cfa4\" y=\"213.416252\"/>\n     <use style=\"stroke:#000000;\" x=\"174.84713\" xlink:href=\"#mdacde4cfa4\" y=\"213.416252\"/>\n     <use style=\"stroke:#000000;\" x=\"163.616702\" xlink:href=\"#mdacde4cfa4\" y=\"213.416252\"/>\n     <use style=\"stroke:#000000;\" x=\"133.161304\" xlink:href=\"#mdacde4cfa4\" y=\"213.416252\"/>\n     <use style=\"stroke:#000000;\" x=\"172.372629\" xlink:href=\"#mdacde4cfa4\" y=\"213.416252\"/>\n     <use style=\"stroke:#000000;\" x=\"164.75878\" xlink:href=\"#mdacde4cfa4\" y=\"213.416252\"/>\n     <use style=\"stroke:#000000;\" x=\"630.155334\" xlink:href=\"#mdacde4cfa4\" y=\"213.416252\"/>\n     <use style=\"stroke:#000000;\" x=\"671.650814\" xlink:href=\"#mdacde4cfa4\" y=\"213.416252\"/>\n     <use style=\"stroke:#000000;\" x=\"655.852077\" xlink:href=\"#mdacde4cfa4\" y=\"213.416252\"/>\n     <use style=\"stroke:#000000;\" x=\"651.664459\" xlink:href=\"#mdacde4cfa4\" y=\"213.416252\"/>\n     <use style=\"stroke:#000000;\" x=\"646.715457\" xlink:href=\"#mdacde4cfa4\" y=\"213.416252\"/>\n     <use style=\"stroke:#000000;\" x=\"643.860264\" xlink:href=\"#mdacde4cfa4\" y=\"213.416252\"/>\n     <use style=\"stroke:#000000;\" x=\"653.758268\" xlink:href=\"#mdacde4cfa4\" y=\"213.416252\"/>\n     <use style=\"stroke:#000000;\" x=\"638.911261\" xlink:href=\"#mdacde4cfa4\" y=\"213.416252\"/>\n     <use style=\"stroke:#000000;\" x=\"691.827516\" xlink:href=\"#mdacde4cfa4\" y=\"213.416252\"/>\n     <use style=\"stroke:#000000;\" x=\"632.820182\" xlink:href=\"#mdacde4cfa4\" y=\"213.416252\"/>\n     <use style=\"stroke:#000000;\" x=\"539.931217\" xlink:href=\"#mdacde4cfa4\" y=\"213.416252\"/>\n     <use style=\"stroke:#000000;\" x=\"525.845595\" xlink:href=\"#mdacde4cfa4\" y=\"213.416252\"/>\n     <use style=\"stroke:#000000;\" x=\"577.619772\" xlink:href=\"#mdacde4cfa4\" y=\"213.416252\"/>\n     <use style=\"stroke:#000000;\" x=\"566.275136\" xlink:href=\"#mdacde4cfa4\" y=\"213.416252\"/>\n     <use style=\"stroke:#000000;\" x=\"558.204456\" xlink:href=\"#mdacde4cfa4\" y=\"213.416252\"/>\n     <use style=\"stroke:#000000;\" x=\"581.750286\" xlink:href=\"#mdacde4cfa4\" y=\"213.416252\"/>\n     <use style=\"stroke:#000000;\" x=\"590.37297\" xlink:href=\"#mdacde4cfa4\" y=\"213.416252\"/>\n     <use style=\"stroke:#000000;\" x=\"605.981362\" xlink:href=\"#mdacde4cfa4\" y=\"213.416252\"/>\n     <use style=\"stroke:#000000;\" x=\"564.866574\" xlink:href=\"#mdacde4cfa4\" y=\"213.416252\"/>\n     <use style=\"stroke:#000000;\" x=\"602.859684\" xlink:href=\"#mdacde4cfa4\" y=\"213.416252\"/>\n     <use style=\"stroke:#000000;\" x=\"566.57969\" xlink:href=\"#mdacde4cfa4\" y=\"213.416252\"/>\n     <use style=\"stroke:#000000;\" x=\"548.496798\" xlink:href=\"#mdacde4cfa4\" y=\"213.416252\"/>\n     <use style=\"stroke:#000000;\" x=\"554.397531\" xlink:href=\"#mdacde4cfa4\" y=\"213.416252\"/>\n     <use style=\"stroke:#000000;\" x=\"567.150729\" xlink:href=\"#mdacde4cfa4\" y=\"213.416252\"/>\n     <use style=\"stroke:#000000;\" x=\"535.172561\" xlink:href=\"#mdacde4cfa4\" y=\"213.416252\"/>\n     <use style=\"stroke:#000000;\" x=\"537.456716\" xlink:href=\"#mdacde4cfa4\" y=\"213.416252\"/>\n     <use style=\"stroke:#000000;\" x=\"522.419363\" xlink:href=\"#mdacde4cfa4\" y=\"213.416252\"/>\n     <use style=\"stroke:#000000;\" x=\"515.376552\" xlink:href=\"#mdacde4cfa4\" y=\"213.416252\"/>\n     <use style=\"stroke:#000000;\" x=\"543.547795\" xlink:href=\"#mdacde4cfa4\" y=\"213.416252\"/>\n     <use style=\"stroke:#000000;\" x=\"542.786411\" xlink:href=\"#mdacde4cfa4\" y=\"213.416252\"/>\n     <use style=\"stroke:#000000;\" x=\"251.747011\" xlink:href=\"#mdacde4cfa4\" y=\"213.416252\"/>\n     <use style=\"stroke:#000000;\" x=\"321.851531\" xlink:href=\"#mdacde4cfa4\" y=\"213.416252\"/>\n     <use style=\"stroke:#000000;\" x=\"319.319926\" xlink:href=\"#mdacde4cfa4\" y=\"213.416252\"/>\n     <use style=\"stroke:#000000;\" x=\"273.06579\" xlink:href=\"#mdacde4cfa4\" y=\"213.416252\"/>\n     <use style=\"stroke:#000000;\" x=\"234.615849\" xlink:href=\"#mdacde4cfa4\" y=\"213.416252\"/>\n     <use style=\"stroke:#000000;\" x=\"238.61312\" xlink:href=\"#mdacde4cfa4\" y=\"213.416252\"/>\n     <use style=\"stroke:#000000;\" x=\"345.130876\" xlink:href=\"#mdacde4cfa4\" y=\"213.416252\"/>\n     <use style=\"stroke:#000000;\" x=\"262.977439\" xlink:href=\"#mdacde4cfa4\" y=\"213.416252\"/>\n     <use style=\"stroke:#000000;\" x=\"271.352674\" xlink:href=\"#mdacde4cfa4\" y=\"213.416252\"/>\n     <use style=\"stroke:#000000;\" x=\"302.950149\" xlink:href=\"#mdacde4cfa4\" y=\"213.416252\"/>\n     <use style=\"stroke:#000000;\" x=\"202.256989\" xlink:href=\"#mdacde4cfa4\" y=\"213.416252\"/>\n     <use style=\"stroke:#000000;\" x=\"187.981021\" xlink:href=\"#mdacde4cfa4\" y=\"213.416252\"/>\n     <use style=\"stroke:#000000;\" x=\"188.742406\" xlink:href=\"#mdacde4cfa4\" y=\"213.416252\"/>\n     <use style=\"stroke:#000000;\" x=\"207.872203\" xlink:href=\"#mdacde4cfa4\" y=\"213.416252\"/>\n     <use style=\"stroke:#000000;\" x=\"200.734219\" xlink:href=\"#mdacde4cfa4\" y=\"213.416252\"/>\n     <use style=\"stroke:#000000;\" x=\"179.796133\" xlink:href=\"#mdacde4cfa4\" y=\"213.416252\"/>\n     <use style=\"stroke:#000000;\" x=\"183.374642\" xlink:href=\"#mdacde4cfa4\" y=\"213.416252\"/>\n     <use style=\"stroke:#000000;\" x=\"203.132581\" xlink:href=\"#mdacde4cfa4\" y=\"213.416252\"/>\n     <use style=\"stroke:#000000;\" x=\"209.204626\" xlink:href=\"#mdacde4cfa4\" y=\"213.416252\"/>\n     <use style=\"stroke:#000000;\" x=\"181.775733\" xlink:href=\"#mdacde4cfa4\" y=\"213.416252\"/>\n     <use style=\"stroke:#000000;\" x=\"153.338005\" xlink:href=\"#mdacde4cfa4\" y=\"213.416252\"/>\n     <use style=\"stroke:#000000;\" x=\"144.772425\" xlink:href=\"#mdacde4cfa4\" y=\"213.416252\"/>\n     <use style=\"stroke:#000000;\" x=\"115.268757\" xlink:href=\"#mdacde4cfa4\" y=\"213.416252\"/>\n     <use style=\"stroke:#000000;\" x=\"177.131285\" xlink:href=\"#mdacde4cfa4\" y=\"213.416252\"/>\n     <use style=\"stroke:#000000;\" x=\"175.608515\" xlink:href=\"#mdacde4cfa4\" y=\"213.416252\"/>\n     <use style=\"stroke:#000000;\" x=\"132.590265\" xlink:href=\"#mdacde4cfa4\" y=\"213.416252\"/>\n     <use style=\"stroke:#000000;\" x=\"119.266028\" xlink:href=\"#mdacde4cfa4\" y=\"213.416252\"/>\n     <use style=\"stroke:#000000;\" x=\"117.362566\" xlink:href=\"#mdacde4cfa4\" y=\"213.416252\"/>\n     <use style=\"stroke:#000000;\" x=\"107.845254\" xlink:href=\"#mdacde4cfa4\" y=\"213.416252\"/>\n     <use style=\"stroke:#000000;\" x=\"173.134014\" xlink:href=\"#mdacde4cfa4\" y=\"213.416252\"/>\n    </g>\n   </g>\n   <g id=\"line2d_17\">\n    <path clip-path=\"url(#p6612aa725b)\" d=\"M 94.711364 187.228702 \nL 95.271398 185.130782 \nL 95.74621 184.124905 \nL 96.1358 183.755845 \nL 96.458428 183.729989 \nL 96.768882 183.940703 \nL 97.121948 184.479566 \nL 97.529799 185.545215 \nL 98.010698 187.477741 \nL 98.619432 190.948205 \nL 100.488243 202.375793 \nL 100.79261 202.906835 \nL 100.963055 202.877788 \nL 101.145675 202.553826 \nL 101.395256 201.575751 \nL 101.723972 199.257255 \nL 102.131823 194.621216 \nL 102.637072 186.075977 \nL 103.282329 170.972674 \nL 104.390224 138.625677 \nL 105.327673 114.081012 \nL 105.863359 105.172682 \nL 106.234686 102.062629 \nL 106.466005 101.501424 \nL 106.569489 101.595726 \nL 106.72776 102.14757 \nL 106.977341 103.987856 \nL 107.336494 108.553026 \nL 107.853917 118.335231 \nL 110.008833 162.795113 \nL 110.422772 166.11752 \nL 110.702789 166.967776 \nL 110.848885 166.974146 \nL 110.854972 166.968066 \nL 111.013243 166.635903 \nL 111.256736 165.49385 \nL 111.603714 162.647653 \nL 112.084614 156.654141 \nL 112.766395 145.042184 \nL 115.450909 96.0004 \nL 115.950071 91.732962 \nL 116.303136 90.268602 \nL 116.52228 90.054622 \nL 116.662289 90.208397 \nL 116.863171 90.836564 \nL 117.149275 92.584622 \nL 117.520603 96.390727 \nL 117.995415 103.798419 \nL 118.604148 117.146602 \nL 119.53551 143.255874 \nL 120.923422 181.291647 \nL 121.623465 194.595107 \nL 122.1835 201.446084 \nL 122.64005 204.630366 \nL 122.987028 205.746353 \nL 123.218347 205.930039 \nL 123.39488 205.797366 \nL 123.632286 205.282556 \nL 123.985351 203.900634 \nL 124.514949 200.792302 \nL 126.633341 187.300707 \nL 127.266424 185.188262 \nL 128.800432 180.6397 \nL 129.42134 177.587573 \nL 130.237043 172.318723 \nL 131.551907 163.858501 \nL 131.97802 162.4326 \nL 132.233688 162.169015 \nL 132.398046 162.274073 \nL 132.605015 162.736159 \nL 132.89112 164.006901 \nL 133.274622 166.860511 \nL 133.798133 172.652474 \nL 134.686883 185.474397 \nL 135.800865 200.645596 \nL 136.464385 206.835653 \nL 137.018332 210.11396 \nL 137.48097 211.680054 \nL 137.852297 212.269062 \nL 138.126227 212.358932 \nL 138.375808 212.198422 \nL 138.674087 211.707241 \nL 139.051502 210.60976 \nL 139.508052 208.536043 \nL 140.049824 204.956246 \nL 140.707256 198.987678 \nL 141.577745 188.820979 \nL 143.440469 163.60526 \nL 144.816207 146.472402 \nL 145.461464 140.862392 \nL 145.887577 138.802954 \nL 146.15542 138.351435 \nL 146.307603 138.412356 \nL 146.490223 138.800677 \nL 146.751979 139.96507 \nL 147.111131 142.706849 \nL 147.598118 148.339188 \nL 148.328598 159.752216 \nL 149.880868 184.388047 \nL 150.459165 190.024145 \nL 150.90354 192.475909 \nL 151.250518 193.341258 \nL 151.500099 193.492212 \nL 151.72533 193.367173 \nL 152.066221 192.869346 \nL 152.924535 191.548378 \nL 153.180203 191.525911 \nL 153.411522 191.751186 \nL 153.703714 192.401793 \nL 154.087216 193.872837 \nL 154.628988 196.948759 \nL 156.844778 210.629766 \nL 157.4109 212.374901 \nL 157.885712 213.19742 \nL 158.269214 213.474851 \nL 158.585755 213.450954 \nL 158.902296 213.186775 \nL 159.255362 212.573714 \nL 159.657126 211.389536 \nL 160.107589 209.300146 \nL 160.60675 205.825949 \nL 161.166785 200.239089 \nL 161.848566 190.990262 \nL 163.041683 170.993815 \nL 163.924347 158.08304 \nL 164.460032 153.113462 \nL 164.849621 151.243083 \nL 165.111377 150.819839 \nL 165.275735 150.877584 \nL 165.476617 151.260383 \nL 165.774896 152.386687 \nL 166.237533 155.139316 \nL 168.088083 167.184333 \nL 168.410712 167.825946 \nL 168.599419 167.83584 \nL 168.775952 167.574852 \nL 169.019445 166.75408 \nL 169.342074 164.787839 \nL 169.756012 160.730355 \nL 170.28561 153.088269 \nL 171.034352 138.615614 \nL 172.708369 105.495619 \nL 173.359714 97.259593 \nL 173.919748 92.728016 \nL 174.406735 90.402216 \nL 174.78415 89.509142 \nL 175.039818 89.35338 \nL 175.234613 89.494108 \nL 175.472019 89.99453 \nL 175.782473 91.247541 \nL 176.165975 93.826095 \nL 176.646874 98.745529 \nL 177.298219 108.007946 \nL 178.856576 131.054079 \nL 179.300951 134.322306 \nL 179.593143 135.182122 \nL 179.757501 135.207657 \nL 179.915772 134.929869 \nL 180.159265 133.957729 \nL 180.518418 131.47254 \nL 181.096715 125.666749 \nL 182.216784 114.413796 \nL 182.612461 112.444617 \nL 182.849867 112.09464 \nL 182.983788 112.199871 \nL 183.166408 112.706855 \nL 183.434251 114.210443 \nL 183.811666 117.780678 \nL 184.365613 125.464138 \nL 185.826573 146.718519 \nL 186.22225 149.288843 \nL 186.47183 149.804522 \nL 186.599664 149.734584 \nL 186.77011 149.302277 \nL 187.037952 147.900063 \nL 187.445804 144.381767 \nL 188.425864 133.209679 \nL 189.040685 127.790758 \nL 189.448536 125.859812 \nL 189.734641 125.366936 \nL 189.911174 125.39421 \nL 190.118143 125.712624 \nL 190.428597 126.670599 \nL 190.958195 129.158375 \nL 192.200011 135.089026 \nL 192.760046 136.666562 \nL 193.265295 137.481598 \nL 193.843591 137.987883 \nL 194.62277 138.664591 \nL 195.054971 139.393841 \nL 195.505433 140.628515 \nL 196.047206 142.82944 \nL 197.605563 149.660133 \nL 197.812533 149.764849 \nL 197.964716 149.579337 \nL 198.171686 148.911213 \nL 198.451703 147.132077 \nL 198.804768 143.250782 \nL 199.236969 135.756614 \nL 199.772654 122.220706 \nL 200.509222 97.306523 \nL 202.207588 38.161968 \nL 202.755448 27.130443 \nL 203.175474 22.547194 \nL 203.492015 21.095531 \nL 203.692897 20.910303 \nL 203.84508 21.075662 \nL 204.088574 21.755351 \nL 204.605997 24.044179 \nL 205.172119 26.152085 \nL 205.464311 26.560566 \nL 205.646931 26.515304 \nL 205.853901 26.181052 \nL 206.158267 25.188887 \nL 206.645254 22.705081 \nL 207.61314 17.759703 \nL 207.929681 17.121086 \nL 208.112301 17.118434 \nL 208.288834 17.400932 \nL 208.532327 18.279988 \nL 208.861043 20.402665 \nL 209.287157 24.758131 \nL 209.835017 32.861629 \nL 210.547235 47.004585 \nL 211.533383 71.492623 \nL 215.514499 175.423676 \nL 216.40325 191.418592 \nL 217.078944 199.966765 \nL 217.614629 204.261322 \nL 218.034655 206.091963 \nL 218.339022 206.615453 \nL 218.539904 206.615314 \nL 218.746873 206.348271 \nL 219.045152 205.532057 \nL 219.477353 203.600659 \nL 220.232182 198.996809 \nL 221.102671 194.112954 \nL 221.534872 192.775175 \nL 221.820977 192.466825 \nL 222.015771 192.539564 \nL 222.24709 192.922157 \nL 222.569719 193.961363 \nL 223.032356 196.311459 \nL 223.866321 201.953915 \nL 224.913342 208.572988 \nL 225.558599 211.317744 \nL 226.100372 212.741216 \nL 226.556922 213.385999 \nL 226.934337 213.577184 \nL 227.263053 213.50206 \nL 227.603943 213.178178 \nL 227.993533 212.468972 \nL 228.431821 211.167763 \nL 228.924895 208.946513 \nL 229.478842 205.345097 \nL 230.130187 199.523621 \nL 230.970239 189.799189 \nL 233.533006 158.612316 \nL 234.105216 154.801397 \nL 234.543504 153.178967 \nL 234.884394 152.637977 \nL 235.14615 152.579143 \nL 235.42008 152.771417 \nL 235.846193 153.394722 \nL 237.952411 157.271656 \nL 238.482009 159.008311 \nL 239.206401 162.276224 \nL 240.149938 166.33429 \nL 240.557789 167.229435 \nL 240.819545 167.378381 \nL 241.020427 167.245707 \nL 241.276095 166.760934 \nL 241.623073 165.554747 \nL 242.097885 163.000729 \nL 242.846627 157.555033 \nL 243.960609 149.685754 \nL 244.404984 147.957938 \nL 244.685002 147.565131 \nL 244.855447 147.622793 \nL 245.056329 147.990415 \nL 245.336346 149.042075 \nL 245.725936 151.477002 \nL 246.31032 156.741486 \nL 247.832153 171.019063 \nL 248.361751 173.789453 \nL 248.806126 175.071065 \nL 249.220065 175.652809 \nL 249.859235 176.094469 \nL 250.285348 176.547563 \nL 250.66885 177.315626 \nL 251.101051 178.738234 \nL 251.630649 181.340229 \nL 252.440265 186.638846 \nL 253.377714 192.383308 \nL 253.809915 193.833184 \nL 254.077757 194.134152 \nL 254.25429 194.053119 \nL 254.467347 193.649893 \nL 254.765626 192.531117 \nL 255.179565 190.005218 \nL 255.836997 184.388426 \nL 256.90228 175.484366 \nL 257.340568 173.499505 \nL 257.626673 173.012863 \nL 257.803205 173.048702 \nL 257.998 173.380813 \nL 258.284105 174.38919 \nL 258.704131 176.806846 \nL 259.532008 183.224758 \nL 260.3051 188.43692 \nL 260.779912 190.310682 \nL 261.145152 190.988451 \nL 261.443431 191.136437 \nL 261.759972 191.03037 \nL 262.557413 190.679754 \nL 262.819168 190.861651 \nL 263.11136 191.373788 \nL 263.4766 192.52938 \nL 263.9575 194.892919 \nL 264.724504 199.988943 \nL 265.868922 207.350178 \nL 266.428957 209.613224 \nL 266.830721 210.454972 \nL 267.110739 210.620949 \nL 267.329883 210.499615 \nL 267.591638 210.057236 \nL 267.932529 208.983318 \nL 268.364729 206.797327 \nL 268.906502 202.780537 \nL 269.630895 195.535559 \nL 271.377959 177.373873 \nL 271.840597 174.932424 \nL 272.151051 174.246691 \nL 272.339758 174.218756 \nL 272.522378 174.466095 \nL 272.784133 175.264677 \nL 273.167635 177.255901 \nL 273.794631 181.902976 \nL 274.902526 189.996143 \nL 275.383425 191.973811 \nL 275.73649 192.630285 \nL 275.992158 192.723552 \nL 276.241739 192.564332 \nL 276.625241 192.001703 \nL 277.507904 190.66353 \nL 277.818358 190.57686 \nL 278.092288 190.741528 \nL 278.445354 191.255317 \nL 279.735868 193.420204 \nL 279.948925 193.314127 \nL 280.186331 192.901066 \nL 280.496785 191.845217 \nL 280.904636 189.564102 \nL 281.495108 184.810274 \nL 282.767361 174.318972 \nL 283.15695 172.814515 \nL 283.394356 172.553492 \nL 283.546539 172.666026 \nL 283.753509 173.173787 \nL 284.051788 174.604922 \nL 284.471814 177.876858 \nL 285.110984 184.884436 \nL 286.827612 204.435253 \nL 287.478957 209.068934 \nL 288.045079 211.643461 \nL 288.562502 213.061254 \nL 289.043402 213.793549 \nL 289.493864 214.106653 \nL 289.91389 214.139701 \nL 290.321742 213.947023 \nL 290.747855 213.483309 \nL 291.198318 212.636517 \nL 291.685304 211.2084 \nL 292.233164 208.85563 \nL 292.908858 204.877425 \nL 294.722884 193.605484 \nL 295.106386 192.637565 \nL 295.355966 192.473635 \nL 295.550761 192.609523 \nL 295.800342 193.113227 \nL 296.153407 194.403051 \nL 296.676918 197.275801 \nL 298.399633 207.376202 \nL 298.825747 208.476245 \nL 299.111851 208.724414 \nL 299.324908 208.644578 \nL 299.574489 208.265924 \nL 299.909292 207.295261 \nL 300.371929 205.181977 \nL 301.102409 200.62323 \nL 302.149431 194.329731 \nL 302.599893 192.838852 \nL 302.892085 192.482157 \nL 303.08688 192.53204 \nL 303.306024 192.862704 \nL 303.616478 193.802421 \nL 304.060853 195.966799 \nL 304.809596 200.932736 \nL 305.996626 208.56764 \nL 306.654058 211.401898 \nL 307.226267 212.970063 \nL 307.76804 213.851315 \nL 308.3159 214.337286 \nL 308.95507 214.602642 \nL 309.898606 214.727798 \nL 312.138745 214.738008 \nL 313.380561 214.583167 \nL 314.019731 214.286589 \nL 314.518893 213.807182 \nL 314.98153 213.038429 \nL 315.450255 211.794645 \nL 315.943329 209.808492 \nL 316.485101 206.632455 \nL 317.106009 201.552551 \nL 317.854751 193.433651 \nL 318.895685 179.440633 \nL 321.391492 145.008676 \nL 321.988051 140.005956 \nL 322.40199 138.123412 \nL 322.669832 137.713419 \nL 322.822016 137.782057 \nL 323.010723 138.179552 \nL 323.278566 139.345484 \nL 323.643806 142.065974 \nL 324.124705 147.526437 \nL 324.782137 157.845916 \nL 327.405778 202.204706 \nL 328.026686 207.783081 \nL 328.586721 210.977316 \nL 329.104144 212.757841 \nL 329.603305 213.744123 \nL 330.108554 214.280567 \nL 330.686851 214.571758 \nL 331.508641 214.715108 \nL 333.426151 214.755746 \nL 338.886489 214.65381 \nL 339.641318 214.408157 \nL 340.183091 213.996361 \nL 340.66399 213.33638 \nL 341.14489 212.266833 \nL 341.656226 210.538026 \nL 342.234523 207.729492 \nL 342.983265 202.862299 \nL 344.572059 192.266827 \nL 345.095569 190.315969 \nL 345.503421 189.537917 \nL 345.850399 189.299066 \nL 346.215639 189.325068 \nL 347.420931 189.59116 \nL 348.681009 189.393567 \nL 348.979288 189.749849 \nL 349.320179 190.544512 \nL 349.740205 192.158724 \nL 350.294152 195.285717 \nL 351.389872 203.133717 \nL 352.290798 208.754979 \nL 352.936055 211.491469 \nL 353.508264 213.026644 \nL 354.04395 213.876816 \nL 354.59181 214.350516 \nL 355.237067 214.609585 \nL 356.198866 214.73032 \nL 358.907729 214.75465 \nL 360.916549 214.636525 \nL 361.567894 214.377713 \nL 362.036619 213.949692 \nL 362.456645 213.246537 \nL 362.870583 212.084717 \nL 363.302784 210.143972 \nL 363.759334 206.986175 \nL 364.264583 201.803647 \nL 364.848967 193.307318 \nL 365.64032 178.137734 \nL 366.876049 154.708744 \nL 367.338686 149.814263 \nL 367.636966 148.523631 \nL 367.7648 148.455197 \nL 367.789149 148.47553 \nL 367.92307 148.777513 \nL 368.136127 149.909612 \nL 368.452668 152.978658 \nL 368.915306 159.954247 \nL 369.755358 176.751864 \nL 370.802379 196.29056 \nL 371.447636 204.42712 \nL 371.983322 208.666342 \nL 372.439872 210.721158 \nL 372.805112 211.50078 \nL 373.072955 211.650093 \nL 373.298186 211.525115 \nL 373.578203 211.072977 \nL 373.949531 209.999706 \nL 374.442605 207.813634 \nL 375.124386 203.647468 \nL 376.646219 194.055408 \nL 377.072333 192.760574 \nL 377.346263 192.482634 \nL 377.53497 192.558104 \nL 377.766289 192.944645 \nL 378.088917 193.991021 \nL 378.551555 196.350745 \nL 379.397694 202.086711 \nL 380.438628 208.653775 \nL 381.09606 211.458547 \nL 381.66827 213.004833 \nL 382.210042 213.871135 \nL 382.757902 214.347494 \nL 383.40316 214.608339 \nL 384.364958 214.730062 \nL 387.085996 214.756314 \nL 400.289423 214.647397 \nL 401.032078 214.395781 \nL 401.567763 213.978564 \nL 402.048662 213.306493 \nL 402.529562 212.220404 \nL 403.040898 210.470324 \nL 403.625282 207.603458 \nL 404.392286 202.582887 \nL 405.88977 192.61399 \nL 406.425455 190.559861 \nL 406.857656 189.686968 \nL 407.253333 189.34577 \nL 408.215131 188.742785 \nL 408.562109 188.050971 \nL 408.969961 186.676632 \nL 409.505646 183.979679 \nL 411.143139 175.122918 \nL 411.477942 174.522555 \nL 411.690999 174.496717 \nL 411.891881 174.730417 \nL 412.171898 175.455589 \nL 412.57975 177.224249 \nL 413.425889 182.198279 \nL 414.022448 184.986553 \nL 414.357251 185.688842 \nL 414.558133 185.719621 \nL 414.740753 185.474332 \nL 414.996421 184.691646 \nL 415.361661 182.749964 \nL 415.939958 178.264652 \nL 416.895669 171.027229 \nL 417.260909 169.736673 \nL 417.467878 169.582019 \nL 417.613974 169.746355 \nL 417.827031 170.400413 \nL 418.131398 172.168838 \nL 418.563599 176.179179 \nL 419.257555 185.067151 \nL 420.566331 201.760234 \nL 421.168977 206.660304 \nL 421.637702 208.873047 \nL 421.990767 209.645138 \nL 422.234261 209.756943 \nL 422.44123 209.59806 \nL 422.71516 209.051794 \nL 423.092575 207.729567 \nL 423.622173 204.954306 \nL 424.711805 197.670126 \nL 425.399674 193.945342 \nL 425.813613 192.734425 \nL 426.087543 192.479047 \nL 426.27625 192.569779 \nL 426.507569 192.974178 \nL 426.836285 194.068166 \nL 427.311097 196.536769 \nL 428.21811 202.733328 \nL 429.192083 208.780988 \nL 429.843428 211.521517 \nL 430.415637 213.043311 \nL 430.95741 213.892836 \nL 431.511357 214.361579 \nL 432.156614 214.611051 \nL 433.069714 214.70685 \nL 434.116736 214.606976 \nL 434.79243 214.33259 \nL 435.309853 213.879582 \nL 435.784665 213.153564 \nL 436.265565 211.984612 \nL 436.789075 210.076609 \nL 437.397809 206.931617 \nL 438.274385 201.041233 \nL 439.315319 194.405152 \nL 439.802305 192.576545 \nL 440.137109 192.023424 \nL 440.368427 191.986931 \nL 440.593659 192.205165 \nL 440.9102 192.873444 \nL 441.451973 194.643781 \nL 442.292025 197.260067 \nL 442.651178 197.753918 \nL 442.894671 197.779957 \nL 443.132077 197.559671 \nL 443.454706 196.906438 \nL 443.972129 195.260061 \nL 444.885229 192.40599 \nL 445.220032 191.989886 \nL 445.439176 192.010089 \nL 445.664408 192.29384 \nL 445.962687 193.083244 \nL 446.376626 194.897135 \nL 447.003621 198.802454 \nL 448.616765 209.205412 \nL 449.255935 211.759285 \nL 449.822057 213.176015 \nL 450.357742 213.961327 \nL 450.917777 214.400169 \nL 451.587383 214.634628 \nL 452.646579 214.739061 \nL 456.396377 214.756362 \nL 507.968267 214.646161 \nL 508.680485 214.394972 \nL 509.191821 213.97603 \nL 509.642284 213.304245 \nL 510.086659 212.212678 \nL 510.549297 210.439077 \nL 511.048458 207.575862 \nL 511.61458 202.920294 \nL 512.314623 195.122843 \nL 514.372142 170.79305 \nL 514.828692 168.307811 \nL 515.163495 167.502677 \nL 515.388727 167.404309 \nL 515.589609 167.576449 \nL 515.881801 168.178462 \nL 516.399224 169.861983 \nL 517.263626 172.561073 \nL 517.634953 173.083443 \nL 517.878446 173.114276 \nL 518.103678 172.900108 \nL 518.389782 172.274558 \nL 518.76111 170.855768 \nL 519.229834 168.086157 \nL 519.826393 163.092401 \nL 520.733406 153.317165 \nL 521.938698 140.808378 \nL 522.57178 136.435672 \nL 523.125728 134.041829 \nL 523.710112 132.476006 \nL 525.347605 128.577384 \nL 526.145045 126.709308 \nL 526.492023 126.37324 \nL 526.711167 126.424096 \nL 526.936399 126.743346 \nL 527.216416 127.584016 \nL 527.563394 129.410927 \nL 527.989507 132.972048 \nL 528.525193 139.526438 \nL 529.328721 152.554164 \nL 530.327043 167.929489 \nL 530.753157 171.501766 \nL 531.002737 172.209369 \nL 531.112309 172.150228 \nL 531.258405 171.699418 \nL 531.483637 170.142116 \nL 531.800178 166.153547 \nL 532.226292 157.59407 \nL 532.828938 140.417782 \nL 534.667312 84.96204 \nL 535.178648 77.009567 \nL 535.580412 73.745492 \nL 535.884779 72.750431 \nL 536.079574 72.654308 \nL 536.250019 72.851766 \nL 536.511774 73.562399 \nL 536.937888 75.463308 \nL 537.625756 79.673831 \nL 538.398848 85.776823 \nL 539.153677 93.613705 \nL 540.298096 108.314729 \nL 541.229458 119.011552 \nL 541.765143 122.889859 \nL 542.136471 124.215119 \nL 542.367789 124.421411 \nL 542.52606 124.280542 \nL 542.739117 123.726437 \nL 543.043483 122.213727 \nL 543.445247 118.955294 \nL 543.968758 112.715787 \nL 544.674889 101.353347 \nL 546.994163 61.662143 \nL 547.383752 59.027492 \nL 547.621158 58.529664 \nL 547.736818 58.612648 \nL 547.901176 59.106268 \nL 548.150756 60.700606 \nL 548.503822 64.628072 \nL 549.002983 73.018596 \nL 550.914406 108.121246 \nL 551.255296 110.120657 \nL 551.456178 110.377683 \nL 551.577925 110.211746 \nL 551.77272 109.473148 \nL 552.077086 107.296375 \nL 552.582335 101.789128 \nL 553.562396 91.144211 \nL 553.909374 89.463529 \nL 554.098081 89.270578 \nL 554.104168 89.273353 \nL 554.232002 89.46374 \nL 554.426797 90.239843 \nL 554.718989 92.473344 \nL 555.139015 97.671267 \nL 555.814709 109.281486 \nL 557.196534 133.069146 \nL 557.9818 142.470414 \nL 559.114044 153.010505 \nL 560.313249 162.586215 \nL 560.800235 164.928397 \nL 561.080253 165.436968 \nL 561.226349 165.387662 \nL 561.396794 165.015336 \nL 561.6342 163.862247 \nL 561.944654 161.089884 \nL 562.328156 155.42874 \nL 562.796881 144.863581 \nL 563.387352 126.016692 \nL 564.385675 85.501364 \nL 565.268338 53.456779 \nL 565.761412 42.630874 \nL 566.096216 39.264277 \nL 566.266661 38.857127 \nL 566.284923 38.865542 \nL 566.38232 39.078212 \nL 566.552766 40.115656 \nL 566.820608 43.356442 \nL 567.216285 51.245853 \nL 567.855455 69.174851 \nL 569.200756 107.245036 \nL 569.797314 117.79856 \nL 570.302563 123.199594 \nL 570.795637 126.252633 \nL 572.165287 133.301235 \nL 572.676623 138.302363 \nL 573.376667 147.64946 \nL 574.575871 163.618392 \nL 575.014159 166.729443 \nL 575.294177 167.491694 \nL 575.44636 167.484037 \nL 575.604631 167.165328 \nL 575.848124 166.087646 \nL 576.213364 163.307765 \nL 576.822097 156.651085 \nL 577.887381 145.21807 \nL 578.386542 142.116337 \nL 578.770044 140.92657 \nL 579.068324 140.595879 \nL 579.317904 140.614277 \nL 579.64662 140.900385 \nL 580.511022 142.081252 \nL 581.296288 143.349845 \nL 581.728488 144.543417 \nL 582.178951 146.512362 \nL 582.714636 149.96392 \nL 584.48605 162.410766 \nL 584.705194 162.644605 \nL 584.839116 162.505083 \nL 585.027823 161.910236 \nL 585.295666 160.209703 \nL 585.648731 156.360219 \nL 586.111369 148.607514 \nL 586.756626 133.605739 \nL 588.783708 83.787608 \nL 589.386354 75.362706 \nL 589.89769 71.021329 \nL 590.323803 69.070441 \nL 590.640345 68.476438 \nL 590.841227 68.458384 \nL 591.036021 68.709176 \nL 591.297777 69.480453 \nL 591.63258 71.25294 \nL 592.040431 74.741724 \nL 592.527418 81.004365 \nL 593.142239 92.088795 \nL 594.237959 116.881589 \nL 595.19367 136.178036 \nL 595.875452 145.71338 \nL 596.599844 152.734054 \nL 598.93738 171.629127 \nL 599.241747 172.455882 \nL 599.39393 172.450469 \nL 599.546114 172.125743 \nL 599.771345 171.008658 \nL 600.075712 168.21224 \nL 600.477476 162.224977 \nL 601.031423 150.218623 \nL 602.906322 106.426507 \nL 603.277649 103.159628 \nL 603.502881 102.587058 \nL 603.606365 102.684708 \nL 603.764636 103.266397 \nL 604.014217 105.20737 \nL 604.373369 110.008692 \nL 604.890793 120.297691 \nL 605.773456 143.084325 \nL 607.246591 180.34872 \nL 608.037944 194.843229 \nL 608.707551 203.353939 \nL 609.30411 208.350626 \nL 609.858057 211.266436 \nL 610.37548 212.902768 \nL 610.880729 213.818269 \nL 611.398152 214.319331 \nL 612.000798 214.591711 \nL 612.883462 214.723155 \nL 615.141862 214.756149 \nL 620.736122 214.648393 \nL 621.423991 214.401542 \nL 621.917065 213.98475 \nL 622.349265 213.308777 \nL 622.769291 212.208336 \nL 623.201492 210.406455 \nL 623.66413 207.438079 \nL 624.163291 202.673226 \nL 624.729413 194.937345 \nL 625.411194 182.260337 \nL 626.5617 155.759192 \nL 627.529586 135.750311 \nL 628.11397 127.781133 \nL 628.552258 124.419753 \nL 628.8688 123.394386 \nL 629.057507 123.311557 \nL 629.215778 123.526102 \nL 629.453184 124.295763 \nL 629.806249 126.310762 \nL 630.32976 130.768554 \nL 631.346345 141.804546 \nL 632.460327 152.952895 \nL 633.209069 158.346102 \nL 633.811715 161.240935 \nL 634.250003 162.42232 \nL 634.536107 162.688449 \nL 634.730902 162.603671 \nL 634.950046 162.220078 \nL 635.236151 161.213734 \nL 635.601391 159.025612 \nL 636.064028 154.765341 \nL 636.715373 146.419536 \nL 638.048499 128.996826 \nL 638.486787 126.070364 \nL 638.785066 125.283708 \nL 638.961599 125.257319 \nL 639.138132 125.517968 \nL 639.424236 126.418633 \nL 640.428646 129.944816 \nL 640.568655 129.892919 \nL 640.733013 129.506302 \nL 640.964332 128.281999 \nL 641.274786 125.255509 \nL 641.682637 118.809628 \nL 642.260934 105.657099 \nL 643.770592 69.767547 \nL 644.221055 64.448451 \nL 644.543684 62.778648 \nL 644.744566 62.566251 \nL 644.878487 62.736929 \nL 645.091544 63.454553 \nL 645.438522 65.547744 \nL 646.053343 70.879038 \nL 647.447342 85.240623 \nL 648.396966 97.439704 \nL 649.565734 112.164125 \nL 650.004022 115.174568 \nL 650.284039 115.912894 \nL 650.436223 115.901666 \nL 650.600581 115.568311 \nL 650.850161 114.464084 \nL 651.233663 111.601833 \nL 652.688536 99.597617 \nL 652.901593 99.342552 \nL 653.029427 99.511766 \nL 653.218134 100.229565 \nL 653.492064 102.291999 \nL 653.869479 107.077964 \nL 654.386902 116.85783 \nL 655.202605 137.186846 \nL 656.888796 179.475742 \nL 657.692324 193.91878 \nL 658.380193 202.612336 \nL 658.995014 207.808728 \nL 659.555048 210.812337 \nL 660.060297 212.420413 \nL 660.498585 213.154788 \nL 660.857738 213.376916 \nL 661.168192 213.318715 \nL 661.496908 213.008933 \nL 661.88041 212.312148 \nL 662.33696 210.973683 \nL 662.872645 208.647354 \nL 663.548339 204.614787 \nL 665.447587 192.608965 \nL 665.891963 191.340152 \nL 666.232853 190.933627 \nL 666.525045 190.901207 \nL 666.920722 191.124595 \nL 667.425971 191.352769 \nL 667.675551 191.228493 \nL 667.937307 190.810936 \nL 668.253848 189.820244 \nL 668.649525 187.762693 \nL 669.197385 183.575949 \nL 670.615734 172.167039 \nL 670.962712 171.084329 \nL 671.163594 170.979537 \nL 671.321864 171.180602 \nL 671.547096 171.896799 \nL 671.875812 173.800066 \nL 672.350624 178.037207 \nL 674.347269 197.600869 \nL 674.718596 198.850146 \nL 674.968177 199.097089 \nL 675.14471 199.002801 \nL 675.376028 198.575606 \nL 675.723006 197.397858 \nL 676.319565 194.436058 \nL 677.415285 189.07625 \nL 677.950971 187.516667 \nL 678.413608 186.786856 \nL 678.864071 186.467228 \nL 679.381494 186.377745 \nL 679.898917 186.504852 \nL 680.306769 186.833362 \nL 680.690271 187.450822 \nL 681.098122 188.568802 \nL 681.572934 190.586979 \nL 682.17558 194.226352 \nL 684.653125 210.510436 \nL 685.207072 212.24788 \nL 685.66971 213.051008 \nL 686.028862 213.293419 \nL 686.321054 213.244488 \nL 686.619334 212.951289 \nL 686.966312 212.261658 \nL 687.361988 210.932735 \nL 687.806364 208.597832 \nL 688.305525 204.692247 \nL 688.883822 198.26113 \nL 689.620389 187.310635 \nL 691.623122 156.067617 \nL 692.15272 151.631254 \nL 692.548397 149.892389 \nL 692.828414 149.454147 \nL 693.004947 149.49826 \nL 693.205829 149.834821 \nL 693.491933 150.811908 \nL 693.88761 153.057773 \nL 694.405033 157.41215 \nL 695.086815 165.22818 \nL 697.54001 195.454127 \nL 697.929599 197.204738 \nL 698.17918 197.544514 \nL 698.325276 197.449622 \nL 698.520071 196.983995 \nL 698.800088 195.646562 \nL 699.189678 192.550088 \nL 699.73145 186.22487 \nL 700.748035 171.069079 \nL 701.575912 160.280025 \nL 702.050724 156.599488 \nL 702.361178 155.563674 \nL 702.531624 155.497704 \nL 702.537711 155.502066 \nL 702.689894 155.761945 \nL 702.915126 156.674097 \nL 703.237754 159.030917 \nL 703.438636 161.071584 \nL 703.438636 161.071584 \n\" style=\"fill:none;stroke:#ff0000;stroke-linecap:square;stroke-width:2;\"/>\n   </g>\n   <g id=\"line2d_18\">\n    <path clip-path=\"url(#p6612aa725b)\" d=\"M 94.711364 189.805934 \nL 97.091511 183.363824 \nL 101.88833 169.520174 \nL 104.341525 162.90712 \nL 106.094677 158.787732 \nL 107.537376 155.936057 \nL 108.779192 153.949166 \nL 109.868824 152.603057 \nL 110.842798 151.734777 \nL 111.731548 151.227734 \nL 112.559426 151.003185 \nL 113.362954 151.012558 \nL 114.178656 151.2464 \nL 115.043058 151.731771 \nL 115.992682 152.530611 \nL 117.064053 153.736906 \nL 118.305869 155.487148 \nL 119.821615 158.031377 \nL 121.927832 162.044844 \nL 126.694214 171.242636 \nL 128.50824 174.186853 \nL 130.078772 176.327467 \nL 131.515383 177.922378 \nL 132.878945 179.113042 \nL 134.212071 179.987834 \nL 135.563459 180.611267 \nL 137.00007 181.027871 \nL 138.64365 181.266408 \nL 140.871614 181.345275 \nL 146.301516 181.466671 \nL 151.104422 181.709478 \nL 152.553208 181.51166 \nL 153.782849 181.121854 \nL 154.915093 180.529463 \nL 156.0169 179.698108 \nL 157.124795 178.577374 \nL 158.275301 177.087921 \nL 159.498855 175.126992 \nL 160.831981 172.552655 \nL 162.323378 169.168379 \nL 164.088705 164.581495 \nL 166.511463 157.604186 \nL 171.137837 144.206172 \nL 173.018823 139.506005 \nL 174.619792 136.079446 \nL 176.068577 133.483741 \nL 177.438227 131.472211 \nL 178.777441 129.891039 \nL 180.159265 128.60034 \nL 181.72371 127.449649 \nL 184.536058 125.728112 \nL 186.38052 124.445983 \nL 187.786694 123.194139 \nL 189.095471 121.726635 \nL 190.410335 119.909485 \nL 191.804335 117.589445 \nL 193.374867 114.522443 \nL 195.420211 109.995282 \nL 199.12131 101.748154 \nL 200.442261 99.387409 \nL 201.477108 97.961637 \nL 202.335422 97.132652 \nL 203.065902 96.717333 \nL 203.717246 96.593972 \nL 204.32598 96.703275 \nL 204.9408 97.04457 \nL 205.598233 97.675219 \nL 206.322625 98.695396 \nL 207.132241 100.242861 \nL 208.039253 102.482125 \nL 209.068013 105.645307 \nL 210.248955 110.031946 \nL 211.649042 116.135933 \nL 213.438718 125.008291 \nL 220.079999 158.958709 \nL 221.571396 164.908092 \nL 222.874085 169.232767 \nL 224.036766 172.35945 \nL 225.089875 174.587989 \nL 226.057761 176.142359 \nL 226.952599 177.178853 \nL 227.792651 177.825042 \nL 228.596179 178.171498 \nL 229.399707 178.278838 \nL 230.245846 178.164801 \nL 231.189383 177.805511 \nL 232.309452 177.128685 \nL 233.794762 175.949476 \nL 238.640279 171.907312 \nL 239.991667 171.173071 \nL 241.196959 170.764514 \nL 242.329203 170.611419 \nL 243.443186 170.684647 \nL 244.581517 170.985035 \nL 245.786809 171.538139 \nL 247.113848 172.400014 \nL 248.635681 173.665587 \nL 250.492318 175.515325 \nL 253.237705 178.602939 \nL 257.705808 183.612108 \nL 259.921598 185.743177 \nL 261.845195 187.292466 \nL 263.634871 188.454186 \nL 265.388023 189.330113 \nL 267.195961 189.984452 \nL 269.210869 190.471652 \nL 271.956256 190.884843 \nL 276.211302 191.532147 \nL 278.40883 192.112847 \nL 280.48461 192.893567 \nL 282.688225 193.966762 \nL 285.403176 195.552851 \nL 292.939295 200.094029 \nL 295.441189 201.257697 \nL 297.69959 202.068485 \nL 299.751021 202.574041 \nL 301.595483 202.804793 \nL 303.275587 202.79434 \nL 304.840032 202.564032 \nL 306.349691 202.116514 \nL 307.865437 201.431656 \nL 309.454231 200.463976 \nL 311.249994 199.099171 \nL 313.751889 196.88587 \nL 316.996437 194.060794 \nL 318.591319 192.971187 \nL 319.91227 192.328683 \nL 321.093213 191.99634 \nL 322.201108 191.912773 \nL 323.296828 192.054461 \nL 324.422984 192.428049 \nL 325.640451 193.072953 \nL 327.034451 194.074641 \nL 328.79369 195.632688 \nL 335.00277 201.383687 \nL 336.634176 202.448199 \nL 338.168184 203.18785 \nL 339.708279 203.684811 \nL 341.357946 203.981049 \nL 343.281544 204.092643 \nL 345.862573 204.00253 \nL 349.892388 203.620675 \nL 352.978666 203.13157 \nL 355.32229 202.537497 \nL 357.556341 201.738457 \nL 360.222593 200.531397 \nL 364.593299 198.535506 \nL 366.340364 198.007702 \nL 367.83176 197.783803 \nL 369.213585 197.798665 \nL 370.564973 198.036098 \nL 371.946798 198.507814 \nL 373.42602 199.253709 \nL 375.100037 200.356664 \nL 377.187992 202.015817 \nL 384.47453 208.046572 \nL 386.23377 209.080246 \nL 387.792127 209.745435 \nL 389.228738 210.122238 \nL 390.592301 210.253029 \nL 391.919339 210.157849 \nL 393.246378 209.837999 \nL 394.603853 209.278284 \nL 396.02829 208.444846 \nL 397.568385 207.27806 \nL 399.297188 205.678961 \nL 401.41558 203.397774 \nL 408.610808 195.372575 \nL 410.199602 194.089839 \nL 411.593602 193.241644 \nL 412.871942 192.718308 \nL 414.089408 192.457445 \nL 415.288613 192.427821 \nL 416.512167 192.621776 \nL 417.814856 193.057918 \nL 419.263642 193.784786 \nL 420.992445 194.91359 \nL 423.451727 196.814297 \nL 427.773734 200.161019 \nL 429.849515 201.462182 \nL 431.742676 202.389951 \nL 433.654099 203.07776 \nL 435.802927 203.60749 \nL 439.309231 204.199061 \nL 442.425946 204.820325 \nL 444.708696 205.506866 \nL 446.973184 206.424872 \nL 449.633349 207.756777 \nL 457.796464 212.01995 \nL 460.267921 212.94721 \nL 462.715029 213.626892 \nL 465.332583 214.119083 \nL 468.370162 214.456348 \nL 472.339104 214.659043 \nL 478.78559 214.737195 \nL 486.145176 214.631114 \nL 489.754965 214.372241 \nL 492.275121 213.976224 \nL 494.296116 213.438952 \nL 496.043181 212.747778 \nL 497.631975 211.880463 \nL 499.123371 210.811637 \nL 500.566069 209.50128 \nL 501.996593 207.896648 \nL 503.445378 205.929635 \nL 504.936775 203.519909 \nL 506.50122 200.557121 \nL 508.175236 196.89467 \nL 510.013611 192.316801 \nL 512.107654 186.479022 \nL 514.682596 178.601864 \nL 518.809808 165.144739 \nL 524.367544 147.192521 \nL 528.007769 136.204731 \nL 531.148833 127.403183 \nL 533.748125 120.749026 \nL 535.903041 115.815286 \nL 537.735328 112.150622 \nL 539.336297 109.424154 \nL 540.760733 107.418127 \nL 542.051248 105.968518 \nL 543.238278 104.956647 \nL 544.35226 104.290819 \nL 545.417543 103.908178 \nL 546.464565 103.766028 \nL 547.529848 103.845959 \nL 548.662092 104.158371 \nL 549.909996 104.741294 \nL 551.352694 105.671637 \nL 553.160632 107.1193 \nL 556.009504 109.727232 \nL 567.630224 120.834461 \nL 574.697618 128.318603 \nL 576.231626 129.483344 \nL 577.576927 130.234496 \nL 578.837005 130.687884 \nL 580.078821 130.899785 \nL 581.393685 130.89483 \nL 582.93378 130.656401 \nL 587.968005 129.689035 \nL 589.124599 129.812528 \nL 590.17162 130.146566 \nL 591.182117 130.70424 \nL 592.198702 131.524727 \nL 593.251811 132.669002 \nL 594.365793 134.218524 \nL 595.571085 136.291493 \nL 596.892036 139.025159 \nL 598.371258 142.621311 \nL 600.081799 147.394313 \nL 602.218453 154.061661 \nL 609.46238 177.262091 \nL 610.996388 181.117601 \nL 612.280816 183.776514 \nL 613.38871 185.587611 \nL 614.362684 186.776292 \nL 615.227085 187.497363 \nL 616.006264 187.86976 \nL 616.730657 187.976347 \nL 617.442875 187.855397 \nL 618.173355 187.500556 \nL 618.958621 186.86312 \nL 619.829109 185.856056 \nL 620.803083 184.372588 \nL 621.910977 182.259468 \nL 623.189318 179.316034 \nL 624.692889 175.264877 \nL 626.543438 169.601279 \nL 629.14273 160.858942 \nL 634.810037 141.632896 \nL 636.81277 135.720826 \nL 638.419826 131.632786 \nL 639.771214 128.771949 \nL 640.927808 126.816455 \nL 641.932218 125.532031 \nL 642.808794 124.751906 \nL 643.587972 124.340674 \nL 644.306278 124.206175 \nL 644.994146 124.303023 \nL 645.69419 124.631657 \nL 646.436845 125.235269 \nL 647.252547 126.198798 \nL 648.15956 127.631623 \nL 649.182232 129.683909 \nL 650.351 132.553589 \nL 651.72065 136.538761 \nL 653.412929 142.191948 \nL 655.963522 151.59258 \nL 659.646358 165.052033 \nL 661.569956 171.219954 \nL 663.207449 175.752841 \nL 664.698845 179.248921 \nL 666.098932 181.981603 \nL 667.444233 184.133631 \nL 668.765184 185.837302 \nL 670.086136 187.185543 \nL 671.437524 188.25156 \nL 672.843698 189.080366 \nL 674.335094 189.701433 \nL 675.911714 190.116691 \nL 677.555294 190.319445 \nL 679.229311 190.302309 \nL 680.927677 190.061765 \nL 682.680829 189.586359 \nL 684.604426 188.827298 \nL 687.100233 187.582374 \nL 690.977864 185.648293 \nL 692.621445 185.094665 \nL 693.991095 184.860878 \nL 695.232911 184.871342 \nL 696.413853 185.103701 \nL 697.582621 185.562478 \nL 698.781826 186.276126 \nL 700.060166 187.303831 \nL 701.460253 188.726075 \nL 703.055134 190.676912 \nL 703.438636 191.190798 \nL 703.438636 191.190798 \n\" style=\"fill:none;stroke:#0000ff;stroke-linecap:square;stroke-width:2;\"/>\n   </g>\n   <g id=\"line2d_19\">\n    <path clip-path=\"url(#p6612aa725b)\" d=\"M 94.711364 186.633293 \nL 99.459484 181.11844 \nL 102.515325 177.902968 \nL 105.078093 175.519659 \nL 107.36693 173.686532 \nL 109.49141 172.264139 \nL 111.506317 171.178516 \nL 113.460351 170.375701 \nL 115.390036 169.821585 \nL 117.34407 169.491883 \nL 119.371152 169.377313 \nL 121.538243 169.481048 \nL 123.967089 169.82586 \nL 126.962057 170.487802 \nL 136.81745 172.848283 \nL 139.270646 173.095833 \nL 141.47426 173.097227 \nL 143.537866 172.877562 \nL 145.528425 172.442155 \nL 147.488546 171.784809 \nL 149.454755 170.888841 \nL 151.457487 169.728999 \nL 153.533268 168.265361 \nL 155.712534 166.45098 \nL 158.037895 164.219167 \nL 160.576313 161.466486 \nL 163.43736 158.024994 \nL 166.876703 153.522828 \nL 172.172684 146.169772 \nL 177.98 138.212294 \nL 181.236723 134.124906 \nL 183.902976 131.123324 \nL 186.216162 128.843066 \nL 188.291943 127.10023 \nL 190.185104 125.793609 \nL 191.938256 124.847484 \nL 193.581836 124.207521 \nL 195.152368 123.831286 \nL 196.668114 123.694558 \nL 198.159511 123.782523 \nL 199.650908 124.094069 \nL 201.166654 124.64002 \nL 202.731098 125.443041 \nL 204.374678 126.541672 \nL 206.121743 127.982839 \nL 208.014904 129.840189 \nL 210.108947 132.215388 \nL 212.507356 135.284907 \nL 215.441451 139.421289 \nL 220.043475 146.352181 \nL 225.595123 154.612855 \nL 228.91272 159.145233 \nL 231.840728 162.776456 \nL 234.616552 165.869686 \nL 237.361939 168.599247 \nL 240.186462 171.094045 \nL 243.199692 173.456309 \nL 246.565988 175.807847 \nL 250.583628 178.334073 \nL 255.80656 181.341403 \nL 262.630461 185.00643 \nL 269.271742 188.332394 \nL 274.896438 190.907604 \nL 279.833266 192.928575 \nL 284.283107 194.51449 \nL 288.379882 195.741865 \nL 292.239252 196.668431 \nL 296.001224 197.343677 \nL 299.817982 197.801732 \nL 303.945194 198.068676 \nL 309.058554 198.162962 \nL 321.94544 198.302344 \nL 327.034451 198.656445 \nL 332.963513 199.305924 \nL 346.641752 200.884581 \nL 353.22216 201.341159 \nL 370.017113 202.386031 \nL 382.73964 203.384929 \nL 386.927726 203.435763 \nL 390.768833 203.260449 \nL 394.689076 202.855431 \nL 399.285013 202.145416 \nL 411.264886 200.174691 \nL 414.8625 199.889852 \nL 418.167922 199.849792 \nL 421.400296 200.033269 \nL 424.705718 200.445679 \nL 428.230284 201.113436 \nL 432.193138 202.09725 \nL 437.056918 203.545758 \nL 445.469613 206.329937 \nL 453.267487 208.814621 \nL 458.37476 210.210789 \nL 462.672418 211.160404 \nL 466.464827 211.775437 \nL 469.885908 212.109189 \nL 473.00871 212.194207 \nL 475.894106 212.052973 \nL 478.57862 211.701045 \nL 481.104864 211.146953 \nL 483.503273 210.394248 \nL 485.810373 209.437182 \nL 488.050512 208.266472 \nL 490.248039 206.866094 \nL 492.433392 205.207219 \nL 494.624832 203.260661 \nL 496.840621 200.990887 \nL 499.111197 198.341045 \nL 501.460907 195.249973 \nL 503.92019 191.639526 \nL 506.537744 187.39301 \nL 509.398791 182.31522 \nL 512.649427 176.075137 \nL 516.715765 167.756269 \nL 528.324311 143.708829 \nL 531.428851 137.965024 \nL 534.113365 133.451933 \nL 536.530036 129.812216 \nL 538.758 126.848386 \nL 540.845956 124.432424 \nL 542.824339 122.476207 \nL 544.7175 120.910676 \nL 546.549787 119.678936 \nL 548.339464 118.7394 \nL 550.110878 118.057379 \nL 551.888379 117.609745 \nL 553.696317 117.383841 \nL 555.559041 117.37626 \nL 557.506988 117.592504 \nL 559.576681 118.048773 \nL 561.810733 118.773118 \nL 564.251754 119.803267 \nL 566.948442 121.187981 \nL 569.943411 122.981608 \nL 573.224483 125.210342 \nL 576.718613 127.855474 \nL 580.316227 130.859863 \nL 583.980802 134.212906 \nL 587.827997 138.040472 \nL 592.36306 142.883572 \nL 601.859301 153.124467 \nL 604.702085 155.793045 \nL 607.076145 157.726339 \nL 609.176276 159.157342 \nL 611.099873 160.204526 \nL 612.901724 160.936752 \nL 614.630526 161.402256 \nL 616.322805 161.629324 \nL 618.021171 161.632438 \nL 619.762149 161.411392 \nL 621.600523 160.950024 \nL 623.609344 160.210745 \nL 625.934705 159.108847 \nL 629.081856 157.349 \nL 634.834387 154.107754 \nL 637.196272 153.061295 \nL 639.199005 152.411254 \nL 641.01303 152.051687 \nL 642.723571 151.936881 \nL 644.379326 152.047802 \nL 646.022906 152.381535 \nL 647.690835 152.949398 \nL 649.419638 153.77655 \nL 651.251925 154.905064 \nL 653.242483 156.399828 \nL 655.470448 158.360855 \nL 658.094088 160.979617 \nL 661.618655 164.83831 \nL 670.268756 174.423879 \nL 673.495042 177.591247 \nL 676.459574 180.194553 \nL 679.387581 182.470934 \nL 682.44951 184.567365 \nL 685.907116 186.658179 \nL 690.60045 189.213702 \nL 700.206262 194.401872 \nL 703.438636 196.303808 \nL 703.438636 196.303808 \n\" style=\"fill:none;stroke:#000000;stroke-linecap:square;stroke-width:2;\"/>\n   </g>\n   <g id=\"line2d_20\">\n    <path clip-path=\"url(#p6612aa725b)\" d=\"M 94.711364 189.005336 \nL 115.371774 178.275634 \nL 130.395313 170.790836 \nL 157.240454 157.679896 \nL 164.332198 154.47986 \nL 169.786449 152.255423 \nL 174.443259 150.591055 \nL 178.613083 149.33288 \nL 182.460277 148.401298 \nL 186.082241 147.750615 \nL 189.552021 147.351542 \nL 192.918317 147.187033 \nL 196.229826 147.247544 \nL 199.516986 147.52997 \nL 202.822408 148.037678 \nL 206.182617 148.779977 \nL 209.640222 149.773476 \nL 213.243924 151.042998 \nL 217.060682 152.626958 \nL 221.181807 154.58248 \nL 225.771656 157.012848 \nL 231.152859 160.123389 \nL 238.378524 164.5778 \nL 255.185652 175.018861 \nL 261.58344 178.67525 \nL 267.323795 181.703182 \nL 272.765871 184.324504 \nL 278.074026 186.635921 \nL 283.363919 188.697398 \nL 288.720773 190.546035 \nL 294.223722 192.208951 \nL 299.957991 193.708069 \nL 306.027062 195.06286 \nL 312.564859 196.291464 \nL 319.735738 197.409011 \nL 327.764931 198.43069 \nL 336.914193 199.365513 \nL 347.378319 200.206308 \nL 359.193834 200.928546 \nL 372.792937 201.530087 \nL 423.920452 203.544611 \nL 435.851626 204.032173 \nL 442.742488 204.094218 \nL 448.288048 203.92707 \nL 453.127479 203.562416 \nL 457.522534 203.010789 \nL 461.619309 202.274264 \nL 465.509115 201.350436 \nL 469.265 200.230604 \nL 472.94175 198.902056 \nL 476.575888 197.351954 \nL 480.216113 195.556385 \nL 483.905037 193.486898 \nL 487.691359 191.10493 \nL 491.629864 188.361212 \nL 495.817949 185.167787 \nL 500.395624 181.390961 \nL 505.67943 176.732648 \nL 512.838134 170.097749 \nL 524.933666 158.875141 \nL 530.101812 154.412398 \nL 534.454256 150.940918 \nL 538.356236 148.107509 \nL 541.966025 145.756237 \nL 545.374932 143.797201 \nL 548.64383 142.172188 \nL 551.809244 140.844318 \nL 554.913784 139.781261 \nL 557.987887 138.962671 \nL 561.055903 138.374979 \nL 564.154356 138.007642 \nL 567.313682 137.857366 \nL 570.576493 137.926174 \nL 573.9854 138.222777 \nL 577.595189 138.762788 \nL 581.49717 139.57522 \nL 585.819177 140.70752 \nL 590.792528 142.247472 \nL 596.946822 144.39746 \nL 606.211744 147.897431 \nL 641.749598 161.710601 \nL 649.504861 165.043035 \nL 656.627041 168.345344 \nL 663.804007 171.921229 \nL 671.723628 176.123326 \nL 682.522558 182.130659 \nL 698.008735 190.724291 \nL 703.438636 193.575637 \nL 703.438636 193.575637 \n\" style=\"fill:none;stroke:#808080;stroke-linecap:square;stroke-width:2;\"/>\n   </g>\n   <g id=\"line2d_21\">\n    <path clip-path=\"url(#p6612aa725b)\" d=\"M 94.711364 187.111966 \nL 112.212448 183.325298 \nL 125.032372 180.774647 \nL 136.093057 178.796775 \nL 146.173682 177.217192 \nL 155.633398 175.957974 \nL 164.679176 174.976635 \nL 173.463198 174.246363 \nL 182.095037 173.751409 \nL 190.666003 173.482594 \nL 199.261318 173.435642 \nL 207.97838 173.611013 \nL 216.920673 174.014529 \nL 226.216031 174.658325 \nL 236.053163 175.565145 \nL 246.724258 176.775895 \nL 258.813703 178.37752 \nL 273.916378 180.615425 \nL 319.881834 187.580286 \nL 332.318256 189.143879 \nL 343.409378 190.317251 \nL 353.715234 191.186151 \nL 363.515841 191.790847 \nL 372.975557 192.152897 \nL 382.21613 192.284871 \nL 391.334955 192.193104 \nL 400.41117 191.879437 \nL 409.529995 191.341429 \nL 418.776655 190.572454 \nL 428.266808 189.558932 \nL 438.152638 188.277667 \nL 448.677638 186.686293 \nL 460.280096 184.702165 \nL 474.067906 182.109077 \nL 498.423328 177.249556 \nL 515.729617 173.916019 \nL 527.746014 171.824709 \nL 538.05187 170.252905 \nL 547.426364 169.045144 \nL 556.216473 168.134697 \nL 564.623081 167.486094 \nL 572.767933 167.079591 \nL 580.754515 166.902877 \nL 588.661961 166.949991 \nL 596.56332 167.219602 \nL 604.519465 167.713981 \nL 612.603444 168.439739 \nL 620.90048 169.409022 \nL 629.50797 170.640148 \nL 638.553748 172.160786 \nL 648.238695 174.017498 \nL 658.879354 176.288326 \nL 671.120982 179.135294 \nL 686.820216 183.029347 \nL 703.438636 187.275959 \nL 703.438636 187.275959 \n\" style=\"fill:none;stroke:#008000;stroke-linecap:square;stroke-width:2;\"/>\n   </g>\n   <g id=\"line2d_22\">\n    <path clip-path=\"url(#p6612aa725b)\" d=\"M 94.711364 192.79207 \nL 126.274188 190.663364 \nL 154.628988 188.971909 \nL 181.808933 187.572795 \nL 208.994965 186.396849 \nL 237.258455 185.399166 \nL 267.962965 184.542081 \nL 303.385159 183.782962 \nL 347.987053 183.06102 \nL 404.106181 182.379426 \nL 450.418615 182.02228 \nL 485.000757 181.970154 \nL 513.848631 182.144411 \nL 539.616315 182.519417 \nL 563.630846 183.089454 \nL 586.695753 183.85839 \nL 609.419769 184.838329 \nL 632.344667 186.050296 \nL 656.091356 187.53033 \nL 681.542497 189.342925 \nL 703.438636 191.057826 \nL 703.438636 191.057826 \n\" style=\"fill:none;stroke:#add8e6;stroke-linecap:square;stroke-width:2;\"/>\n   </g>\n   <g id=\"patch_3\">\n    <path d=\"M 64.275 224.64 \nL 64.275 7.2 \n\" style=\"fill:none;stroke:#000000;stroke-linecap:square;stroke-linejoin:miter;stroke-width:0.8;\"/>\n   </g>\n   <g id=\"patch_4\">\n    <path d=\"M 733.875 224.64 \nL 733.875 7.2 \n\" style=\"fill:none;stroke:#000000;stroke-linecap:square;stroke-linejoin:miter;stroke-width:0.8;\"/>\n   </g>\n   <g id=\"patch_5\">\n    <path d=\"M 64.275 224.64 \nL 733.875 224.64 \n\" style=\"fill:none;stroke:#000000;stroke-linecap:square;stroke-linejoin:miter;stroke-width:0.8;\"/>\n   </g>\n   <g id=\"patch_6\">\n    <path d=\"M 64.275 7.2 \nL 733.875 7.2 \n\" style=\"fill:none;stroke:#000000;stroke-linecap:square;stroke-linejoin:miter;stroke-width:0.8;\"/>\n   </g>\n   <g id=\"legend_1\">\n    <g id=\"patch_7\">\n     <path d=\"M 664.254688 103.26875 \nL 726.875 103.26875 \nQ 728.875 103.26875 728.875 101.26875 \nL 728.875 14.2 \nQ 728.875 12.2 726.875 12.2 \nL 664.254688 12.2 \nQ 662.254688 12.2 662.254688 14.2 \nL 662.254688 101.26875 \nQ 662.254688 103.26875 664.254688 103.26875 \nz\n\" style=\"fill:#ffffff;opacity:0.8;stroke:#cccccc;stroke-linejoin:miter;\"/>\n    </g>\n    <g id=\"line2d_23\">\n     <path d=\"M 666.254688 20.298438 \nL 686.254688 20.298438 \n\" style=\"fill:none;stroke:#ff0000;stroke-linecap:square;stroke-width:2;\"/>\n    </g>\n    <g id=\"line2d_24\"/>\n    <g id=\"text_17\">\n     <!-- h=0.1 -->\n     <defs>\n      <path d=\"M 54.890625 33.015625 \nL 54.890625 0 \nL 45.90625 0 \nL 45.90625 32.71875 \nQ 45.90625 40.484375 42.875 44.328125 \nQ 39.84375 48.1875 33.796875 48.1875 \nQ 26.515625 48.1875 22.3125 43.546875 \nQ 18.109375 38.921875 18.109375 30.90625 \nL 18.109375 0 \nL 9.078125 0 \nL 9.078125 75.984375 \nL 18.109375 75.984375 \nL 18.109375 46.1875 \nQ 21.34375 51.125 25.703125 53.5625 \nQ 30.078125 56 35.796875 56 \nQ 45.21875 56 50.046875 50.171875 \nQ 54.890625 44.34375 54.890625 33.015625 \nz\n\" id=\"DejaVuSans-104\"/>\n      <path d=\"M 10.59375 45.40625 \nL 73.1875 45.40625 \nL 73.1875 37.203125 \nL 10.59375 37.203125 \nz\nM 10.59375 25.484375 \nL 73.1875 25.484375 \nL 73.1875 17.1875 \nL 10.59375 17.1875 \nz\n\" id=\"DejaVuSans-61\"/>\n     </defs>\n     <g transform=\"translate(694.254688 23.798438)scale(0.1 -0.1)\">\n      <use xlink:href=\"#DejaVuSans-104\"/>\n      <use x=\"63.378906\" xlink:href=\"#DejaVuSans-61\"/>\n      <use x=\"147.167969\" xlink:href=\"#DejaVuSans-48\"/>\n      <use x=\"210.791016\" xlink:href=\"#DejaVuSans-46\"/>\n      <use x=\"242.578125\" xlink:href=\"#DejaVuSans-49\"/>\n     </g>\n    </g>\n    <g id=\"line2d_25\">\n     <path d=\"M 666.254688 34.976562 \nL 686.254688 34.976562 \n\" style=\"fill:none;stroke:#0000ff;stroke-linecap:square;stroke-width:2;\"/>\n    </g>\n    <g id=\"line2d_26\"/>\n    <g id=\"text_18\">\n     <!-- h=0.5 -->\n     <g transform=\"translate(694.254688 38.476562)scale(0.1 -0.1)\">\n      <use xlink:href=\"#DejaVuSans-104\"/>\n      <use x=\"63.378906\" xlink:href=\"#DejaVuSans-61\"/>\n      <use x=\"147.167969\" xlink:href=\"#DejaVuSans-48\"/>\n      <use x=\"210.791016\" xlink:href=\"#DejaVuSans-46\"/>\n      <use x=\"242.578125\" xlink:href=\"#DejaVuSans-53\"/>\n     </g>\n    </g>\n    <g id=\"line2d_27\">\n     <path d=\"M 666.254688 49.654687 \nL 686.254688 49.654687 \n\" style=\"fill:none;stroke:#000000;stroke-linecap:square;stroke-width:2;\"/>\n    </g>\n    <g id=\"line2d_28\"/>\n    <g id=\"text_19\">\n     <!-- h=1 -->\n     <g transform=\"translate(694.254688 53.154687)scale(0.1 -0.1)\">\n      <use xlink:href=\"#DejaVuSans-104\"/>\n      <use x=\"63.378906\" xlink:href=\"#DejaVuSans-61\"/>\n      <use x=\"147.167969\" xlink:href=\"#DejaVuSans-49\"/>\n     </g>\n    </g>\n    <g id=\"line2d_29\">\n     <path d=\"M 666.254688 64.332813 \nL 686.254688 64.332813 \n\" style=\"fill:none;stroke:#808080;stroke-linecap:square;stroke-width:2;\"/>\n    </g>\n    <g id=\"line2d_30\"/>\n    <g id=\"text_20\">\n     <!-- h=2 -->\n     <g transform=\"translate(694.254688 67.832813)scale(0.1 -0.1)\">\n      <use xlink:href=\"#DejaVuSans-104\"/>\n      <use x=\"63.378906\" xlink:href=\"#DejaVuSans-61\"/>\n      <use x=\"147.167969\" xlink:href=\"#DejaVuSans-50\"/>\n     </g>\n    </g>\n    <g id=\"line2d_31\">\n     <path d=\"M 666.254688 79.010938 \nL 686.254688 79.010938 \n\" style=\"fill:none;stroke:#008000;stroke-linecap:square;stroke-width:2;\"/>\n    </g>\n    <g id=\"line2d_32\"/>\n    <g id=\"text_21\">\n     <!-- h=5 -->\n     <g transform=\"translate(694.254688 82.510938)scale(0.1 -0.1)\">\n      <use xlink:href=\"#DejaVuSans-104\"/>\n      <use x=\"63.378906\" xlink:href=\"#DejaVuSans-61\"/>\n      <use x=\"147.167969\" xlink:href=\"#DejaVuSans-53\"/>\n     </g>\n    </g>\n    <g id=\"line2d_33\">\n     <path d=\"M 666.254688 93.689063 \nL 686.254688 93.689063 \n\" style=\"fill:none;stroke:#add8e6;stroke-linecap:square;stroke-width:2;\"/>\n    </g>\n    <g id=\"line2d_34\"/>\n    <g id=\"text_22\">\n     <!-- h=10 -->\n     <g transform=\"translate(694.254688 97.189063)scale(0.1 -0.1)\">\n      <use xlink:href=\"#DejaVuSans-104\"/>\n      <use x=\"63.378906\" xlink:href=\"#DejaVuSans-61\"/>\n      <use x=\"147.167969\" xlink:href=\"#DejaVuSans-49\"/>\n      <use x=\"210.791016\" xlink:href=\"#DejaVuSans-48\"/>\n     </g>\n    </g>\n   </g>\n  </g>\n </g>\n <defs>\n  <clipPath id=\"p6612aa725b\">\n   <rect height=\"217.44\" width=\"669.6\" x=\"64.275\" y=\"7.2\"/>\n  </clipPath>\n </defs>\n</svg>\n",
      "image/png": "[encoded data removed]"
     },
     "metadata": {
      "needs_background": "light"
     }
    }
   ],
   "source": [
    "import numpy as np\n",
    "from matplotlib.pyplot import cm\n",
    "from sklearn.neighbors import KernelDensity\n",
    "\n",
    "color=['red', 'blue', 'black', 'gray', 'green', 'lightblue']\n",
    "\n",
    "X_Feat = X[:, 3]\n",
    "X_Feat = X_Feat.reshape((len(X_Feat), 1))\n",
    "\n",
    "X_plot = np.linspace(np.min(X_Feat), np.max(X_Feat), 100000)[:, np.newaxis]\n",
    "\n",
    "plt.figure(figsize=(12,4))\n",
    "plt.plot(X_Feat, 0.001*np.ones(X_Feat.shape[0]), 'ok')\n",
    "\n",
    "c = 0 \n",
    "\n",
    "vh = [0.1, 0.5, 1, 2, 5, 10]\n",
    "\n",
    "for h in vh:\n",
    "    kde = KernelDensity(kernel='gaussian', bandwidth=h).fit(X_Feat)\n",
    "    log_dens = np.exp(kde.score_samples(X_plot)) # score_samples() returns the log density.\n",
    "    plt.plot(X_plot,log_dens, color = color[c], linewidth=2, label = 'h='+str(h))\n",
    "    c = c + 1\n",
    "\n",
    "plt.ylabel('P(x)', fontsize = 20)\n",
    "plt.xticks(fontsize=12)\n",
    "plt.yticks(fontsize=12)\n",
    "plt.legend(fontsize = 10)\n",
    "plt.show(True)"
   ]
  },
  {
   "cell_type": "markdown",
   "metadata": {
    "id": "YT-5ZFaUMKRx"
   },
   "source": [
    "Para essa outra variável, vemos a mesma ideia ocorrendo. Um valor de h razoável seria algo como `h = 1` para a estimação. Entretanto a discussão sobre esse melhor valor realmente não é tão trivial e pode ter [discussões mais profundas](https://arxiv.org/pdf/math/0504511.pdf) para essa decisão."
   ]
  },
  {
   "source": [
    "### 8 - Considere as bases:  Vehicle, winequality-red e vertebralcolumn-3C. Compare os classificadores:  (a) Naive Bayes, (b) Florestas aleatórias, (c) k-vizinhos, (d) regressão logística. Considere as medidas: (i) AUC (área sob a curva ROC), (ii) precisão, (iii) medida F1 e (iv) acurácia.  Ou seja, faça uma tabela para cada base, onde as linhas representam os classificadores e as colunas, as medidas de avaliação."
   ],
   "cell_type": "markdown",
   "metadata": {}
  },
  {
   "source": [
    "Vamos criar uma classe que organizará os métodos que vão classificar cada uma das bases."
   ],
   "cell_type": "markdown",
   "metadata": {}
  },
  {
   "source": [
    "from sklearn.naive_bayes import GaussianNB\n",
    "from sklearn.ensemble import RandomForestClassifier\n",
    "from sklearn.neighbors import KNeighborsClassifier\n",
    "from sklearn.linear_model import LogisticRegression\n",
    "from sklearn import metrics\n",
    "from sklearn.metrics import precision_score, roc_auc_score, classification_report, accuracy_score, f1_score\n",
    "from sklearn.preprocessing import label_binarize\n",
    "\n",
    "class Classification:\n",
    "    # Colocamos como parâmetros iniciais os dados de treino e teste de um dataset\n",
    "    def __init__(self, name, x_train, x_test, y_train, y_test):\n",
    "        self.name = name\n",
    "        self.x_train = x_train\n",
    "        self.x_test = x_test\n",
    "        self.y_train = y_train\n",
    "        self.y_test = y_test\n",
    "\n",
    "    # Função retorna um array da predição da classe com nosso conjunto teste com o modelo Naive Bayes\n",
    "    def naiveBayes(self):\n",
    "        model = GaussianNB()\n",
    "        model.fit(self.x_train, self.y_train)\n",
    "\n",
    "        return model.predict(self.x_test)\n",
    "\n",
    "    # Função retorna um array da predição da classe com nosso conjunto teste com o modelo Random Forest\n",
    "    def randomForest(self, estimators):\n",
    "        model = RandomForestClassifier(n_estimators = estimators, bootstrap = True, class_weight = None, criterion = 'gini',\n",
    "                    max_depth=None, max_features='auto', max_leaf_nodes=None,\n",
    "                    min_impurity_decrease=0.0, min_impurity_split=None,\n",
    "                    min_samples_leaf=1, min_samples_split=2,\n",
    "                    min_weight_fraction_leaf=0.0, n_jobs=1,\n",
    "                    oob_score=False, random_state=None, verbose=0,\n",
    "                    warm_start=False)\n",
    "        model.fit(self.x_train, self.y_train)\n",
    "\n",
    "        return model.predict(self.x_test)\n",
    "\n",
    "    # Função retorna um array da predição da classe com nosso conjunto teste com o modelo knn\n",
    "    def knn(self, k):\n",
    "        model = KNeighborsClassifier(n_neighbors = k, metric = 'euclidean')\n",
    "        model.fit(self.x_train, self.y_train)\n",
    "        \n",
    "        return model.predict(self.x_test) \n",
    "\n",
    "    # Função retorna um array da predição da classe com nosso conjunto teste com o modelo Logistic Regression\n",
    "    def logReg(self):\n",
    "        model = LogisticRegression(solver = 'lbfgs', multi_class = 'auto', max_iter = 1000)\n",
    "        model.fit(self.x_train, self.y_train)\n",
    "\n",
    "        return model.predict(self.x_test)\n",
    "\n",
    "    # O AUC retorna a área sob a curva ROC, no caso a média dos AUC's\n",
    "    def auc(self, y_pred):\n",
    "        # Binarização de y_test com (n_samples, n_classes)\n",
    "        ytest = label_binarize(self.y_test, classes = y_test.unique())\n",
    "\n",
    "        # Binarização de y_pred com (n_samples, n_classes)\n",
    "        ypreds = label_binarize(y_pred, classes = y_test.unique())\n",
    "\n",
    "        # É feito a média dos AUC's considerando o ROC feito na comparação ovo = one versus one\n",
    "        roc = roc_auc_score(ytest, ypreds, multi_class = 'ovo', average = 'macro')\n",
    "\n",
    "        return roc\n",
    "\n",
    "    # Retorna a precisão obtida com a classificação\n",
    "    def precision(self, y_pred):\n",
    "        return precision_score(self.y_test, y_pred, average = 'macro')\n",
    "\n",
    "    # Retorna a medida F1 para a classificação\n",
    "    def f1(self, y_pred):\n",
    "        return f1_score(self.y_test, y_pred, average = 'macro')\n",
    "\n",
    "    # Retorna a acurácia da classificação\n",
    "    def accuracy(self, y_pred):\n",
    "        return accuracy_score(y_pred, self.y_test)\n"
   ],
   "cell_type": "code",
   "metadata": {},
   "execution_count": 83,
   "outputs": []
  },
  {
   "source": [
    "#### Vehicle dataset"
   ],
   "cell_type": "markdown",
   "metadata": {}
  },
  {
   "source": [
    "Primeiramente vamos carregar os dados da base."
   ],
   "cell_type": "markdown",
   "metadata": {}
  },
  {
   "cell_type": "code",
   "execution_count": 84,
   "metadata": {},
   "outputs": [
    {
     "output_type": "execute_result",
     "data": {
      "text/plain": [
       "     Comp  Circ  D.Circ  Rad.Ra  Pr.Axis.Ra  Max.L.Ra  Scat.Ra  Elong  \\\n",
       "270    82    45      68     150          69         5      148     45   \n",
       "223    81    44      72     139          60         6      153     44   \n",
       "288    96    47     103     215          69        10      200     33   \n",
       "43     93    37      76     183          63         8      164     40   \n",
       "292    87    42      76     159          65         5      155     42   \n",
       "\n",
       "     Pr.Axis.Rect  Max.L.Rect  Sc.Var.Maxis  Sc.Var.maxis  Ra.Gyr  Skew.Maxis  \\\n",
       "270            19         144           169           322     184          80   \n",
       "223            19         146           180           347     178          81   \n",
       "288            23         147           220           598     200          73   \n",
       "43             20         134           191           405     139          67   \n",
       "292            19         138           184           362     157          76   \n",
       "\n",
       "     Skew.maxis  Kurt.maxis  Kurt.Maxis  Holl.Ra Class  \n",
       "270           5           0         181      184   bus  \n",
       "223           1          15         182      186   bus  \n",
       "288           6           6         187      194  opel  \n",
       "43            4           7         192      197  saab  \n",
       "292           6          12         189      193   bus  "
      ],
      "text/html": "<div>\n<style scoped>\n    .dataframe tbody tr th:only-of-type {\n        vertical-align: middle;\n    }\n\n    .dataframe tbody tr th {\n        vertical-align: top;\n    }\n\n    .dataframe thead th {\n        text-align: right;\n    }\n</style>\n<table border=\"1\" class=\"dataframe\">\n  <thead>\n    <tr style=\"text-align: right;\">\n      <th></th>\n      <th>Comp</th>\n      <th>Circ</th>\n      <th>D.Circ</th>\n      <th>Rad.Ra</th>\n      <th>Pr.Axis.Ra</th>\n      <th>Max.L.Ra</th>\n      <th>Scat.Ra</th>\n      <th>Elong</th>\n      <th>Pr.Axis.Rect</th>\n      <th>Max.L.Rect</th>\n      <th>Sc.Var.Maxis</th>\n      <th>Sc.Var.maxis</th>\n      <th>Ra.Gyr</th>\n      <th>Skew.Maxis</th>\n      <th>Skew.maxis</th>\n      <th>Kurt.maxis</th>\n      <th>Kurt.Maxis</th>\n      <th>Holl.Ra</th>\n      <th>Class</th>\n    </tr>\n  </thead>\n  <tbody>\n    <tr>\n      <th>270</th>\n      <td>82</td>\n      <td>45</td>\n      <td>68</td>\n      <td>150</td>\n      <td>69</td>\n      <td>5</td>\n      <td>148</td>\n      <td>45</td>\n      <td>19</td>\n      <td>144</td>\n      <td>169</td>\n      <td>322</td>\n      <td>184</td>\n      <td>80</td>\n      <td>5</td>\n      <td>0</td>\n      <td>181</td>\n      <td>184</td>\n      <td>bus</td>\n    </tr>\n    <tr>\n      <th>223</th>\n      <td>81</td>\n      <td>44</td>\n      <td>72</td>\n      <td>139</td>\n      <td>60</td>\n      <td>6</td>\n      <td>153</td>\n      <td>44</td>\n      <td>19</td>\n      <td>146</td>\n      <td>180</td>\n      <td>347</td>\n      <td>178</td>\n      <td>81</td>\n      <td>1</td>\n      <td>15</td>\n      <td>182</td>\n      <td>186</td>\n      <td>bus</td>\n    </tr>\n    <tr>\n      <th>288</th>\n      <td>96</td>\n      <td>47</td>\n      <td>103</td>\n      <td>215</td>\n      <td>69</td>\n      <td>10</td>\n      <td>200</td>\n      <td>33</td>\n      <td>23</td>\n      <td>147</td>\n      <td>220</td>\n      <td>598</td>\n      <td>200</td>\n      <td>73</td>\n      <td>6</td>\n      <td>6</td>\n      <td>187</td>\n      <td>194</td>\n      <td>opel</td>\n    </tr>\n    <tr>\n      <th>43</th>\n      <td>93</td>\n      <td>37</td>\n      <td>76</td>\n      <td>183</td>\n      <td>63</td>\n      <td>8</td>\n      <td>164</td>\n      <td>40</td>\n      <td>20</td>\n      <td>134</td>\n      <td>191</td>\n      <td>405</td>\n      <td>139</td>\n      <td>67</td>\n      <td>4</td>\n      <td>7</td>\n      <td>192</td>\n      <td>197</td>\n      <td>saab</td>\n    </tr>\n    <tr>\n      <th>292</th>\n      <td>87</td>\n      <td>42</td>\n      <td>76</td>\n      <td>159</td>\n      <td>65</td>\n      <td>5</td>\n      <td>155</td>\n      <td>42</td>\n      <td>19</td>\n      <td>138</td>\n      <td>184</td>\n      <td>362</td>\n      <td>157</td>\n      <td>76</td>\n      <td>6</td>\n      <td>12</td>\n      <td>189</td>\n      <td>193</td>\n      <td>bus</td>\n    </tr>\n  </tbody>\n</table>\n</div>"
     },
     "metadata": {},
     "execution_count": 84
    }
   ],
   "source": [
    "import pandas as pd\n",
    "import numpy as np\n",
    "\n",
    "dfVehicle = pd.read_csv('https://raw.githubusercontent.com/brenoslivio/SME0828_DataScience/master/Projects/data/Vehicle.csv', header = (0))\n",
    "\n",
    "# Convertendo a classe para tipo categórico\n",
    "dfVehicle['Class'] = pd.Categorical(dfVehicle['Class']) \n",
    "\n",
    "dfVehicle.sample(5)"
   ]
  },
  {
   "source": [
    "Vamos arrumar os dados de treino fazendo a normalização necessária"
   ],
   "cell_type": "markdown",
   "metadata": {}
  },
  {
   "cell_type": "code",
   "execution_count": 85,
   "metadata": {},
   "outputs": [],
   "source": [
    "from sklearn.model_selection import train_test_split\n",
    "from sklearn.preprocessing import StandardScaler\n",
    "\n",
    "# Pega desde a primeira à penúltima coluna\n",
    "X = dfVehicle.loc[:, \"Comp\":\"Holl.Ra\"]\n",
    "\n",
    "# Normalização\n",
    "scaler = StandardScaler().fit(X)\n",
    "X = scaler.transform(X)\n",
    "\n",
    "y = dfVehicle[\"Class\"]\n",
    "\n",
    "p = 0.8 # Fração de elementos que iremos usar no treinamento\n",
    "x_train, x_test, y_train, y_test = train_test_split(X, y, train_size = p, random_state = 42)"
   ]
  },
  {
   "source": [
    "Vamos fazer a classificação com a classe feita no Python com os métodos que correspondem às classificações que iremos usar."
   ],
   "cell_type": "markdown",
   "metadata": {}
  },
  {
   "cell_type": "code",
   "execution_count": 86,
   "metadata": {},
   "outputs": [],
   "source": [
    "classVehicle = Classification('Vehicle', x_train, x_test, y_train, y_test)"
   ]
  },
  {
   "source": [
    "##### Naive Bayes"
   ],
   "cell_type": "markdown",
   "metadata": {}
  },
  {
   "source": [
    "print('AUC:', classVehicle.auc(classVehicle.naiveBayes()))\n",
    "print('Precision:', classVehicle.precision(classVehicle.naiveBayes()))\n",
    "print('F1 score:', classVehicle.f1(classVehicle.naiveBayes()))\n",
    "print('Accuracy:', classVehicle.accuracy(classVehicle.naiveBayes()))"
   ],
   "cell_type": "code",
   "metadata": {},
   "execution_count": 87,
   "outputs": [
    {
     "output_type": "stream",
     "name": "stdout",
     "text": [
      "AUC: 0.6780312350831071\nPrecision: 0.5677423256814149\nF1 score: 0.4601418211695781\nAccuracy: 0.5\n"
     ]
    }
   ]
  },
  {
   "source": [
    "##### Random Forest"
   ],
   "cell_type": "markdown",
   "metadata": {}
  },
  {
   "source": [
    "Note que iremos usar um número de estimadores sendo 100 para esse modelo, que foi considerado razoável para a classificação. "
   ],
   "cell_type": "markdown",
   "metadata": {}
  },
  {
   "cell_type": "code",
   "execution_count": 88,
   "metadata": {},
   "outputs": [
    {
     "output_type": "stream",
     "name": "stdout",
     "text": [
      "AUC: 0.8307218481654957\n",
      "Precision: 0.7242580499159447\n",
      "F1 score: 0.7429705884071748\n",
      "Accuracy: 0.7705882352941177\n"
     ]
    }
   ],
   "source": [
    "print('AUC:', classVehicle.auc(classVehicle.randomForest(100)))\n",
    "print('Precision:', classVehicle.precision(classVehicle.randomForest(100)))\n",
    "print('F1 score:', classVehicle.f1(classVehicle.randomForest(100)))\n",
    "print('Accuracy:', classVehicle.accuracy(classVehicle.randomForest(100)))"
   ]
  },
  {
   "source": [
    "##### k-NN"
   ],
   "cell_type": "markdown",
   "metadata": {}
  },
  {
   "source": [
    "Vamos usar k como igual a 10, um número razoável de vizinhos para a classificação."
   ],
   "cell_type": "markdown",
   "metadata": {}
  },
  {
   "cell_type": "code",
   "execution_count": 89,
   "metadata": {},
   "outputs": [
    {
     "output_type": "stream",
     "name": "stdout",
     "text": [
      "AUC: 0.8155189119484756\nPrecision: 0.7013518403093241\nF1 score: 0.7017241379310345\nAccuracy: 0.7294117647058823\n"
     ]
    }
   ],
   "source": [
    "print('AUC:', classVehicle.auc(classVehicle.knn(10)))\n",
    "print('Precision:', classVehicle.precision(classVehicle.knn(10)))\n",
    "print('F1 score:', classVehicle.f1(classVehicle.knn(10)))\n",
    "print('Accuracy:', classVehicle.accuracy(classVehicle.knn(10)))"
   ]
  },
  {
   "source": [
    "##### Logistic Regression"
   ],
   "cell_type": "markdown",
   "metadata": {}
  },
  {
   "cell_type": "code",
   "execution_count": 90,
   "metadata": {},
   "outputs": [
    {
     "output_type": "stream",
     "name": "stdout",
     "text": [
      "AUC: 0.8596001830611271\n",
      "Precision: 0.7758603476626732\n",
      "F1 score: 0.7761411588824042\n",
      "Accuracy: 0.7941176470588235\n"
     ]
    }
   ],
   "source": [
    "print('AUC:', classVehicle.auc(classVehicle.logReg()))\n",
    "print('Precision:', classVehicle.precision(classVehicle.logReg()))\n",
    "print('F1 score:', classVehicle.f1(classVehicle.logReg()))\n",
    "print('Accuracy:', classVehicle.accuracy(classVehicle.logReg()))"
   ]
  },
  {
   "source": [
    "##### Tabela para o dataset Vehicle"
   ],
   "cell_type": "markdown",
   "metadata": {}
  },
  {
   "source": [
    "Por fim, colocamos os valores obtidos em uma tabela para a melhor visualização."
   ],
   "cell_type": "markdown",
   "metadata": {}
  },
  {
   "cell_type": "code",
   "execution_count": 91,
   "metadata": {},
   "outputs": [
    {
     "output_type": "execute_result",
     "data": {
      "text/plain": [
       "                          AUC  Precisão  Medida F1  Acurácia\n",
       "Classificador                                               \n",
       "Naive Bayes          0.678031  0.567742   0.460142  0.500000\n",
       "Random Forest        0.828850  0.710441   0.727412  0.764706\n",
       "k-NN                 0.815519  0.701352   0.701724  0.729412\n",
       "Logistic Regression  0.859600  0.775860   0.776141  0.794118"
      ],
      "text/html": "<div>\n<style scoped>\n    .dataframe tbody tr th:only-of-type {\n        vertical-align: middle;\n    }\n\n    .dataframe tbody tr th {\n        vertical-align: top;\n    }\n\n    .dataframe thead th {\n        text-align: right;\n    }\n</style>\n<table border=\"1\" class=\"dataframe\">\n  <thead>\n    <tr style=\"text-align: right;\">\n      <th></th>\n      <th>AUC</th>\n      <th>Precisão</th>\n      <th>Medida F1</th>\n      <th>Acurácia</th>\n    </tr>\n    <tr>\n      <th>Classificador</th>\n      <th></th>\n      <th></th>\n      <th></th>\n      <th></th>\n    </tr>\n  </thead>\n  <tbody>\n    <tr>\n      <th>Naive Bayes</th>\n      <td>0.678031</td>\n      <td>0.567742</td>\n      <td>0.460142</td>\n      <td>0.500000</td>\n    </tr>\n    <tr>\n      <th>Random Forest</th>\n      <td>0.828850</td>\n      <td>0.710441</td>\n      <td>0.727412</td>\n      <td>0.764706</td>\n    </tr>\n    <tr>\n      <th>k-NN</th>\n      <td>0.815519</td>\n      <td>0.701352</td>\n      <td>0.701724</td>\n      <td>0.729412</td>\n    </tr>\n    <tr>\n      <th>Logistic Regression</th>\n      <td>0.859600</td>\n      <td>0.775860</td>\n      <td>0.776141</td>\n      <td>0.794118</td>\n    </tr>\n  </tbody>\n</table>\n</div>"
     },
     "metadata": {},
     "execution_count": 91
    }
   ],
   "source": [
    "nb = ['Naive Bayes', classVehicle.auc(classVehicle.naiveBayes()), classVehicle.precision(classVehicle.naiveBayes()), classVehicle.f1(classVehicle.naiveBayes()), classVehicle.accuracy(classVehicle.naiveBayes())]\n",
    "\n",
    "rnfor = ['Random Forest', classVehicle.auc(classVehicle.randomForest(100)), classVehicle.precision(classVehicle.randomForest(100)), classVehicle.f1(classVehicle.randomForest(100)), classVehicle.accuracy(classVehicle.randomForest(100))]\n",
    "\n",
    "kn = ['k-NN', classVehicle.auc(classVehicle.knn(10)), classVehicle.precision(classVehicle.knn(10)), classVehicle.f1(classVehicle.knn(10)), classVehicle.accuracy(classVehicle.knn(10))]\n",
    "\n",
    "logr = ['Logistic Regression', classVehicle.auc(classVehicle.logReg()), classVehicle.precision(classVehicle.logReg()), classVehicle.f1(classVehicle.logReg()), classVehicle.accuracy(classVehicle.logReg())]\n",
    "\n",
    "data = [nb, rnfor, kn, logr] \n",
    "\n",
    "tableVehicle = pd.DataFrame(data, columns = ['Classificador', 'AUC', 'Precisão', 'Medida F1', 'Acurácia']) \n",
    "\n",
    "tableVehicle.set_index('Classificador')"
   ]
  },
  {
   "source": [
    "Conclusões mais produndas sobre os resultados obtidos serão colocados no final do exercício."
   ],
   "cell_type": "markdown",
   "metadata": {}
  },
  {
   "source": [
    "#### Wine dataset"
   ],
   "cell_type": "markdown",
   "metadata": {}
  },
  {
   "source": [
    "O mesmo procedimento para carregar as bases."
   ],
   "cell_type": "markdown",
   "metadata": {}
  },
  {
   "cell_type": "code",
   "execution_count": 92,
   "metadata": {},
   "outputs": [
    {
     "output_type": "execute_result",
     "data": {
      "text/plain": [
       "      fixed acidity  volatile acidity  citric acid  residual sugar  chlorides  \\\n",
       "1136           10.4              0.52         0.45             2.0      0.080   \n",
       "1142            6.9              0.45         0.11             2.4      0.043   \n",
       "195             7.8              0.59         0.33             2.0      0.074   \n",
       "1337            6.0              0.50         0.00             1.4      0.057   \n",
       "1526            6.8              0.47         0.08             2.2      0.064   \n",
       "\n",
       "      free sulfur dioxide  total sulfur dioxide  density    pH  sulphates  \\\n",
       "1136                  6.0                  13.0  0.99774  3.22       0.76   \n",
       "1142                  6.0                  12.0  0.99354  3.30       0.65   \n",
       "195                  24.0                 120.0  0.99680  3.25       0.54   \n",
       "1337                 15.0                  26.0  0.99448  3.36       0.45   \n",
       "1526                 18.0                  38.0  0.99553  3.30       0.65   \n",
       "\n",
       "      alcohol quality  \n",
       "1136     11.4       6  \n",
       "1142     11.4       6  \n",
       "195       9.4       5  \n",
       "1337      9.5       5  \n",
       "1526      9.6       6  "
      ],
      "text/html": "<div>\n<style scoped>\n    .dataframe tbody tr th:only-of-type {\n        vertical-align: middle;\n    }\n\n    .dataframe tbody tr th {\n        vertical-align: top;\n    }\n\n    .dataframe thead th {\n        text-align: right;\n    }\n</style>\n<table border=\"1\" class=\"dataframe\">\n  <thead>\n    <tr style=\"text-align: right;\">\n      <th></th>\n      <th>fixed acidity</th>\n      <th>volatile acidity</th>\n      <th>citric acid</th>\n      <th>residual sugar</th>\n      <th>chlorides</th>\n      <th>free sulfur dioxide</th>\n      <th>total sulfur dioxide</th>\n      <th>density</th>\n      <th>pH</th>\n      <th>sulphates</th>\n      <th>alcohol</th>\n      <th>quality</th>\n    </tr>\n  </thead>\n  <tbody>\n    <tr>\n      <th>1136</th>\n      <td>10.4</td>\n      <td>0.52</td>\n      <td>0.45</td>\n      <td>2.0</td>\n      <td>0.080</td>\n      <td>6.0</td>\n      <td>13.0</td>\n      <td>0.99774</td>\n      <td>3.22</td>\n      <td>0.76</td>\n      <td>11.4</td>\n      <td>6</td>\n    </tr>\n    <tr>\n      <th>1142</th>\n      <td>6.9</td>\n      <td>0.45</td>\n      <td>0.11</td>\n      <td>2.4</td>\n      <td>0.043</td>\n      <td>6.0</td>\n      <td>12.0</td>\n      <td>0.99354</td>\n      <td>3.30</td>\n      <td>0.65</td>\n      <td>11.4</td>\n      <td>6</td>\n    </tr>\n    <tr>\n      <th>195</th>\n      <td>7.8</td>\n      <td>0.59</td>\n      <td>0.33</td>\n      <td>2.0</td>\n      <td>0.074</td>\n      <td>24.0</td>\n      <td>120.0</td>\n      <td>0.99680</td>\n      <td>3.25</td>\n      <td>0.54</td>\n      <td>9.4</td>\n      <td>5</td>\n    </tr>\n    <tr>\n      <th>1337</th>\n      <td>6.0</td>\n      <td>0.50</td>\n      <td>0.00</td>\n      <td>1.4</td>\n      <td>0.057</td>\n      <td>15.0</td>\n      <td>26.0</td>\n      <td>0.99448</td>\n      <td>3.36</td>\n      <td>0.45</td>\n      <td>9.5</td>\n      <td>5</td>\n    </tr>\n    <tr>\n      <th>1526</th>\n      <td>6.8</td>\n      <td>0.47</td>\n      <td>0.08</td>\n      <td>2.2</td>\n      <td>0.064</td>\n      <td>18.0</td>\n      <td>38.0</td>\n      <td>0.99553</td>\n      <td>3.30</td>\n      <td>0.65</td>\n      <td>9.6</td>\n      <td>6</td>\n    </tr>\n  </tbody>\n</table>\n</div>"
     },
     "metadata": {},
     "execution_count": 92
    }
   ],
   "source": [
    "dfWine = pd.read_csv('https://raw.githubusercontent.com/brenoslivio/SME0828_DataScience/master/Projects/data/winequality-red.csv', header = (0))\n",
    "\n",
    "# Convertendo a classe para tipo categórico\n",
    "dfWine['quality'] = pd.Categorical(dfWine['quality']) \n",
    "\n",
    "dfWine.sample(5)"
   ]
  },
  {
   "cell_type": "code",
   "execution_count": 93,
   "metadata": {},
   "outputs": [],
   "source": [
    "from sklearn.model_selection import train_test_split\n",
    "from sklearn.preprocessing import StandardScaler\n",
    "\n",
    "# Pega desde a primeira à penúltima coluna\n",
    "X = dfWine.loc[:, \"fixed acidity\":\"alcohol\"]\n",
    "\n",
    "# Normalização\n",
    "scaler = StandardScaler().fit(X)\n",
    "X = scaler.transform(X)\n",
    "\n",
    "y = dfWine[\"quality\"]\n",
    "\n",
    "p = 0.8 # Fração de elementos que iremos usar no treinamento\n",
    "x_train, x_test, y_train, y_test = train_test_split(X, y, train_size = p, random_state = 42)"
   ]
  },
  {
   "cell_type": "code",
   "execution_count": 94,
   "metadata": {},
   "outputs": [],
   "source": [
    "classWine = Classification('Wine', x_train, x_test, y_train, y_test)"
   ]
  },
  {
   "source": [
    "##### Tabela para o dataset Wine"
   ],
   "cell_type": "markdown",
   "metadata": {}
  },
  {
   "source": [
    "Já fazendo o procedimento de colocar os valores em uma tabela."
   ],
   "cell_type": "markdown",
   "metadata": {}
  },
  {
   "cell_type": "code",
   "execution_count": 95,
   "metadata": {},
   "outputs": [
    {
     "output_type": "execute_result",
     "data": {
      "text/plain": [
       "                          AUC  Precisão  Medida F1  Acurácia\n",
       "Classificador                                               \n",
       "Naive Bayes          0.598283  0.312054   0.310130  0.546875\n",
       "Random Forest        0.613560  0.320247   0.325723  0.650000\n",
       "k-NN                 0.582987  0.290703   0.282711  0.578125\n",
       "Logistic Regression  0.578982  0.427095   0.283873  0.575000"
      ],
      "text/html": "<div>\n<style scoped>\n    .dataframe tbody tr th:only-of-type {\n        vertical-align: middle;\n    }\n\n    .dataframe tbody tr th {\n        vertical-align: top;\n    }\n\n    .dataframe thead th {\n        text-align: right;\n    }\n</style>\n<table border=\"1\" class=\"dataframe\">\n  <thead>\n    <tr style=\"text-align: right;\">\n      <th></th>\n      <th>AUC</th>\n      <th>Precisão</th>\n      <th>Medida F1</th>\n      <th>Acurácia</th>\n    </tr>\n    <tr>\n      <th>Classificador</th>\n      <th></th>\n      <th></th>\n      <th></th>\n      <th></th>\n    </tr>\n  </thead>\n  <tbody>\n    <tr>\n      <th>Naive Bayes</th>\n      <td>0.598283</td>\n      <td>0.312054</td>\n      <td>0.310130</td>\n      <td>0.546875</td>\n    </tr>\n    <tr>\n      <th>Random Forest</th>\n      <td>0.613560</td>\n      <td>0.320247</td>\n      <td>0.325723</td>\n      <td>0.650000</td>\n    </tr>\n    <tr>\n      <th>k-NN</th>\n      <td>0.582987</td>\n      <td>0.290703</td>\n      <td>0.282711</td>\n      <td>0.578125</td>\n    </tr>\n    <tr>\n      <th>Logistic Regression</th>\n      <td>0.578982</td>\n      <td>0.427095</td>\n      <td>0.283873</td>\n      <td>0.575000</td>\n    </tr>\n  </tbody>\n</table>\n</div>"
     },
     "metadata": {},
     "execution_count": 95
    }
   ],
   "source": [
    "nb = ['Naive Bayes', classWine.auc(classWine.naiveBayes()), classWine.precision(classWine.naiveBayes()), classWine.f1(classWine.naiveBayes()), classWine.accuracy(classWine.naiveBayes())]\n",
    "\n",
    "rnfor = ['Random Forest', classWine.auc(classWine.randomForest(100)), classWine.precision(classWine.randomForest(100)), classWine.f1(classWine.randomForest(100)), classWine.accuracy(classWine.randomForest(100))]\n",
    "\n",
    "kn = ['k-NN', classWine.auc(classWine.knn(10)), classWine.precision(classWine.knn(10)), classWine.f1(classWine.knn(10)), classWine.accuracy(classWine.knn(10))]\n",
    "\n",
    "logr = ['Logistic Regression', classWine.auc(classWine.logReg()), classWine.precision(classWine.logReg()), classWine.f1(classWine.logReg()), classWine.accuracy(classWine.logReg())]\n",
    "\n",
    "data = [nb, rnfor, kn, logr] \n",
    "\n",
    "tableWine = pd.DataFrame(data, columns = ['Classificador', 'AUC', 'Precisão', 'Medida F1', 'Acurácia']) \n",
    "\n",
    "tableWine.set_index('Classificador')"
   ]
  },
  {
   "source": [
    "Note que as acurácias para os modelos não muito altas devido a termos que classificar considerando várias labels com um bom desbalanceamento. Para uma melhor classificação seria interessante agrupar em intervalos que indiquem uma certa qualidade do vinho além de outras técnicas para lidar com uma distribuição desbalanceada como "
   ],
   "cell_type": "markdown",
   "metadata": {}
  },
  {
   "cell_type": "code",
   "execution_count": 96,
   "metadata": {},
   "outputs": [
    {
     "output_type": "execute_result",
     "data": {
      "text/plain": [
       "5    681\n",
       "6    638\n",
       "7    199\n",
       "4     53\n",
       "8     18\n",
       "3     10\n",
       "Name: quality, dtype: int64"
      ]
     },
     "metadata": {},
     "execution_count": 96
    }
   ],
   "source": [
    "dfWine['quality'].value_counts()"
   ]
  },
  {
   "source": [
    "#### Vertebral Column dataset"
   ],
   "cell_type": "markdown",
   "metadata": {}
  },
  {
   "source": [
    "O mesmo procedimento para carregar as bases."
   ],
   "cell_type": "markdown",
   "metadata": {}
  },
  {
   "cell_type": "code",
   "execution_count": 97,
   "metadata": {},
   "outputs": [
    {
     "output_type": "execute_result",
     "data": {
      "text/plain": [
       "     pelvic_incidence  pelvic_tilt  lumbar_lordosis_angle  sacral_slope  \\\n",
       "69          58.599529    -0.261499              51.500000     58.861028   \n",
       "215         30.741938    13.354966              35.903526     17.386972   \n",
       "275         67.289712    16.717514              51.000000     50.572198   \n",
       "283         48.995958    13.113820              51.873520     35.882137   \n",
       "126         70.676898    21.704402              59.181161     48.972496   \n",
       "\n",
       "     pelvic_radius  degree_spondylolisthesis              class  \n",
       "69      102.042812                 28.059697  Spondylolisthesis  \n",
       "215     142.410107                 -2.005373             Normal  \n",
       "275     137.591778                  4.960344             Normal  \n",
       "283     126.398188                  0.535472             Normal  \n",
       "126     103.008354                 27.810148  Spondylolisthesis  "
      ],
      "text/html": "<div>\n<style scoped>\n    .dataframe tbody tr th:only-of-type {\n        vertical-align: middle;\n    }\n\n    .dataframe tbody tr th {\n        vertical-align: top;\n    }\n\n    .dataframe thead th {\n        text-align: right;\n    }\n</style>\n<table border=\"1\" class=\"dataframe\">\n  <thead>\n    <tr style=\"text-align: right;\">\n      <th></th>\n      <th>pelvic_incidence</th>\n      <th>pelvic_tilt</th>\n      <th>lumbar_lordosis_angle</th>\n      <th>sacral_slope</th>\n      <th>pelvic_radius</th>\n      <th>degree_spondylolisthesis</th>\n      <th>class</th>\n    </tr>\n  </thead>\n  <tbody>\n    <tr>\n      <th>69</th>\n      <td>58.599529</td>\n      <td>-0.261499</td>\n      <td>51.500000</td>\n      <td>58.861028</td>\n      <td>102.042812</td>\n      <td>28.059697</td>\n      <td>Spondylolisthesis</td>\n    </tr>\n    <tr>\n      <th>215</th>\n      <td>30.741938</td>\n      <td>13.354966</td>\n      <td>35.903526</td>\n      <td>17.386972</td>\n      <td>142.410107</td>\n      <td>-2.005373</td>\n      <td>Normal</td>\n    </tr>\n    <tr>\n      <th>275</th>\n      <td>67.289712</td>\n      <td>16.717514</td>\n      <td>51.000000</td>\n      <td>50.572198</td>\n      <td>137.591778</td>\n      <td>4.960344</td>\n      <td>Normal</td>\n    </tr>\n    <tr>\n      <th>283</th>\n      <td>48.995958</td>\n      <td>13.113820</td>\n      <td>51.873520</td>\n      <td>35.882137</td>\n      <td>126.398188</td>\n      <td>0.535472</td>\n      <td>Normal</td>\n    </tr>\n    <tr>\n      <th>126</th>\n      <td>70.676898</td>\n      <td>21.704402</td>\n      <td>59.181161</td>\n      <td>48.972496</td>\n      <td>103.008354</td>\n      <td>27.810148</td>\n      <td>Spondylolisthesis</td>\n    </tr>\n  </tbody>\n</table>\n</div>"
     },
     "metadata": {},
     "execution_count": 97
    }
   ],
   "source": [
    "dfVert = pd.read_csv('https://raw.githubusercontent.com/brenoslivio/SME0828_DataScience/master/Projects/data/vertebralcolumn-3C.csv', header = (0))\n",
    "\n",
    "# Convertendo a classe para tipo categórico\n",
    "dfVert['class'] = pd.Categorical(dfVert['class']) \n",
    "\n",
    "dfVert.sample(5)"
   ]
  },
  {
   "cell_type": "code",
   "execution_count": 98,
   "metadata": {},
   "outputs": [],
   "source": [
    "from sklearn.model_selection import train_test_split\n",
    "from sklearn.preprocessing import StandardScaler\n",
    "\n",
    "# Pega desde a primeira à penúltima coluna\n",
    "X = dfVert.loc[:, \"pelvic_incidence\":\"degree_spondylolisthesis\"]\n",
    "\n",
    "# Normalização\n",
    "scaler = StandardScaler().fit(X)\n",
    "X = scaler.transform(X)\n",
    "\n",
    "y = dfVert[\"class\"]\n",
    "\n",
    "p = 0.8 # Fração de elementos que iremos usar no treinamento\n",
    "x_train, x_test, y_train, y_test = train_test_split(X, y, train_size = p, random_state = 42)"
   ]
  },
  {
   "cell_type": "code",
   "execution_count": 99,
   "metadata": {},
   "outputs": [],
   "source": [
    "classVert = Classification('Vertebral Column', x_train, x_test, y_train, y_test)"
   ]
  },
  {
   "source": [
    "##### Tabela para o dataset Vertebral Column"
   ],
   "cell_type": "markdown",
   "metadata": {}
  },
  {
   "source": [
    "Já fazendo o procedimento de colocar em uma tabela."
   ],
   "cell_type": "markdown",
   "metadata": {}
  },
  {
   "cell_type": "code",
   "execution_count": 100,
   "metadata": {},
   "outputs": [
    {
     "output_type": "execute_result",
     "data": {
      "text/plain": [
       "                          AUC  Precisão  Medida F1  Acurácia\n",
       "Classificador                                               \n",
       "Naive Bayes          0.880017  0.833384   0.825859  0.870968\n",
       "Random Forest        0.832071  0.806318   0.751221  0.838710\n",
       "k-NN                 0.840890  0.761828   0.764395  0.806452\n",
       "Logistic Regression  0.864108  0.800357   0.798046  0.854839"
      ],
      "text/html": "<div>\n<style scoped>\n    .dataframe tbody tr th:only-of-type {\n        vertical-align: middle;\n    }\n\n    .dataframe tbody tr th {\n        vertical-align: top;\n    }\n\n    .dataframe thead th {\n        text-align: right;\n    }\n</style>\n<table border=\"1\" class=\"dataframe\">\n  <thead>\n    <tr style=\"text-align: right;\">\n      <th></th>\n      <th>AUC</th>\n      <th>Precisão</th>\n      <th>Medida F1</th>\n      <th>Acurácia</th>\n    </tr>\n    <tr>\n      <th>Classificador</th>\n      <th></th>\n      <th></th>\n      <th></th>\n      <th></th>\n    </tr>\n  </thead>\n  <tbody>\n    <tr>\n      <th>Naive Bayes</th>\n      <td>0.880017</td>\n      <td>0.833384</td>\n      <td>0.825859</td>\n      <td>0.870968</td>\n    </tr>\n    <tr>\n      <th>Random Forest</th>\n      <td>0.832071</td>\n      <td>0.806318</td>\n      <td>0.751221</td>\n      <td>0.838710</td>\n    </tr>\n    <tr>\n      <th>k-NN</th>\n      <td>0.840890</td>\n      <td>0.761828</td>\n      <td>0.764395</td>\n      <td>0.806452</td>\n    </tr>\n    <tr>\n      <th>Logistic Regression</th>\n      <td>0.864108</td>\n      <td>0.800357</td>\n      <td>0.798046</td>\n      <td>0.854839</td>\n    </tr>\n  </tbody>\n</table>\n</div>"
     },
     "metadata": {},
     "execution_count": 100
    }
   ],
   "source": [
    "nb = ['Naive Bayes', classVert.auc(classVert.naiveBayes()), classVert.precision(classVert.naiveBayes()), classVert.f1(classVert.naiveBayes()), classVert.accuracy(classVert.naiveBayes())]\n",
    "\n",
    "rnfor = ['Random Forest', classVert.auc(classVert.randomForest(100)), classVert.precision(classVert.randomForest(100)), classVert.f1(classVert.randomForest(100)), classVert.accuracy(classVert.randomForest(100))]\n",
    "\n",
    "kn = ['k-NN', classVert.auc(classVert.knn(10)), classVert.precision(classVert.knn(10)), classVert.f1(classVert.knn(10)), classVert.accuracy(classVert.knn(10))]\n",
    "\n",
    "logr = ['Logistic Regression', classVert.auc(classVert.logReg()), classVert.precision(classVert.logReg()), classVert.f1(classVert.logReg()), classVert.accuracy(classVert.logReg())]\n",
    "\n",
    "data = [nb, rnfor, kn, logr] \n",
    "\n",
    "tableVert = pd.DataFrame(data, columns = ['Classificador', 'AUC', 'Precisão', 'Medida F1', 'Acurácia']) \n",
    "\n",
    "tableVert.set_index('Classificador')"
   ]
  },
  {
   "source": [
    "#### Conclusões acerca dos resultados obtidos"
   ],
   "cell_type": "markdown",
   "metadata": {}
  },
  {
   "source": [
    "É muito importante notar primeiramente que para cada base de dados tivemos classificadores que desempenharam melhores resultados em uma, mas resultados mais medíocres em outra. Para a classificação de veículos, regressão logística foi melhor, para qualidade do vinho, floresta aleatória (notando que a base de dados já não era muito para classificação) e para coluna vertebral, Naive Bayes. Realmente não conseguimos definir o melhor modelo que sirva para todos os problemas (No free lunch theorem). Ao visualizar as tabelas geradas, os valores de acurácia acabam tendo pouca importância para se avaliar os classificadores. \n",
    "\n",
    "A questão mais problemática de lidar com as bases foi por conta de trabalhar a curva ROC (Receiving Operating Characteristics), que tem sua análise originalmente limitada à classificação binária. Entretanto daí surge a ideia de fazer a curva ROC fazendo a combinação dois a dois das classes, como observada da [documentação](https://scikit-learn.org/stable/modules/generated/sklearn.metrics.roc_auc_score.html) para se calcular a AUC (Area Under Curve) da ROC. Como o algoritmo necessita da ideia da classificação binária, podemos fazer a [binarização](https://scikit-learn.org/stable/modules/generated/sklearn.preprocessing.label_binarize.html) das labels em um modelo de \"one vs all\".\n",
    "\n",
    "Para bases com dados desbalanceados, por exemplo, quando você tem um desbalanceamento de dados entre amostras positivas e negativas, é preferível usar a medida F1 porque as médias ROC usam todos os thresholds de decisão envolvidos. Então possivelmente o valores AUC obtido para a base de qualidade de vinho seriam pouco adequados. Por isso é muito importante ver o balanceamento da base antes de tomar conclusões acerca dos valores resultantes da análise de performance de nossos modelos.\n",
    "\n"
   ],
   "cell_type": "markdown",
   "metadata": {}
  },
  {
   "source": [
    "### 10 - Realize a classificação da base Titanic. Use os métodos de seleção de modelos e determine o melhormodelo e seus hiperparâmetros."
   ],
   "cell_type": "markdown",
   "metadata": {}
  },
  {
   "cell_type": "code",
   "execution_count": 3,
   "metadata": {},
   "outputs": [
    {
     "output_type": "execute_result",
     "data": {
      "text/plain": [
       "     PassengerId  Pclass                            Name   Sex   Age  SibSp  \\\n",
       "131         1023       1       Gracie, Col. Archibald IV  male  53.0      0   \n",
       "226         1118       3      Asplund, Mr. Johan Charles  male  23.0      0   \n",
       "139         1031       3  Goodwin, Mr. Charles Frederick  male  40.0      1   \n",
       "194         1086       2   Drew, Master. Marshall Brines  male   8.0      0   \n",
       "143         1035       2      Beauchamp, Mr. Henry James  male  28.0      0   \n",
       "\n",
       "     Parch   Ticket     Fare Cabin Embarked  \n",
       "131      0   113780  28.5000   C51        C  \n",
       "226      0   350054   7.7958   NaN        S  \n",
       "139      6  CA 2144  46.9000   NaN        S  \n",
       "194      2    28220  32.5000   NaN        S  \n",
       "143      0   244358  26.0000   NaN        S  "
      ],
      "text/html": "<div>\n<style scoped>\n    .dataframe tbody tr th:only-of-type {\n        vertical-align: middle;\n    }\n\n    .dataframe tbody tr th {\n        vertical-align: top;\n    }\n\n    .dataframe thead th {\n        text-align: right;\n    }\n</style>\n<table border=\"1\" class=\"dataframe\">\n  <thead>\n    <tr style=\"text-align: right;\">\n      <th></th>\n      <th>PassengerId</th>\n      <th>Pclass</th>\n      <th>Name</th>\n      <th>Sex</th>\n      <th>Age</th>\n      <th>SibSp</th>\n      <th>Parch</th>\n      <th>Ticket</th>\n      <th>Fare</th>\n      <th>Cabin</th>\n      <th>Embarked</th>\n    </tr>\n  </thead>\n  <tbody>\n    <tr>\n      <th>131</th>\n      <td>1023</td>\n      <td>1</td>\n      <td>Gracie, Col. Archibald IV</td>\n      <td>male</td>\n      <td>53.0</td>\n      <td>0</td>\n      <td>0</td>\n      <td>113780</td>\n      <td>28.5000</td>\n      <td>C51</td>\n      <td>C</td>\n    </tr>\n    <tr>\n      <th>226</th>\n      <td>1118</td>\n      <td>3</td>\n      <td>Asplund, Mr. Johan Charles</td>\n      <td>male</td>\n      <td>23.0</td>\n      <td>0</td>\n      <td>0</td>\n      <td>350054</td>\n      <td>7.7958</td>\n      <td>NaN</td>\n      <td>S</td>\n    </tr>\n    <tr>\n      <th>139</th>\n      <td>1031</td>\n      <td>3</td>\n      <td>Goodwin, Mr. Charles Frederick</td>\n      <td>male</td>\n      <td>40.0</td>\n      <td>1</td>\n      <td>6</td>\n      <td>CA 2144</td>\n      <td>46.9000</td>\n      <td>NaN</td>\n      <td>S</td>\n    </tr>\n    <tr>\n      <th>194</th>\n      <td>1086</td>\n      <td>2</td>\n      <td>Drew, Master. Marshall Brines</td>\n      <td>male</td>\n      <td>8.0</td>\n      <td>0</td>\n      <td>2</td>\n      <td>28220</td>\n      <td>32.5000</td>\n      <td>NaN</td>\n      <td>S</td>\n    </tr>\n    <tr>\n      <th>143</th>\n      <td>1035</td>\n      <td>2</td>\n      <td>Beauchamp, Mr. Henry James</td>\n      <td>male</td>\n      <td>28.0</td>\n      <td>0</td>\n      <td>0</td>\n      <td>244358</td>\n      <td>26.0000</td>\n      <td>NaN</td>\n      <td>S</td>\n    </tr>\n  </tbody>\n</table>\n</div>"
     },
     "metadata": {},
     "execution_count": 3
    }
   ],
   "source": [
    "import pandas as pd\n",
    "import numpy as np\n",
    "\n",
    "dfTitanicTest = pd.read_csv('https://raw.githubusercontent.com/brenoslivio/SME0828_DataScience/master/Projects/data/titanic/test.csv?token=AGKBUXZCU72RJ3NI6IX6AQ2723DTC', header = (0))\n",
    "\n",
    "dfTitanicTest.sample(5)"
   ]
  },
  {
   "cell_type": "code",
   "execution_count": 4,
   "metadata": {},
   "outputs": [
    {
     "output_type": "execute_result",
     "data": {
      "text/plain": [
       "PassengerId      int64\n",
       "Pclass           int64\n",
       "Name            object\n",
       "Sex             object\n",
       "Age            float64\n",
       "SibSp            int64\n",
       "Parch            int64\n",
       "Ticket          object\n",
       "Fare           float64\n",
       "Cabin           object\n",
       "Embarked        object\n",
       "dtype: object"
      ]
     },
     "metadata": {},
     "execution_count": 4
    }
   ],
   "source": [
    "dfTitanicTest.dtypes"
   ]
  },
  {
   "cell_type": "code",
   "execution_count": 16,
   "metadata": {},
   "outputs": [
    {
     "output_type": "execute_result",
     "data": {
      "text/plain": [
       "PassengerId       int64\n",
       "Pclass            int64\n",
       "Name           category\n",
       "Sex            category\n",
       "Age             float64\n",
       "SibSp             int64\n",
       "Parch             int64\n",
       "Ticket         category\n",
       "Fare            float64\n",
       "Cabin          category\n",
       "Embarked       category\n",
       "dtype: object"
      ]
     },
     "metadata": {},
     "execution_count": 16
    }
   ],
   "source": [
    "# Convertendo a classe para tipo categórico\n",
    "for i in dfTitanicTest.columns:\n",
    "    if (str(dfTitanicTest[i].dtype) == 'object'):\n",
    "        dfTitanicTest[i] = pd.Categorical(dfTitanicTest[i])\n",
    "\n",
    "dfTitanicTest.dtypes"
   ]
  },
  {
   "cell_type": "code",
   "execution_count": null,
   "metadata": {},
   "outputs": [],
   "source": [
    "from sklearn.model_selection import train_test_split\n",
    "from sklearn.preprocessing import StandardScaler\n",
    "\n",
    "# Pega desde a primeira à penúltima coluna\n",
    "X = dfWine.loc[:, \"fixed acidity\":\"alcohol\"]\n",
    "\n",
    "# Normalização\n",
    "scaler = StandardScaler().fit(X)\n",
    "X = scaler.transform(X)\n",
    "\n",
    "y = dfWine[\"quality\"]\n",
    "\n",
    "p = 0.8 # Fração de elementos que iremos usar no treinamento\n",
    "x_train, x_test, y_train, y_test = train_test_split(X, y, train_size = p, random_state = 42)"
   ]
  }
 ],
 "metadata": {
  "colab": {
   "include_colab_link": true,
   "name": "Projeto3_Classificacao.ipynb",
   "provenance": [],
   "toc_visible": true
  },
  "kernelspec": {
   "display_name": "Python 3",
   "language": "python",
   "name": "python3"
  },
  "language_info": {
   "codemirror_mode": {
    "name": "ipython",
    "version": 3
   },
   "file_extension": ".py",
   "mimetype": "text/x-python",
   "name": "python",
   "nbconvert_exporter": "python",
   "pygments_lexer": "ipython3",
   "version": "3.8.3-final"
  },
  "toc-autonumbering": false,
  "toc-showcode": false,
  "toc-showmarkdowntxt": false,
  "toc-showtags": false
 },
 "nbformat": 4,
 "nbformat_minor": 4
}