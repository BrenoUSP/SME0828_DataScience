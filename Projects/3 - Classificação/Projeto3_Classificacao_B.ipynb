{
  "nbformat": 4,
  "nbformat_minor": 0,
  "metadata": {
    "colab": {
      "name": "Projeto3_Classificacao.ipynb",
      "provenance": [],
      "toc_visible": true,
      "include_colab_link": true
    },
    "kernelspec": {
      "display_name": "Python 3",
      "language": "python",
      "name": "python3"
    },
    "language_info": {
      "codemirror_mode": {
        "name": "ipython",
        "version": 3
      },
      "file_extension": ".py",
      "mimetype": "text/x-python",
      "name": "python",
      "nbconvert_exporter": "python",
      "pygments_lexer": "ipython3",
      "version": "3.7.8"
    }
  },
  "cells": [
    {
      "cell_type": "markdown",
      "metadata": {
        "id": "view-in-github",
        "colab_type": "text"
      },
      "source": [
        "<a href=\"https://colab.research.google.com/github/brenoslivio/SME0828_DataScience/blob/master/Projects/3%20-%20Classifica%C3%A7%C3%A3o/Projeto3_Classificacao_B.ipynb\" target=\"_parent\"><img src=\"https://colab.research.google.com/assets/colab-badge.svg\" alt=\"Open In Colab\"/></a>"
      ]
    },
    {
      "cell_type": "markdown",
      "metadata": {
        "id": "LJ7wNY4Uefh6"
      },
      "source": [
        "# SME0828 - Introdução à Ciência de Dados\n",
        "# Projeto 3: Classificação "
      ]
    },
    {
      "cell_type": "markdown",
      "metadata": {
        "id": "fscDWzEee1hv"
      },
      "source": [
        "### Alunos"
      ]
    },
    {
      "cell_type": "markdown",
      "metadata": {
        "id": "kIEYP_R3H6YU"
      },
      "source": [
        "Aline Fernanda da Conceição, Nº USP: 9437275\n",
        "\n",
        "Breno Lívio Silva de Almeida, Nº USP: 10276675\n",
        "\n",
        "Matheus Victal Cerqueira, Nº USP: 10276661"
      ]
    },
    {
      "cell_type": "markdown",
      "metadata": {
        "id": "lB29Wn4fH0RJ"
      },
      "source": [
        "***Universidade de São Paulo, São Carlos, Brasil.***"
      ]
    },
    {
      "cell_type": "markdown",
      "metadata": {
        "id": "0Wm1OZv73iBq"
      },
      "source": [
        "## Exercícios sugeridos para a atividade avaliativa 3"
      ]
    },
    {
      "cell_type": "markdown",
      "metadata": {
        "id": "S8HH4554-1Rf"
      },
      "source": [
        "Os seguintes exercícios foram sugeridos para entrega em 03 de novembro de 2020 para a disciplina SME0828 - Ciência de Dados oferecida pelo Instituto de Ciências Matemáticas e de Computação (ICMC) da Universidade de São Paulo (USP), a qual foi ministrada pelo professor Francisco Aparecido Rodrigues. Vamos trabalhar com o conjunto de dados [*Star dataset to predict star types*](https://www.kaggle.com/deepu1109/star-dataset). O dataset tem várias informações sobre características de estrelas como temperatura absoluta, luminosidade relativa, tipos de estrelas, entre outros. Vamos classificar os dados considerando vários classificadores conhecidos."
      ]
    },
    {
      "cell_type": "markdown",
      "metadata": {
        "id": "1QPQ01XEbxl-"
      },
      "source": [
        "\n",
        "\n",
        "---\n",
        "\n"
      ]
    },
    {
      "cell_type": "markdown",
      "metadata": {
        "id": "2dAe3TCSabYr"
      },
      "source": [
        "## Sumário\n",
        "\n",
        "1. Desenvolvimento\n",
        "\n",
        "  1.1 [Exercício 1](#ex1)\n",
        "\n",
        "  1.2 [Exercício 2](#ex2)\n",
        "\n",
        "  1.3 [Exercício 3](#ex3)\n",
        "\n",
        "  1.4 [Exercício 4](#ex4)\n",
        "\n",
        "  1.5 [Exercício 5](#ex5)\n",
        "\n",
        "  1.6 [Exercício 6](#ex6)"
      ]
    },
    {
      "cell_type": "markdown",
      "metadata": {
        "id": "EQhNpDzib3no"
      },
      "source": [
        "\n",
        "\n",
        "---\n",
        "\n"
      ]
    },
    {
      "cell_type": "markdown",
      "metadata": {
        "id": "CHl-yeiA89Ho"
      },
      "source": [
        "## Desenvolvimento"
      ]
    },
    {
      "cell_type": "markdown",
      "metadata": {
        "id": "MKR-GJ8ofjEN"
      },
      "source": [
        "\n",
        "\n",
        "### <a name=\"ex1\"></a> 1 - Considere a base de dados sobre doenças cardíacas:https://www.kaggle.com/ronitf/heart-disease-uci \n",
        "### Faça o pré-processamento dos dados e classifique os pacientes de acordo com a variável “target”.  Considere os classificadores: Bayesiano paramétrico, Bayesiano não-paramétrico e Naive Bayes."
      ]
    },
    {
      "cell_type": "markdown",
      "metadata": {
        "id": "9Sys-kqHcVVS"
      },
      "source": [
        "Foi considerada a base de dados de estrelas comentadas antes. Vamos trabalhar com a classificação para a variável Star color."
      ]
    },
    {
      "cell_type": "code",
      "metadata": {
        "id": "GwcABg0DzTh6",
        "outputId": "657f1224-70be-4c8b-94cb-d2cf3de2ef0e",
        "colab": {
          "base_uri": "https://localhost:8080/",
          "height": 206
        }
      },
      "source": [
        "import numpy as np\n",
        "import matplotlib.mlab as mlab\n",
        "import matplotlib.pyplot as plt\n",
        "import pandas as pd\n",
        "import statistics\n",
        "\n",
        "dataStar = pd.read_csv('https://raw.githubusercontent.com/brenoslivio/SME0828_DataScience/master/Projects/data/starsDataset.csv', \n",
        "        dtype={\n",
        "          \"Temperature (K)\": np.int64,\n",
        "          \"Luminosity(L/Lo)\": np.float64,\n",
        "          \"Radius(R/Ro)\": np.float64,\n",
        "          \"Absolute magnitude(Mv)\": np.float64,\n",
        "          \"Star type\": str,\n",
        "          \"Star color\": str,\n",
        "          \"Spectral Class\": str\n",
        "        },\n",
        "        na_values=\"\",)\n",
        "\n",
        "dataStar.replace(\"\", np.nan, inplace=True)\n",
        "\n",
        "dataStar.dropna(inplace=True)\n",
        "\n",
        "# armazena os nomes das classes\n",
        "classes = np.array(pd.unique(dataStar[dataStar.columns[-3]]), dtype=str)  \n",
        "\n",
        "attributes = list(dataStar.columns)\n",
        "\n",
        "dataStar.sample(5)"
      ],
      "execution_count": 273,
      "outputs": [
        {
          "output_type": "execute_result",
          "data": {
            "text/html": [
              "<div>\n",
              "<style scoped>\n",
              "    .dataframe tbody tr th:only-of-type {\n",
              "        vertical-align: middle;\n",
              "    }\n",
              "\n",
              "    .dataframe tbody tr th {\n",
              "        vertical-align: top;\n",
              "    }\n",
              "\n",
              "    .dataframe thead th {\n",
              "        text-align: right;\n",
              "    }\n",
              "</style>\n",
              "<table border=\"1\" class=\"dataframe\">\n",
              "  <thead>\n",
              "    <tr style=\"text-align: right;\">\n",
              "      <th></th>\n",
              "      <th>Temperature (K)</th>\n",
              "      <th>Luminosity(L/Lo)</th>\n",
              "      <th>Radius(R/Ro)</th>\n",
              "      <th>Absolute magnitude(Mv)</th>\n",
              "      <th>Star type</th>\n",
              "      <th>Star color</th>\n",
              "      <th>Spectral Class</th>\n",
              "    </tr>\n",
              "  </thead>\n",
              "  <tbody>\n",
              "    <tr>\n",
              "      <th>238</th>\n",
              "      <td>9235</td>\n",
              "      <td>404940.00000</td>\n",
              "      <td>1112.0000</td>\n",
              "      <td>-11.23</td>\n",
              "      <td>5</td>\n",
              "      <td>White</td>\n",
              "      <td>A</td>\n",
              "    </tr>\n",
              "    <tr>\n",
              "      <th>204</th>\n",
              "      <td>18340</td>\n",
              "      <td>0.00134</td>\n",
              "      <td>0.0124</td>\n",
              "      <td>11.22</td>\n",
              "      <td>2</td>\n",
              "      <td>Blue</td>\n",
              "      <td>B</td>\n",
              "    </tr>\n",
              "    <tr>\n",
              "      <th>39</th>\n",
              "      <td>5587</td>\n",
              "      <td>0.81900</td>\n",
              "      <td>0.9900</td>\n",
              "      <td>5.03</td>\n",
              "      <td>3</td>\n",
              "      <td>yellow-white</td>\n",
              "      <td>F</td>\n",
              "    </tr>\n",
              "    <tr>\n",
              "      <th>36</th>\n",
              "      <td>6757</td>\n",
              "      <td>1.43000</td>\n",
              "      <td>1.1200</td>\n",
              "      <td>2.41</td>\n",
              "      <td>3</td>\n",
              "      <td>yellow-white</td>\n",
              "      <td>F</td>\n",
              "    </tr>\n",
              "    <tr>\n",
              "      <th>68</th>\n",
              "      <td>2774</td>\n",
              "      <td>0.00036</td>\n",
              "      <td>0.1180</td>\n",
              "      <td>17.39</td>\n",
              "      <td>0</td>\n",
              "      <td>Red</td>\n",
              "      <td>M</td>\n",
              "    </tr>\n",
              "  </tbody>\n",
              "</table>\n",
              "</div>"
            ],
            "text/plain": [
              "     Temperature (K)  Luminosity(L/Lo)  ...    Star color  Spectral Class\n",
              "238             9235      404940.00000  ...         White               A\n",
              "204            18340           0.00134  ...          Blue               B\n",
              "39              5587           0.81900  ...  yellow-white               F\n",
              "36              6757           1.43000  ...  yellow-white               F\n",
              "68              2774           0.00036  ...           Red               M\n",
              "\n",
              "[5 rows x 7 columns]"
            ]
          },
          "metadata": {
            "tags": []
          },
          "execution_count": 273
        }
      ]
    },
    {
      "cell_type": "markdown",
      "metadata": {
        "id": "Y8RIs3aAdGLl"
      },
      "source": [
        "As classes para a cor das estrelas"
      ]
    },
    {
      "cell_type": "code",
      "metadata": {
        "id": "7Vt3HGxKdHsC",
        "outputId": "adb38ef8-89fb-42d9-ccab-fed6193ee35b",
        "colab": {
          "base_uri": "https://localhost:8080/"
        }
      },
      "source": [
        "classes"
      ],
      "execution_count": 274,
      "outputs": [
        {
          "output_type": "execute_result",
          "data": {
            "text/plain": [
              "array(['0', '1', '2', '3', '4', '5'], dtype='<U1')"
            ]
          },
          "metadata": {
            "tags": []
          },
          "execution_count": 274
        }
      ]
    },
    {
      "cell_type": "markdown",
      "metadata": {
        "id": "GA4ZYraTlmm3"
      },
      "source": [
        ""
      ]
    },
    {
      "cell_type": "code",
      "metadata": {
        "id": "Yaq1FNv1lnYI",
        "outputId": "40daa5d8-5cd0-4ca2-8cc8-d3124e169b35",
        "colab": {
          "base_uri": "https://localhost:8080/"
        }
      },
      "source": [
        "data = dataStar.to_numpy()\n",
        "data"
      ],
      "execution_count": 275,
      "outputs": [
        {
          "output_type": "execute_result",
          "data": {
            "text/plain": [
              "array([[3068, 0.0024, 0.17, ..., '0', 'Red', 'M'],\n",
              "       [3042, 0.0005, 0.1542, ..., '0', 'Red', 'M'],\n",
              "       [2600, 0.0003, 0.102, ..., '0', 'Red', 'M'],\n",
              "       ...,\n",
              "       [8829, 537493.0, 1423.0, ..., '5', 'White', 'A'],\n",
              "       [9235, 404940.0, 1112.0, ..., '5', 'White', 'A'],\n",
              "       [37882, 294903.0, 1783.0, ..., '5', 'Blue', 'O']], dtype=object)"
            ]
          },
          "metadata": {
            "tags": []
          },
          "execution_count": 275
        }
      ]
    },
    {
      "cell_type": "code",
      "metadata": {
        "id": "Owzdy8XCd6Fq"
      },
      "source": [
        "nrow,ncol = data.shape\n",
        "y = data[:,-3]\n",
        "X = data[:,0:ncol-3]"
      ],
      "execution_count": 276,
      "outputs": []
    },
    {
      "cell_type": "markdown",
      "metadata": {
        "id": "3iEkSdtXeYp0"
      },
      "source": [
        "Normalizando os dados"
      ]
    },
    {
      "cell_type": "code",
      "metadata": {
        "id": "RfpHGOGJeYJ-",
        "outputId": "0de1a547-92be-4f35-8976-17dbf35d6635",
        "colab": {
          "base_uri": "https://localhost:8080/"
        }
      },
      "source": [
        "from sklearn.preprocessing import StandardScaler\n",
        "scaler = StandardScaler().fit(X)\n",
        "X = scaler.transform(X)\n",
        "\n",
        "print('Dados transformados:')\n",
        "print('Media: ', np.mean(X, axis = 0))\n",
        "print('Desvio Padrao:', np.std(X, axis = 0))"
      ],
      "execution_count": 277,
      "outputs": [
        {
          "output_type": "stream",
          "text": [
            "Dados transformados:\n",
            "Media:  [-1.48029737e-17  2.96059473e-17 -1.57281595e-17 -3.51570624e-17]\n",
            "Desvio Padrao: [1. 1. 1. 1.]\n"
          ],
          "name": "stdout"
        }
      ]
    },
    {
      "cell_type": "markdown",
      "metadata": {
        "id": "8w98WyNHfxjA"
      },
      "source": [
        ""
      ]
    },
    {
      "cell_type": "code",
      "metadata": {
        "id": "urlVYNR1fx4d",
        "outputId": "c277da63-5c93-4001-d574-9f016061cf05",
        "colab": {
          "base_uri": "https://localhost:8080/"
        }
      },
      "source": [
        "classes"
      ],
      "execution_count": 265,
      "outputs": [
        {
          "output_type": "execute_result",
          "data": {
            "text/plain": [
              "array(['0', '1', '2', '3', '4', '5'], dtype='<U1')"
            ]
          },
          "metadata": {
            "tags": []
          },
          "execution_count": 265
        }
      ]
    },
    {
      "cell_type": "markdown",
      "metadata": {
        "id": "Q8nBWQzVed5q"
      },
      "source": [
        ""
      ]
    },
    {
      "cell_type": "code",
      "metadata": {
        "id": "7rP-pWpIeeHO"
      },
      "source": [
        "from sklearn.model_selection import train_test_split\n",
        "p = 0.8 # fracao de elementos no conjunto de treinamento\n",
        "x_train, x_test, y_train, y_test = train_test_split(X, y, train_size = p, random_state = 42)"
      ],
      "execution_count": 278,
      "outputs": []
    },
    {
      "cell_type": "code",
      "metadata": {
        "id": "GZoNQSMlx_qF",
        "outputId": "f54e2afa-879d-4ed5-d630-7ff5aff85a82",
        "colab": {
          "base_uri": "https://localhost:8080/"
        }
      },
      "source": [
        "np.where(y_train == classes[0])"
      ],
      "execution_count": 267,
      "outputs": [
        {
          "output_type": "execute_result",
          "data": {
            "text/plain": [
              "(array([  1,   3,  13,  14,  15,  17,  25,  28,  33,  59,  60,  74,  84,\n",
              "         85,  89,  91,  93,  95,  96, 100, 109, 113, 118, 124, 132, 144,\n",
              "        151, 163, 165, 169, 182, 185]),)"
            ]
          },
          "metadata": {
            "tags": []
          },
          "execution_count": 267
        }
      ]
    },
    {
      "cell_type": "markdown",
      "metadata": {
        "id": "RippZrD4etm6"
      },
      "source": [
        ""
      ]
    },
    {
      "cell_type": "code",
      "metadata": {
        "id": "ZVhTkF57etug"
      },
      "source": [
        "from scipy.stats import multivariate_normal\n",
        "\n",
        "#matrix to store the probabilities\n",
        "P = pd.DataFrame(data = np.zeros((x_test.shape[0], len(classes))), columns = classes) \n",
        "\n",
        "Pc = np.zeros(len(classes)) #fraction of elements in each class\n",
        "for i in np.arange(0, len(classes)):\n",
        "    elements = tuple(np.where(y_train == classes[i]))\n",
        "    Pc[i] = len(elements)/len(y_train)\n",
        "    Z = x_train[elements,:][0]\n",
        "    m = np.mean(Z, axis = 0)\n",
        "    cv = np.cov(np.transpose(Z))\n",
        "    for j in np.arange(0,x_test.shape[0]):\n",
        "        x = x_test[j,:]\n",
        "        pj = multivariate_normal.pdf(x, mean=m, cov=cv, allow_singular=True)\n",
        "        P[classes[i]][j] = pj*Pc[i]\n"
      ],
      "execution_count": 279,
      "outputs": []
    },
    {
      "cell_type": "code",
      "metadata": {
        "id": "1fRyC3KAe7sP",
        "outputId": "0c70fe51-9e2f-4d61-e2c7-e6b5530a4a2e",
        "colab": {
          "base_uri": "https://localhost:8080/"
        }
      },
      "source": [
        "print(P)"
      ],
      "execution_count": 280,
      "outputs": [
        {
          "output_type": "stream",
          "text": [
            "                0              1  ...              4             5\n",
            "0    0.000000e+00   0.000000e+00  ...  6.159614e-244  2.730161e-54\n",
            "1    5.855497e+02   2.365505e-02  ...   0.000000e+00  1.073849e-81\n",
            "2   2.590247e-296   4.033989e-16  ...   2.558474e-95  1.213054e-28\n",
            "3    0.000000e+00   0.000000e+00  ...   5.914496e-03  1.130813e-10\n",
            "4    0.000000e+00   0.000000e+00  ...   6.954607e-03  1.471600e-09\n",
            "5    0.000000e+00   0.000000e+00  ...   0.000000e+00  7.127491e-05\n",
            "6    0.000000e+00   0.000000e+00  ...   0.000000e+00  6.537956e-06\n",
            "7   4.335083e-150  6.243537e-318  ...  2.238164e-252  1.785297e-55\n",
            "8    2.533469e+02   5.475704e-01  ...   0.000000e+00  2.667561e-75\n",
            "9   2.521004e-246   0.000000e+00  ...  1.331486e-245  1.825179e-54\n",
            "10   0.000000e+00   0.000000e+00  ...   1.006093e-02  3.988185e-09\n",
            "11   0.000000e+00   0.000000e+00  ...  8.796195e-207  1.135201e-48\n",
            "12   0.000000e+00   0.000000e+00  ...   0.000000e+00  6.252431e-04\n",
            "13   0.000000e+00   0.000000e+00  ...   2.680044e-02  1.319782e-09\n",
            "14   0.000000e+00   0.000000e+00  ...   0.000000e+00  6.195194e-04\n",
            "15   0.000000e+00   0.000000e+00  ...   0.000000e+00  7.949752e-04\n",
            "16   1.059106e+03   6.878782e-02  ...   0.000000e+00  4.658524e-80\n",
            "17   2.693391e-04   1.504346e+02  ...  8.163688e-283  2.700143e-60\n",
            "18   0.000000e+00   0.000000e+00  ...   3.838224e-16  6.373521e-14\n",
            "19   1.322771e+02   2.532615e-06  ...   0.000000e+00  1.048584e-95\n",
            "20   7.252972e+02   1.072843e-01  ...   0.000000e+00  7.499064e-79\n",
            "21   1.956226e-17   1.996445e+02  ...  2.892615e-231  8.566003e-52\n",
            "22   0.000000e+00   0.000000e+00  ...   0.000000e+00  4.454279e-05\n",
            "23   0.000000e+00   0.000000e+00  ...   7.271444e-05  9.538002e-13\n",
            "24   0.000000e+00   0.000000e+00  ...  9.041401e-322  3.685724e-04\n",
            "25   0.000000e+00   0.000000e+00  ...   2.328125e-06  3.353519e-12\n",
            "26   2.212612e-45   5.916558e+01  ...  1.099275e-218  1.051208e-49\n",
            "27  4.169289e-299   0.000000e+00  ...  4.312995e-245  1.945179e-54\n",
            "28   0.000000e+00   0.000000e+00  ...   0.000000e+00  3.372152e-04\n",
            "29   0.000000e+00   0.000000e+00  ...   2.728365e-09  1.998900e-12\n",
            "30  1.457437e-172   1.037103e-14  ...   1.170394e-93  2.382616e-28\n",
            "31   0.000000e+00   0.000000e+00  ...   1.209684e-02  1.382887e-09\n",
            "32  5.465139e-185   0.000000e+00  ...  1.230900e-254  6.952389e-56\n",
            "33   6.160803e+02   1.861979e-03  ...   0.000000e+00  1.599383e-83\n",
            "34   1.603714e-01   1.001579e+02  ...  3.178716e-296  1.721961e-62\n",
            "35   3.619574e+02   2.100932e-05  ...   0.000000e+00  1.562777e-94\n",
            "36   1.975198e-07   1.411753e+02  ...  5.533380e-294  4.002672e-62\n",
            "37   0.000000e+00   0.000000e+00  ...   0.000000e+00  5.293781e-04\n",
            "38   6.700877e+00   4.527781e+01  ...  1.386435e-309  1.131535e-64\n",
            "39   0.000000e+00   0.000000e+00  ...   0.000000e+00  2.016557e-04\n",
            "40   0.000000e+00   0.000000e+00  ...   2.655375e-05  3.799322e-12\n",
            "41   0.000000e+00   0.000000e+00  ...   0.000000e+00  4.164615e-04\n",
            "42   0.000000e+00   0.000000e+00  ...   1.873275e-02  1.087091e-08\n",
            "43   1.444327e+01   1.005704e+01  ...   0.000000e+00  9.739893e-69\n",
            "44   0.000000e+00   0.000000e+00  ...   3.519215e-07  1.053519e-12\n",
            "45   1.093781e+03   7.230473e-04  ...   0.000000e+00  4.744654e-88\n",
            "46   0.000000e+00   0.000000e+00  ...   5.207860e-03  1.046511e-08\n",
            "47  1.408148e-286   1.076986e-25  ...   7.581900e-90  1.074834e-27\n",
            "\n",
            "[48 rows x 6 columns]\n"
          ],
          "name": "stdout"
        }
      ]
    },
    {
      "cell_type": "code",
      "metadata": {
        "id": "esJvGzdBsxa-",
        "outputId": "d809142d-80d5-48f6-c86a-918db80bb78b",
        "colab": {
          "base_uri": "https://localhost:8080/"
        }
      },
      "source": [
        "y_pred = []\n",
        "#np.array(test_x.shape[0], dtype=str)\n",
        "for i in np.arange(0, x_test.shape[0]):\n",
        "    c = np.argmax(np.array(P.iloc[[i]]))\n",
        "    y_pred.append(classes[c])\n",
        "y_pred = np.array(y_pred, dtype=str)\n",
        "print(y_pred)"
      ],
      "execution_count": 281,
      "outputs": [
        {
          "output_type": "stream",
          "text": [
            "['2' '0' '3' '4' '4' '5' '5' '2' '0' '2' '4' '2' '5' '4' '5' '5' '0' '1'\n",
            " '3' '0' '0' '1' '5' '3' '5' '3' '1' '2' '5' '3' '3' '4' '2' '0' '1' '0'\n",
            " '1' '5' '1' '5' '4' '5' '4' '0' '3' '0' '4' '3']\n"
          ],
          "name": "stdout"
        }
      ]
    },
    {
      "cell_type": "code",
      "metadata": {
        "id": "ErrNx-SIs7PI",
        "outputId": "7c778407-fbf4-4c70-d5b4-9e4407af3973",
        "colab": {
          "base_uri": "https://localhost:8080/"
        }
      },
      "source": [
        "from sklearn.metrics import accuracy_score\n",
        "score = accuracy_score(y_pred, y_test)\n",
        "print('Accuracy:', score)"
      ],
      "execution_count": 282,
      "outputs": [
        {
          "output_type": "stream",
          "text": [
            "Accuracy: 0.9791666666666666\n"
          ],
          "name": "stdout"
        }
      ]
    },
    {
      "cell_type": "markdown",
      "metadata": {
        "id": "e8ojsnyffsOA"
      },
      "source": [
        "### <a name=\"ex2\"></a> 2 - No classificar não-paramétrico, verifique o efeito do hiperparâmetro h na classificação dos dados de diabetes, encontrando seu melhor valor: https://www.kaggle.com/uciml/pima-indians-diabetes-database\n"
      ]
    },
    {
      "cell_type": "code",
      "metadata": {
        "id": "Asdjv98XzZMs"
      },
      "source": [
        ""
      ],
      "execution_count": null,
      "outputs": []
    }
  ]
}