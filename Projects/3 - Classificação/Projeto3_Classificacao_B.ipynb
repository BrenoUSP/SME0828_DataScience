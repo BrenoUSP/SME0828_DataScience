{
  "nbformat": 4,
  "nbformat_minor": 0,
  "metadata": {
    "colab": {
      "name": "Projeto3_Classificacao.ipynb",
      "provenance": [],
      "toc_visible": true,
      "include_colab_link": true
    },
    "kernelspec": {
      "display_name": "Python 3",
      "language": "python",
      "name": "python3"
    },
    "language_info": {
      "codemirror_mode": {
        "name": "ipython",
        "version": 3
      },
      "file_extension": ".py",
      "mimetype": "text/x-python",
      "name": "python",
      "nbconvert_exporter": "python",
      "pygments_lexer": "ipython3",
      "version": "3.7.8"
    }
  },
  "cells": [
    {
      "cell_type": "markdown",
      "metadata": {
        "id": "view-in-github",
        "colab_type": "text"
      },
      "source": [
        "<a href=\"https://colab.research.google.com/github/brenoslivio/SME0828_DataScience/blob/master/Projects/3%20-%20Classifica%C3%A7%C3%A3o/Projeto3_Classificacao_B.ipynb\" target=\"_parent\"><img src=\"https://colab.research.google.com/assets/colab-badge.svg\" alt=\"Open In Colab\"/></a>"
      ]
    },
    {
      "cell_type": "markdown",
      "metadata": {
        "id": "LJ7wNY4Uefh6"
      },
      "source": [
        "# SME0828 - Introdução à Ciência de Dados\n",
        "# Projeto 3: Classificação "
      ]
    },
    {
      "cell_type": "markdown",
      "metadata": {
        "id": "fscDWzEee1hv"
      },
      "source": [
        "### Alunos"
      ]
    },
    {
      "cell_type": "markdown",
      "metadata": {
        "id": "kIEYP_R3H6YU"
      },
      "source": [
        "Aline Fernanda da Conceição, Nº USP: 9437275\n",
        "\n",
        "Breno Lívio Silva de Almeida, Nº USP: 10276675\n",
        "\n",
        "Matheus Victal Cerqueira, Nº USP: 10276661"
      ]
    },
    {
      "cell_type": "markdown",
      "metadata": {
        "id": "lB29Wn4fH0RJ"
      },
      "source": [
        "***Universidade de São Paulo, São Carlos, Brasil.***"
      ]
    },
    {
      "cell_type": "markdown",
      "metadata": {
        "id": "0Wm1OZv73iBq"
      },
      "source": [
        "## Exercícios sugeridos para a atividade avaliativa 3"
      ]
    },
    {
      "cell_type": "markdown",
      "metadata": {
        "id": "S8HH4554-1Rf"
      },
      "source": [
        "Os seguintes exercícios foram sugeridos para entrega em 03 de novembro de 2020 para a disciplina SME0828 - Ciência de Dados oferecida pelo Instituto de Ciências Matemáticas e de Computação (ICMC) da Universidade de São Paulo (USP), a qual foi ministrada pelo professor Francisco Aparecido Rodrigues. Vamos trabalhar com o conjunto de dados [*Star dataset to predict star types*](https://www.kaggle.com/deepu1109/star-dataset). O dataset tem várias informações sobre características de estrelas como temperatura absoluta, luminosidade relativa, tipos de estrelas, entre outros. Vamos classificar os dados considerando vários classificadores conhecidos."
      ]
    },
    {
      "cell_type": "markdown",
      "metadata": {
        "id": "1QPQ01XEbxl-"
      },
      "source": [
        "\n",
        "\n",
        "---\n",
        "\n"
      ]
    },
    {
      "cell_type": "markdown",
      "metadata": {
        "id": "2dAe3TCSabYr"
      },
      "source": [
        "## Sumário\n",
        "\n",
        "1. Desenvolvimento\n",
        "\n",
        "  1.1 [Exercício 1](#ex1)\n",
        "\n",
        "  1.2 [Exercício 2](#ex2)\n",
        "\n",
        "  1.3 [Exercício 3](#ex3)\n",
        "\n",
        "  1.4 [Exercício 4](#ex4)\n",
        "\n",
        "  1.5 [Exercício 5](#ex5)\n",
        "\n",
        "  1.6 [Exercício 6](#ex6)"
      ]
    },
    {
      "cell_type": "markdown",
      "metadata": {
        "id": "EQhNpDzib3no"
      },
      "source": [
        "\n",
        "\n",
        "---\n",
        "\n"
      ]
    },
    {
      "cell_type": "markdown",
      "metadata": {
        "id": "CHl-yeiA89Ho"
      },
      "source": [
        "## Desenvolvimento"
      ]
    },
    {
      "cell_type": "markdown",
      "metadata": {
        "id": "MKR-GJ8ofjEN"
      },
      "source": [
        "\n",
        "\n",
        "### <a name=\"ex1\"></a> 1 - Considere a base de dados sobre doenças cardíacas:https://www.kaggle.com/ronitf/heart-disease-uci \n",
        "### Faça o pré-processamento dos dados e classifique os pacientes de acordo com a variável “target”.  Considere os classificadores: Bayesiano paramétrico, Bayesiano não-paramétrico e Naive Bayes."
      ]
    },
    {
      "cell_type": "markdown",
      "metadata": {
        "id": "p6NGqQ4ZZ91N"
      },
      "source": [
        "#### Pré-processamento dos dados"
      ]
    },
    {
      "cell_type": "markdown",
      "metadata": {
        "id": "9Sys-kqHcVVS"
      },
      "source": [
        "Foi considerada a base de dados de estrelas [*Star dataset to predict star types*](https://www.kaggle.com/deepu1109/star-dataset) para o exercício. Vamos carregar seus dados considerando informações que serão acrescentadas como os tipos de estrelas que serão explicado no código."
      ]
    },
    {
      "cell_type": "code",
      "metadata": {
        "id": "GwcABg0DzTh6",
        "outputId": "7bd10fbc-2553-4166-928a-cded5c22e26f",
        "colab": {
          "base_uri": "https://localhost:8080/",
          "height": 206
        }
      },
      "source": [
        "import numpy as np\n",
        "import matplotlib.mlab as mlab\n",
        "import matplotlib.pyplot as plt\n",
        "import pandas as pd\n",
        "import statistics\n",
        "\n",
        "dataStar = pd.read_csv('https://raw.githubusercontent.com/brenoslivio/SME0828_DataScience/master/Projects/data/starsDataset.csv', \n",
        "        dtype={\n",
        "          \"Temperature (K)\": np.int64,\n",
        "          \"Luminosity(L/Lo)\": np.float64,\n",
        "          \"Radius(R/Ro)\": np.float64,\n",
        "          \"Absolute magnitude(Mv)\": np.float64,\n",
        "          \"Star type\": str,\n",
        "          \"Star color\": str,\n",
        "          \"Spectral Class\": str\n",
        "        },\n",
        "        na_values=\"\",)\n",
        "\n",
        "dataStar.replace(\"\", np.nan, inplace=True)\n",
        "\n",
        "dataStar.dropna(inplace=True)\n",
        "\n",
        "# Já vamos colocar os labels adequados para os tipos de estrelas que não tem de padrão no dataset\n",
        "\n",
        "# star class:  Star Type\n",
        "#     0     :  Brown Dwarf\n",
        "#     1     :  Red Dwarf\n",
        "#     2     :  White Dwarf\n",
        "#     3     :  Main-Sequence\n",
        "#     4     :  Supergiant\n",
        "#     5     :  Hypergiant\n",
        "\n",
        "dataStar[\"Star type\"] = dataStar[\"Star type\"].str.replace(\"0\", \"Brown Dwarf\")\n",
        "dataStar[\"Star type\"] = dataStar[\"Star type\"].str.replace(\"1\", \"Red Dwarf\")\n",
        "dataStar[\"Star type\"] = dataStar[\"Star type\"].str.replace(\"2\", \"White Dwarf\")\n",
        "dataStar[\"Star type\"] = dataStar[\"Star type\"].str.replace(\"3\", \"Main-Sequence\")\n",
        "dataStar[\"Star type\"] = dataStar[\"Star type\"].str.replace(\"4\", \"Supergiant\")\n",
        "dataStar[\"Star type\"] = dataStar[\"Star type\"].str.replace(\"5\", \"Hypergiant\")\n",
        "\n",
        "dataStar.sample(5)"
      ],
      "execution_count": 7,
      "outputs": [
        {
          "output_type": "execute_result",
          "data": {
            "text/html": [
              "<div>\n",
              "<style scoped>\n",
              "    .dataframe tbody tr th:only-of-type {\n",
              "        vertical-align: middle;\n",
              "    }\n",
              "\n",
              "    .dataframe tbody tr th {\n",
              "        vertical-align: top;\n",
              "    }\n",
              "\n",
              "    .dataframe thead th {\n",
              "        text-align: right;\n",
              "    }\n",
              "</style>\n",
              "<table border=\"1\" class=\"dataframe\">\n",
              "  <thead>\n",
              "    <tr style=\"text-align: right;\">\n",
              "      <th></th>\n",
              "      <th>Temperature (K)</th>\n",
              "      <th>Luminosity(L/Lo)</th>\n",
              "      <th>Radius(R/Ro)</th>\n",
              "      <th>Absolute magnitude(Mv)</th>\n",
              "      <th>Star type</th>\n",
              "      <th>Star color</th>\n",
              "      <th>Spectral Class</th>\n",
              "    </tr>\n",
              "  </thead>\n",
              "  <tbody>\n",
              "    <tr>\n",
              "      <th>82</th>\n",
              "      <td>8930</td>\n",
              "      <td>0.00056</td>\n",
              "      <td>0.0095</td>\n",
              "      <td>13.78</td>\n",
              "      <td>White Dwarf</td>\n",
              "      <td>white</td>\n",
              "      <td>A</td>\n",
              "    </tr>\n",
              "    <tr>\n",
              "      <th>20</th>\n",
              "      <td>25000</td>\n",
              "      <td>0.05600</td>\n",
              "      <td>0.0084</td>\n",
              "      <td>10.58</td>\n",
              "      <td>White Dwarf</td>\n",
              "      <td>Blue White</td>\n",
              "      <td>B</td>\n",
              "    </tr>\n",
              "    <tr>\n",
              "      <th>197</th>\n",
              "      <td>3496</td>\n",
              "      <td>0.00125</td>\n",
              "      <td>0.3360</td>\n",
              "      <td>14.94</td>\n",
              "      <td>Red Dwarf</td>\n",
              "      <td>Red</td>\n",
              "      <td>M</td>\n",
              "    </tr>\n",
              "    <tr>\n",
              "      <th>54</th>\n",
              "      <td>3650</td>\n",
              "      <td>310000.00000</td>\n",
              "      <td>1324.0000</td>\n",
              "      <td>-7.79</td>\n",
              "      <td>Hypergiant</td>\n",
              "      <td>Red</td>\n",
              "      <td>M</td>\n",
              "    </tr>\n",
              "    <tr>\n",
              "      <th>71</th>\n",
              "      <td>3607</td>\n",
              "      <td>0.02200</td>\n",
              "      <td>0.3800</td>\n",
              "      <td>10.12</td>\n",
              "      <td>Red Dwarf</td>\n",
              "      <td>Red</td>\n",
              "      <td>M</td>\n",
              "    </tr>\n",
              "  </tbody>\n",
              "</table>\n",
              "</div>"
            ],
            "text/plain": [
              "     Temperature (K)  Luminosity(L/Lo)  ...  Star color  Spectral Class\n",
              "82              8930           0.00056  ...       white               A\n",
              "20             25000           0.05600  ...  Blue White               B\n",
              "197             3496           0.00125  ...         Red               M\n",
              "54              3650      310000.00000  ...         Red               M\n",
              "71              3607           0.02200  ...         Red               M\n",
              "\n",
              "[5 rows x 7 columns]"
            ]
          },
          "metadata": {
            "tags": []
          },
          "execution_count": 7
        }
      ]
    },
    {
      "cell_type": "markdown",
      "metadata": {
        "id": "chy8Mm1HbJk4"
      },
      "source": [
        "Temos três variáveis `Star type`, `Star color`, `Spectral Class` que podemos possivelmente indicar como labels para fazer a classificação, mas precisamos ter uma noção da frequência absoluta dos valores de cada variável."
      ]
    },
    {
      "cell_type": "code",
      "metadata": {
        "id": "hoVoDH0Xa2fX",
        "outputId": "29dcbc59-fac5-4801-fd3c-03560272804e",
        "colab": {
          "base_uri": "https://localhost:8080/"
        }
      },
      "source": [
        "dataStar['Star type'].value_counts()"
      ],
      "execution_count": 8,
      "outputs": [
        {
          "output_type": "execute_result",
          "data": {
            "text/plain": [
              "Red Dwarf        40\n",
              "Brown Dwarf      40\n",
              "Supergiant       40\n",
              "Main-Sequence    40\n",
              "Hypergiant       40\n",
              "White Dwarf      40\n",
              "Name: Star type, dtype: int64"
            ]
          },
          "metadata": {
            "tags": []
          },
          "execution_count": 8
        }
      ]
    },
    {
      "cell_type": "code",
      "metadata": {
        "id": "HoVXV9q_ePrO",
        "outputId": "6b6e0c83-404c-4161-d282-928f7db8c181",
        "colab": {
          "base_uri": "https://localhost:8080/"
        }
      },
      "source": [
        "dataStar['Star color'].value_counts()"
      ],
      "execution_count": 9,
      "outputs": [
        {
          "output_type": "execute_result",
          "data": {
            "text/plain": [
              "Red                   112\n",
              "Blue                   55\n",
              "Blue-white             26\n",
              "Blue White             10\n",
              "yellow-white            8\n",
              "White                   7\n",
              "Yellowish White         3\n",
              "Blue white              3\n",
              "white                   3\n",
              "Orange                  2\n",
              "yellowish               2\n",
              "Whitish                 2\n",
              "Blue-White              1\n",
              "Orange-Red              1\n",
              "Blue white              1\n",
              "Blue                    1\n",
              "White-Yellow            1\n",
              "Yellowish               1\n",
              "Pale yellow orange      1\n",
              "Name: Star color, dtype: int64"
            ]
          },
          "metadata": {
            "tags": []
          },
          "execution_count": 9
        }
      ]
    },
    {
      "cell_type": "code",
      "metadata": {
        "id": "4dKAR9G9eQVN",
        "outputId": "57362e87-cec7-4d87-e613-f0696ddb7165",
        "colab": {
          "base_uri": "https://localhost:8080/"
        }
      },
      "source": [
        "dataStar['Spectral Class'].value_counts()"
      ],
      "execution_count": 10,
      "outputs": [
        {
          "output_type": "execute_result",
          "data": {
            "text/plain": [
              "M    111\n",
              "B     46\n",
              "O     40\n",
              "A     19\n",
              "F     17\n",
              "K      6\n",
              "G      1\n",
              "Name: Spectral Class, dtype: int64"
            ]
          },
          "metadata": {
            "tags": []
          },
          "execution_count": 10
        }
      ]
    },
    {
      "cell_type": "markdown",
      "metadata": {
        "id": "it_ihnUXefnU"
      },
      "source": [
        "Definitivamente o tipo de estrela seria a melhor opção de classificação considerando que alguns valores nas outras variáveis aparecem somente uma vez, o que não teria sentido para conseguir validar um possível aprendizado. Vamos pegar as classes nessa variável `Star type`."
      ]
    },
    {
      "cell_type": "code",
      "metadata": {
        "id": "FQTPEK08efFD",
        "outputId": "3de20a69-dbfb-4545-f4ed-15192465ac01",
        "colab": {
          "base_uri": "https://localhost:8080/"
        }
      },
      "source": [
        "# Nomes das classes\n",
        "classes = np.array(pd.unique(dataStar[dataStar.columns[-3]]), dtype=str)  \n",
        "\n",
        "# Atributos do dataset\n",
        "attributes = list(dataStar.columns)\n",
        "\n",
        "classes"
      ],
      "execution_count": 11,
      "outputs": [
        {
          "output_type": "execute_result",
          "data": {
            "text/plain": [
              "array(['Brown Dwarf', 'Red Dwarf', 'White Dwarf', 'Main-Sequence',\n",
              "       'Supergiant', 'Hypergiant'], dtype='<U13')"
            ]
          },
          "metadata": {
            "tags": []
          },
          "execution_count": 11
        }
      ]
    },
    {
      "cell_type": "markdown",
      "metadata": {
        "id": "lVVk-R8mfm8K"
      },
      "source": [
        "Dependendo da relação dessas variáveis que foram descartadas como possível label, podemos até usar usando a função do Pandas [get_dummies](https://pandas.pydata.org/pandas-docs/stable/reference/api/pandas.get_dummies.html) para transformar facilmente em valores binários por coluna. Entretanto, para o caso desse dataset, elas impactam negativamente na classificação, por isso iremos removê-las."
      ]
    },
    {
      "cell_type": "code",
      "metadata": {
        "id": "vgN1Tl18f4Xs",
        "outputId": "bd5de0a3-d3da-480f-ce03-1de9b34dc89d",
        "colab": {
          "base_uri": "https://localhost:8080/",
          "height": 206
        }
      },
      "source": [
        "dataConcat = dataStar.copy()\n",
        "\n",
        "# Os comentários servem apenas para se quiser verificar como essas outras variáveis acabam\n",
        "# tendo uma influência até negativa na classificação\n",
        "\n",
        "#Spectral = pd.get_dummies(dataConcat['Spectral Class'], drop_first=True)\n",
        "dataConcat.drop('Spectral Class',axis=1,inplace=True)\n",
        "#dataConcat = pd.concat([dataConcat, Spectral],axis=1)\n",
        "\n",
        "#Color = pd.get_dummies(dataConcat['Star color'], drop_first=True)\n",
        "dataConcat.drop('Star color',axis=1,inplace=True)\n",
        "#dataConcat = pd.concat([dataConcat, Color],axis=1)\n",
        "\n",
        "dataConcat.sample(5)"
      ],
      "execution_count": 12,
      "outputs": [
        {
          "output_type": "execute_result",
          "data": {
            "text/html": [
              "<div>\n",
              "<style scoped>\n",
              "    .dataframe tbody tr th:only-of-type {\n",
              "        vertical-align: middle;\n",
              "    }\n",
              "\n",
              "    .dataframe tbody tr th {\n",
              "        vertical-align: top;\n",
              "    }\n",
              "\n",
              "    .dataframe thead th {\n",
              "        text-align: right;\n",
              "    }\n",
              "</style>\n",
              "<table border=\"1\" class=\"dataframe\">\n",
              "  <thead>\n",
              "    <tr style=\"text-align: right;\">\n",
              "      <th></th>\n",
              "      <th>Temperature (K)</th>\n",
              "      <th>Luminosity(L/Lo)</th>\n",
              "      <th>Radius(R/Ro)</th>\n",
              "      <th>Absolute magnitude(Mv)</th>\n",
              "      <th>Star type</th>\n",
              "    </tr>\n",
              "  </thead>\n",
              "  <tbody>\n",
              "    <tr>\n",
              "      <th>127</th>\n",
              "      <td>2861</td>\n",
              "      <td>0.000190</td>\n",
              "      <td>0.0899</td>\n",
              "      <td>16.71</td>\n",
              "      <td>Brown Dwarf</td>\n",
              "    </tr>\n",
              "    <tr>\n",
              "      <th>29</th>\n",
              "      <td>7230</td>\n",
              "      <td>0.000080</td>\n",
              "      <td>0.0130</td>\n",
              "      <td>14.08</td>\n",
              "      <td>White Dwarf</td>\n",
              "    </tr>\n",
              "    <tr>\n",
              "      <th>186</th>\n",
              "      <td>2968</td>\n",
              "      <td>0.000461</td>\n",
              "      <td>0.1190</td>\n",
              "      <td>17.45</td>\n",
              "      <td>Brown Dwarf</td>\n",
              "    </tr>\n",
              "    <tr>\n",
              "      <th>187</th>\n",
              "      <td>3484</td>\n",
              "      <td>0.000551</td>\n",
              "      <td>0.0998</td>\n",
              "      <td>16.67</td>\n",
              "      <td>Brown Dwarf</td>\n",
              "    </tr>\n",
              "    <tr>\n",
              "      <th>107</th>\n",
              "      <td>12893</td>\n",
              "      <td>184000.000000</td>\n",
              "      <td>36.0000</td>\n",
              "      <td>-6.34</td>\n",
              "      <td>Supergiant</td>\n",
              "    </tr>\n",
              "  </tbody>\n",
              "</table>\n",
              "</div>"
            ],
            "text/plain": [
              "     Temperature (K)  Luminosity(L/Lo)  ...  Absolute magnitude(Mv)    Star type\n",
              "127             2861          0.000190  ...                   16.71  Brown Dwarf\n",
              "29              7230          0.000080  ...                   14.08  White Dwarf\n",
              "186             2968          0.000461  ...                   17.45  Brown Dwarf\n",
              "187             3484          0.000551  ...                   16.67  Brown Dwarf\n",
              "107            12893     184000.000000  ...                   -6.34   Supergiant\n",
              "\n",
              "[5 rows x 5 columns]"
            ]
          },
          "metadata": {
            "tags": []
          },
          "execution_count": 12
        }
      ]
    },
    {
      "cell_type": "markdown",
      "metadata": {
        "id": "GA4ZYraTlmm3"
      },
      "source": [
        "Vamos converter o data frame para um array numpy com a intenção de manipular melhor com bibliotecas próprias para a classificação."
      ]
    },
    {
      "cell_type": "code",
      "metadata": {
        "id": "Yaq1FNv1lnYI",
        "outputId": "1e84ec2b-c5f6-4c9a-b661-b81288710bf6",
        "colab": {
          "base_uri": "https://localhost:8080/"
        }
      },
      "source": [
        "data = dataConcat.to_numpy()\n",
        "data"
      ],
      "execution_count": 13,
      "outputs": [
        {
          "output_type": "execute_result",
          "data": {
            "text/plain": [
              "array([[3068, 0.0024, 0.17, 16.12, 'Brown Dwarf'],\n",
              "       [3042, 0.0005, 0.1542, 16.6, 'Brown Dwarf'],\n",
              "       [2600, 0.0003, 0.102, 18.7, 'Brown Dwarf'],\n",
              "       ...,\n",
              "       [8829, 537493.0, 1423.0, -10.73, 'Hypergiant'],\n",
              "       [9235, 404940.0, 1112.0, -11.23, 'Hypergiant'],\n",
              "       [37882, 294903.0, 1783.0, -7.8, 'Hypergiant']], dtype=object)"
            ]
          },
          "metadata": {
            "tags": []
          },
          "execution_count": 13
        }
      ]
    },
    {
      "cell_type": "code",
      "metadata": {
        "id": "Owzdy8XCd6Fq"
      },
      "source": [
        "dataTrain = data\n",
        "y = dataTrain[:, 4] # Pega o label que iremos classificar, o tipo de estrela\n",
        "X = dataTrain[:, 0:4] # Pega os 4 valores relevantes que sobraram para a classificação das estrelas"
      ],
      "execution_count": 14,
      "outputs": []
    },
    {
      "cell_type": "markdown",
      "metadata": {
        "id": "3iEkSdtXeYp0"
      },
      "source": [
        "Vamos normalizar os dados para evitar o efeito da escala dos atributos envolvidos."
      ]
    },
    {
      "cell_type": "code",
      "metadata": {
        "id": "RfpHGOGJeYJ-"
      },
      "source": [
        "from sklearn.preprocessing import StandardScaler\n",
        "scaler = StandardScaler().fit(X)\n",
        "X = scaler.transform(X)"
      ],
      "execution_count": 15,
      "outputs": []
    },
    {
      "cell_type": "markdown",
      "metadata": {
        "id": "3VuBpCAkuuPA"
      },
      "source": [
        "Por fim, separando os dados de forma que tenha o conjunto de dados para treino e o conjunto de dados para teste para poder testar se o treino foi efetivo. Ou seja, esses dados servem para ver se foi possível generalizar o suficiente considerando que eles não estavam no conjunto de dados para treino, sendo totalmente novos."
      ]
    },
    {
      "cell_type": "code",
      "metadata": {
        "id": "7rP-pWpIeeHO"
      },
      "source": [
        "from sklearn.model_selection import train_test_split\n",
        "p = 0.8 # Fração de elementos que iremos usar no treinamento\n",
        "x_train, x_test, y_train, y_test = train_test_split(X, y, train_size = p, random_state = 42)"
      ],
      "execution_count": 16,
      "outputs": []
    },
    {
      "cell_type": "markdown",
      "metadata": {
        "id": "RippZrD4etm6"
      },
      "source": [
        "#### Classificador Bayesiano"
      ]
    },
    {
      "cell_type": "markdown",
      "metadata": {
        "id": "JnwraB0vjPZU"
      },
      "source": [
        "Vamos realizar propriamente a classificação que utiliza propriamente da ideia de encontrar a função densidade de probabilidade da [distribuição normal multivariada](https://docs.scipy.org/doc/scipy-0.14.0/reference/generated/scipy.stats.multivariate_normal.html) do conjunto X, os dados escolhidos para o treino."
      ]
    },
    {
      "cell_type": "code",
      "metadata": {
        "id": "ZVhTkF57etug"
      },
      "source": [
        "from scipy.stats import multivariate_normal\n",
        "\n",
        "# P irá guardar a probabilidade para as linhas e colunas\n",
        "P = pd.DataFrame(data = np.zeros((x_test.shape[0], len(classes))), columns = classes) \n",
        "\n",
        "Pc = np.zeros(len(classes)) # A fração de elementos em cada classe\n",
        "for i in np.arange(0, len(classes)):\n",
        "    elements = tuple(np.where(y_train == classes[i]))\n",
        "    Pc[i] = len(elements)/len(y_train)\n",
        "    Z = x_train[elements,:][0]\n",
        "    m = np.mean(Z, axis = 0)\n",
        "    cv = np.cov(np.transpose(Z)) # Matriz de covariância da distribuição\n",
        "    for j in np.arange(0,x_test.shape[0]):\n",
        "        x = x_test[j,:]\n",
        "        pj = multivariate_normal.pdf(x, mean=m, cov=cv, allow_singular=True)\n",
        "        P[classes[i]][j] = pj*Pc[i]"
      ],
      "execution_count": 17,
      "outputs": []
    },
    {
      "cell_type": "markdown",
      "metadata": {
        "id": "y9LF3nC-k-0y"
      },
      "source": [
        "Gerado o modelo podemos testar com a distribuição guardada para testes com o intuito de validar o modelo e verificar sua acurácia."
      ]
    },
    {
      "cell_type": "code",
      "metadata": {
        "id": "esJvGzdBsxa-",
        "outputId": "4b35ad7b-d33e-4ec8-f296-9bef428715ca",
        "colab": {
          "base_uri": "https://localhost:8080/"
        }
      },
      "source": [
        "from sklearn.metrics import accuracy_score\n",
        "\n",
        "y_pred = []\n",
        "\n",
        "for i in np.arange(0, x_test.shape[0]):\n",
        "    c = np.argmax(np.array(P.iloc[[i]])) # Pega a classe/coluna com maior chance de ser\n",
        "    y_pred.append(classes[c])\n",
        "\n",
        "y_pred = np.array(y_pred, dtype=str)\n",
        "\n",
        "score = accuracy_score(y_pred, y_test)\n",
        "print('Accuracy:', score)"
      ],
      "execution_count": 18,
      "outputs": [
        {
          "output_type": "stream",
          "text": [
            "Accuracy: 0.9791666666666666\n"
          ],
          "name": "stdout"
        }
      ]
    },
    {
      "cell_type": "markdown",
      "metadata": {
        "id": "H26SDNWEvkTG"
      },
      "source": [
        "#### Classificador Bayesiano não-paramétrico"
      ]
    },
    {
      "cell_type": "markdown",
      "metadata": {
        "id": "4njqMca7mRi4"
      },
      "source": [
        "Com um estimador não-paramétrico, consideramos que não conhecemos a função de distribuição dos nossos dados, não conhecendo os parâmetros envolvidos. Praticamente vai envolver a criação e convolução de distribuições normais acerca de um conjunto dos nossos dados com a intenção de achar curvas que irão ajudar na classificação. Vamos usar do kernel de gaussiana da [biblioteca do sklearn](https://scikit-learn.org/stable/modules/generated/sklearn.neighbors.KernelDensity.html)."
      ]
    },
    {
      "cell_type": "code",
      "metadata": {
        "id": "n62lCI21vqum"
      },
      "source": [
        "from sklearn.neighbors import KernelDensity\n",
        "\n",
        "P = pd.DataFrame(data=np.zeros((x_test.shape[0], len(classes))), columns = classes) \n",
        "Pc = np.zeros(len(classes)) \n",
        "h = 1 # Esse valor será melhor discutido no próximo exercício\n",
        "for i in np.arange(0, len(classes)): \n",
        "    elements = tuple(np.where(y_train == classes[i])) \n",
        "    Pc[i] = len(elements)/len(y_train) \n",
        "    Z = x_train[elements,:][0] \n",
        "    kde = KernelDensity(kernel='gaussian', bandwidth=h).fit(Z)\n",
        "    for j in np.arange(0,x_test.shape[0]): \n",
        "        x = x_test[j,:]\n",
        "        x = x.reshape((1,len(x)))\n",
        "        pj = np.exp(kde.score_samples(x)) \n",
        "        P[classes[i]][j] = pj*Pc[i]"
      ],
      "execution_count": 25,
      "outputs": []
    },
    {
      "cell_type": "markdown",
      "metadata": {
        "id": "Hu6XcqYvqNQV"
      },
      "source": [
        "A variável `h` usada no código tem uma relevância importante com a possibilidade de formarmos curvas suscetíveis a ruídos, menos suave (overfitting), sendo valores mais baixos, e também curvas que podemos perder mais dados, mais suave (underfitting), sendo valores mais altos. Por isso devemos sempre focar em achar um valor razoável. Isso será melhor discutido no próximo exercício usando desse mesmo conjunto de dados."
      ]
    },
    {
      "cell_type": "markdown",
      "metadata": {
        "id": "IT3p-b12rzEp"
      },
      "source": [
        "Vamos, por fim, calcular a acurácia da forma que fizemos anteriormente."
      ]
    },
    {
      "cell_type": "code",
      "metadata": {
        "id": "hzW_FELyvwI2",
        "outputId": "cf2dbc47-96a4-4ae1-df45-d49297a6a3e1",
        "colab": {
          "base_uri": "https://localhost:8080/"
        }
      },
      "source": [
        "from sklearn.metrics import accuracy_score\n",
        "\n",
        "y_pred = [] \n",
        "\n",
        "for i in np.arange(0, x_test.shape[0]):\n",
        "    c = np.argmax(np.array(P.iloc[[i]]))\n",
        "    y_pred.append(classes[c])\n",
        "\n",
        "y_pred = np.array(y_pred, dtype=str)\n",
        "\n",
        "score = accuracy_score(y_pred, y_test)\n",
        "\n",
        "print('Accuracy:', score)"
      ],
      "execution_count": 26,
      "outputs": [
        {
          "output_type": "stream",
          "text": [
            "Accuracy: 0.8958333333333334\n"
          ],
          "name": "stdout"
        }
      ]
    },
    {
      "cell_type": "markdown",
      "metadata": {
        "id": "e8ojsnyffsOA"
      },
      "source": [
        "### <a name=\"ex2\"></a> 2 - No classificar não-paramétrico, verifique o efeito do hiperparâmetro h na classificação dos dados de diabetes, encontrando seu melhor valor: https://www.kaggle.com/uciml/pima-indians-diabetes-database\n"
      ]
    },
    {
      "cell_type": "code",
      "metadata": {
        "id": "Asdjv98XzZMs"
      },
      "source": [
        ""
      ],
      "execution_count": 20,
      "outputs": []
    }
  ]
}