{
  "nbformat": 4,
  "nbformat_minor": 0,
  "metadata": {
    "colab": {
      "name": "Projeto3_Classificacao.ipynb",
      "provenance": [],
      "toc_visible": true,
      "include_colab_link": true
    },
    "kernelspec": {
      "display_name": "Python 3",
      "language": "python",
      "name": "python3"
    },
    "language_info": {
      "codemirror_mode": {
        "name": "ipython",
        "version": 3
      },
      "file_extension": ".py",
      "mimetype": "text/x-python",
      "name": "python",
      "nbconvert_exporter": "python",
      "pygments_lexer": "ipython3",
      "version": "3.7.8"
    }
  },
  "cells": [
    {
      "cell_type": "markdown",
      "metadata": {
        "id": "view-in-github",
        "colab_type": "text"
      },
      "source": [
        "<a href=\"https://colab.research.google.com/github/brenoslivio/SME0828_DataScience/blob/master/Projects/3%20-%20Classifica%C3%A7%C3%A3o/Projeto3_Classificacao_B.ipynb\" target=\"_parent\"><img src=\"https://colab.research.google.com/assets/colab-badge.svg\" alt=\"Open In Colab\"/></a>"
      ]
    },
    {
      "cell_type": "markdown",
      "metadata": {
        "id": "LJ7wNY4Uefh6"
      },
      "source": [
        "# SME0828 - Introdução à Ciência de Dados\n",
        "# Projeto 3: Classificação "
      ]
    },
    {
      "cell_type": "markdown",
      "metadata": {
        "id": "fscDWzEee1hv"
      },
      "source": [
        "### Alunos"
      ]
    },
    {
      "cell_type": "markdown",
      "metadata": {
        "id": "kIEYP_R3H6YU"
      },
      "source": [
        "Aline Fernanda da Conceição, Nº USP: 9437275\n",
        "\n",
        "Breno Lívio Silva de Almeida, Nº USP: 10276675\n",
        "\n",
        "Matheus Victal Cerqueira, Nº USP: 10276661"
      ]
    },
    {
      "cell_type": "markdown",
      "metadata": {
        "id": "lB29Wn4fH0RJ"
      },
      "source": [
        "***Universidade de São Paulo, São Carlos, Brasil.***"
      ]
    },
    {
      "cell_type": "markdown",
      "metadata": {
        "id": "0Wm1OZv73iBq"
      },
      "source": [
        "## Exercícios sugeridos para a atividade avaliativa 3"
      ]
    },
    {
      "cell_type": "markdown",
      "metadata": {
        "id": "S8HH4554-1Rf"
      },
      "source": [
        "Os seguintes exercícios foram sugeridos para entrega em 03 de novembro de 2020 para a disciplina SME0828 - Ciência de Dados oferecida pelo Instituto de Ciências Matemáticas e de Computação (ICMC) da Universidade de São Paulo (USP), a qual foi ministrada pelo professor Francisco Aparecido Rodrigues. Vamos trabalhar com o conjunto de dados [*Star dataset to predict star types*](https://www.kaggle.com/deepu1109/star-dataset). O dataset tem várias informações sobre características de estrelas como temperatura absoluta, luminosidade relativa, tipos de estrelas, entre outros. Vamos classificar os dados considerando vários classificadores conhecidos."
      ]
    },
    {
      "cell_type": "markdown",
      "metadata": {
        "id": "1QPQ01XEbxl-"
      },
      "source": [
        "\n",
        "\n",
        "---\n",
        "\n"
      ]
    },
    {
      "cell_type": "markdown",
      "metadata": {
        "id": "2dAe3TCSabYr"
      },
      "source": [
        "## Sumário\n",
        "\n",
        "1. Desenvolvimento\n",
        "\n",
        "  1.1 [Exercício 1](#ex1)\n",
        "\n",
        "  1.2 [Exercício 2](#ex2)\n",
        "\n",
        "  1.3 [Exercício 3](#ex3)\n",
        "\n",
        "  1.4 [Exercício 4](#ex4)\n",
        "\n",
        "  1.5 [Exercício 5](#ex5)\n",
        "\n",
        "  1.6 [Exercício 6](#ex6)"
      ]
    },
    {
      "cell_type": "markdown",
      "metadata": {
        "id": "EQhNpDzib3no"
      },
      "source": [
        "\n",
        "\n",
        "---\n",
        "\n"
      ]
    },
    {
      "cell_type": "markdown",
      "metadata": {
        "id": "CHl-yeiA89Ho"
      },
      "source": [
        "## Desenvolvimento"
      ]
    },
    {
      "cell_type": "markdown",
      "metadata": {
        "id": "MKR-GJ8ofjEN"
      },
      "source": [
        "\n",
        "\n",
        "### <a name=\"ex1\"></a> 1 - Considere a base de dados sobre doenças cardíacas:https://www.kaggle.com/ronitf/heart-disease-uci \n",
        "### Faça o pré-processamento dos dados e classifique os pacientes de acordo com a variável “target”.  Considere os classificadores: Bayesiano paramétrico, Bayesiano não-paramétrico e Naive Bayes."
      ]
    },
    {
      "cell_type": "markdown",
      "metadata": {
        "id": "p6NGqQ4ZZ91N"
      },
      "source": [
        "#### Pré-processamento dos dados"
      ]
    },
    {
      "cell_type": "markdown",
      "metadata": {
        "id": "9Sys-kqHcVVS"
      },
      "source": [
        "Foi considerada a base de dados de estrelas [*Star dataset to predict star types*](https://www.kaggle.com/deepu1109/star-dataset) para o exercício. Vamos carregar seus dados."
      ]
    },
    {
      "cell_type": "code",
      "metadata": {
        "id": "GwcABg0DzTh6",
        "outputId": "227f83d0-b90a-4773-b2d2-ef607076a345",
        "colab": {
          "base_uri": "https://localhost:8080/",
          "height": 206
        }
      },
      "source": [
        "import numpy as np\n",
        "import matplotlib.mlab as mlab\n",
        "import matplotlib.pyplot as plt\n",
        "import seaborn as sns\n",
        "import pandas as pd\n",
        "import statistics\n",
        "\n",
        "dataStar = pd.read_csv('https://raw.githubusercontent.com/brenoslivio/SME0828_DataScience/master/Projects/data/starsDataset.csv', \n",
        "        dtype={\n",
        "          \"Temperature (K)\": np.int64,\n",
        "          \"Luminosity(L/Lo)\": np.float64,\n",
        "          \"Radius(R/Ro)\": np.float64,\n",
        "          \"Absolute magnitude(Mv)\": np.float64,\n",
        "          \"Star type\": str,\n",
        "          \"Star color\": str,\n",
        "          \"Spectral Class\": str\n",
        "        },\n",
        "        na_values=\"\",)\n",
        "\n",
        "dataStar.replace(\"\", np.nan, inplace=True)\n",
        "\n",
        "dataStar.dropna(inplace=True)\n",
        "\n",
        "dataStar.sample(5)"
      ],
      "execution_count": 1,
      "outputs": [
        {
          "output_type": "execute_result",
          "data": {
            "text/html": [
              "<div>\n",
              "<style scoped>\n",
              "    .dataframe tbody tr th:only-of-type {\n",
              "        vertical-align: middle;\n",
              "    }\n",
              "\n",
              "    .dataframe tbody tr th {\n",
              "        vertical-align: top;\n",
              "    }\n",
              "\n",
              "    .dataframe thead th {\n",
              "        text-align: right;\n",
              "    }\n",
              "</style>\n",
              "<table border=\"1\" class=\"dataframe\">\n",
              "  <thead>\n",
              "    <tr style=\"text-align: right;\">\n",
              "      <th></th>\n",
              "      <th>Temperature (K)</th>\n",
              "      <th>Luminosity(L/Lo)</th>\n",
              "      <th>Radius(R/Ro)</th>\n",
              "      <th>Absolute magnitude(Mv)</th>\n",
              "      <th>Star type</th>\n",
              "      <th>Star color</th>\n",
              "      <th>Spectral Class</th>\n",
              "    </tr>\n",
              "  </thead>\n",
              "  <tbody>\n",
              "    <tr>\n",
              "      <th>192</th>\n",
              "      <td>2994</td>\n",
              "      <td>0.0072</td>\n",
              "      <td>0.28</td>\n",
              "      <td>13.45</td>\n",
              "      <td>1</td>\n",
              "      <td>Red</td>\n",
              "      <td>M</td>\n",
              "    </tr>\n",
              "    <tr>\n",
              "      <th>117</th>\n",
              "      <td>3625</td>\n",
              "      <td>74000.0000</td>\n",
              "      <td>876.00</td>\n",
              "      <td>-10.25</td>\n",
              "      <td>5</td>\n",
              "      <td>Red</td>\n",
              "      <td>M</td>\n",
              "    </tr>\n",
              "    <tr>\n",
              "      <th>42</th>\n",
              "      <td>3270</td>\n",
              "      <td>150000.0000</td>\n",
              "      <td>88.00</td>\n",
              "      <td>-6.02</td>\n",
              "      <td>4</td>\n",
              "      <td>Red</td>\n",
              "      <td>M</td>\n",
              "    </tr>\n",
              "    <tr>\n",
              "      <th>57</th>\n",
              "      <td>3450</td>\n",
              "      <td>174000.0000</td>\n",
              "      <td>1284.00</td>\n",
              "      <td>-11.28</td>\n",
              "      <td>5</td>\n",
              "      <td>Red</td>\n",
              "      <td>M</td>\n",
              "    </tr>\n",
              "    <tr>\n",
              "      <th>165</th>\n",
              "      <td>7282</td>\n",
              "      <td>131000.0000</td>\n",
              "      <td>24.00</td>\n",
              "      <td>-7.22</td>\n",
              "      <td>4</td>\n",
              "      <td>Blue</td>\n",
              "      <td>O</td>\n",
              "    </tr>\n",
              "  </tbody>\n",
              "</table>\n",
              "</div>"
            ],
            "text/plain": [
              "     Temperature (K)  Luminosity(L/Lo)  ...  Star color  Spectral Class\n",
              "192             2994            0.0072  ...         Red               M\n",
              "117             3625        74000.0000  ...         Red               M\n",
              "42              3270       150000.0000  ...         Red               M\n",
              "57              3450       174000.0000  ...         Red               M\n",
              "165             7282       131000.0000  ...        Blue               O\n",
              "\n",
              "[5 rows x 7 columns]"
            ]
          },
          "metadata": {
            "tags": []
          },
          "execution_count": 1
        }
      ]
    },
    {
      "cell_type": "markdown",
      "metadata": {
        "id": "chy8Mm1HbJk4"
      },
      "source": [
        "Temos três variáveis `Star type`, `Star color`, `Spectral Class` que podemos possivelmente indicar como labels para fazer a classificação, mas precisamos ter uma noção da frequência absoluta dos valores de cada variável."
      ]
    },
    {
      "cell_type": "code",
      "metadata": {
        "id": "hoVoDH0Xa2fX",
        "outputId": "c5dd6c73-4596-4e4a-904b-56780bccd693",
        "colab": {
          "base_uri": "https://localhost:8080/"
        }
      },
      "source": [
        "dataStar['Star type'].value_counts()"
      ],
      "execution_count": 2,
      "outputs": [
        {
          "output_type": "execute_result",
          "data": {
            "text/plain": [
              "5    40\n",
              "0    40\n",
              "1    40\n",
              "2    40\n",
              "4    40\n",
              "3    40\n",
              "Name: Star type, dtype: int64"
            ]
          },
          "metadata": {
            "tags": []
          },
          "execution_count": 2
        }
      ]
    },
    {
      "cell_type": "code",
      "metadata": {
        "id": "HoVXV9q_ePrO",
        "outputId": "7c1698cf-c51f-4dd4-831d-e5be7c78b422",
        "colab": {
          "base_uri": "https://localhost:8080/"
        }
      },
      "source": [
        "dataStar['Star color'].value_counts()"
      ],
      "execution_count": 3,
      "outputs": [
        {
          "output_type": "execute_result",
          "data": {
            "text/plain": [
              "Red                   112\n",
              "Blue                   55\n",
              "Blue-white             26\n",
              "Blue White             10\n",
              "yellow-white            8\n",
              "White                   7\n",
              "Yellowish White         3\n",
              "white                   3\n",
              "Blue white              3\n",
              "yellowish               2\n",
              "Whitish                 2\n",
              "Orange                  2\n",
              "Orange-Red              1\n",
              "Blue                    1\n",
              "Blue white              1\n",
              "Blue-White              1\n",
              "White-Yellow            1\n",
              "Pale yellow orange      1\n",
              "Yellowish               1\n",
              "Name: Star color, dtype: int64"
            ]
          },
          "metadata": {
            "tags": []
          },
          "execution_count": 3
        }
      ]
    },
    {
      "cell_type": "code",
      "metadata": {
        "id": "4dKAR9G9eQVN",
        "outputId": "950d947e-e1ed-4ac5-c93b-bc2598cdd1ea",
        "colab": {
          "base_uri": "https://localhost:8080/"
        }
      },
      "source": [
        "dataStar['Spectral Class'].value_counts()"
      ],
      "execution_count": 4,
      "outputs": [
        {
          "output_type": "execute_result",
          "data": {
            "text/plain": [
              "M    111\n",
              "B     46\n",
              "O     40\n",
              "A     19\n",
              "F     17\n",
              "K      6\n",
              "G      1\n",
              "Name: Spectral Class, dtype: int64"
            ]
          },
          "metadata": {
            "tags": []
          },
          "execution_count": 4
        }
      ]
    },
    {
      "cell_type": "markdown",
      "metadata": {
        "id": "qctC3T6UNWau"
      },
      "source": [
        "Com certeza devemos usar `Star type` como nosso label para classificação, por conta da distribuição igual de dados que foi apresentada, diferentemente das outras variáveis que contam com valores que aparecem somente uma vez. O dataset foi feito justamente para a classificação considerando os tipos de estrelas, mas é interessante ter uma análise para entender o porquê disso."
      ]
    },
    {
      "cell_type": "markdown",
      "metadata": {
        "id": "lVVk-R8mfm8K"
      },
      "source": [
        "Dependendo da relação dessas variáveis que foram descartadas como possível label, podemos até usar usando a função do Pandas [get_dummies](https://pandas.pydata.org/pandas-docs/stable/reference/api/pandas.get_dummies.html) para transformar facilmente em valores binários por coluna. Porém, para fácil visualização na tabela, será usado apenas uma coluna com essa ideia de ter valores inteiro usando a [biblioteca do sklearn](https://scikit-learn.org/stable/modules/generated/sklearn.preprocessing.LabelEncoder.html) própria pra isso."
      ]
    },
    {
      "cell_type": "code",
      "metadata": {
        "id": "ezcJIEN0HJcU",
        "outputId": "29060e07-eba9-4f7a-cda4-34df01ee9040",
        "colab": {
          "base_uri": "https://localhost:8080/",
          "height": 206
        }
      },
      "source": [
        "dataConcat = dataStar.copy()\n",
        "\n",
        "# Método usando get_dummies para várias colunas\n",
        "\n",
        "#Spectral = pd.get_dummies(dataConcat['Spectral Class'], drop_first=True)\n",
        "#dataConcat.drop('Spectral Class',axis=1,inplace=True)\n",
        "#dataConcat = pd.concat([dataConcat, Spectral],axis=1)\n",
        "\n",
        "#Color = pd.get_dummies(dataConcat['Star color'], drop_first=True)\n",
        "#dataConcat.drop('Star color',axis=1,inplace=True)\n",
        "#dataConcat = pd.concat([dataConcat, Color],axis=1)\n",
        "\n",
        "from sklearn.preprocessing import LabelEncoder\n",
        "le = LabelEncoder()\n",
        "\n",
        "for i in list(dataConcat.columns):\n",
        "    if dataConcat[i].dtype=='object':\n",
        "        dataConcat[i]=le.fit_transform(dataConcat[i])\n",
        "\n",
        "dataConcat.sample(5)"
      ],
      "execution_count": 5,
      "outputs": [
        {
          "output_type": "execute_result",
          "data": {
            "text/html": [
              "<div>\n",
              "<style scoped>\n",
              "    .dataframe tbody tr th:only-of-type {\n",
              "        vertical-align: middle;\n",
              "    }\n",
              "\n",
              "    .dataframe tbody tr th {\n",
              "        vertical-align: top;\n",
              "    }\n",
              "\n",
              "    .dataframe thead th {\n",
              "        text-align: right;\n",
              "    }\n",
              "</style>\n",
              "<table border=\"1\" class=\"dataframe\">\n",
              "  <thead>\n",
              "    <tr style=\"text-align: right;\">\n",
              "      <th></th>\n",
              "      <th>Temperature (K)</th>\n",
              "      <th>Luminosity(L/Lo)</th>\n",
              "      <th>Radius(R/Ro)</th>\n",
              "      <th>Absolute magnitude(Mv)</th>\n",
              "      <th>Star type</th>\n",
              "      <th>Star color</th>\n",
              "      <th>Spectral Class</th>\n",
              "    </tr>\n",
              "  </thead>\n",
              "  <tbody>\n",
              "    <tr>\n",
              "      <th>216</th>\n",
              "      <td>9320</td>\n",
              "      <td>29.00000</td>\n",
              "      <td>1.9100</td>\n",
              "      <td>1.236</td>\n",
              "      <td>3</td>\n",
              "      <td>6</td>\n",
              "      <td>0</td>\n",
              "    </tr>\n",
              "    <tr>\n",
              "      <th>213</th>\n",
              "      <td>22012</td>\n",
              "      <td>6748.00000</td>\n",
              "      <td>6.6400</td>\n",
              "      <td>-2.550</td>\n",
              "      <td>3</td>\n",
              "      <td>6</td>\n",
              "      <td>1</td>\n",
              "    </tr>\n",
              "    <tr>\n",
              "      <th>86</th>\n",
              "      <td>12010</td>\n",
              "      <td>0.00078</td>\n",
              "      <td>0.0092</td>\n",
              "      <td>12.130</td>\n",
              "      <td>2</td>\n",
              "      <td>2</td>\n",
              "      <td>1</td>\n",
              "    </tr>\n",
              "    <tr>\n",
              "      <th>178</th>\n",
              "      <td>12100</td>\n",
              "      <td>120000.00000</td>\n",
              "      <td>708.9000</td>\n",
              "      <td>-7.840</td>\n",
              "      <td>5</td>\n",
              "      <td>6</td>\n",
              "      <td>1</td>\n",
              "    </tr>\n",
              "    <tr>\n",
              "      <th>135</th>\n",
              "      <td>3243</td>\n",
              "      <td>0.00230</td>\n",
              "      <td>0.7300</td>\n",
              "      <td>14.750</td>\n",
              "      <td>1</td>\n",
              "      <td>10</td>\n",
              "      <td>5</td>\n",
              "    </tr>\n",
              "  </tbody>\n",
              "</table>\n",
              "</div>"
            ],
            "text/plain": [
              "     Temperature (K)  Luminosity(L/Lo)  ...  Star color  Spectral Class\n",
              "216             9320          29.00000  ...           6               0\n",
              "213            22012        6748.00000  ...           6               1\n",
              "86             12010           0.00078  ...           2               1\n",
              "178            12100      120000.00000  ...           6               1\n",
              "135             3243           0.00230  ...          10               5\n",
              "\n",
              "[5 rows x 7 columns]"
            ]
          },
          "metadata": {
            "tags": []
          },
          "execution_count": 5
        }
      ]
    },
    {
      "cell_type": "markdown",
      "metadata": {
        "id": "9Vj4E6nddiHZ"
      },
      "source": [
        "Vamos renomear as classes de estrelas para seus devidos nomes que não tem de padrão no conjunto de dados obtido."
      ]
    },
    {
      "cell_type": "code",
      "metadata": {
        "id": "W3SjYpdeLhqp",
        "outputId": "746eea13-528a-409e-931c-df8d6ca5924c",
        "colab": {
          "base_uri": "https://localhost:8080/",
          "height": 206
        }
      },
      "source": [
        "# star class:  Star Type\n",
        "#     0     :  Brown Dwarf\n",
        "#     1     :  Red Dwarf\n",
        "#     2     :  White Dwarf\n",
        "#     3     :  Main-Sequence\n",
        "#     4     :  Supergiant\n",
        "#     5     :  Hypergiant\n",
        "\n",
        "dataConcat[\"Star type\"] = dataConcat[\"Star type\"].replace(0, \"Brown Dwarf\")\n",
        "dataConcat[\"Star type\"] = dataConcat[\"Star type\"].replace(1, \"Red Dwarf\")\n",
        "dataConcat[\"Star type\"] = dataConcat[\"Star type\"].replace(2, \"White Dwarf\")\n",
        "dataConcat[\"Star type\"] = dataConcat[\"Star type\"].replace(3, \"Main-Sequence\")\n",
        "dataConcat[\"Star type\"] = dataConcat[\"Star type\"].replace(4, \"Supergiant\")\n",
        "dataConcat[\"Star type\"] = dataConcat[\"Star type\"].replace(5, \"Hypergiant\")\n",
        "\n",
        "dataConcat.sample(5)"
      ],
      "execution_count": 6,
      "outputs": [
        {
          "output_type": "execute_result",
          "data": {
            "text/html": [
              "<div>\n",
              "<style scoped>\n",
              "    .dataframe tbody tr th:only-of-type {\n",
              "        vertical-align: middle;\n",
              "    }\n",
              "\n",
              "    .dataframe tbody tr th {\n",
              "        vertical-align: top;\n",
              "    }\n",
              "\n",
              "    .dataframe thead th {\n",
              "        text-align: right;\n",
              "    }\n",
              "</style>\n",
              "<table border=\"1\" class=\"dataframe\">\n",
              "  <thead>\n",
              "    <tr style=\"text-align: right;\">\n",
              "      <th></th>\n",
              "      <th>Temperature (K)</th>\n",
              "      <th>Luminosity(L/Lo)</th>\n",
              "      <th>Radius(R/Ro)</th>\n",
              "      <th>Absolute magnitude(Mv)</th>\n",
              "      <th>Star type</th>\n",
              "      <th>Star color</th>\n",
              "      <th>Spectral Class</th>\n",
              "    </tr>\n",
              "  </thead>\n",
              "  <tbody>\n",
              "    <tr>\n",
              "      <th>32</th>\n",
              "      <td>15276</td>\n",
              "      <td>1136.000000</td>\n",
              "      <td>7.20000</td>\n",
              "      <td>-1.97</td>\n",
              "      <td>Main-Sequence</td>\n",
              "      <td>6</td>\n",
              "      <td>1</td>\n",
              "    </tr>\n",
              "    <tr>\n",
              "      <th>39</th>\n",
              "      <td>5587</td>\n",
              "      <td>0.819000</td>\n",
              "      <td>0.99000</td>\n",
              "      <td>5.03</td>\n",
              "      <td>Main-Sequence</td>\n",
              "      <td>17</td>\n",
              "      <td>2</td>\n",
              "    </tr>\n",
              "    <tr>\n",
              "      <th>180</th>\n",
              "      <td>2831</td>\n",
              "      <td>0.000231</td>\n",
              "      <td>0.09150</td>\n",
              "      <td>16.21</td>\n",
              "      <td>Brown Dwarf</td>\n",
              "      <td>10</td>\n",
              "      <td>5</td>\n",
              "    </tr>\n",
              "    <tr>\n",
              "      <th>47</th>\n",
              "      <td>3574</td>\n",
              "      <td>200000.000000</td>\n",
              "      <td>89.00000</td>\n",
              "      <td>-5.24</td>\n",
              "      <td>Supergiant</td>\n",
              "      <td>10</td>\n",
              "      <td>5</td>\n",
              "    </tr>\n",
              "    <tr>\n",
              "      <th>25</th>\n",
              "      <td>12990</td>\n",
              "      <td>0.000085</td>\n",
              "      <td>0.00984</td>\n",
              "      <td>12.23</td>\n",
              "      <td>White Dwarf</td>\n",
              "      <td>15</td>\n",
              "      <td>2</td>\n",
              "    </tr>\n",
              "  </tbody>\n",
              "</table>\n",
              "</div>"
            ],
            "text/plain": [
              "     Temperature (K)  Luminosity(L/Lo)  ...  Star color  Spectral Class\n",
              "32             15276       1136.000000  ...           6               1\n",
              "39              5587          0.819000  ...          17               2\n",
              "180             2831          0.000231  ...          10               5\n",
              "47              3574     200000.000000  ...          10               5\n",
              "25             12990          0.000085  ...          15               2\n",
              "\n",
              "[5 rows x 7 columns]"
            ]
          },
          "metadata": {
            "tags": []
          },
          "execution_count": 6
        }
      ]
    },
    {
      "cell_type": "markdown",
      "metadata": {
        "id": "it_ihnUXefnU"
      },
      "source": [
        "Vamos pegar as classes nessa variável `Star type`."
      ]
    },
    {
      "cell_type": "code",
      "metadata": {
        "id": "FQTPEK08efFD",
        "outputId": "f9ec7cc9-e233-457d-efba-b8cfcd9b23d2",
        "colab": {
          "base_uri": "https://localhost:8080/"
        }
      },
      "source": [
        "# Nomes das classes\n",
        "classes = np.array(pd.unique(dataConcat[dataConcat.columns[-3]]), dtype=str)  \n",
        "\n",
        "# Atributos do dataset\n",
        "attributes = list(dataConcat.columns)\n",
        "\n",
        "classes"
      ],
      "execution_count": 7,
      "outputs": [
        {
          "output_type": "execute_result",
          "data": {
            "text/plain": [
              "array(['Brown Dwarf', 'Red Dwarf', 'White Dwarf', 'Main-Sequence',\n",
              "       'Supergiant', 'Hypergiant'], dtype='<U13')"
            ]
          },
          "metadata": {
            "tags": []
          },
          "execution_count": 7
        }
      ]
    },
    {
      "cell_type": "markdown",
      "metadata": {
        "id": "GA4ZYraTlmm3"
      },
      "source": [
        "Vamos converter o data frame para um array numpy com a intenção de manipular melhor com bibliotecas próprias para a classificação."
      ]
    },
    {
      "cell_type": "code",
      "metadata": {
        "id": "Yaq1FNv1lnYI",
        "outputId": "ff53eabb-2ef6-4446-c36c-d1203f9cd237",
        "colab": {
          "base_uri": "https://localhost:8080/"
        }
      },
      "source": [
        "data = dataConcat.to_numpy()\n",
        "data"
      ],
      "execution_count": 8,
      "outputs": [
        {
          "output_type": "execute_result",
          "data": {
            "text/plain": [
              "array([[3068, 0.0024, 0.17, ..., 'Brown Dwarf', 10, 5],\n",
              "       [3042, 0.0005, 0.1542, ..., 'Brown Dwarf', 10, 5],\n",
              "       [2600, 0.0003, 0.102, ..., 'Brown Dwarf', 10, 5],\n",
              "       ...,\n",
              "       [8829, 537493.0, 1423.0, ..., 'Hypergiant', 11, 0],\n",
              "       [9235, 404940.0, 1112.0, ..., 'Hypergiant', 11, 0],\n",
              "       [37882, 294903.0, 1783.0, ..., 'Hypergiant', 0, 6]], dtype=object)"
            ]
          },
          "metadata": {
            "tags": []
          },
          "execution_count": 8
        }
      ]
    },
    {
      "cell_type": "markdown",
      "metadata": {
        "id": "C20fXq2hfyID"
      },
      "source": [
        "Para alguns casos, é interessante usar a ideia de [Feature Selection](https://scikit-learn.org/stable/modules/feature_selection.html) para escolhermos as variáveis que realmente nos ajude a obter uma melhor classificação. Entretanto vamos trabalhar com todos os valores visto que acurácia ainda se mantém alta mesmo sem esse método. Se a nossa classificação não lidasse com uma variável categórica, poderíamos até trabalhar com a ideia de observar as variáveis com a melhor [correlação com a variável target](https://towardsdatascience.com/feature-selection-with-pandas-e3690ad8504b) para a filtragem."
      ]
    },
    {
      "cell_type": "code",
      "metadata": {
        "id": "Owzdy8XCd6Fq"
      },
      "source": [
        "dataTrain = data\n",
        "y = dataTrain[:, 4] # Pega o label que iremos classificar, o tipo de estrela\n",
        "dataTrain = np.delete(dataTrain, 4, 1)\n",
        "X = dataTrain # Pega os valores que sobraram para a classificação das estrelas"
      ],
      "execution_count": 9,
      "outputs": []
    },
    {
      "cell_type": "markdown",
      "metadata": {
        "id": "3iEkSdtXeYp0"
      },
      "source": [
        "Vamos normalizar os dados para evitar o efeito da escala dos atributos envolvidos."
      ]
    },
    {
      "cell_type": "code",
      "metadata": {
        "id": "RfpHGOGJeYJ-"
      },
      "source": [
        "from sklearn.preprocessing import StandardScaler\n",
        "scaler = StandardScaler().fit(X)\n",
        "X = scaler.transform(X)"
      ],
      "execution_count": 10,
      "outputs": []
    },
    {
      "cell_type": "markdown",
      "metadata": {
        "id": "3VuBpCAkuuPA"
      },
      "source": [
        "Por fim, separando os dados de forma que tenha o conjunto de dados para treino e o conjunto de dados para teste para poder testar se o treino foi efetivo. Ou seja, esses dados servem para ver se foi possível generalizar o suficiente considerando que eles não estavam no conjunto de dados para treino, sendo totalmente novos."
      ]
    },
    {
      "cell_type": "code",
      "metadata": {
        "id": "7rP-pWpIeeHO"
      },
      "source": [
        "from sklearn.model_selection import train_test_split\n",
        "p = 0.8 # Fração de elementos que iremos usar no treinamento\n",
        "x_train, x_test, y_train, y_test = train_test_split(X, y, train_size = p, random_state = 42)"
      ],
      "execution_count": 11,
      "outputs": []
    },
    {
      "cell_type": "markdown",
      "metadata": {
        "id": "RippZrD4etm6"
      },
      "source": [
        "#### Classificador Bayesiano paramétrico"
      ]
    },
    {
      "cell_type": "markdown",
      "metadata": {
        "id": "JnwraB0vjPZU"
      },
      "source": [
        "Vamos realizar propriamente a classificação que utiliza propriamente da ideia de encontrar a função densidade de probabilidade da [distribuição normal multivariada](https://docs.scipy.org/doc/scipy-0.14.0/reference/generated/scipy.stats.multivariate_normal.html) do conjunto X, os dados escolhidos para o treino."
      ]
    },
    {
      "cell_type": "code",
      "metadata": {
        "id": "ZVhTkF57etug"
      },
      "source": [
        "from scipy.stats import multivariate_normal\n",
        "\n",
        "# P irá guardar a probabilidade para as linhas e colunas\n",
        "P = pd.DataFrame(data = np.zeros((x_test.shape[0], len(classes))), columns = classes) \n",
        "\n",
        "Pc = np.zeros(len(classes)) # A fração de elementos em cada classe\n",
        "for i in np.arange(0, len(classes)):\n",
        "    elements = tuple(np.where(y_train == classes[i]))\n",
        "    Pc[i] = len(elements)/len(y_train)\n",
        "    Z = x_train[elements,:][0]\n",
        "    m = np.mean(Z, axis = 0)\n",
        "    cv = np.cov(np.transpose(Z)) # Matriz de covariância da distribuição\n",
        "    for j in np.arange(0,x_test.shape[0]):\n",
        "        x = x_test[j,:]\n",
        "        pj = multivariate_normal.pdf(x, mean=m, cov=cv, allow_singular=True)\n",
        "        P[classes[i]][j] = pj*Pc[i]"
      ],
      "execution_count": 12,
      "outputs": []
    },
    {
      "cell_type": "markdown",
      "metadata": {
        "id": "y9LF3nC-k-0y"
      },
      "source": [
        "Gerado o modelo podemos testar com a distribuição guardada para testes com o intuito de validar o modelo e verificar sua acurácia."
      ]
    },
    {
      "cell_type": "code",
      "metadata": {
        "id": "esJvGzdBsxa-",
        "outputId": "3ece1104-130c-416b-abab-e3a2245617aa",
        "colab": {
          "base_uri": "https://localhost:8080/"
        }
      },
      "source": [
        "from sklearn.metrics import accuracy_score\n",
        "\n",
        "y_pred = []\n",
        "\n",
        "for i in np.arange(0, x_test.shape[0]):\n",
        "    c = np.argmax(np.array(P.iloc[[i]])) # Pega a classe/coluna com maior chance de ser\n",
        "    y_pred.append(classes[c])\n",
        "\n",
        "y_pred = np.array(y_pred, dtype=str)\n",
        "\n",
        "score = accuracy_score(y_pred, y_test)\n",
        "print('Acurácia da classificação Bayesiana paramétrica:', score)"
      ],
      "execution_count": 13,
      "outputs": [
        {
          "output_type": "stream",
          "text": [
            "Acurácia da classificação Bayesiana paramétrica: 0.9583333333333334\n"
          ],
          "name": "stdout"
        }
      ]
    },
    {
      "cell_type": "markdown",
      "metadata": {
        "id": "H26SDNWEvkTG"
      },
      "source": [
        "#### Classificador Bayesiano não-paramétrico"
      ]
    },
    {
      "cell_type": "markdown",
      "metadata": {
        "id": "4njqMca7mRi4"
      },
      "source": [
        "Com um estimador não-paramétrico, consideramos que não conhecemos a função de distribuição dos nossos dados, não conhecendo os parâmetros envolvidos. Praticamente vai envolver a criação e convolução de distribuições normais acerca de um conjunto dos nossos dados com a intenção de achar curvas que irão ajudar na classificação. Vamos usar do kernel de gaussiana da [biblioteca do sklearn](https://scikit-learn.org/stable/modules/generated/sklearn.neighbors.KernelDensity.html)."
      ]
    },
    {
      "cell_type": "code",
      "metadata": {
        "id": "n62lCI21vqum"
      },
      "source": [
        "from sklearn.neighbors import KernelDensity\n",
        "\n",
        "P = pd.DataFrame(data=np.zeros((x_test.shape[0], len(classes))), columns = classes) \n",
        "Pc = np.zeros(len(classes)) \n",
        "\n",
        "h = 1 # Esse valor será melhor discutido no próximo exercício\n",
        "\n",
        "for i in np.arange(0, len(classes)): \n",
        "    elements = tuple(np.where(y_train == classes[i])) \n",
        "    Pc[i] = len(elements)/len(y_train) \n",
        "    Z = x_train[elements,:][0] \n",
        "    kde = KernelDensity(kernel='gaussian', bandwidth=h).fit(Z)\n",
        "    for j in np.arange(0,x_test.shape[0]): \n",
        "        x = x_test[j,:]\n",
        "        x = x.reshape((1,len(x)))\n",
        "        pj = np.exp(kde.score_samples(x)) \n",
        "        P[classes[i]][j] = pj*Pc[i]"
      ],
      "execution_count": 14,
      "outputs": []
    },
    {
      "cell_type": "markdown",
      "metadata": {
        "id": "Hu6XcqYvqNQV"
      },
      "source": [
        "A variável `h` usada no código tem uma relevância importante com a possibilidade de formarmos curvas suscetíveis a ruídos, menos suave (overfitting), sendo valores mais baixos, e também curvas que podemos perder mais dados, mais suave (underfitting), sendo valores mais altos. Por isso devemos sempre focar em achar um valor razoável. Isso será melhor discutido no próximo exercício usando desse mesmo conjunto de dados."
      ]
    },
    {
      "cell_type": "markdown",
      "metadata": {
        "id": "IT3p-b12rzEp"
      },
      "source": [
        "Vamos, por fim, calcular a acurácia da forma que fizemos anteriormente."
      ]
    },
    {
      "cell_type": "code",
      "metadata": {
        "id": "hzW_FELyvwI2",
        "outputId": "59a55cb4-d8dc-4e88-a767-7d688c6a6a27",
        "colab": {
          "base_uri": "https://localhost:8080/"
        }
      },
      "source": [
        "from sklearn.metrics import accuracy_score\n",
        "\n",
        "y_pred = [] \n",
        "\n",
        "for i in np.arange(0, x_test.shape[0]):\n",
        "    c = np.argmax(np.array(P.iloc[[i]]))\n",
        "    y_pred.append(classes[c])\n",
        "\n",
        "y_pred = np.array(y_pred, dtype=str)\n",
        "\n",
        "score = accuracy_score(y_pred, y_test)\n",
        "\n",
        "print('Acurácia da classificação Bayesiana não-paramétrica:', score)"
      ],
      "execution_count": 15,
      "outputs": [
        {
          "output_type": "stream",
          "text": [
            "Acurácia da classificação Bayesiana não-paramétrica: 0.9375\n"
          ],
          "name": "stdout"
        }
      ]
    },
    {
      "cell_type": "markdown",
      "metadata": {
        "id": "pTGKu51Gs8u3"
      },
      "source": [
        "#### Classificador Naive Bayes"
      ]
    },
    {
      "cell_type": "markdown",
      "metadata": {
        "id": "cHQ6U043yhLB"
      },
      "source": [
        "Esse tipo de classificador usa da teoria Bayesiana mas considerando a hipótese \"naive\" que os atributos trabalhados são independentes. Vamos usar da [implementação do próprio sklearn](https://scikit-learn.org/stable/modules/generated/sklearn.naive_bayes.GaussianNB.html) que considera os dados já em uma distribuição normal (existem funções da biblioteca de Naive Bayes que lida com outras distribuições)."
      ]
    },
    {
      "cell_type": "code",
      "metadata": {
        "id": "NNvVx-FW_31k",
        "outputId": "7e561d21-9e7b-48cd-ddb3-d78f100183d5",
        "colab": {
          "base_uri": "https://localhost:8080/"
        }
      },
      "source": [
        "from sklearn.naive_bayes import GaussianNB\n",
        "from sklearn import metrics\n",
        "\n",
        "model = GaussianNB()\n",
        "model.fit(x_train, y_train)\n",
        "\n",
        "y_pred = model.predict(x_test)\n",
        "score = accuracy_score(y_pred, y_test)\n",
        "\n",
        "print('Acurácia da classificação Naive Bayes:', score)"
      ],
      "execution_count": 16,
      "outputs": [
        {
          "output_type": "stream",
          "text": [
            "Acurácia da classificação Naive Bayes: 0.9583333333333334\n"
          ],
          "name": "stdout"
        }
      ]
    },
    {
      "cell_type": "markdown",
      "metadata": {
        "id": "_cM-wM8dCIL8"
      },
      "source": [
        "É interessante notar que o classificador Naive Bayes funciona muito bem para aplicações do mundo real, mas parece [não funcionar tão bem como estimador](https://scikit-learn.org/stable/modules/naive_bayes.html), então sempre é interessante comparar com outros classificadores para escolhermos nossa opção dependendo do nosso conjunto de dados."
      ]
    },
    {
      "cell_type": "markdown",
      "metadata": {
        "id": "e8ojsnyffsOA"
      },
      "source": [
        "### <a name=\"ex2\"></a> 2 - No classificar não-paramétrico, verifique o efeito do hiperparâmetro h na classificação dos dados de diabetes, encontrando seu melhor valor: https://www.kaggle.com/uciml/pima-indians-diabetes-database\n"
      ]
    },
    {
      "cell_type": "code",
      "metadata": {
        "id": "Asdjv98XzZMs"
      },
      "source": [
        ""
      ],
      "execution_count": 16,
      "outputs": []
    }
  ]
}