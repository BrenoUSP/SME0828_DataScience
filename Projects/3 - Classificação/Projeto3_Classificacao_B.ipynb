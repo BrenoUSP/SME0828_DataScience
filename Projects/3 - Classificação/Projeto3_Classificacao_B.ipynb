{
  "nbformat": 4,
  "nbformat_minor": 0,
  "metadata": {
    "colab": {
      "name": "Projeto3_Classificacao.ipynb",
      "provenance": [],
      "toc_visible": true,
      "include_colab_link": true
    },
    "kernelspec": {
      "display_name": "Python 3",
      "language": "python",
      "name": "python3"
    },
    "language_info": {
      "codemirror_mode": {
        "name": "ipython",
        "version": 3
      },
      "file_extension": ".py",
      "mimetype": "text/x-python",
      "name": "python",
      "nbconvert_exporter": "python",
      "pygments_lexer": "ipython3",
      "version": "3.7.8"
    }
  },
  "cells": [
    {
      "cell_type": "markdown",
      "metadata": {
        "id": "view-in-github",
        "colab_type": "text"
      },
      "source": [
        "<a href=\"https://colab.research.google.com/github/brenoslivio/SME0828_DataScience/blob/master/Projects/3%20-%20Classifica%C3%A7%C3%A3o/Projeto3_Classificacao_B.ipynb\" target=\"_parent\"><img src=\"https://colab.research.google.com/assets/colab-badge.svg\" alt=\"Open In Colab\"/></a>"
      ]
    },
    {
      "cell_type": "markdown",
      "metadata": {
        "id": "LJ7wNY4Uefh6"
      },
      "source": [
        "# SME0828 - Introdução à Ciência de Dados\n",
        "# Projeto 3: Classificação "
      ]
    },
    {
      "cell_type": "markdown",
      "metadata": {
        "id": "fscDWzEee1hv"
      },
      "source": [
        "### Alunos"
      ]
    },
    {
      "cell_type": "markdown",
      "metadata": {
        "id": "kIEYP_R3H6YU"
      },
      "source": [
        "Aline Fernanda da Conceição, Nº USP: 9437275\n",
        "\n",
        "Breno Lívio Silva de Almeida, Nº USP: 10276675\n",
        "\n",
        "Matheus Victal Cerqueira, Nº USP: 10276661"
      ]
    },
    {
      "cell_type": "markdown",
      "metadata": {
        "id": "lB29Wn4fH0RJ"
      },
      "source": [
        "***Universidade de São Paulo, São Carlos, Brasil.***"
      ]
    },
    {
      "cell_type": "markdown",
      "metadata": {
        "id": "0Wm1OZv73iBq"
      },
      "source": [
        "## Exercícios sugeridos para a atividade avaliativa 3"
      ]
    },
    {
      "cell_type": "markdown",
      "metadata": {
        "id": "S8HH4554-1Rf"
      },
      "source": [
        "Os seguintes exercícios foram sugeridos para entrega em 03 de novembro de 2020 para a disciplina SME0828 - Ciência de Dados oferecida pelo Instituto de Ciências Matemáticas e de Computação (ICMC) da Universidade de São Paulo (USP), a qual foi ministrada pelo professor Francisco Aparecido Rodrigues. Vamos trabalhar com o conjunto de dados [*Star dataset to predict star types*](https://www.kaggle.com/deepu1109/star-dataset). O dataset tem várias informações sobre características de estrelas como temperatura absoluta, luminosidade relativa, tipos de estrelas, entre outros. Vamos classificar os dados considerando vários classificadores conhecidos."
      ]
    },
    {
      "cell_type": "markdown",
      "metadata": {
        "id": "1QPQ01XEbxl-"
      },
      "source": [
        "\n",
        "\n",
        "---\n",
        "\n"
      ]
    },
    {
      "cell_type": "markdown",
      "metadata": {
        "id": "2dAe3TCSabYr"
      },
      "source": [
        "## Sumário\n",
        "\n",
        "1. Desenvolvimento\n",
        "\n",
        "  1.1 [Exercício 1](#ex1)\n",
        "\n",
        "  1.2 [Exercício 2](#ex2)\n",
        "\n",
        "  1.3 [Exercício 3](#ex3)\n",
        "\n",
        "  1.4 [Exercício 4](#ex4)\n",
        "\n",
        "  1.5 [Exercício 5](#ex5)\n",
        "\n",
        "  1.6 [Exercício 6](#ex6)"
      ]
    },
    {
      "cell_type": "markdown",
      "metadata": {
        "id": "EQhNpDzib3no"
      },
      "source": [
        "\n",
        "\n",
        "---\n",
        "\n"
      ]
    },
    {
      "cell_type": "markdown",
      "metadata": {
        "id": "CHl-yeiA89Ho"
      },
      "source": [
        "## Desenvolvimento"
      ]
    },
    {
      "cell_type": "markdown",
      "metadata": {
        "id": "MKR-GJ8ofjEN"
      },
      "source": [
        "\n",
        "\n",
        "### <a name=\"ex1\"></a> 1 - Considere a base de dados sobre doenças cardíacas:https://www.kaggle.com/ronitf/heart-disease-uci \n",
        "### Faça o pré-processamento dos dados e classifique os pacientes de acordo com a variável “target”.  Considere os classificadores: Bayesiano paramétrico, Bayesiano não-paramétrico e Naive Bayes."
      ]
    },
    {
      "cell_type": "code",
      "metadata": {
        "id": "GwcABg0DzTh6"
      },
      "source": [
        ""
      ],
      "execution_count": null,
      "outputs": []
    },
    {
      "cell_type": "markdown",
      "metadata": {
        "id": "e8ojsnyffsOA"
      },
      "source": [
        "### <a name=\"ex2\"></a> 2 - No classificar não-paramétrico, verifique o efeito do hiperparâmetro h na classificação dos dados de diabetes, encontrando seu melhor valor: https://www.kaggle.com/uciml/pima-indians-diabetes-database\n"
      ]
    },
    {
      "cell_type": "code",
      "metadata": {
        "id": "Asdjv98XzZMs"
      },
      "source": [
        ""
      ],
      "execution_count": null,
      "outputs": []
    }
  ]
}