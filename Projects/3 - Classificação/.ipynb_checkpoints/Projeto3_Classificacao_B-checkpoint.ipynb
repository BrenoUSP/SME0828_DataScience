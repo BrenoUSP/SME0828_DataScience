{
 "cells": [
  {
   "cell_type": "markdown",
   "metadata": {
    "colab_type": "text",
    "id": "view-in-github"
   },
   "source": [
    "<a href=\"https://colab.research.google.com/github/brenoslivio/SME0828_DataScience/blob/master/Projects/3%20-%20Classifica%C3%A7%C3%A3o/Projeto3_Classificacao_B.ipynb\" target=\"_parent\"><img src=\"https://colab.research.google.com/assets/colab-badge.svg\" alt=\"Open In Colab\"/></a>"
   ]
  },
  {
   "cell_type": "markdown",
   "metadata": {
    "id": "LJ7wNY4Uefh6"
   },
   "source": [
    "# SME0828 - Introdução à Ciência de Dados\n",
    "# Projeto 3: Classificação "
   ]
  },
  {
   "cell_type": "markdown",
   "metadata": {
    "id": "fscDWzEee1hv"
   },
   "source": [
    "### Alunos"
   ]
  },
  {
   "cell_type": "markdown",
   "metadata": {
    "id": "kIEYP_R3H6YU"
   },
   "source": [
    "Aline Fernanda da Conceição, Nº USP: 9437275\n",
    "\n",
    "Breno Lívio Silva de Almeida, Nº USP: 10276675\n",
    "\n",
    "Matheus Victal Cerqueira, Nº USP: 10276661"
   ]
  },
  {
   "cell_type": "markdown",
   "metadata": {
    "id": "lB29Wn4fH0RJ"
   },
   "source": [
    "***Universidade de São Paulo, São Carlos, Brasil.***"
   ]
  },
  {
   "cell_type": "markdown",
   "metadata": {
    "id": "0Wm1OZv73iBq"
   },
   "source": [
    "## Exercícios sugeridos para a atividade avaliativa 3"
   ]
  },
  {
   "cell_type": "markdown",
   "metadata": {
    "id": "S8HH4554-1Rf"
   },
   "source": [
    "Os seguintes exercícios foram sugeridos para entrega em 03 de novembro de 2020 para a disciplina SME0828 - Ciência de Dados oferecida pelo Instituto de Ciências Matemáticas e de Computação (ICMC) da Universidade de São Paulo (USP), a qual foi ministrada pelo professor Francisco Aparecido Rodrigues. Vamos trabalhar com o conjunto de dados [*Star dataset to predict star types*](https://www.kaggle.com/deepu1109/star-dataset). O dataset tem várias informações sobre características de estrelas como temperatura absoluta, luminosidade relativa, tipos de estrelas, entre outros. Vamos classificar os dados considerando vários classificadores conhecidos."
   ]
  },
  {
   "cell_type": "markdown",
   "metadata": {
    "id": "1QPQ01XEbxl-"
   },
   "source": [
    "\n",
    "\n",
    "---\n",
    "\n"
   ]
  },
  {
   "cell_type": "markdown",
   "metadata": {
    "id": "2dAe3TCSabYr"
   },
   "source": [
    "## Sumário\n",
    "\n",
    "1. Desenvolvimento\n",
    "\n",
    "  1.1 [Exercício 1](#ex1)\n",
    "\n",
    "  1.2 [Exercício 2](#ex2)\n",
    "\n",
    "  1.3 [Exercício 3](#ex3)\n",
    "\n",
    "  1.4 [Exercício 4](#ex4)\n",
    "\n",
    "  1.5 [Exercício 5](#ex5)\n",
    "\n",
    "  1.6 [Exercício 6](#ex6)"
   ]
  },
  {
   "cell_type": "markdown",
   "metadata": {
    "id": "EQhNpDzib3no"
   },
   "source": [
    "\n",
    "\n",
    "---\n",
    "\n"
   ]
  },
  {
   "cell_type": "markdown",
   "metadata": {
    "id": "CHl-yeiA89Ho"
   },
   "source": [
    "## Desenvolvimento"
   ]
  },
  {
   "cell_type": "markdown",
   "metadata": {
    "id": "MKR-GJ8ofjEN"
   },
   "source": [
    "\n",
    "\n",
    "### <a name=\"ex1\"></a> 1 - Considere a base de dados sobre doenças cardíacas:https://www.kaggle.com/ronitf/heart-disease-uci \n",
    "### Faça o pré-processamento dos dados e classifique os pacientes de acordo com a variável “target”.  Considere os classificadores: Bayesiano paramétrico, Bayesiano não-paramétrico e Naive Bayes."
   ]
  },
  {
   "cell_type": "markdown",
   "metadata": {
    "id": "p6NGqQ4ZZ91N"
   },
   "source": [
    "#### Pré-processamento dos dados"
   ]
  },
  {
   "cell_type": "markdown",
   "metadata": {
    "id": "9Sys-kqHcVVS"
   },
   "source": [
    "Foi considerada a base de dados de estrelas [*Star dataset to predict star types*](https://www.kaggle.com/deepu1109/star-dataset) para o exercício. Vamos carregar seus dados."
   ]
  },
  {
   "cell_type": "code",
   "execution_count": 1,
   "metadata": {
    "colab": {
     "base_uri": "https://localhost:8080/",
     "height": 206
    },
    "id": "GwcABg0DzTh6",
    "outputId": "7d8a78ec-42d5-412b-8b46-13a65d6e8337"
   },
   "outputs": [
    {
     "data": {
      "text/html": [
       "<div>\n",
       "<style scoped>\n",
       "    .dataframe tbody tr th:only-of-type {\n",
       "        vertical-align: middle;\n",
       "    }\n",
       "\n",
       "    .dataframe tbody tr th {\n",
       "        vertical-align: top;\n",
       "    }\n",
       "\n",
       "    .dataframe thead th {\n",
       "        text-align: right;\n",
       "    }\n",
       "</style>\n",
       "<table border=\"1\" class=\"dataframe\">\n",
       "  <thead>\n",
       "    <tr style=\"text-align: right;\">\n",
       "      <th></th>\n",
       "      <th>Temperature (K)</th>\n",
       "      <th>Luminosity(L/Lo)</th>\n",
       "      <th>Radius(R/Ro)</th>\n",
       "      <th>Absolute magnitude(Mv)</th>\n",
       "      <th>Star type</th>\n",
       "      <th>Star color</th>\n",
       "      <th>Spectral Class</th>\n",
       "    </tr>\n",
       "  </thead>\n",
       "  <tbody>\n",
       "    <tr>\n",
       "      <th>97</th>\n",
       "      <td>7720</td>\n",
       "      <td>7.92000</td>\n",
       "      <td>1.340</td>\n",
       "      <td>2.44</td>\n",
       "      <td>3</td>\n",
       "      <td>yellow-white</td>\n",
       "      <td>F</td>\n",
       "    </tr>\n",
       "    <tr>\n",
       "      <th>124</th>\n",
       "      <td>3511</td>\n",
       "      <td>0.00064</td>\n",
       "      <td>0.109</td>\n",
       "      <td>17.12</td>\n",
       "      <td>0</td>\n",
       "      <td>Red</td>\n",
       "      <td>M</td>\n",
       "    </tr>\n",
       "    <tr>\n",
       "      <th>117</th>\n",
       "      <td>3625</td>\n",
       "      <td>74000.00000</td>\n",
       "      <td>876.000</td>\n",
       "      <td>-10.25</td>\n",
       "      <td>5</td>\n",
       "      <td>Red</td>\n",
       "      <td>M</td>\n",
       "    </tr>\n",
       "    <tr>\n",
       "      <th>12</th>\n",
       "      <td>3134</td>\n",
       "      <td>0.00040</td>\n",
       "      <td>0.196</td>\n",
       "      <td>13.21</td>\n",
       "      <td>1</td>\n",
       "      <td>Red</td>\n",
       "      <td>M</td>\n",
       "    </tr>\n",
       "    <tr>\n",
       "      <th>61</th>\n",
       "      <td>3432</td>\n",
       "      <td>0.00067</td>\n",
       "      <td>0.190</td>\n",
       "      <td>16.94</td>\n",
       "      <td>0</td>\n",
       "      <td>Red</td>\n",
       "      <td>M</td>\n",
       "    </tr>\n",
       "  </tbody>\n",
       "</table>\n",
       "</div>"
      ],
      "text/plain": [
       "     Temperature (K)  Luminosity(L/Lo)  ...    Star color  Spectral Class\n",
       "97              7720           7.92000  ...  yellow-white               F\n",
       "124             3511           0.00064  ...           Red               M\n",
       "117             3625       74000.00000  ...           Red               M\n",
       "12              3134           0.00040  ...           Red               M\n",
       "61              3432           0.00067  ...           Red               M\n",
       "\n",
       "[5 rows x 7 columns]"
      ]
     },
     "execution_count": 1,
     "metadata": {
      "tags": []
     },
     "output_type": "execute_result"
    }
   ],
   "source": [
    "import numpy as np\n",
    "import matplotlib.mlab as mlab\n",
    "import matplotlib.pyplot as plt\n",
    "import seaborn as sns\n",
    "import pandas as pd\n",
    "import statistics\n",
    "\n",
    "dataStar = pd.read_csv('https://raw.githubusercontent.com/brenoslivio/SME0828_DataScience/master/Projects/data/starsDataset.csv', \n",
    "        dtype={\n",
    "          \"Temperature (K)\": np.int64,\n",
    "          \"Luminosity(L/Lo)\": np.float64,\n",
    "          \"Radius(R/Ro)\": np.float64,\n",
    "          \"Absolute magnitude(Mv)\": np.float64,\n",
    "          \"Star type\": np.int64,\n",
    "          \"Star color\": str,\n",
    "          \"Spectral Class\": str\n",
    "        },\n",
    "        na_values=\"\",)\n",
    "\n",
    "dataStar.replace(\"\", np.nan, inplace=True)\n",
    "\n",
    "dataStar.dropna(inplace=True)\n",
    "\n",
    "dataStar.sample(5)"
   ]
  },
  {
   "cell_type": "markdown",
   "metadata": {
    "id": "chy8Mm1HbJk4"
   },
   "source": [
    "Temos três variáveis `Star type`, `Star color`, `Spectral Class` que podemos possivelmente indicar como labels para fazer a classificação, mas precisamos ter uma noção da frequência absoluta dos valores de cada variável."
   ]
  },
  {
   "cell_type": "code",
   "execution_count": 2,
   "metadata": {
    "colab": {
     "base_uri": "https://localhost:8080/"
    },
    "id": "hoVoDH0Xa2fX",
    "outputId": "41ffb715-00d6-423b-8ac9-b70c16822a82"
   },
   "outputs": [
    {
     "data": {
      "text/plain": [
       "5    40\n",
       "4    40\n",
       "3    40\n",
       "2    40\n",
       "1    40\n",
       "0    40\n",
       "Name: Star type, dtype: int64"
      ]
     },
     "execution_count": 2,
     "metadata": {
      "tags": []
     },
     "output_type": "execute_result"
    }
   ],
   "source": [
    "dataStar['Star type'].value_counts()"
   ]
  },
  {
   "cell_type": "code",
   "execution_count": 3,
   "metadata": {
    "colab": {
     "base_uri": "https://localhost:8080/"
    },
    "id": "HoVXV9q_ePrO",
    "outputId": "9be6fbb6-8472-4776-f817-0360d23c2691"
   },
   "outputs": [
    {
     "data": {
      "text/plain": [
       "Red                   112\n",
       "Blue                   55\n",
       "Blue-white             26\n",
       "Blue White             10\n",
       "yellow-white            8\n",
       "White                   7\n",
       "Yellowish White         3\n",
       "white                   3\n",
       "Blue white              3\n",
       "Whitish                 2\n",
       "Orange                  2\n",
       "yellowish               2\n",
       "Orange-Red              1\n",
       "Blue                    1\n",
       "Yellowish               1\n",
       "White-Yellow            1\n",
       "Blue white              1\n",
       "Pale yellow orange      1\n",
       "Blue-White              1\n",
       "Name: Star color, dtype: int64"
      ]
     },
     "execution_count": 3,
     "metadata": {
      "tags": []
     },
     "output_type": "execute_result"
    }
   ],
   "source": [
    "dataStar['Star color'].value_counts()"
   ]
  },
  {
   "cell_type": "code",
   "execution_count": 4,
   "metadata": {
    "colab": {
     "base_uri": "https://localhost:8080/"
    },
    "id": "4dKAR9G9eQVN",
    "outputId": "aa925030-c102-4b8a-8cb3-af9fd6681710"
   },
   "outputs": [
    {
     "data": {
      "text/plain": [
       "M    111\n",
       "B     46\n",
       "O     40\n",
       "A     19\n",
       "F     17\n",
       "K      6\n",
       "G      1\n",
       "Name: Spectral Class, dtype: int64"
      ]
     },
     "execution_count": 4,
     "metadata": {
      "tags": []
     },
     "output_type": "execute_result"
    }
   ],
   "source": [
    "dataStar['Spectral Class'].value_counts()"
   ]
  },
  {
   "cell_type": "markdown",
   "metadata": {
    "id": "qctC3T6UNWau"
   },
   "source": [
    "Com certeza devemos usar `Star type` como nosso label para classificação, por conta da distribuição igual de dados que foi apresentada, diferentemente das outras variáveis que contam com valores que aparecem somente uma vez. O dataset foi feito justamente para a classificação considerando os tipos de estrelas, mas é interessante ter uma análise para entender o porquê disso."
   ]
  },
  {
   "cell_type": "markdown",
   "metadata": {
    "id": "lVVk-R8mfm8K"
   },
   "source": [
    "Dependendo da relação dessas variáveis que foram descartadas como possível label, podemos até usar usando a função do Pandas [get_dummies](https://pandas.pydata.org/pandas-docs/stable/reference/api/pandas.get_dummies.html) para transformar facilmente em valores binários por coluna. Porém, para fácil visualização na tabela, será usado apenas uma coluna com essa ideia de ter valores inteiro usando a [biblioteca do sklearn](https://scikit-learn.org/stable/modules/generated/sklearn.preprocessing.LabelEncoder.html) própria pra isso."
   ]
  },
  {
   "cell_type": "code",
   "execution_count": 5,
   "metadata": {
    "colab": {
     "base_uri": "https://localhost:8080/",
     "height": 206
    },
    "id": "ezcJIEN0HJcU",
    "outputId": "28fe2f8e-6dd0-4e3b-d0c3-93e2304621eb"
   },
   "outputs": [
    {
     "data": {
      "text/html": [
       "<div>\n",
       "<style scoped>\n",
       "    .dataframe tbody tr th:only-of-type {\n",
       "        vertical-align: middle;\n",
       "    }\n",
       "\n",
       "    .dataframe tbody tr th {\n",
       "        vertical-align: top;\n",
       "    }\n",
       "\n",
       "    .dataframe thead th {\n",
       "        text-align: right;\n",
       "    }\n",
       "</style>\n",
       "<table border=\"1\" class=\"dataframe\">\n",
       "  <thead>\n",
       "    <tr style=\"text-align: right;\">\n",
       "      <th></th>\n",
       "      <th>Temperature (K)</th>\n",
       "      <th>Luminosity(L/Lo)</th>\n",
       "      <th>Radius(R/Ro)</th>\n",
       "      <th>Absolute magnitude(Mv)</th>\n",
       "      <th>Star type</th>\n",
       "      <th>Star color</th>\n",
       "      <th>Spectral Class</th>\n",
       "    </tr>\n",
       "  </thead>\n",
       "  <tbody>\n",
       "    <tr>\n",
       "      <th>14</th>\n",
       "      <td>2650</td>\n",
       "      <td>0.00060</td>\n",
       "      <td>0.1400</td>\n",
       "      <td>11.782</td>\n",
       "      <td>1</td>\n",
       "      <td>10</td>\n",
       "      <td>5</td>\n",
       "    </tr>\n",
       "    <tr>\n",
       "      <th>229</th>\n",
       "      <td>21738</td>\n",
       "      <td>748890.00000</td>\n",
       "      <td>92.0000</td>\n",
       "      <td>-7.346</td>\n",
       "      <td>4</td>\n",
       "      <td>0</td>\n",
       "      <td>6</td>\n",
       "    </tr>\n",
       "    <tr>\n",
       "      <th>99</th>\n",
       "      <td>36108</td>\n",
       "      <td>198000.00000</td>\n",
       "      <td>10.2000</td>\n",
       "      <td>-4.400</td>\n",
       "      <td>3</td>\n",
       "      <td>0</td>\n",
       "      <td>6</td>\n",
       "    </tr>\n",
       "    <tr>\n",
       "      <th>133</th>\n",
       "      <td>2989</td>\n",
       "      <td>0.00870</td>\n",
       "      <td>0.3400</td>\n",
       "      <td>13.120</td>\n",
       "      <td>1</td>\n",
       "      <td>10</td>\n",
       "      <td>5</td>\n",
       "    </tr>\n",
       "    <tr>\n",
       "      <th>87</th>\n",
       "      <td>10980</td>\n",
       "      <td>0.00074</td>\n",
       "      <td>0.0087</td>\n",
       "      <td>11.190</td>\n",
       "      <td>2</td>\n",
       "      <td>2</td>\n",
       "      <td>1</td>\n",
       "    </tr>\n",
       "  </tbody>\n",
       "</table>\n",
       "</div>"
      ],
      "text/plain": [
       "     Temperature (K)  Luminosity(L/Lo)  ...  Star color  Spectral Class\n",
       "14              2650           0.00060  ...          10               5\n",
       "229            21738      748890.00000  ...           0               6\n",
       "99             36108      198000.00000  ...           0               6\n",
       "133             2989           0.00870  ...          10               5\n",
       "87             10980           0.00074  ...           2               1\n",
       "\n",
       "[5 rows x 7 columns]"
      ]
     },
     "execution_count": 5,
     "metadata": {
      "tags": []
     },
     "output_type": "execute_result"
    }
   ],
   "source": [
    "dataConcat = dataStar.copy()\n",
    "\n",
    "# Método usando get_dummies para várias colunas\n",
    "\n",
    "#Spectral = pd.get_dummies(dataConcat['Spectral Class'], drop_first=True)\n",
    "#dataConcat.drop('Spectral Class',axis=1,inplace=True)\n",
    "#dataConcat = pd.concat([dataConcat, Spectral],axis=1)\n",
    "\n",
    "#Color = pd.get_dummies(dataConcat['Star color'], drop_first=True)\n",
    "#dataConcat.drop('Star color',axis=1,inplace=True)\n",
    "#dataConcat = pd.concat([dataConcat, Color],axis=1)\n",
    "\n",
    "# Metodo com LabelEncoder\n",
    "\n",
    "from sklearn.preprocessing import LabelEncoder\n",
    "\n",
    "le = LabelEncoder()\n",
    "\n",
    "for i in list(dataConcat.columns):\n",
    "    if dataConcat[i].dtype=='object':\n",
    "        dataConcat[i]=le.fit_transform(dataConcat[i])\n",
    "\n",
    "dataConcat.sample(5)"
   ]
  },
  {
   "cell_type": "markdown",
   "metadata": {
    "id": "it_ihnUXefnU"
   },
   "source": [
    "Vamos pegar as classes nessa variável `Star type`."
   ]
  },
  {
   "cell_type": "code",
   "execution_count": 6,
   "metadata": {
    "colab": {
     "base_uri": "https://localhost:8080/"
    },
    "id": "FQTPEK08efFD",
    "outputId": "2ebceef9-1269-4d05-ae32-707aff60b159"
   },
   "outputs": [
    {
     "data": {
      "text/plain": [
       "array([0, 1, 2, 3, 4, 5])"
      ]
     },
     "execution_count": 6,
     "metadata": {
      "tags": []
     },
     "output_type": "execute_result"
    }
   ],
   "source": [
    "# Nomes das classes\n",
    "classes = np.array(pd.unique(dataConcat[dataConcat.columns[-3]]), dtype = np.int64)  \n",
    "\n",
    "# Atributos do dataset\n",
    "attributes = list(dataConcat.columns)\n",
    "\n",
    "classes"
   ]
  },
  {
   "cell_type": "markdown",
   "metadata": {
    "id": "GA4ZYraTlmm3"
   },
   "source": [
    "Vamos converter o data frame para um array numpy com a intenção de manipular melhor com bibliotecas próprias para a classificação."
   ]
  },
  {
   "cell_type": "code",
   "execution_count": 7,
   "metadata": {
    "colab": {
     "base_uri": "https://localhost:8080/"
    },
    "id": "Yaq1FNv1lnYI",
    "outputId": "e2aec176-90f7-4fab-e5b0-9ffe9c0c9540"
   },
   "outputs": [
    {
     "data": {
      "text/plain": [
       "array([[3.06800e+03, 2.40000e-03, 1.70000e-01, ..., 0.00000e+00,\n",
       "        1.00000e+01, 5.00000e+00],\n",
       "       [3.04200e+03, 5.00000e-04, 1.54200e-01, ..., 0.00000e+00,\n",
       "        1.00000e+01, 5.00000e+00],\n",
       "       [2.60000e+03, 3.00000e-04, 1.02000e-01, ..., 0.00000e+00,\n",
       "        1.00000e+01, 5.00000e+00],\n",
       "       ...,\n",
       "       [8.82900e+03, 5.37493e+05, 1.42300e+03, ..., 5.00000e+00,\n",
       "        1.10000e+01, 0.00000e+00],\n",
       "       [9.23500e+03, 4.04940e+05, 1.11200e+03, ..., 5.00000e+00,\n",
       "        1.10000e+01, 0.00000e+00],\n",
       "       [3.78820e+04, 2.94903e+05, 1.78300e+03, ..., 5.00000e+00,\n",
       "        0.00000e+00, 6.00000e+00]])"
      ]
     },
     "execution_count": 7,
     "metadata": {
      "tags": []
     },
     "output_type": "execute_result"
    }
   ],
   "source": [
    "data = dataConcat.to_numpy()\n",
    "data"
   ]
  },
  {
   "cell_type": "markdown",
   "metadata": {
    "id": "FOEpAKEMPtUc"
   },
   "source": [
    "Separando a variável para label com as features"
   ]
  },
  {
   "cell_type": "code",
   "execution_count": 8,
   "metadata": {
    "id": "Owzdy8XCd6Fq"
   },
   "outputs": [],
   "source": [
    "dataTrain = data\n",
    "y = dataTrain[:, 4] # Pega o label que iremos classificar, o tipo de estrela\n",
    "dataTrain = np.delete(dataTrain, 4, 1)\n",
    "X = dataTrain # Pega os valores que sobraram para a classificação das estrelas"
   ]
  },
  {
   "cell_type": "markdown",
   "metadata": {
    "id": "3iEkSdtXeYp0"
   },
   "source": [
    "Vamos normalizar os dados para evitar o efeito da escala dos atributos envolvidos."
   ]
  },
  {
   "cell_type": "code",
   "execution_count": 9,
   "metadata": {
    "id": "RfpHGOGJeYJ-"
   },
   "outputs": [],
   "source": [
    "from sklearn.preprocessing import StandardScaler\n",
    "scaler = StandardScaler().fit(X)\n",
    "X = scaler.transform(X)"
   ]
  },
  {
   "cell_type": "markdown",
   "metadata": {
    "id": "3VuBpCAkuuPA"
   },
   "source": [
    "Por fim, separando os dados de forma que tenha o conjunto de dados para treino e o conjunto de dados para teste para poder testar se o treino foi efetivo. Ou seja, esses dados servem para ver se foi possível generalizar o suficiente considerando que eles não estavam no conjunto de dados para treino, sendo totalmente novos."
   ]
  },
  {
   "cell_type": "code",
   "execution_count": 10,
   "metadata": {
    "id": "7rP-pWpIeeHO"
   },
   "outputs": [],
   "source": [
    "from sklearn.model_selection import train_test_split\n",
    "p = 0.8 # Fração de elementos que iremos usar no treinamento\n",
    "x_train, x_test, y_train, y_test = train_test_split(X, y, train_size = p, random_state = 42)"
   ]
  },
  {
   "cell_type": "markdown",
   "metadata": {
    "id": "C20fXq2hfyID"
   },
   "source": [
    "Para alguns casos, é interessante usar a ideia de [Feature Selection](https://scikit-learn.org/stable/modules/feature_selection.html) para escolhermos as variáveis que realmente nos ajude a obter uma melhor classificação. Se a nossa classificação não lidasse com uma variável categórica, poderíamos até trabalhar com a ideia de observar as variáveis com a melhor [correlação com a variável target](https://towardsdatascience.com/feature-selection-with-pandas-e3690ad8504b) para a filtragem. Vamos analisar a [informação mútua](https://en.wikipedia.org/wiki/Mutual_information) entre as variáveis."
   ]
  },
  {
   "cell_type": "code",
   "execution_count": 11,
   "metadata": {
    "colab": {
     "base_uri": "https://localhost:8080/"
    },
    "id": "ThKE_zv_LtX5",
    "outputId": "7297e08b-021c-4c75-990c-379eaee54063"
   },
   "outputs": [
    {
     "name": "stdout",
     "output_type": "stream",
     "text": [
      " Temperature (K): 0.646572\n",
      " Luminosity(L/Lo): 1.038117\n",
      " Radius(R/Ro): 1.720290\n",
      " Absolute magnitude(Mv): 1.562487\n",
      " Star color: 0.757721\n",
      " Spectral Class: 0.654744\n"
     ]
    }
   ],
   "source": [
    "from sklearn.feature_selection import SelectKBest, chi2\n",
    "from sklearn import feature_selection\n",
    "\n",
    "sf = SelectKBest(score_func = feature_selection.mutual_info_classif, k='all')\n",
    "\n",
    "features = np.delete(attributes, 4)\n",
    "\n",
    "x_t = x_train.copy()\n",
    "y_t = y_train.copy()\n",
    "\n",
    "sf_fit = sf.fit(x_train, y_train)\n",
    "\n",
    "for i in range(len(sf_fit.scores_)):\n",
    "    print(' %s: %f' % (features[i], sf_fit.scores_[i]))"
   ]
  },
  {
   "cell_type": "markdown",
   "metadata": {
    "id": "xI13jrserHFe"
   },
   "source": [
    "Vamos colocar as features em ordem descendente dos scores obtidos."
   ]
  },
  {
   "cell_type": "code",
   "execution_count": 12,
   "metadata": {
    "colab": {
     "base_uri": "https://localhost:8080/",
     "height": 238
    },
    "id": "2ZQLi9GxPaUr",
    "outputId": "2a283427-ac52-4b2c-d3e8-34c3b5c8a4c8"
   },
   "outputs": [
    {
     "data": {
      "text/html": [
       "<div>\n",
       "<style scoped>\n",
       "    .dataframe tbody tr th:only-of-type {\n",
       "        vertical-align: middle;\n",
       "    }\n",
       "\n",
       "    .dataframe tbody tr th {\n",
       "        vertical-align: top;\n",
       "    }\n",
       "\n",
       "    .dataframe thead th {\n",
       "        text-align: right;\n",
       "    }\n",
       "</style>\n",
       "<table border=\"1\" class=\"dataframe\">\n",
       "  <thead>\n",
       "    <tr style=\"text-align: right;\">\n",
       "      <th></th>\n",
       "      <th>feature</th>\n",
       "      <th>scores</th>\n",
       "    </tr>\n",
       "  </thead>\n",
       "  <tbody>\n",
       "    <tr>\n",
       "      <th>2</th>\n",
       "      <td>Radius(R/Ro)</td>\n",
       "      <td>1.720290</td>\n",
       "    </tr>\n",
       "    <tr>\n",
       "      <th>3</th>\n",
       "      <td>Absolute magnitude(Mv)</td>\n",
       "      <td>1.562487</td>\n",
       "    </tr>\n",
       "    <tr>\n",
       "      <th>1</th>\n",
       "      <td>Luminosity(L/Lo)</td>\n",
       "      <td>1.038117</td>\n",
       "    </tr>\n",
       "    <tr>\n",
       "      <th>4</th>\n",
       "      <td>Star color</td>\n",
       "      <td>0.757721</td>\n",
       "    </tr>\n",
       "    <tr>\n",
       "      <th>5</th>\n",
       "      <td>Spectral Class</td>\n",
       "      <td>0.654744</td>\n",
       "    </tr>\n",
       "    <tr>\n",
       "      <th>0</th>\n",
       "      <td>Temperature (K)</td>\n",
       "      <td>0.646572</td>\n",
       "    </tr>\n",
       "  </tbody>\n",
       "</table>\n",
       "</div>"
      ],
      "text/plain": [
       "                  feature    scores\n",
       "2            Radius(R/Ro)  1.720290\n",
       "3  Absolute magnitude(Mv)  1.562487\n",
       "1        Luminosity(L/Lo)  1.038117\n",
       "4              Star color  0.757721\n",
       "5          Spectral Class  0.654744\n",
       "0         Temperature (K)  0.646572"
      ]
     },
     "execution_count": 12,
     "metadata": {
      "tags": []
     },
     "output_type": "execute_result"
    }
   ],
   "source": [
    "bestFeatures = pd.DataFrame()\n",
    "bestFeatures['feature'] = features[range(len(sf_fit.scores_))]\n",
    "bestFeatures['scores'] = sf_fit.scores_\n",
    "bestFeatures = bestFeatures.sort_values(by='scores', ascending = False)\n",
    "bestFeatures"
   ]
  },
  {
   "cell_type": "markdown",
   "metadata": {
    "id": "i4RE4SjMQR0H"
   },
   "source": [
    "Após alguns testes com as features de melhores scores, foi visto que todas são adequadas ao nosso problema de classificação, tendo bons valores de acurácia para os três classificadores que vamos usar. Vamos usar todas as variáveis."
   ]
  },
  {
   "cell_type": "code",
   "execution_count": 13,
   "metadata": {
    "id": "YQQJf9X1QoYW"
   },
   "outputs": [],
   "source": [
    "dataTrain = data\n",
    "y = dataTrain[:, 4] # Pega o label que iremos classificar, o tipo de estrela\n",
    "dataTrain = np.delete(dataTrain, 4, 1) # Apaga coluna com a label\n",
    "\n",
    "X = dataTrain # Pega os valores que sobraram para a classificação das estrelas\n",
    "\n",
    "scaler = StandardScaler().fit(X)\n",
    "X = scaler.transform(X)\n",
    "\n",
    "p = 0.8 # Fração de elementos que iremos usar no treinamento\n",
    "x_train, x_test, y_train, y_test = train_test_split(X, y, train_size = p, random_state = 42)"
   ]
  },
  {
   "cell_type": "markdown",
   "metadata": {
    "id": "RippZrD4etm6"
   },
   "source": [
    "#### Classificador Bayesiano paramétrico"
   ]
  },
  {
   "cell_type": "markdown",
   "metadata": {
    "id": "JnwraB0vjPZU"
   },
   "source": [
    "Vamos realizar propriamente a classificação que utiliza propriamente da ideia de encontrar a função densidade de probabilidade da [distribuição normal multivariada](https://docs.scipy.org/doc/scipy-0.14.0/reference/generated/scipy.stats.multivariate_normal.html) do conjunto X, os dados escolhidos para o treino."
   ]
  },
  {
   "cell_type": "code",
   "execution_count": 14,
   "metadata": {
    "id": "ZVhTkF57etug"
   },
   "outputs": [],
   "source": [
    "from scipy.stats import multivariate_normal\n",
    "\n",
    "# P irá guardar a probabilidade para as linhas e colunas\n",
    "P = pd.DataFrame(data = np.zeros((x_test.shape[0], len(classes))), columns = classes) \n",
    "\n",
    "Pc = np.zeros(len(classes)) # A fração de elementos em cada classe\n",
    "for i in np.arange(0, len(classes)):\n",
    "    elements = tuple(np.where(y_train == classes[i]))\n",
    "    Pc[i] = len(elements)/len(y_train)\n",
    "    Z = x_train[elements,:][0]\n",
    "    m = np.mean(Z, axis = 0)\n",
    "    cv = np.cov(np.transpose(Z)) # Matriz de covariância da distribuição\n",
    "    for j in np.arange(0,x_test.shape[0]):\n",
    "        x = x_test[j,:]\n",
    "        pj = multivariate_normal.pdf(x, mean=m, cov=cv, allow_singular=True)\n",
    "        P[classes[i]][j] = pj*Pc[i]"
   ]
  },
  {
   "cell_type": "markdown",
   "metadata": {
    "id": "y9LF3nC-k-0y"
   },
   "source": [
    "Gerado o modelo podemos testar com a distribuição guardada para testes com o intuito de validar o modelo e verificar sua acurácia."
   ]
  },
  {
   "cell_type": "code",
   "execution_count": 15,
   "metadata": {
    "colab": {
     "base_uri": "https://localhost:8080/"
    },
    "id": "esJvGzdBsxa-",
    "outputId": "b98a8dd6-68cd-41ff-e500-6cdaa90b8fbe"
   },
   "outputs": [
    {
     "name": "stdout",
     "output_type": "stream",
     "text": [
      "Acurácia da classificação Bayesiana paramétrica: 0.9583333333333334\n"
     ]
    }
   ],
   "source": [
    "from sklearn.metrics import accuracy_score\n",
    "\n",
    "y_pred = []\n",
    "\n",
    "for i in np.arange(0, x_test.shape[0]):\n",
    "    c = np.argmax(np.array(P.iloc[[i]])) # Pega a classe/coluna com maior chance de ser\n",
    "    y_pred.append(classes[c])\n",
    "\n",
    "y_pred = np.array(y_pred, dtype = np.int64)\n",
    "\n",
    "score = accuracy_score(y_pred, y_test)\n",
    "print('Acurácia da classificação Bayesiana paramétrica:', score)"
   ]
  },
  {
   "cell_type": "markdown",
   "metadata": {
    "id": "H26SDNWEvkTG"
   },
   "source": [
    "#### Classificador Bayesiano não-paramétrico"
   ]
  },
  {
   "cell_type": "markdown",
   "metadata": {
    "id": "4njqMca7mRi4"
   },
   "source": [
    "Com um estimador não-paramétrico, consideramos que não conhecemos a função de distribuição dos nossos dados, não conhecendo os parâmetros envolvidos. Praticamente vai envolver a criação e convolução de distribuições normais acerca de um conjunto dos nossos dados com a intenção de achar curvas que irão ajudar na classificação. Vamos usar do kernel de gaussiana da [biblioteca do sklearn](https://scikit-learn.org/stable/modules/generated/sklearn.neighbors.KernelDensity.html)."
   ]
  },
  {
   "cell_type": "code",
   "execution_count": 16,
   "metadata": {
    "id": "n62lCI21vqum"
   },
   "outputs": [],
   "source": [
    "from sklearn.neighbors import KernelDensity\n",
    "\n",
    "P = pd.DataFrame(data=np.zeros((x_test.shape[0], len(classes))), columns = classes) \n",
    "Pc = np.zeros(len(classes)) \n",
    "\n",
    "h = 1 # Esse valor será melhor discutido no próximo exercício\n",
    "\n",
    "for i in np.arange(0, len(classes)): \n",
    "    elements = tuple(np.where(y_train == classes[i])) \n",
    "    Pc[i] = len(elements)/len(y_train) \n",
    "    Z = x_train[elements,:][0] \n",
    "    kde = KernelDensity(kernel='gaussian', bandwidth=h).fit(Z)\n",
    "    for j in np.arange(0,x_test.shape[0]): \n",
    "        x = x_test[j,:]\n",
    "        x = x.reshape((1,len(x)))\n",
    "        pj = np.exp(kde.score_samples(x)) \n",
    "        P[classes[i]][j] = pj*Pc[i]"
   ]
  },
  {
   "cell_type": "markdown",
   "metadata": {
    "id": "Hu6XcqYvqNQV"
   },
   "source": [
    "A variável `h` usada no código tem uma relevância importante com a possibilidade de formarmos curvas suscetíveis a ruídos, menos suave (overfitting), sendo valores mais baixos, e também curvas que podemos perder mais dados, mais suave (underfitting), sendo valores mais altos. Por isso devemos sempre focar em achar um valor razoável. Isso será melhor discutido no próximo exercício usando desse mesmo conjunto de dados."
   ]
  },
  {
   "cell_type": "markdown",
   "metadata": {
    "id": "IT3p-b12rzEp"
   },
   "source": [
    "Vamos, por fim, calcular a acurácia da forma que fizemos anteriormente."
   ]
  },
  {
   "cell_type": "code",
   "execution_count": 17,
   "metadata": {
    "colab": {
     "base_uri": "https://localhost:8080/"
    },
    "id": "hzW_FELyvwI2",
    "outputId": "48f46ee9-52e5-4971-f685-4683047255a5"
   },
   "outputs": [
    {
     "name": "stdout",
     "output_type": "stream",
     "text": [
      "Acurácia da classificação Bayesiana não-paramétrica: 0.9375\n"
     ]
    }
   ],
   "source": [
    "from sklearn.metrics import accuracy_score\n",
    "\n",
    "y_pred = [] \n",
    "\n",
    "for i in np.arange(0, x_test.shape[0]):\n",
    "    c = np.argmax(np.array(P.iloc[[i]]))\n",
    "    y_pred.append(classes[c])\n",
    "\n",
    "y_pred = np.array(y_pred, dtype = np.int64)\n",
    "\n",
    "score = accuracy_score(y_pred, y_test)\n",
    "\n",
    "print('Acurácia da classificação Bayesiana não-paramétrica:', score)"
   ]
  },
  {
   "cell_type": "markdown",
   "metadata": {
    "id": "pTGKu51Gs8u3"
   },
   "source": [
    "#### Classificador Naive Bayes"
   ]
  },
  {
   "cell_type": "markdown",
   "metadata": {
    "id": "cHQ6U043yhLB"
   },
   "source": [
    "Esse tipo de classificador usa da teoria Bayesiana mas considerando a hipótese \"naive\" que os atributos trabalhados são independentes. Vamos usar da [implementação do próprio sklearn](https://scikit-learn.org/stable/modules/generated/sklearn.naive_bayes.GaussianNB.html) que considera os dados já em uma distribuição normal (existem funções da biblioteca de Naive Bayes que lida com outras distribuições)."
   ]
  },
  {
   "cell_type": "code",
   "execution_count": 18,
   "metadata": {
    "colab": {
     "base_uri": "https://localhost:8080/"
    },
    "id": "NNvVx-FW_31k",
    "outputId": "65f81030-4f56-47da-fafb-3447bc463535"
   },
   "outputs": [
    {
     "name": "stdout",
     "output_type": "stream",
     "text": [
      "Acurácia da classificação Naive Bayes: 0.9583333333333334\n"
     ]
    }
   ],
   "source": [
    "from sklearn.naive_bayes import GaussianNB\n",
    "from sklearn import metrics\n",
    "\n",
    "model = GaussianNB()\n",
    "model.fit(x_train, y_train)\n",
    "\n",
    "y_pred = model.predict(x_test)\n",
    "score = accuracy_score(y_pred, y_test)\n",
    "\n",
    "print('Acurácia da classificação Naive Bayes:', score)"
   ]
  },
  {
   "cell_type": "markdown",
   "metadata": {
    "id": "_cM-wM8dCIL8"
   },
   "source": [
    "É interessante notar que o classificador Naive Bayes funciona muito bem para aplicações do mundo real, mas parece [não funcionar tão bem como estimador](https://scikit-learn.org/stable/modules/naive_bayes.html), então sempre é interessante comparar com outros classificadores para escolhermos nossa opção dependendo do nosso conjunto de dados."
   ]
  },
  {
   "cell_type": "markdown",
   "metadata": {
    "id": "e8ojsnyffsOA"
   },
   "source": [
    "### <a name=\"ex2\"></a> 2 - No classificar não-paramétrico, verifique o efeito do hiperparâmetro h na classificação dos dados de diabetes, encontrando seu melhor valor: https://www.kaggle.com/uciml/pima-indians-diabetes-database\n"
   ]
  },
  {
   "cell_type": "markdown",
   "metadata": {
    "id": "X41GGhBAJJYW"
   },
   "source": [
    "Vamos trabalhar com o mesmo conjunto de dados do exercício anterior, [*Star dataset to predict star types*](https://www.kaggle.com/deepu1109/star-dataset). Vamos primeiro carregar os dados novamente."
   ]
  },
  {
   "cell_type": "code",
   "execution_count": 19,
   "metadata": {
    "id": "bB7fDStO0iiN"
   },
   "outputs": [],
   "source": [
    "import numpy as np\n",
    "import matplotlib.mlab as mlab\n",
    "import matplotlib.pyplot as plt\n",
    "import seaborn as sns\n",
    "import pandas as pd\n",
    "\n",
    "dataStar = pd.read_csv('https://raw.githubusercontent.com/brenoslivio/SME0828_DataScience/master/Projects/data/starsDataset.csv', \n",
    "        dtype={\n",
    "          \"Temperature (K)\": np.int64,\n",
    "          \"Luminosity(L/Lo)\": np.float64,\n",
    "          \"Radius(R/Ro)\": np.float64,\n",
    "          \"Absolute magnitude(Mv)\": np.float64,\n",
    "          \"Star type\": np.int64,\n",
    "          \"Star color\": str,\n",
    "          \"Spectral Class\": str\n",
    "        },\n",
    "        na_values=\"\",)\n",
    "\n",
    "dataStar.replace(\"\", np.nan, inplace=True)\n",
    "\n",
    "dataStar.dropna(inplace=True)\n",
    "\n",
    "dataConcat = dataStar.copy()\n",
    "\n",
    "from sklearn.preprocessing import LabelEncoder\n",
    "le = LabelEncoder()\n",
    "\n",
    "for i in list(dataConcat.columns):\n",
    "    if dataConcat[i].dtype=='object':\n",
    "        dataConcat[i]=le.fit_transform(dataConcat[i])\n",
    "\n",
    "classes = np.array(pd.unique(dataConcat[dataConcat.columns[-3]]), dtype=str) \n",
    "\n",
    "data = dataConcat.to_numpy()\n",
    "\n",
    "dataTrain = data\n",
    "y = dataTrain[:, 4] # Pega o label que iremos classificar, o tipo de estrela\n",
    "dataTrain = np.delete(dataTrain, 4, 1)\n",
    "X = dataTrain # Pega os valores que sobraram para a classificação das estrelas"
   ]
  },
  {
   "cell_type": "markdown",
   "metadata": {
    "id": "7AJh2Hl2JcJ-"
   },
   "source": [
    "Para definir o melhor valor para o hiperparâmetro `h` na classificação Bayesiana não-paramétrica precisamos entender como é a disposição das distribuições gaussianas realizadas com o intuito de encontrar as probabilidades para a classificação. O hiperparâmetro acaba controlando a abertura da função, e como já falado anteriomente, quanto menor for, por mais que a acurácia geralmente aumente, a classificação fica suscetível a ruídos. E se o valor for muito alto, podemos perder até dados relevantes. Vamos então explorar como algumas variáveis usadas na classificação se comportam com a mudança desse valor."
   ]
  },
  {
   "cell_type": "code",
   "execution_count": 20,
   "metadata": {
    "colab": {
     "base_uri": "https://localhost:8080/",
     "height": 268
    },
    "id": "7uvj-Xeovxe_",
    "outputId": "fa805fbb-fc0a-4a2d-f2d2-a881fbbc1507"
   },
   "outputs": [
    {
     "data": {
      "image/png": "[encoded data removed]",
      "text/plain": [
       "<Figure size 864x288 with 1 Axes>"
      ]
     },
     "metadata": {
      "needs_background": "light",
      "tags": []
     },
     "output_type": "display_data"
    }
   ],
   "source": [
    "import numpy as np\n",
    "from matplotlib.pyplot import cm\n",
    "from sklearn.neighbors import KernelDensity\n",
    "\n",
    "color=['red', 'blue', 'black', 'gray', 'green', 'lightblue']\n",
    "\n",
    "X_Feat = X[:, 0]\n",
    "X_Feat = X_Feat.reshape((len(X_Feat), 1))\n",
    "\n",
    "X_plot = np.linspace(np.min(X_Feat), np.max(X_Feat), 100000)[:, np.newaxis]\n",
    "\n",
    "plt.figure(figsize=(12,4))\n",
    "plt.plot(X_Feat, 0.001*np.ones(X_Feat.shape[0]), 'ok')\n",
    "plt.xlim((3580, 3650))\n",
    "\n",
    "c = 0 \n",
    "\n",
    "vh = [0.1, 0.5, 1, 2, 5, 10]\n",
    "\n",
    "for h in vh:\n",
    "    kde = KernelDensity(kernel='gaussian', bandwidth=h).fit(X_Feat)\n",
    "    log_dens = np.exp(kde.score_samples(X_plot)) # score_samples() returns the log density.\n",
    "    plt.plot(X_plot,log_dens, color = color[c], linewidth=2, label = 'h='+str(h))\n",
    "    c = c + 1\n",
    "\n",
    "plt.ylabel('P(x)', fontsize = 20)\n",
    "plt.xticks(fontsize=12)\n",
    "plt.yticks(fontsize=12)\n",
    "plt.legend(fontsize = 10)\n",
    "plt.show(True)"
   ]
  },
  {
   "cell_type": "markdown",
   "metadata": {
    "id": "C6KaUdQcK0NL"
   },
   "source": [
    "Note que com valor de `h = 0.1` temos uma curva pouco suave, considerando apenas um dado de forma individual para a distribuição gaussiana. Valores entre `h = 1` e `h = 2` parecem abranger de forma mais suave os dados."
   ]
  },
  {
   "cell_type": "code",
   "execution_count": 21,
   "metadata": {
    "colab": {
     "base_uri": "https://localhost:8080/",
     "height": 268
    },
    "id": "O3bRdBcaHLBX",
    "outputId": "8c567db2-d60a-40a1-ece8-6e673db80216"
   },
   "outputs": [
    {
     "data": {
      "image/png": "[encoded data removed]",
      "text/plain": [
       "<Figure size 864x288 with 1 Axes>"
      ]
     },
     "metadata": {
      "needs_background": "light",
      "tags": []
     },
     "output_type": "display_data"
    }
   ],
   "source": [
    "import numpy as np\n",
    "from matplotlib.pyplot import cm\n",
    "from sklearn.neighbors import KernelDensity\n",
    "\n",
    "color=['red', 'blue', 'black', 'gray', 'green', 'lightblue']\n",
    "\n",
    "X_Feat = X[:, 2]\n",
    "X_Feat = X_Feat.reshape((len(X_Feat), 1))\n",
    "\n",
    "X_plot = np.linspace(np.min(X_Feat), np.max(X_Feat), 100000)[:, np.newaxis]\n",
    "\n",
    "plt.figure(figsize=(12,4))\n",
    "plt.plot(X_Feat, 0.001*np.ones(X_Feat.shape[0]), 'ok')\n",
    "plt.xlim((0, 5))\n",
    "\n",
    "c = 0 \n",
    "\n",
    "vh = [0.1, 0.5, 1, 2, 5, 10]\n",
    "\n",
    "for h in vh:\n",
    "    kde = KernelDensity(kernel='gaussian', bandwidth=h).fit(X_Feat)\n",
    "    log_dens = np.exp(kde.score_samples(X_plot)) # score_samples() returns the log density.\n",
    "    plt.plot(X_plot,log_dens, color = color[c], linewidth=2, label = 'h='+str(h))\n",
    "    c = c + 1\n",
    "\n",
    "plt.ylabel('P(x)', fontsize = 20)\n",
    "plt.xticks(fontsize=12)\n",
    "plt.yticks(fontsize=12)\n",
    "plt.legend(fontsize = 10)\n",
    "plt.show(True)"
   ]
  },
  {
   "cell_type": "markdown",
   "metadata": {
    "id": "VUQvitjmLb7C"
   },
   "source": [
    "Para essa outra variável, note como o valor de `h = 0.1` deixa a curva tão alta que temos valores que passam de `P(X) = 1`."
   ]
  },
  {
   "cell_type": "code",
   "execution_count": 22,
   "metadata": {
    "colab": {
     "base_uri": "https://localhost:8080/",
     "height": 268
    },
    "id": "XBQVBdXkL86t",
    "outputId": "19b98fec-2226-4082-b18b-4d5643120e13"
   },
   "outputs": [
    {
     "data": {
      "image/png": "[encoded data removed]",
      "text/plain": [
       "<Figure size 864x288 with 1 Axes>"
      ]
     },
     "metadata": {
      "needs_background": "light",
      "tags": []
     },
     "output_type": "display_data"
    }
   ],
   "source": [
    "import numpy as np\n",
    "from matplotlib.pyplot import cm\n",
    "from sklearn.neighbors import KernelDensity\n",
    "\n",
    "color=['red', 'blue', 'black', 'gray', 'green', 'lightblue']\n",
    "\n",
    "X_Feat = X[:, 3]\n",
    "X_Feat = X_Feat.reshape((len(X_Feat), 1))\n",
    "\n",
    "X_plot = np.linspace(np.min(X_Feat), np.max(X_Feat), 100000)[:, np.newaxis]\n",
    "\n",
    "plt.figure(figsize=(12,4))\n",
    "plt.plot(X_Feat, 0.001*np.ones(X_Feat.shape[0]), 'ok')\n",
    "\n",
    "c = 0 \n",
    "\n",
    "vh = [0.1, 0.5, 1, 2, 5, 10]\n",
    "\n",
    "for h in vh:\n",
    "    kde = KernelDensity(kernel='gaussian', bandwidth=h).fit(X_Feat)\n",
    "    log_dens = np.exp(kde.score_samples(X_plot)) # score_samples() returns the log density.\n",
    "    plt.plot(X_plot,log_dens, color = color[c], linewidth=2, label = 'h='+str(h))\n",
    "    c = c + 1\n",
    "\n",
    "plt.ylabel('P(x)', fontsize = 20)\n",
    "plt.xticks(fontsize=12)\n",
    "plt.yticks(fontsize=12)\n",
    "plt.legend(fontsize = 10)\n",
    "plt.show(True)"
   ]
  },
  {
   "cell_type": "markdown",
   "metadata": {
    "id": "YT-5ZFaUMKRx"
   },
   "source": [
    "Para essa outra variável, vemos a mesma ideia ocorrendo. Um valor de h razoável seria algo como `h = 1` para a estimação. Entretanto a discussão sobre esse melhor valor realmente não é tão trivial e pode ter [discussões mais profundas](https://arxiv.org/pdf/math/0504511.pdf) para essa decisão."
   ]
  },
  {
   "cell_type": "markdown",
   "metadata": {},
   "source": [
    "### 8 - Considere as bases:  Vehicle, winequality-red e vertebralcolumn-3C. Compare os classificadores:  (a) Naive Bayes, (b) Florestas aleatórias, (c) k-vizinhos, (d) regressão logística. Considere as medidas: (i) AUC (área sob a curva ROC), (ii) precisão, (iii) medida F1 e (iv) acurácia.  Ou seja, faça uma tabela para cada base, onde aslinhas representam os classificadores e as colunas, as medidas de avaliação."
   ]
  },
  {
   "cell_type": "markdown",
   "metadata": {},
   "source": [
    "#### Vehicle dataset"
   ]
  },
  {
   "cell_type": "code",
   "execution_count": 4,
   "metadata": {},
   "outputs": [
    {
     "data": {
      "text/html": [
       "<div>\n",
       "<style scoped>\n",
       "    .dataframe tbody tr th:only-of-type {\n",
       "        vertical-align: middle;\n",
       "    }\n",
       "\n",
       "    .dataframe tbody tr th {\n",
       "        vertical-align: top;\n",
       "    }\n",
       "\n",
       "    .dataframe thead th {\n",
       "        text-align: right;\n",
       "    }\n",
       "</style>\n",
       "<table border=\"1\" class=\"dataframe\">\n",
       "  <thead>\n",
       "    <tr style=\"text-align: right;\">\n",
       "      <th></th>\n",
       "      <th>Comp</th>\n",
       "      <th>Circ</th>\n",
       "      <th>D.Circ</th>\n",
       "      <th>Rad.Ra</th>\n",
       "      <th>Pr.Axis.Ra</th>\n",
       "      <th>Max.L.Ra</th>\n",
       "      <th>Scat.Ra</th>\n",
       "      <th>Elong</th>\n",
       "      <th>Pr.Axis.Rect</th>\n",
       "      <th>Max.L.Rect</th>\n",
       "      <th>Sc.Var.Maxis</th>\n",
       "      <th>Sc.Var.maxis</th>\n",
       "      <th>Ra.Gyr</th>\n",
       "      <th>Skew.Maxis</th>\n",
       "      <th>Skew.maxis</th>\n",
       "      <th>Kurt.maxis</th>\n",
       "      <th>Kurt.Maxis</th>\n",
       "      <th>Holl.Ra</th>\n",
       "      <th>Class</th>\n",
       "    </tr>\n",
       "  </thead>\n",
       "  <tbody>\n",
       "    <tr>\n",
       "      <th>620</th>\n",
       "      <td>108</td>\n",
       "      <td>56</td>\n",
       "      <td>103</td>\n",
       "      <td>234</td>\n",
       "      <td>73</td>\n",
       "      <td>10</td>\n",
       "      <td>221</td>\n",
       "      <td>30</td>\n",
       "      <td>25</td>\n",
       "      <td>174</td>\n",
       "      <td>232</td>\n",
       "      <td>718</td>\n",
       "      <td>214</td>\n",
       "      <td>73</td>\n",
       "      <td>8</td>\n",
       "      <td>3</td>\n",
       "      <td>187</td>\n",
       "      <td>197</td>\n",
       "      <td>saab</td>\n",
       "    </tr>\n",
       "    <tr>\n",
       "      <th>629</th>\n",
       "      <td>90</td>\n",
       "      <td>42</td>\n",
       "      <td>63</td>\n",
       "      <td>144</td>\n",
       "      <td>59</td>\n",
       "      <td>7</td>\n",
       "      <td>131</td>\n",
       "      <td>50</td>\n",
       "      <td>18</td>\n",
       "      <td>142</td>\n",
       "      <td>154</td>\n",
       "      <td>259</td>\n",
       "      <td>162</td>\n",
       "      <td>65</td>\n",
       "      <td>15</td>\n",
       "      <td>3</td>\n",
       "      <td>197</td>\n",
       "      <td>204</td>\n",
       "      <td>van</td>\n",
       "    </tr>\n",
       "    <tr>\n",
       "      <th>683</th>\n",
       "      <td>110</td>\n",
       "      <td>56</td>\n",
       "      <td>109</td>\n",
       "      <td>199</td>\n",
       "      <td>57</td>\n",
       "      <td>5</td>\n",
       "      <td>251</td>\n",
       "      <td>27</td>\n",
       "      <td>27</td>\n",
       "      <td>169</td>\n",
       "      <td>272</td>\n",
       "      <td>928</td>\n",
       "      <td>268</td>\n",
       "      <td>82</td>\n",
       "      <td>11</td>\n",
       "      <td>10</td>\n",
       "      <td>183</td>\n",
       "      <td>183</td>\n",
       "      <td>bus</td>\n",
       "    </tr>\n",
       "    <tr>\n",
       "      <th>48</th>\n",
       "      <td>89</td>\n",
       "      <td>47</td>\n",
       "      <td>81</td>\n",
       "      <td>147</td>\n",
       "      <td>64</td>\n",
       "      <td>11</td>\n",
       "      <td>156</td>\n",
       "      <td>44</td>\n",
       "      <td>20</td>\n",
       "      <td>163</td>\n",
       "      <td>170</td>\n",
       "      <td>352</td>\n",
       "      <td>188</td>\n",
       "      <td>76</td>\n",
       "      <td>6</td>\n",
       "      <td>13</td>\n",
       "      <td>184</td>\n",
       "      <td>193</td>\n",
       "      <td>van</td>\n",
       "    </tr>\n",
       "    <tr>\n",
       "      <th>649</th>\n",
       "      <td>89</td>\n",
       "      <td>38</td>\n",
       "      <td>77</td>\n",
       "      <td>161</td>\n",
       "      <td>62</td>\n",
       "      <td>7</td>\n",
       "      <td>149</td>\n",
       "      <td>45</td>\n",
       "      <td>19</td>\n",
       "      <td>129</td>\n",
       "      <td>174</td>\n",
       "      <td>327</td>\n",
       "      <td>153</td>\n",
       "      <td>71</td>\n",
       "      <td>6</td>\n",
       "      <td>21</td>\n",
       "      <td>188</td>\n",
       "      <td>193</td>\n",
       "      <td>saab</td>\n",
       "    </tr>\n",
       "  </tbody>\n",
       "</table>\n",
       "</div>"
      ],
      "text/plain": [
       "     Comp  Circ  D.Circ  Rad.Ra  Pr.Axis.Ra  Max.L.Ra  Scat.Ra  Elong  \\\n",
       "620   108    56     103     234          73        10      221     30   \n",
       "629    90    42      63     144          59         7      131     50   \n",
       "683   110    56     109     199          57         5      251     27   \n",
       "48     89    47      81     147          64        11      156     44   \n",
       "649    89    38      77     161          62         7      149     45   \n",
       "\n",
       "     Pr.Axis.Rect  Max.L.Rect  Sc.Var.Maxis  Sc.Var.maxis  Ra.Gyr  Skew.Maxis  \\\n",
       "620            25         174           232           718     214          73   \n",
       "629            18         142           154           259     162          65   \n",
       "683            27         169           272           928     268          82   \n",
       "48             20         163           170           352     188          76   \n",
       "649            19         129           174           327     153          71   \n",
       "\n",
       "     Skew.maxis  Kurt.maxis  Kurt.Maxis  Holl.Ra Class  \n",
       "620           8           3         187      197  saab  \n",
       "629          15           3         197      204   van  \n",
       "683          11          10         183      183   bus  \n",
       "48            6          13         184      193   van  \n",
       "649           6          21         188      193  saab  "
      ]
     },
     "execution_count": 4,
     "metadata": {},
     "output_type": "execute_result"
    }
   ],
   "source": [
    "import pandas as pd\n",
    "import numpy as np\n",
    "\n",
    "dfVehicle = pd.read_csv('https://raw.githubusercontent.com/brenoslivio/SME0828_DataScience/master/Projects/data/Vehicle.csv', header = (0))\n",
    "\n",
    "dfVehicle['Class'] = pd.Categorical(dfVehicle['Class'])\n",
    "\n",
    "dfVehicle.sample(5)"
   ]
  },
  {
   "cell_type": "code",
   "execution_count": null,
   "metadata": {},
   "outputs": [],
   "source": []
  }
 ],
 "metadata": {
  "colab": {
   "include_colab_link": true,
   "name": "Projeto3_Classificacao.ipynb",
   "provenance": [],
   "toc_visible": true
  },
  "kernelspec": {
   "display_name": "Python 3",
   "language": "python",
   "name": "python3"
  },
  "language_info": {
   "codemirror_mode": {
    "name": "ipython",
    "version": 3
   },
   "file_extension": ".py",
   "mimetype": "text/x-python",
   "name": "python",
   "nbconvert_exporter": "python",
   "pygments_lexer": "ipython3",
   "version": "3.8.3"
  },
  "toc-autonumbering": false,
  "toc-showcode": false,
  "toc-showmarkdowntxt": false,
  "toc-showtags": false
 },
 "nbformat": 4,
 "nbformat_minor": 4
}
