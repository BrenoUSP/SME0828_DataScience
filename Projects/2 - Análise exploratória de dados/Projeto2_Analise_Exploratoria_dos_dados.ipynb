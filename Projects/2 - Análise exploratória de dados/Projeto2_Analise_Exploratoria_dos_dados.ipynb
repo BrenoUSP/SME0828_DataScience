{
  "nbformat": 4,
  "nbformat_minor": 0,
  "metadata": {
    "colab": {
      "name": "Projeto2_Analise_Exploratoria_dos_dados.ipynb",
      "provenance": [],
      "include_colab_link": true
    },
    "kernelspec": {
      "name": "python3",
      "display_name": "Python 3"
    }
  },
  "cells": [
    {
      "cell_type": "markdown",
      "metadata": {
        "id": "view-in-github",
        "colab_type": "text"
      },
      "source": [
        "<a href=\"https://colab.research.google.com/github/brenoslivio/SME0828_DataScience/blob/master/Projects/2%20-%20An%C3%A1lise%20explorat%C3%B3ria%20de%20dados/Projeto2_Analise_Exploratoria_dos_dados.ipynb\" target=\"_parent\"><img src=\"https://colab.research.google.com/assets/colab-badge.svg\" alt=\"Open In Colab\"/></a>"
      ]
    },
    {
      "cell_type": "markdown",
      "metadata": {
        "id": "LJ7wNY4Uefh6"
      },
      "source": [
        "# SME0828 - Introdução à Ciência de Dados\n",
        "# Projeto 2: Análise exploratória dos dados"
      ]
    },
    {
      "cell_type": "markdown",
      "metadata": {
        "id": "fscDWzEee1hv"
      },
      "source": [
        "### Alunos"
      ]
    },
    {
      "cell_type": "markdown",
      "metadata": {
        "id": "kIEYP_R3H6YU"
      },
      "source": [
        "Aline Fernanda da Conceição, Nº USP: 9437275\n",
        "\n",
        "Breno Lívio Silva de Almeida, Nº USP: 10276675\n",
        "\n",
        "Matheus Victal Cerqueira, Nº USP: 10276661"
      ]
    },
    {
      "cell_type": "markdown",
      "metadata": {
        "id": "lB29Wn4fH0RJ"
      },
      "source": [
        "***Universidade de São Paulo, São Carlos, Brasil.***"
      ]
    },
    {
      "cell_type": "markdown",
      "metadata": {
        "id": "0Wm1OZv73iBq"
      },
      "source": [
        "## Exercícios sugeridos para a atividade avaliativa 2"
      ]
    },
    {
      "cell_type": "markdown",
      "metadata": {
        "id": "S8HH4554-1Rf"
      },
      "source": [
        "(PROVISÓRIO)\n",
        "Os seguintes exercícios foram sugeridos para entrega em 05 de outubro de 2020 para a disciplina SME0828 - Ciência de Dados oferecida pelo Instituto de Ciências Matemáticas e de Computação (ICMC) da Universidade de São Paulo (USP), a qual foi ministrada pelo professor Francisco Aparecido Rodrigues. "
      ]
    },
    {
      "cell_type": "markdown",
      "metadata": {
        "id": "1QPQ01XEbxl-"
      },
      "source": [
        "\n",
        "\n",
        "---\n",
        "\n"
      ]
    },
    {
      "cell_type": "markdown",
      "metadata": {
        "id": "2dAe3TCSabYr"
      },
      "source": [
        "## Sumário\n",
        "\n",
        "1. Desenvolvimento\n",
        "\n",
        "  1.1 [Exercício 1](#ex1)\n",
        "\n",
        "  1.2 [Exercício 2](#ex2)\n",
        "\n",
        "  1.3 [Exercício 3](#ex3)\n",
        "\n",
        "  1.4 [Exercício 4](#ex4)\n",
        "\n",
        "  1.5 [Exercício 5](#ex5)\n",
        "\n",
        "  1.6 [Exercício 6](#ex6)"
      ]
    },
    {
      "cell_type": "markdown",
      "metadata": {
        "id": "EQhNpDzib3no"
      },
      "source": [
        "\n",
        "\n",
        "---\n",
        "\n"
      ]
    },
    {
      "cell_type": "markdown",
      "metadata": {
        "id": "CHl-yeiA89Ho"
      },
      "source": [
        "## Desenvolvimento"
      ]
    },
    {
      "cell_type": "markdown",
      "metadata": {
        "id": "MKR-GJ8ofjEN"
      },
      "source": [
        "### <a name=\"ex1\"></a> 1 - Gere dados a partir de uma distribuição de Poisson. Varie a taxas $\\lambda$ no intervalo [1,10] e mostre o gráfico da média em função da variância."
      ]
    },
    {
      "cell_type": "code",
      "metadata": {
        "id": "jQF21pmRf2Yz"
      },
      "source": [
        ""
      ],
      "execution_count": null,
      "outputs": []
    },
    {
      "cell_type": "markdown",
      "metadata": {
        "id": "e8ojsnyffsOA"
      },
      "source": [
        "### <a name=\"ex2\"></a> 2 - Considere os dados da Iris. Calcule a média, variância e IQR para cada atributo.\n"
      ]
    },
    {
      "cell_type": "code",
      "metadata": {
        "id": "enGKqEPpf20y"
      },
      "source": [
        ""
      ],
      "execution_count": null,
      "outputs": []
    },
    {
      "cell_type": "markdown",
      "metadata": {
        "id": "PzNzEPrHfsoM"
      },
      "source": [
        "### <a name=\"ex3\"></a> 3 - Obtenha o boxplot de todas as variáveis da flor Iris, para cada espécie."
      ]
    },
    {
      "cell_type": "code",
      "metadata": {
        "id": "uNg5c1jnf3RK"
      },
      "source": [
        ""
      ],
      "execution_count": null,
      "outputs": []
    },
    {
      "cell_type": "markdown",
      "metadata": {
        "id": "FeXXkVslfszz"
      },
      "source": [
        "### <a name=\"ex4\"></a> 4 - Para a função log(), investigue como as correlações de Pearson e Spearman variam de acordo com o intervalo dos dados."
      ]
    },
    {
      "cell_type": "code",
      "metadata": {
        "id": "fhpQJozhf3si"
      },
      "source": [
        ""
      ],
      "execution_count": null,
      "outputs": []
    },
    {
      "cell_type": "markdown",
      "metadata": {
        "id": "GVJixEpYfs7H"
      },
      "source": [
        "### <a name=\"ex5\"></a> 5 - Considere o código acima que mostra como a correlação de Pearson muda com a inclusão de ruídos. Modifique a função para $Y = 0.5*X +$ ruído. Varie o ruído e calcule os coeficientes de Pearson e Spearman, mostrando os respectivos scatterplots com os valores dos coeficientes (como feito no exemplo)."
      ]
    },
    {
      "cell_type": "code",
      "metadata": {
        "id": "i3KbXrNLf4GW"
      },
      "source": [
        ""
      ],
      "execution_count": null,
      "outputs": []
    },
    {
      "cell_type": "markdown",
      "metadata": {
        "id": "GUAyONHbftDM"
      },
      "source": [
        "### <a name=\"ex6\"></a> 6 - Considere os dados abaixo, chamado quarteto de Ascomb. Calcule a média, variância, correlação de Pearson e Spearman entre as variáveis x e y. O que você pode dizer sobre esses dados?"
      ]
    },
    {
      "cell_type": "code",
      "metadata": {
        "id": "0BBK-p-rf4m2"
      },
      "source": [
        ""
      ],
      "execution_count": null,
      "outputs": []
    }
  ]
}