{
  "nbformat": 4,
  "nbformat_minor": 0,
  "metadata": {
    "colab": {
      "name": "Projeto2_Analise_Exploratoria_dos_dados.ipynb",
      "provenance": [],
      "include_colab_link": true
    },
    "kernelspec": {
      "name": "python3",
      "display_name": "Python 3"
    }
  },
  "cells": [
    {
      "cell_type": "markdown",
      "metadata": {
        "id": "view-in-github",
        "colab_type": "text"
      },
      "source": [
        "<a href=\"https://colab.research.google.com/github/brenoslivio/SME0828_DataScience/blob/master/Projects/2%20-%20An%C3%A1lise%20explorat%C3%B3ria%20de%20dados/Projeto2_Analise_Exploratoria_dos_dados_B.ipynb\" target=\"_parent\"><img src=\"https://colab.research.google.com/assets/colab-badge.svg\" alt=\"Open In Colab\"/></a>"
      ]
    },
    {
      "cell_type": "markdown",
      "metadata": {
        "id": "LJ7wNY4Uefh6"
      },
      "source": [
        "# SME0828 - Introdução à Ciência de Dados\n",
        "# Projeto 2: Análise exploratória dos dados"
      ]
    },
    {
      "cell_type": "markdown",
      "metadata": {
        "id": "fscDWzEee1hv"
      },
      "source": [
        "### Alunos"
      ]
    },
    {
      "cell_type": "markdown",
      "metadata": {
        "id": "kIEYP_R3H6YU"
      },
      "source": [
        "Aline Fernanda da Conceição, Nº USP: 9437275\n",
        "\n",
        "Breno Lívio Silva de Almeida, Nº USP: 10276675\n",
        "\n",
        "Matheus Victal Cerqueira, Nº USP: 10276661"
      ]
    },
    {
      "cell_type": "markdown",
      "metadata": {
        "id": "lB29Wn4fH0RJ"
      },
      "source": [
        "***Universidade de São Paulo, São Carlos, Brasil.***"
      ]
    },
    {
      "cell_type": "markdown",
      "metadata": {
        "id": "0Wm1OZv73iBq"
      },
      "source": [
        "## Exercícios sugeridos para a atividade avaliativa 2"
      ]
    },
    {
      "cell_type": "markdown",
      "metadata": {
        "id": "S8HH4554-1Rf"
      },
      "source": [
        "(PROVISÓRIO)\n",
        "Os seguintes exercícios foram sugeridos para entrega em 21 de setembro de 2020 para a disciplina SME0828 oferecida pelo Instituto de Ciências Matemáticas e de Computação (ICMC) da Universidade de São Paulo (USP), a qual foi ministrada pelo professor Francisco Aparecido Rodrigues. Tal atividade visa aplicar diferentes técnicas de preparação de dados em Python com o intuito de deixá-los mais suscetíveis a análises estatísticas e computacionais. O conjunto de dados que será mais utilizado é o famoso conjunto [Iris](https://pt.wikipedia.org/wiki/Conjunto_de_dados_flor_Iris#Conjunto_de_dados)."
      ]
    },
    {
      "cell_type": "markdown",
      "metadata": {
        "id": "CHl-yeiA89Ho"
      },
      "source": [
        "## Desenvolvimento"
      ]
    },
    {
      "cell_type": "markdown",
      "metadata": {
        "id": "FeXXkVslfszz"
      },
      "source": [
        "### 4 - Para a função log(), investigue como as correlações de Pearson e Spearman variam de acordo com o intervalo dos dados."
      ]
    },
    {
      "cell_type": "markdown",
      "metadata": {
        "id": "slQz5do8C6L8"
      },
      "source": [
        "Vamos alterar os intervalos de dados gerados para ver como as correlações de Pearson e Spearman irão variar.  \n"
      ]
    },
    {
      "cell_type": "code",
      "metadata": {
        "id": "fhpQJozhf3si",
        "outputId": "3e852882-0354-48a6-c397-45d68406f724",
        "colab": {
          "base_uri": "https://localhost:8080/",
          "height": 364
        }
      },
      "source": [
        "import numpy as np\n",
        "\n",
        "from scipy.stats import pearsonr, spearmanr\n",
        "\n",
        "for i in range(1, 500000, 25000):\n",
        "  N = 100\n",
        "  x = np.linspace(i, 1000000 - i, N) # Gera um conjunto de dados para x, com um intervalo [i, 1000000 - i], e 100 dados igualmente dispostos\n",
        "  y = np.log(x) # Aplicar a função logarítimica para x no eixo y\n",
        "\n",
        "  corr, p_value = pearsonr(x, y)\n",
        "  corrs, p_values = spearmanr(x, y)\n",
        "  corr = int(corr*100)/100\n",
        "  corrs = int(corrs*100)/100\n",
        "\n",
        "  print('Intervalo de x = [' + str(i) + ', ' + str(1000000 - i) + ']; Correlação de Pearson = '+ str(corr) + \"; \" + 'Correlação de Spearman = '+ str(corrs))"
      ],
      "execution_count": 99,
      "outputs": [
        {
          "output_type": "stream",
          "text": [
            "Intervalo de x = [1, 999999]; Correlação de Pearson = 0.65; Correlação de Spearman = 0.99\n",
            "Intervalo de x = [25001, 974999]; Correlação de Pearson = 0.92; Correlação de Spearman = 0.99\n",
            "Intervalo de x = [50001, 949999]; Correlação de Pearson = 0.94; Correlação de Spearman = 0.99\n",
            "Intervalo de x = [75001, 924999]; Correlação de Pearson = 0.95; Correlação de Spearman = 0.99\n",
            "Intervalo de x = [100001, 899999]; Correlação de Pearson = 0.96; Correlação de Spearman = 0.99\n",
            "Intervalo de x = [125001, 874999]; Correlação de Pearson = 0.97; Correlação de Spearman = 0.99\n",
            "Intervalo de x = [150001, 849999]; Correlação de Pearson = 0.97; Correlação de Spearman = 0.99\n",
            "Intervalo de x = [175001, 824999]; Correlação de Pearson = 0.98; Correlação de Spearman = 0.99\n",
            "Intervalo de x = [200001, 799999]; Correlação de Pearson = 0.98; Correlação de Spearman = 0.99\n",
            "Intervalo de x = [225001, 774999]; Correlação de Pearson = 0.98; Correlação de Spearman = 0.99\n",
            "Intervalo de x = [250001, 749999]; Correlação de Pearson = 0.99; Correlação de Spearman = 0.99\n",
            "Intervalo de x = [275001, 724999]; Correlação de Pearson = 0.99; Correlação de Spearman = 0.99\n",
            "Intervalo de x = [300001, 699999]; Correlação de Pearson = 0.99; Correlação de Spearman = 0.99\n",
            "Intervalo de x = [325001, 674999]; Correlação de Pearson = 0.99; Correlação de Spearman = 0.99\n",
            "Intervalo de x = [350001, 649999]; Correlação de Pearson = 0.99; Correlação de Spearman = 0.99\n",
            "Intervalo de x = [375001, 624999]; Correlação de Pearson = 0.99; Correlação de Spearman = 0.99\n",
            "Intervalo de x = [400001, 599999]; Correlação de Pearson = 0.99; Correlação de Spearman = 0.99\n",
            "Intervalo de x = [425001, 574999]; Correlação de Pearson = 0.99; Correlação de Spearman = 0.99\n",
            "Intervalo de x = [450001, 549999]; Correlação de Pearson = 0.99; Correlação de Spearman = 0.99\n",
            "Intervalo de x = [475001, 524999]; Correlação de Pearson = 0.99; Correlação de Spearman = 0.99\n"
          ],
          "name": "stdout"
        }
      ]
    },
    {
      "cell_type": "markdown",
      "metadata": {
        "id": "Q6gVy5x-tAE_"
      },
      "source": [
        "Sabemos que os dados escolhidos são correlacionados, considerando que para todos existe uma relação de `(x, log(x))`, entretanto, a Correlação de Pearson teve problemas para indicar isso com intervalos muito grandes, melhorando quanto mais o intervalo diminuia. \n",
        "\n",
        "O grande real problema seria que estamos lidando com dados não lineares, que no caso realmente seria adequado o uso da Correlação de Spearman para analisar alguma correlação dos dados."
      ]
    },
    {
      "cell_type": "markdown",
      "metadata": {
        "id": "GVJixEpYfs7H"
      },
      "source": [
        "### 5 - Considere o código acima que mostra como a correlação de Pearson muda com a inclusão de ruídos. Modifique a função para $Y = 0.5*X +$ ruído. Varie o ruído e calcule os coeficientes de Pearson e Spearman, mostrando os respectivos scatterplots com os valores dos coeficientes (como feito no exemplo)."
      ]
    },
    {
      "cell_type": "code",
      "metadata": {
        "id": "i3KbXrNLf4GW"
      },
      "source": [
        ""
      ],
      "execution_count": null,
      "outputs": []
    }
  ]
}